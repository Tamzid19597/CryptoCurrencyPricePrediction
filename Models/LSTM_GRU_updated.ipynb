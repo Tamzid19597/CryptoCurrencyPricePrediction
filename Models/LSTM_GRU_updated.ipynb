{
  "cells": [
    {
      "cell_type": "code",
      "execution_count": null,
      "metadata": {
        "id": "Tg_z5uOgJGqf"
      },
      "outputs": [],
      "source": [
        "!pip install keras-tuner"
      ]
    },
    {
      "cell_type": "code",
      "execution_count": null,
      "metadata": {
        "id": "GtGMK84rJMyc"
      },
      "outputs": [],
      "source": [
        "from tensorflow import keras\n",
        "from tensorflow.keras import layers\n",
        "from kerastuner.tuners import RandomSearch"
      ]
    },
    {
      "cell_type": "code",
      "execution_count": null,
      "metadata": {
        "id": "T7nTpME_W2xe"
      },
      "outputs": [],
      "source": [
        "# Importing Library\n",
        "# First we will import the necessary Library \n",
        "\n",
        "import os\n",
        "import pandas as pd\n",
        "import numpy as np\n",
        "import math\n",
        "import datetime as dt\n",
        "\n",
        "# For Evalution we will use these library\n",
        "\n",
        "from sklearn.metrics import mean_squared_error, mean_absolute_error, explained_variance_score, r2_score \n",
        "from sklearn.metrics import mean_poisson_deviance, mean_gamma_deviance, accuracy_score\n",
        "from sklearn.preprocessing import MinMaxScaler\n",
        "\n",
        "# For model building we will use these library\n",
        "\n",
        "import tensorflow as tf\n",
        "from tensorflow.keras.models import Sequential\n",
        "from tensorflow.keras.layers import Activation, Dense, Dropout\n",
        "from tensorflow.keras.layers import LSTM\n",
        "\n",
        "\n",
        "# For PLotting we will use these library\n",
        "\n",
        "import matplotlib.pyplot as plt\n",
        "from itertools import cycle\n",
        "import plotly.graph_objects as go\n",
        "import plotly.express as px\n",
        "from plotly.subplots import make_subplots"
      ]
    },
    {
      "cell_type": "code",
      "execution_count": null,
      "metadata": {
        "colab": {
          "base_uri": "https://localhost:8080/",
          "height": 241
        },
        "id": "Ql42fq1DXcV8",
        "outputId": "fbb8dc0c-9547-487e-cc1b-48a5652c94df"
      },
      "outputs": [
        {
          "output_type": "stream",
          "name": "stdout",
          "text": [
            "Total number of days present in the dataset:  1399\n",
            "Total number of fields present in the dataset:  7\n"
          ]
        },
        {
          "output_type": "execute_result",
          "data": {
            "text/plain": [
              "         Date         Open         High          Low        Close  \\\n",
              "0  2019-01-01  3746.713379  3850.913818  3707.231201  3843.520020   \n",
              "1  2019-01-02  3849.216309  3947.981201  3817.409424  3943.409424   \n",
              "2  2019-01-03  3931.048584  3935.685059  3826.222900  3836.741211   \n",
              "3  2019-01-04  3832.040039  3865.934570  3783.853760  3857.717529   \n",
              "4  2019-01-05  3851.973877  3904.903076  3836.900146  3845.194580   \n",
              "\n",
              "     Adj Close      Volume  \n",
              "0  3843.520020  4324200990  \n",
              "1  3943.409424  5244856836  \n",
              "2  3836.741211  4530215219  \n",
              "3  3857.717529  4847965467  \n",
              "4  3845.194580  5137609824  "
            ],
            "text/html": [
              "\n",
              "  <div id=\"df-16bb9131-efbb-40d0-b44e-a04483a4f4b0\">\n",
              "    <div class=\"colab-df-container\">\n",
              "      <div>\n",
              "<style scoped>\n",
              "    .dataframe tbody tr th:only-of-type {\n",
              "        vertical-align: middle;\n",
              "    }\n",
              "\n",
              "    .dataframe tbody tr th {\n",
              "        vertical-align: top;\n",
              "    }\n",
              "\n",
              "    .dataframe thead th {\n",
              "        text-align: right;\n",
              "    }\n",
              "</style>\n",
              "<table border=\"1\" class=\"dataframe\">\n",
              "  <thead>\n",
              "    <tr style=\"text-align: right;\">\n",
              "      <th></th>\n",
              "      <th>Date</th>\n",
              "      <th>Open</th>\n",
              "      <th>High</th>\n",
              "      <th>Low</th>\n",
              "      <th>Close</th>\n",
              "      <th>Adj Close</th>\n",
              "      <th>Volume</th>\n",
              "    </tr>\n",
              "  </thead>\n",
              "  <tbody>\n",
              "    <tr>\n",
              "      <th>0</th>\n",
              "      <td>2019-01-01</td>\n",
              "      <td>3746.713379</td>\n",
              "      <td>3850.913818</td>\n",
              "      <td>3707.231201</td>\n",
              "      <td>3843.520020</td>\n",
              "      <td>3843.520020</td>\n",
              "      <td>4324200990</td>\n",
              "    </tr>\n",
              "    <tr>\n",
              "      <th>1</th>\n",
              "      <td>2019-01-02</td>\n",
              "      <td>3849.216309</td>\n",
              "      <td>3947.981201</td>\n",
              "      <td>3817.409424</td>\n",
              "      <td>3943.409424</td>\n",
              "      <td>3943.409424</td>\n",
              "      <td>5244856836</td>\n",
              "    </tr>\n",
              "    <tr>\n",
              "      <th>2</th>\n",
              "      <td>2019-01-03</td>\n",
              "      <td>3931.048584</td>\n",
              "      <td>3935.685059</td>\n",
              "      <td>3826.222900</td>\n",
              "      <td>3836.741211</td>\n",
              "      <td>3836.741211</td>\n",
              "      <td>4530215219</td>\n",
              "    </tr>\n",
              "    <tr>\n",
              "      <th>3</th>\n",
              "      <td>2019-01-04</td>\n",
              "      <td>3832.040039</td>\n",
              "      <td>3865.934570</td>\n",
              "      <td>3783.853760</td>\n",
              "      <td>3857.717529</td>\n",
              "      <td>3857.717529</td>\n",
              "      <td>4847965467</td>\n",
              "    </tr>\n",
              "    <tr>\n",
              "      <th>4</th>\n",
              "      <td>2019-01-05</td>\n",
              "      <td>3851.973877</td>\n",
              "      <td>3904.903076</td>\n",
              "      <td>3836.900146</td>\n",
              "      <td>3845.194580</td>\n",
              "      <td>3845.194580</td>\n",
              "      <td>5137609824</td>\n",
              "    </tr>\n",
              "  </tbody>\n",
              "</table>\n",
              "</div>\n",
              "      <button class=\"colab-df-convert\" onclick=\"convertToInteractive('df-16bb9131-efbb-40d0-b44e-a04483a4f4b0')\"\n",
              "              title=\"Convert this dataframe to an interactive table.\"\n",
              "              style=\"display:none;\">\n",
              "        \n",
              "  <svg xmlns=\"http://www.w3.org/2000/svg\" height=\"24px\"viewBox=\"0 0 24 24\"\n",
              "       width=\"24px\">\n",
              "    <path d=\"M0 0h24v24H0V0z\" fill=\"none\"/>\n",
              "    <path d=\"M18.56 5.44l.94 2.06.94-2.06 2.06-.94-2.06-.94-.94-2.06-.94 2.06-2.06.94zm-11 1L8.5 8.5l.94-2.06 2.06-.94-2.06-.94L8.5 2.5l-.94 2.06-2.06.94zm10 10l.94 2.06.94-2.06 2.06-.94-2.06-.94-.94-2.06-.94 2.06-2.06.94z\"/><path d=\"M17.41 7.96l-1.37-1.37c-.4-.4-.92-.59-1.43-.59-.52 0-1.04.2-1.43.59L10.3 9.45l-7.72 7.72c-.78.78-.78 2.05 0 2.83L4 21.41c.39.39.9.59 1.41.59.51 0 1.02-.2 1.41-.59l7.78-7.78 2.81-2.81c.8-.78.8-2.07 0-2.86zM5.41 20L4 18.59l7.72-7.72 1.47 1.35L5.41 20z\"/>\n",
              "  </svg>\n",
              "      </button>\n",
              "      \n",
              "  <style>\n",
              "    .colab-df-container {\n",
              "      display:flex;\n",
              "      flex-wrap:wrap;\n",
              "      gap: 12px;\n",
              "    }\n",
              "\n",
              "    .colab-df-convert {\n",
              "      background-color: #E8F0FE;\n",
              "      border: none;\n",
              "      border-radius: 50%;\n",
              "      cursor: pointer;\n",
              "      display: none;\n",
              "      fill: #1967D2;\n",
              "      height: 32px;\n",
              "      padding: 0 0 0 0;\n",
              "      width: 32px;\n",
              "    }\n",
              "\n",
              "    .colab-df-convert:hover {\n",
              "      background-color: #E2EBFA;\n",
              "      box-shadow: 0px 1px 2px rgba(60, 64, 67, 0.3), 0px 1px 3px 1px rgba(60, 64, 67, 0.15);\n",
              "      fill: #174EA6;\n",
              "    }\n",
              "\n",
              "    [theme=dark] .colab-df-convert {\n",
              "      background-color: #3B4455;\n",
              "      fill: #D2E3FC;\n",
              "    }\n",
              "\n",
              "    [theme=dark] .colab-df-convert:hover {\n",
              "      background-color: #434B5C;\n",
              "      box-shadow: 0px 1px 3px 1px rgba(0, 0, 0, 0.15);\n",
              "      filter: drop-shadow(0px 1px 2px rgba(0, 0, 0, 0.3));\n",
              "      fill: #FFFFFF;\n",
              "    }\n",
              "  </style>\n",
              "\n",
              "      <script>\n",
              "        const buttonEl =\n",
              "          document.querySelector('#df-16bb9131-efbb-40d0-b44e-a04483a4f4b0 button.colab-df-convert');\n",
              "        buttonEl.style.display =\n",
              "          google.colab.kernel.accessAllowed ? 'block' : 'none';\n",
              "\n",
              "        async function convertToInteractive(key) {\n",
              "          const element = document.querySelector('#df-16bb9131-efbb-40d0-b44e-a04483a4f4b0');\n",
              "          const dataTable =\n",
              "            await google.colab.kernel.invokeFunction('convertToInteractive',\n",
              "                                                     [key], {});\n",
              "          if (!dataTable) return;\n",
              "\n",
              "          const docLinkHtml = 'Like what you see? Visit the ' +\n",
              "            '<a target=\"_blank\" href=https://colab.research.google.com/notebooks/data_table.ipynb>data table notebook</a>'\n",
              "            + ' to learn more about interactive tables.';\n",
              "          element.innerHTML = '';\n",
              "          dataTable['output_type'] = 'display_data';\n",
              "          await google.colab.output.renderOutput(dataTable, element);\n",
              "          const docLink = document.createElement('div');\n",
              "          docLink.innerHTML = docLinkHtml;\n",
              "          element.appendChild(docLink);\n",
              "        }\n",
              "      </script>\n",
              "    </div>\n",
              "  </div>\n",
              "  "
            ]
          },
          "metadata": {},
          "execution_count": 205
        }
      ],
      "source": [
        "# Load our dataset \n",
        "# Note it should be in same dir\n",
        "\n",
        "\n",
        "maindf=pd.read_csv('BTC-USD.csv')\n",
        "print('Total number of days present in the dataset: ',maindf.shape[0])\n",
        "print('Total number of fields present in the dataset: ',maindf.shape[1])\n",
        "maindf.shape\n",
        "(2713, 7)\n",
        "maindf.head()"
      ]
    },
    {
      "cell_type": "code",
      "execution_count": null,
      "metadata": {
        "colab": {
          "base_uri": "https://localhost:8080/",
          "height": 206
        },
        "id": "TxLBxzZtXhAM",
        "outputId": "e1cf3bf0-d1a7-4fcf-e623-2b4dbf443f35"
      },
      "outputs": [
        {
          "output_type": "execute_result",
          "data": {
            "text/plain": [
              "            Date          Open          High           Low         Close  \\\n",
              "1394  2022-10-26  20092.236328  20938.134766  20076.117188  20770.441406   \n",
              "1395  2022-10-27  20772.802734  20854.044922  20255.373047  20285.835938   \n",
              "1396  2022-10-28  20287.957031  20724.980469  20086.068359  20595.351563   \n",
              "1397  2022-10-29  20595.103516  20988.394531  20566.484375  20818.476563   \n",
              "1398  2022-10-30  20826.878906  20826.878906  20726.173828  20763.728516   \n",
              "\n",
              "         Adj Close       Volume  \n",
              "1394  20770.441406  58895950537  \n",
              "1395  20285.835938  49625110402  \n",
              "1396  20595.351563  43994715910  \n",
              "1397  20818.476563  40369840645  \n",
              "1398  20763.728516  39206326272  "
            ],
            "text/html": [
              "\n",
              "  <div id=\"df-30b8d36f-e8fe-487d-8a41-7d20f4dbd779\">\n",
              "    <div class=\"colab-df-container\">\n",
              "      <div>\n",
              "<style scoped>\n",
              "    .dataframe tbody tr th:only-of-type {\n",
              "        vertical-align: middle;\n",
              "    }\n",
              "\n",
              "    .dataframe tbody tr th {\n",
              "        vertical-align: top;\n",
              "    }\n",
              "\n",
              "    .dataframe thead th {\n",
              "        text-align: right;\n",
              "    }\n",
              "</style>\n",
              "<table border=\"1\" class=\"dataframe\">\n",
              "  <thead>\n",
              "    <tr style=\"text-align: right;\">\n",
              "      <th></th>\n",
              "      <th>Date</th>\n",
              "      <th>Open</th>\n",
              "      <th>High</th>\n",
              "      <th>Low</th>\n",
              "      <th>Close</th>\n",
              "      <th>Adj Close</th>\n",
              "      <th>Volume</th>\n",
              "    </tr>\n",
              "  </thead>\n",
              "  <tbody>\n",
              "    <tr>\n",
              "      <th>1394</th>\n",
              "      <td>2022-10-26</td>\n",
              "      <td>20092.236328</td>\n",
              "      <td>20938.134766</td>\n",
              "      <td>20076.117188</td>\n",
              "      <td>20770.441406</td>\n",
              "      <td>20770.441406</td>\n",
              "      <td>58895950537</td>\n",
              "    </tr>\n",
              "    <tr>\n",
              "      <th>1395</th>\n",
              "      <td>2022-10-27</td>\n",
              "      <td>20772.802734</td>\n",
              "      <td>20854.044922</td>\n",
              "      <td>20255.373047</td>\n",
              "      <td>20285.835938</td>\n",
              "      <td>20285.835938</td>\n",
              "      <td>49625110402</td>\n",
              "    </tr>\n",
              "    <tr>\n",
              "      <th>1396</th>\n",
              "      <td>2022-10-28</td>\n",
              "      <td>20287.957031</td>\n",
              "      <td>20724.980469</td>\n",
              "      <td>20086.068359</td>\n",
              "      <td>20595.351563</td>\n",
              "      <td>20595.351563</td>\n",
              "      <td>43994715910</td>\n",
              "    </tr>\n",
              "    <tr>\n",
              "      <th>1397</th>\n",
              "      <td>2022-10-29</td>\n",
              "      <td>20595.103516</td>\n",
              "      <td>20988.394531</td>\n",
              "      <td>20566.484375</td>\n",
              "      <td>20818.476563</td>\n",
              "      <td>20818.476563</td>\n",
              "      <td>40369840645</td>\n",
              "    </tr>\n",
              "    <tr>\n",
              "      <th>1398</th>\n",
              "      <td>2022-10-30</td>\n",
              "      <td>20826.878906</td>\n",
              "      <td>20826.878906</td>\n",
              "      <td>20726.173828</td>\n",
              "      <td>20763.728516</td>\n",
              "      <td>20763.728516</td>\n",
              "      <td>39206326272</td>\n",
              "    </tr>\n",
              "  </tbody>\n",
              "</table>\n",
              "</div>\n",
              "      <button class=\"colab-df-convert\" onclick=\"convertToInteractive('df-30b8d36f-e8fe-487d-8a41-7d20f4dbd779')\"\n",
              "              title=\"Convert this dataframe to an interactive table.\"\n",
              "              style=\"display:none;\">\n",
              "        \n",
              "  <svg xmlns=\"http://www.w3.org/2000/svg\" height=\"24px\"viewBox=\"0 0 24 24\"\n",
              "       width=\"24px\">\n",
              "    <path d=\"M0 0h24v24H0V0z\" fill=\"none\"/>\n",
              "    <path d=\"M18.56 5.44l.94 2.06.94-2.06 2.06-.94-2.06-.94-.94-2.06-.94 2.06-2.06.94zm-11 1L8.5 8.5l.94-2.06 2.06-.94-2.06-.94L8.5 2.5l-.94 2.06-2.06.94zm10 10l.94 2.06.94-2.06 2.06-.94-2.06-.94-.94-2.06-.94 2.06-2.06.94z\"/><path d=\"M17.41 7.96l-1.37-1.37c-.4-.4-.92-.59-1.43-.59-.52 0-1.04.2-1.43.59L10.3 9.45l-7.72 7.72c-.78.78-.78 2.05 0 2.83L4 21.41c.39.39.9.59 1.41.59.51 0 1.02-.2 1.41-.59l7.78-7.78 2.81-2.81c.8-.78.8-2.07 0-2.86zM5.41 20L4 18.59l7.72-7.72 1.47 1.35L5.41 20z\"/>\n",
              "  </svg>\n",
              "      </button>\n",
              "      \n",
              "  <style>\n",
              "    .colab-df-container {\n",
              "      display:flex;\n",
              "      flex-wrap:wrap;\n",
              "      gap: 12px;\n",
              "    }\n",
              "\n",
              "    .colab-df-convert {\n",
              "      background-color: #E8F0FE;\n",
              "      border: none;\n",
              "      border-radius: 50%;\n",
              "      cursor: pointer;\n",
              "      display: none;\n",
              "      fill: #1967D2;\n",
              "      height: 32px;\n",
              "      padding: 0 0 0 0;\n",
              "      width: 32px;\n",
              "    }\n",
              "\n",
              "    .colab-df-convert:hover {\n",
              "      background-color: #E2EBFA;\n",
              "      box-shadow: 0px 1px 2px rgba(60, 64, 67, 0.3), 0px 1px 3px 1px rgba(60, 64, 67, 0.15);\n",
              "      fill: #174EA6;\n",
              "    }\n",
              "\n",
              "    [theme=dark] .colab-df-convert {\n",
              "      background-color: #3B4455;\n",
              "      fill: #D2E3FC;\n",
              "    }\n",
              "\n",
              "    [theme=dark] .colab-df-convert:hover {\n",
              "      background-color: #434B5C;\n",
              "      box-shadow: 0px 1px 3px 1px rgba(0, 0, 0, 0.15);\n",
              "      filter: drop-shadow(0px 1px 2px rgba(0, 0, 0, 0.3));\n",
              "      fill: #FFFFFF;\n",
              "    }\n",
              "  </style>\n",
              "\n",
              "      <script>\n",
              "        const buttonEl =\n",
              "          document.querySelector('#df-30b8d36f-e8fe-487d-8a41-7d20f4dbd779 button.colab-df-convert');\n",
              "        buttonEl.style.display =\n",
              "          google.colab.kernel.accessAllowed ? 'block' : 'none';\n",
              "\n",
              "        async function convertToInteractive(key) {\n",
              "          const element = document.querySelector('#df-30b8d36f-e8fe-487d-8a41-7d20f4dbd779');\n",
              "          const dataTable =\n",
              "            await google.colab.kernel.invokeFunction('convertToInteractive',\n",
              "                                                     [key], {});\n",
              "          if (!dataTable) return;\n",
              "\n",
              "          const docLinkHtml = 'Like what you see? Visit the ' +\n",
              "            '<a target=\"_blank\" href=https://colab.research.google.com/notebooks/data_table.ipynb>data table notebook</a>'\n",
              "            + ' to learn more about interactive tables.';\n",
              "          element.innerHTML = '';\n",
              "          dataTable['output_type'] = 'display_data';\n",
              "          await google.colab.output.renderOutput(dataTable, element);\n",
              "          const docLink = document.createElement('div');\n",
              "          docLink.innerHTML = docLinkHtml;\n",
              "          element.appendChild(docLink);\n",
              "        }\n",
              "      </script>\n",
              "    </div>\n",
              "  </div>\n",
              "  "
            ]
          },
          "metadata": {},
          "execution_count": 206
        }
      ],
      "source": [
        "maindf.tail()"
      ]
    },
    {
      "cell_type": "code",
      "execution_count": null,
      "metadata": {
        "colab": {
          "base_uri": "https://localhost:8080/"
        },
        "id": "wYuyjt2vXjYO",
        "outputId": "1555f994-a377-4314-f7b5-da3cdcf0f600"
      },
      "outputs": [
        {
          "output_type": "stream",
          "name": "stdout",
          "text": [
            "<class 'pandas.core.frame.DataFrame'>\n",
            "RangeIndex: 1399 entries, 0 to 1398\n",
            "Data columns (total 7 columns):\n",
            " #   Column     Non-Null Count  Dtype  \n",
            "---  ------     --------------  -----  \n",
            " 0   Date       1399 non-null   object \n",
            " 1   Open       1399 non-null   float64\n",
            " 2   High       1399 non-null   float64\n",
            " 3   Low        1399 non-null   float64\n",
            " 4   Close      1399 non-null   float64\n",
            " 5   Adj Close  1399 non-null   float64\n",
            " 6   Volume     1399 non-null   int64  \n",
            "dtypes: float64(5), int64(1), object(1)\n",
            "memory usage: 76.6+ KB\n"
          ]
        }
      ],
      "source": [
        "maindf.info()"
      ]
    },
    {
      "cell_type": "code",
      "execution_count": null,
      "metadata": {
        "colab": {
          "base_uri": "https://localhost:8080/",
          "height": 300
        },
        "id": "NM2Vo8LRXlwk",
        "outputId": "6b7c9bd2-80a7-4e68-97cf-28b8b6e5baee"
      },
      "outputs": [
        {
          "output_type": "execute_result",
          "data": {
            "text/plain": [
              "               Open          High           Low         Close     Adj Close  \\\n",
              "count   1399.000000   1399.000000   1399.000000   1399.000000   1399.000000   \n",
              "mean   23794.036359  24387.922946  23132.219474  23803.209262  23803.209262   \n",
              "std    17902.469615  18370.298883  17349.433472  17889.422739  17889.422739   \n",
              "min     3401.376465   3427.945557   3391.023682   3399.471680   3399.471680   \n",
              "25%     8934.328613   9175.017578   8805.774902   8965.702637   8965.702637   \n",
              "50%    18534.650391  18919.550781  18000.796875  18553.916016  18553.916016   \n",
              "75%    39326.230469  40419.029297  38113.238282  39316.492188  39316.492188   \n",
              "max    67549.734375  68789.625000  66382.062500  67566.828125  67566.828125   \n",
              "\n",
              "             Volume  \n",
              "count  1.399000e+03  \n",
              "mean   3.184846e+10  \n",
              "std    1.881027e+10  \n",
              "min    4.324201e+09  \n",
              "25%    1.981915e+10  \n",
              "50%    2.881346e+10  \n",
              "75%    3.919236e+10  \n",
              "max    3.509679e+11  "
            ],
            "text/html": [
              "\n",
              "  <div id=\"df-20811b5a-9891-44fb-bdd4-4d19911a5b14\">\n",
              "    <div class=\"colab-df-container\">\n",
              "      <div>\n",
              "<style scoped>\n",
              "    .dataframe tbody tr th:only-of-type {\n",
              "        vertical-align: middle;\n",
              "    }\n",
              "\n",
              "    .dataframe tbody tr th {\n",
              "        vertical-align: top;\n",
              "    }\n",
              "\n",
              "    .dataframe thead th {\n",
              "        text-align: right;\n",
              "    }\n",
              "</style>\n",
              "<table border=\"1\" class=\"dataframe\">\n",
              "  <thead>\n",
              "    <tr style=\"text-align: right;\">\n",
              "      <th></th>\n",
              "      <th>Open</th>\n",
              "      <th>High</th>\n",
              "      <th>Low</th>\n",
              "      <th>Close</th>\n",
              "      <th>Adj Close</th>\n",
              "      <th>Volume</th>\n",
              "    </tr>\n",
              "  </thead>\n",
              "  <tbody>\n",
              "    <tr>\n",
              "      <th>count</th>\n",
              "      <td>1399.000000</td>\n",
              "      <td>1399.000000</td>\n",
              "      <td>1399.000000</td>\n",
              "      <td>1399.000000</td>\n",
              "      <td>1399.000000</td>\n",
              "      <td>1.399000e+03</td>\n",
              "    </tr>\n",
              "    <tr>\n",
              "      <th>mean</th>\n",
              "      <td>23794.036359</td>\n",
              "      <td>24387.922946</td>\n",
              "      <td>23132.219474</td>\n",
              "      <td>23803.209262</td>\n",
              "      <td>23803.209262</td>\n",
              "      <td>3.184846e+10</td>\n",
              "    </tr>\n",
              "    <tr>\n",
              "      <th>std</th>\n",
              "      <td>17902.469615</td>\n",
              "      <td>18370.298883</td>\n",
              "      <td>17349.433472</td>\n",
              "      <td>17889.422739</td>\n",
              "      <td>17889.422739</td>\n",
              "      <td>1.881027e+10</td>\n",
              "    </tr>\n",
              "    <tr>\n",
              "      <th>min</th>\n",
              "      <td>3401.376465</td>\n",
              "      <td>3427.945557</td>\n",
              "      <td>3391.023682</td>\n",
              "      <td>3399.471680</td>\n",
              "      <td>3399.471680</td>\n",
              "      <td>4.324201e+09</td>\n",
              "    </tr>\n",
              "    <tr>\n",
              "      <th>25%</th>\n",
              "      <td>8934.328613</td>\n",
              "      <td>9175.017578</td>\n",
              "      <td>8805.774902</td>\n",
              "      <td>8965.702637</td>\n",
              "      <td>8965.702637</td>\n",
              "      <td>1.981915e+10</td>\n",
              "    </tr>\n",
              "    <tr>\n",
              "      <th>50%</th>\n",
              "      <td>18534.650391</td>\n",
              "      <td>18919.550781</td>\n",
              "      <td>18000.796875</td>\n",
              "      <td>18553.916016</td>\n",
              "      <td>18553.916016</td>\n",
              "      <td>2.881346e+10</td>\n",
              "    </tr>\n",
              "    <tr>\n",
              "      <th>75%</th>\n",
              "      <td>39326.230469</td>\n",
              "      <td>40419.029297</td>\n",
              "      <td>38113.238282</td>\n",
              "      <td>39316.492188</td>\n",
              "      <td>39316.492188</td>\n",
              "      <td>3.919236e+10</td>\n",
              "    </tr>\n",
              "    <tr>\n",
              "      <th>max</th>\n",
              "      <td>67549.734375</td>\n",
              "      <td>68789.625000</td>\n",
              "      <td>66382.062500</td>\n",
              "      <td>67566.828125</td>\n",
              "      <td>67566.828125</td>\n",
              "      <td>3.509679e+11</td>\n",
              "    </tr>\n",
              "  </tbody>\n",
              "</table>\n",
              "</div>\n",
              "      <button class=\"colab-df-convert\" onclick=\"convertToInteractive('df-20811b5a-9891-44fb-bdd4-4d19911a5b14')\"\n",
              "              title=\"Convert this dataframe to an interactive table.\"\n",
              "              style=\"display:none;\">\n",
              "        \n",
              "  <svg xmlns=\"http://www.w3.org/2000/svg\" height=\"24px\"viewBox=\"0 0 24 24\"\n",
              "       width=\"24px\">\n",
              "    <path d=\"M0 0h24v24H0V0z\" fill=\"none\"/>\n",
              "    <path d=\"M18.56 5.44l.94 2.06.94-2.06 2.06-.94-2.06-.94-.94-2.06-.94 2.06-2.06.94zm-11 1L8.5 8.5l.94-2.06 2.06-.94-2.06-.94L8.5 2.5l-.94 2.06-2.06.94zm10 10l.94 2.06.94-2.06 2.06-.94-2.06-.94-.94-2.06-.94 2.06-2.06.94z\"/><path d=\"M17.41 7.96l-1.37-1.37c-.4-.4-.92-.59-1.43-.59-.52 0-1.04.2-1.43.59L10.3 9.45l-7.72 7.72c-.78.78-.78 2.05 0 2.83L4 21.41c.39.39.9.59 1.41.59.51 0 1.02-.2 1.41-.59l7.78-7.78 2.81-2.81c.8-.78.8-2.07 0-2.86zM5.41 20L4 18.59l7.72-7.72 1.47 1.35L5.41 20z\"/>\n",
              "  </svg>\n",
              "      </button>\n",
              "      \n",
              "  <style>\n",
              "    .colab-df-container {\n",
              "      display:flex;\n",
              "      flex-wrap:wrap;\n",
              "      gap: 12px;\n",
              "    }\n",
              "\n",
              "    .colab-df-convert {\n",
              "      background-color: #E8F0FE;\n",
              "      border: none;\n",
              "      border-radius: 50%;\n",
              "      cursor: pointer;\n",
              "      display: none;\n",
              "      fill: #1967D2;\n",
              "      height: 32px;\n",
              "      padding: 0 0 0 0;\n",
              "      width: 32px;\n",
              "    }\n",
              "\n",
              "    .colab-df-convert:hover {\n",
              "      background-color: #E2EBFA;\n",
              "      box-shadow: 0px 1px 2px rgba(60, 64, 67, 0.3), 0px 1px 3px 1px rgba(60, 64, 67, 0.15);\n",
              "      fill: #174EA6;\n",
              "    }\n",
              "\n",
              "    [theme=dark] .colab-df-convert {\n",
              "      background-color: #3B4455;\n",
              "      fill: #D2E3FC;\n",
              "    }\n",
              "\n",
              "    [theme=dark] .colab-df-convert:hover {\n",
              "      background-color: #434B5C;\n",
              "      box-shadow: 0px 1px 3px 1px rgba(0, 0, 0, 0.15);\n",
              "      filter: drop-shadow(0px 1px 2px rgba(0, 0, 0, 0.3));\n",
              "      fill: #FFFFFF;\n",
              "    }\n",
              "  </style>\n",
              "\n",
              "      <script>\n",
              "        const buttonEl =\n",
              "          document.querySelector('#df-20811b5a-9891-44fb-bdd4-4d19911a5b14 button.colab-df-convert');\n",
              "        buttonEl.style.display =\n",
              "          google.colab.kernel.accessAllowed ? 'block' : 'none';\n",
              "\n",
              "        async function convertToInteractive(key) {\n",
              "          const element = document.querySelector('#df-20811b5a-9891-44fb-bdd4-4d19911a5b14');\n",
              "          const dataTable =\n",
              "            await google.colab.kernel.invokeFunction('convertToInteractive',\n",
              "                                                     [key], {});\n",
              "          if (!dataTable) return;\n",
              "\n",
              "          const docLinkHtml = 'Like what you see? Visit the ' +\n",
              "            '<a target=\"_blank\" href=https://colab.research.google.com/notebooks/data_table.ipynb>data table notebook</a>'\n",
              "            + ' to learn more about interactive tables.';\n",
              "          element.innerHTML = '';\n",
              "          dataTable['output_type'] = 'display_data';\n",
              "          await google.colab.output.renderOutput(dataTable, element);\n",
              "          const docLink = document.createElement('div');\n",
              "          docLink.innerHTML = docLinkHtml;\n",
              "          element.appendChild(docLink);\n",
              "        }\n",
              "      </script>\n",
              "    </div>\n",
              "  </div>\n",
              "  "
            ]
          },
          "metadata": {},
          "execution_count": 208
        }
      ],
      "source": [
        "maindf.describe()"
      ]
    },
    {
      "cell_type": "code",
      "execution_count": null,
      "metadata": {
        "colab": {
          "base_uri": "https://localhost:8080/"
        },
        "id": "h0ygHnofX2D7",
        "outputId": "b19b8ef5-623c-4c5c-9de6-4d1ea1c405b9"
      },
      "outputs": [
        {
          "output_type": "stream",
          "name": "stdout",
          "text": [
            "Null Values: 0\n"
          ]
        }
      ],
      "source": [
        "#Checking for Null Values\n",
        "print('Null Values:',maindf.isnull().values.sum())"
      ]
    },
    {
      "cell_type": "code",
      "execution_count": null,
      "metadata": {
        "colab": {
          "base_uri": "https://localhost:8080/"
        },
        "id": "enje3-tjYS77",
        "outputId": "6285cfaa-0450-4a5d-81d3-50ea851ada29"
      },
      "outputs": [
        {
          "output_type": "stream",
          "name": "stdout",
          "text": [
            "NA values: False\n"
          ]
        }
      ],
      "source": [
        "print('NA values:',maindf.isnull().values.any())"
      ]
    },
    {
      "cell_type": "code",
      "execution_count": null,
      "metadata": {
        "colab": {
          "base_uri": "https://localhost:8080/"
        },
        "id": "ET1E2A84YVqb",
        "outputId": "541cbb10-2b36-4645-9671-e02a1ed08065"
      },
      "outputs": [
        {
          "output_type": "execute_result",
          "data": {
            "text/plain": [
              "(1399, 7)"
            ]
          },
          "metadata": {},
          "execution_count": 211
        }
      ],
      "source": [
        "maindf.shape"
      ]
    },
    {
      "cell_type": "code",
      "execution_count": null,
      "metadata": {
        "colab": {
          "base_uri": "https://localhost:8080/"
        },
        "id": "V5mWZhnccfkZ",
        "outputId": "b8361db0-d3ae-46ac-9725-9b5be13570f8"
      },
      "outputs": [
        {
          "output_type": "stream",
          "name": "stdout",
          "text": [
            "Shape of close dataframe: (1399, 2)\n"
          ]
        }
      ],
      "source": [
        "\n",
        "# Lets First Take all the Close Price \n",
        "closedf = maindf[['Date','Close']]\n",
        "print(\"Shape of close dataframe:\", closedf.shape)"
      ]
    },
    {
      "cell_type": "code",
      "execution_count": null,
      "metadata": {
        "colab": {
          "base_uri": "https://localhost:8080/",
          "height": 542
        },
        "id": "CB7f9oyJchmJ",
        "outputId": "bd74e322-2be3-4555-d229-782643c9deb6"
      },
      "outputs": [
        {
          "output_type": "display_data",
          "data": {
            "text/html": [
              "<html>\n",
              "<head><meta charset=\"utf-8\" /></head>\n",
              "<body>\n",
              "    <div>            <script src=\"https://cdnjs.cloudflare.com/ajax/libs/mathjax/2.7.5/MathJax.js?config=TeX-AMS-MML_SVG\"></script><script type=\"text/javascript\">if (window.MathJax) {MathJax.Hub.Config({SVG: {font: \"STIX-Web\"}});}</script>                <script type=\"text/javascript\">window.PlotlyConfig = {MathJaxConfig: 'local'};</script>\n",
              "        <script src=\"https://cdn.plot.ly/plotly-2.8.3.min.js\"></script>                <div id=\"fb95763e-d872-4abb-8910-0eb16a68c81e\" class=\"plotly-graph-div\" style=\"height:525px; width:100%;\"></div>            <script type=\"text/javascript\">                                    window.PLOTLYENV=window.PLOTLYENV || {};                                    if (document.getElementById(\"fb95763e-d872-4abb-8910-0eb16a68c81e\")) {                    Plotly.newPlot(                        \"fb95763e-d872-4abb-8910-0eb16a68c81e\",                        [{\"hovertemplate\":\"Date=%{x}<br>Close=%{y}<extra></extra>\",\"legendgroup\":\"\",\"line\":{\"color\":\"#636efa\",\"dash\":\"solid\"},\"marker\":{\"symbol\":\"circle\",\"line\":{\"color\":\"orange\",\"width\":2}},\"mode\":\"lines\",\"name\":\"\",\"showlegend\":false,\"x\":[\"2019-01-01\",\"2019-01-02\",\"2019-01-03\",\"2019-01-04\",\"2019-01-05\",\"2019-01-06\",\"2019-01-07\",\"2019-01-08\",\"2019-01-09\",\"2019-01-10\",\"2019-01-11\",\"2019-01-12\",\"2019-01-13\",\"2019-01-14\",\"2019-01-15\",\"2019-01-16\",\"2019-01-17\",\"2019-01-18\",\"2019-01-19\",\"2019-01-20\",\"2019-01-21\",\"2019-01-22\",\"2019-01-23\",\"2019-01-24\",\"2019-01-25\",\"2019-01-26\",\"2019-01-27\",\"2019-01-28\",\"2019-01-29\",\"2019-01-30\",\"2019-01-31\",\"2019-02-01\",\"2019-02-02\",\"2019-02-03\",\"2019-02-04\",\"2019-02-05\",\"2019-02-06\",\"2019-02-07\",\"2019-02-08\",\"2019-02-09\",\"2019-02-10\",\"2019-02-11\",\"2019-02-12\",\"2019-02-13\",\"2019-02-14\",\"2019-02-15\",\"2019-02-16\",\"2019-02-17\",\"2019-02-18\",\"2019-02-19\",\"2019-02-20\",\"2019-02-21\",\"2019-02-22\",\"2019-02-23\",\"2019-02-24\",\"2019-02-25\",\"2019-02-26\",\"2019-02-27\",\"2019-02-28\",\"2019-03-01\",\"2019-03-02\",\"2019-03-03\",\"2019-03-04\",\"2019-03-05\",\"2019-03-06\",\"2019-03-07\",\"2019-03-08\",\"2019-03-09\",\"2019-03-10\",\"2019-03-11\",\"2019-03-12\",\"2019-03-13\",\"2019-03-14\",\"2019-03-15\",\"2019-03-16\",\"2019-03-17\",\"2019-03-18\",\"2019-03-19\",\"2019-03-20\",\"2019-03-21\",\"2019-03-22\",\"2019-03-23\",\"2019-03-24\",\"2019-03-25\",\"2019-03-26\",\"2019-03-27\",\"2019-03-28\",\"2019-03-29\",\"2019-03-30\",\"2019-03-31\",\"2019-04-01\",\"2019-04-02\",\"2019-04-03\",\"2019-04-04\",\"2019-04-05\",\"2019-04-06\",\"2019-04-07\",\"2019-04-08\",\"2019-04-09\",\"2019-04-10\",\"2019-04-11\",\"2019-04-12\",\"2019-04-13\",\"2019-04-14\",\"2019-04-15\",\"2019-04-16\",\"2019-04-17\",\"2019-04-18\",\"2019-04-19\",\"2019-04-20\",\"2019-04-21\",\"2019-04-22\",\"2019-04-23\",\"2019-04-24\",\"2019-04-25\",\"2019-04-26\",\"2019-04-27\",\"2019-04-28\",\"2019-04-29\",\"2019-04-30\",\"2019-05-01\",\"2019-05-02\",\"2019-05-03\",\"2019-05-04\",\"2019-05-05\",\"2019-05-06\",\"2019-05-07\",\"2019-05-08\",\"2019-05-09\",\"2019-05-10\",\"2019-05-11\",\"2019-05-12\",\"2019-05-13\",\"2019-05-14\",\"2019-05-15\",\"2019-05-16\",\"2019-05-17\",\"2019-05-18\",\"2019-05-19\",\"2019-05-20\",\"2019-05-21\",\"2019-05-22\",\"2019-05-23\",\"2019-05-24\",\"2019-05-25\",\"2019-05-26\",\"2019-05-27\",\"2019-05-28\",\"2019-05-29\",\"2019-05-30\",\"2019-05-31\",\"2019-06-01\",\"2019-06-02\",\"2019-06-03\",\"2019-06-04\",\"2019-06-05\",\"2019-06-06\",\"2019-06-07\",\"2019-06-08\",\"2019-06-09\",\"2019-06-10\",\"2019-06-11\",\"2019-06-12\",\"2019-06-13\",\"2019-06-14\",\"2019-06-15\",\"2019-06-16\",\"2019-06-17\",\"2019-06-18\",\"2019-06-19\",\"2019-06-20\",\"2019-06-21\",\"2019-06-22\",\"2019-06-23\",\"2019-06-24\",\"2019-06-25\",\"2019-06-26\",\"2019-06-27\",\"2019-06-28\",\"2019-06-29\",\"2019-06-30\",\"2019-07-01\",\"2019-07-02\",\"2019-07-03\",\"2019-07-04\",\"2019-07-05\",\"2019-07-06\",\"2019-07-07\",\"2019-07-08\",\"2019-07-09\",\"2019-07-10\",\"2019-07-11\",\"2019-07-12\",\"2019-07-13\",\"2019-07-14\",\"2019-07-15\",\"2019-07-16\",\"2019-07-17\",\"2019-07-18\",\"2019-07-19\",\"2019-07-20\",\"2019-07-21\",\"2019-07-22\",\"2019-07-23\",\"2019-07-24\",\"2019-07-25\",\"2019-07-26\",\"2019-07-27\",\"2019-07-28\",\"2019-07-29\",\"2019-07-30\",\"2019-07-31\",\"2019-08-01\",\"2019-08-02\",\"2019-08-03\",\"2019-08-04\",\"2019-08-05\",\"2019-08-06\",\"2019-08-07\",\"2019-08-08\",\"2019-08-09\",\"2019-08-10\",\"2019-08-11\",\"2019-08-12\",\"2019-08-13\",\"2019-08-14\",\"2019-08-15\",\"2019-08-16\",\"2019-08-17\",\"2019-08-18\",\"2019-08-19\",\"2019-08-20\",\"2019-08-21\",\"2019-08-22\",\"2019-08-23\",\"2019-08-24\",\"2019-08-25\",\"2019-08-26\",\"2019-08-27\",\"2019-08-28\",\"2019-08-29\",\"2019-08-30\",\"2019-08-31\",\"2019-09-01\",\"2019-09-02\",\"2019-09-03\",\"2019-09-04\",\"2019-09-05\",\"2019-09-06\",\"2019-09-07\",\"2019-09-08\",\"2019-09-09\",\"2019-09-10\",\"2019-09-11\",\"2019-09-12\",\"2019-09-13\",\"2019-09-14\",\"2019-09-15\",\"2019-09-16\",\"2019-09-17\",\"2019-09-18\",\"2019-09-19\",\"2019-09-20\",\"2019-09-21\",\"2019-09-22\",\"2019-09-23\",\"2019-09-24\",\"2019-09-25\",\"2019-09-26\",\"2019-09-27\",\"2019-09-28\",\"2019-09-29\",\"2019-09-30\",\"2019-10-01\",\"2019-10-02\",\"2019-10-03\",\"2019-10-04\",\"2019-10-05\",\"2019-10-06\",\"2019-10-07\",\"2019-10-08\",\"2019-10-09\",\"2019-10-10\",\"2019-10-11\",\"2019-10-12\",\"2019-10-13\",\"2019-10-14\",\"2019-10-15\",\"2019-10-16\",\"2019-10-17\",\"2019-10-18\",\"2019-10-19\",\"2019-10-20\",\"2019-10-21\",\"2019-10-22\",\"2019-10-23\",\"2019-10-24\",\"2019-10-25\",\"2019-10-26\",\"2019-10-27\",\"2019-10-28\",\"2019-10-29\",\"2019-10-30\",\"2019-10-31\",\"2019-11-01\",\"2019-11-02\",\"2019-11-03\",\"2019-11-04\",\"2019-11-05\",\"2019-11-06\",\"2019-11-07\",\"2019-11-08\",\"2019-11-09\",\"2019-11-10\",\"2019-11-11\",\"2019-11-12\",\"2019-11-13\",\"2019-11-14\",\"2019-11-15\",\"2019-11-16\",\"2019-11-17\",\"2019-11-18\",\"2019-11-19\",\"2019-11-20\",\"2019-11-21\",\"2019-11-22\",\"2019-11-23\",\"2019-11-24\",\"2019-11-25\",\"2019-11-26\",\"2019-11-27\",\"2019-11-28\",\"2019-11-29\",\"2019-11-30\",\"2019-12-01\",\"2019-12-02\",\"2019-12-03\",\"2019-12-04\",\"2019-12-05\",\"2019-12-06\",\"2019-12-07\",\"2019-12-08\",\"2019-12-09\",\"2019-12-10\",\"2019-12-11\",\"2019-12-12\",\"2019-12-13\",\"2019-12-14\",\"2019-12-15\",\"2019-12-16\",\"2019-12-17\",\"2019-12-18\",\"2019-12-19\",\"2019-12-20\",\"2019-12-21\",\"2019-12-22\",\"2019-12-23\",\"2019-12-24\",\"2019-12-25\",\"2019-12-26\",\"2019-12-27\",\"2019-12-28\",\"2019-12-29\",\"2019-12-30\",\"2019-12-31\",\"2020-01-01\",\"2020-01-02\",\"2020-01-03\",\"2020-01-04\",\"2020-01-05\",\"2020-01-06\",\"2020-01-07\",\"2020-01-08\",\"2020-01-09\",\"2020-01-10\",\"2020-01-11\",\"2020-01-12\",\"2020-01-13\",\"2020-01-14\",\"2020-01-15\",\"2020-01-16\",\"2020-01-17\",\"2020-01-18\",\"2020-01-19\",\"2020-01-20\",\"2020-01-21\",\"2020-01-22\",\"2020-01-23\",\"2020-01-24\",\"2020-01-25\",\"2020-01-26\",\"2020-01-27\",\"2020-01-28\",\"2020-01-29\",\"2020-01-30\",\"2020-01-31\",\"2020-02-01\",\"2020-02-02\",\"2020-02-03\",\"2020-02-04\",\"2020-02-05\",\"2020-02-06\",\"2020-02-07\",\"2020-02-08\",\"2020-02-09\",\"2020-02-10\",\"2020-02-11\",\"2020-02-12\",\"2020-02-13\",\"2020-02-14\",\"2020-02-15\",\"2020-02-16\",\"2020-02-17\",\"2020-02-18\",\"2020-02-19\",\"2020-02-20\",\"2020-02-21\",\"2020-02-22\",\"2020-02-23\",\"2020-02-24\",\"2020-02-25\",\"2020-02-26\",\"2020-02-27\",\"2020-02-28\",\"2020-02-29\",\"2020-03-01\",\"2020-03-02\",\"2020-03-03\",\"2020-03-04\",\"2020-03-05\",\"2020-03-06\",\"2020-03-07\",\"2020-03-08\",\"2020-03-09\",\"2020-03-10\",\"2020-03-11\",\"2020-03-12\",\"2020-03-13\",\"2020-03-14\",\"2020-03-15\",\"2020-03-16\",\"2020-03-17\",\"2020-03-18\",\"2020-03-19\",\"2020-03-20\",\"2020-03-21\",\"2020-03-22\",\"2020-03-23\",\"2020-03-24\",\"2020-03-25\",\"2020-03-26\",\"2020-03-27\",\"2020-03-28\",\"2020-03-29\",\"2020-03-30\",\"2020-03-31\",\"2020-04-01\",\"2020-04-02\",\"2020-04-03\",\"2020-04-04\",\"2020-04-05\",\"2020-04-06\",\"2020-04-07\",\"2020-04-08\",\"2020-04-09\",\"2020-04-10\",\"2020-04-11\",\"2020-04-12\",\"2020-04-13\",\"2020-04-14\",\"2020-04-15\",\"2020-04-16\",\"2020-04-17\",\"2020-04-18\",\"2020-04-19\",\"2020-04-20\",\"2020-04-21\",\"2020-04-22\",\"2020-04-23\",\"2020-04-24\",\"2020-04-25\",\"2020-04-26\",\"2020-04-27\",\"2020-04-28\",\"2020-04-29\",\"2020-04-30\",\"2020-05-01\",\"2020-05-02\",\"2020-05-03\",\"2020-05-04\",\"2020-05-05\",\"2020-05-06\",\"2020-05-07\",\"2020-05-08\",\"2020-05-09\",\"2020-05-10\",\"2020-05-11\",\"2020-05-12\",\"2020-05-13\",\"2020-05-14\",\"2020-05-15\",\"2020-05-16\",\"2020-05-17\",\"2020-05-18\",\"2020-05-19\",\"2020-05-20\",\"2020-05-21\",\"2020-05-22\",\"2020-05-23\",\"2020-05-24\",\"2020-05-25\",\"2020-05-26\",\"2020-05-27\",\"2020-05-28\",\"2020-05-29\",\"2020-05-30\",\"2020-05-31\",\"2020-06-01\",\"2020-06-02\",\"2020-06-03\",\"2020-06-04\",\"2020-06-05\",\"2020-06-06\",\"2020-06-07\",\"2020-06-08\",\"2020-06-09\",\"2020-06-10\",\"2020-06-11\",\"2020-06-12\",\"2020-06-13\",\"2020-06-14\",\"2020-06-15\",\"2020-06-16\",\"2020-06-17\",\"2020-06-18\",\"2020-06-19\",\"2020-06-20\",\"2020-06-21\",\"2020-06-22\",\"2020-06-23\",\"2020-06-24\",\"2020-06-25\",\"2020-06-26\",\"2020-06-27\",\"2020-06-28\",\"2020-06-29\",\"2020-06-30\",\"2020-07-01\",\"2020-07-02\",\"2020-07-03\",\"2020-07-04\",\"2020-07-05\",\"2020-07-06\",\"2020-07-07\",\"2020-07-08\",\"2020-07-09\",\"2020-07-10\",\"2020-07-11\",\"2020-07-12\",\"2020-07-13\",\"2020-07-14\",\"2020-07-15\",\"2020-07-16\",\"2020-07-17\",\"2020-07-18\",\"2020-07-19\",\"2020-07-20\",\"2020-07-21\",\"2020-07-22\",\"2020-07-23\",\"2020-07-24\",\"2020-07-25\",\"2020-07-26\",\"2020-07-27\",\"2020-07-28\",\"2020-07-29\",\"2020-07-30\",\"2020-07-31\",\"2020-08-01\",\"2020-08-02\",\"2020-08-03\",\"2020-08-04\",\"2020-08-05\",\"2020-08-06\",\"2020-08-07\",\"2020-08-08\",\"2020-08-09\",\"2020-08-10\",\"2020-08-11\",\"2020-08-12\",\"2020-08-13\",\"2020-08-14\",\"2020-08-15\",\"2020-08-16\",\"2020-08-17\",\"2020-08-18\",\"2020-08-19\",\"2020-08-20\",\"2020-08-21\",\"2020-08-22\",\"2020-08-23\",\"2020-08-24\",\"2020-08-25\",\"2020-08-26\",\"2020-08-27\",\"2020-08-28\",\"2020-08-29\",\"2020-08-30\",\"2020-08-31\",\"2020-09-01\",\"2020-09-02\",\"2020-09-03\",\"2020-09-04\",\"2020-09-05\",\"2020-09-06\",\"2020-09-07\",\"2020-09-08\",\"2020-09-09\",\"2020-09-10\",\"2020-09-11\",\"2020-09-12\",\"2020-09-13\",\"2020-09-14\",\"2020-09-15\",\"2020-09-16\",\"2020-09-17\",\"2020-09-18\",\"2020-09-19\",\"2020-09-20\",\"2020-09-21\",\"2020-09-22\",\"2020-09-23\",\"2020-09-24\",\"2020-09-25\",\"2020-09-26\",\"2020-09-27\",\"2020-09-28\",\"2020-09-29\",\"2020-09-30\",\"2020-10-01\",\"2020-10-02\",\"2020-10-03\",\"2020-10-04\",\"2020-10-05\",\"2020-10-06\",\"2020-10-07\",\"2020-10-08\",\"2020-10-09\",\"2020-10-10\",\"2020-10-11\",\"2020-10-12\",\"2020-10-13\",\"2020-10-14\",\"2020-10-15\",\"2020-10-16\",\"2020-10-17\",\"2020-10-18\",\"2020-10-19\",\"2020-10-20\",\"2020-10-21\",\"2020-10-22\",\"2020-10-23\",\"2020-10-24\",\"2020-10-25\",\"2020-10-26\",\"2020-10-27\",\"2020-10-28\",\"2020-10-29\",\"2020-10-30\",\"2020-10-31\",\"2020-11-01\",\"2020-11-02\",\"2020-11-03\",\"2020-11-04\",\"2020-11-05\",\"2020-11-06\",\"2020-11-07\",\"2020-11-08\",\"2020-11-09\",\"2020-11-10\",\"2020-11-11\",\"2020-11-12\",\"2020-11-13\",\"2020-11-14\",\"2020-11-15\",\"2020-11-16\",\"2020-11-17\",\"2020-11-18\",\"2020-11-19\",\"2020-11-20\",\"2020-11-21\",\"2020-11-22\",\"2020-11-23\",\"2020-11-24\",\"2020-11-25\",\"2020-11-26\",\"2020-11-27\",\"2020-11-28\",\"2020-11-29\",\"2020-11-30\",\"2020-12-01\",\"2020-12-02\",\"2020-12-03\",\"2020-12-04\",\"2020-12-05\",\"2020-12-06\",\"2020-12-07\",\"2020-12-08\",\"2020-12-09\",\"2020-12-10\",\"2020-12-11\",\"2020-12-12\",\"2020-12-13\",\"2020-12-14\",\"2020-12-15\",\"2020-12-16\",\"2020-12-17\",\"2020-12-18\",\"2020-12-19\",\"2020-12-20\",\"2020-12-21\",\"2020-12-22\",\"2020-12-23\",\"2020-12-24\",\"2020-12-25\",\"2020-12-26\",\"2020-12-27\",\"2020-12-28\",\"2020-12-29\",\"2020-12-30\",\"2020-12-31\",\"2021-01-01\",\"2021-01-02\",\"2021-01-03\",\"2021-01-04\",\"2021-01-05\",\"2021-01-06\",\"2021-01-07\",\"2021-01-08\",\"2021-01-09\",\"2021-01-10\",\"2021-01-11\",\"2021-01-12\",\"2021-01-13\",\"2021-01-14\",\"2021-01-15\",\"2021-01-16\",\"2021-01-17\",\"2021-01-18\",\"2021-01-19\",\"2021-01-20\",\"2021-01-21\",\"2021-01-22\",\"2021-01-23\",\"2021-01-24\",\"2021-01-25\",\"2021-01-26\",\"2021-01-27\",\"2021-01-28\",\"2021-01-29\",\"2021-01-30\",\"2021-01-31\",\"2021-02-01\",\"2021-02-02\",\"2021-02-03\",\"2021-02-04\",\"2021-02-05\",\"2021-02-06\",\"2021-02-07\",\"2021-02-08\",\"2021-02-09\",\"2021-02-10\",\"2021-02-11\",\"2021-02-12\",\"2021-02-13\",\"2021-02-14\",\"2021-02-15\",\"2021-02-16\",\"2021-02-17\",\"2021-02-18\",\"2021-02-19\",\"2021-02-20\",\"2021-02-21\",\"2021-02-22\",\"2021-02-23\",\"2021-02-24\",\"2021-02-25\",\"2021-02-26\",\"2021-02-27\",\"2021-02-28\",\"2021-03-01\",\"2021-03-02\",\"2021-03-03\",\"2021-03-04\",\"2021-03-05\",\"2021-03-06\",\"2021-03-07\",\"2021-03-08\",\"2021-03-09\",\"2021-03-10\",\"2021-03-11\",\"2021-03-12\",\"2021-03-13\",\"2021-03-14\",\"2021-03-15\",\"2021-03-16\",\"2021-03-17\",\"2021-03-18\",\"2021-03-19\",\"2021-03-20\",\"2021-03-21\",\"2021-03-22\",\"2021-03-23\",\"2021-03-24\",\"2021-03-25\",\"2021-03-26\",\"2021-03-27\",\"2021-03-28\",\"2021-03-29\",\"2021-03-30\",\"2021-03-31\",\"2021-04-01\",\"2021-04-02\",\"2021-04-03\",\"2021-04-04\",\"2021-04-05\",\"2021-04-06\",\"2021-04-07\",\"2021-04-08\",\"2021-04-09\",\"2021-04-10\",\"2021-04-11\",\"2021-04-12\",\"2021-04-13\",\"2021-04-14\",\"2021-04-15\",\"2021-04-16\",\"2021-04-17\",\"2021-04-18\",\"2021-04-19\",\"2021-04-20\",\"2021-04-21\",\"2021-04-22\",\"2021-04-23\",\"2021-04-24\",\"2021-04-25\",\"2021-04-26\",\"2021-04-27\",\"2021-04-28\",\"2021-04-29\",\"2021-04-30\",\"2021-05-01\",\"2021-05-02\",\"2021-05-03\",\"2021-05-04\",\"2021-05-05\",\"2021-05-06\",\"2021-05-07\",\"2021-05-08\",\"2021-05-09\",\"2021-05-10\",\"2021-05-11\",\"2021-05-12\",\"2021-05-13\",\"2021-05-14\",\"2021-05-15\",\"2021-05-16\",\"2021-05-17\",\"2021-05-18\",\"2021-05-19\",\"2021-05-20\",\"2021-05-21\",\"2021-05-22\",\"2021-05-23\",\"2021-05-24\",\"2021-05-25\",\"2021-05-26\",\"2021-05-27\",\"2021-05-28\",\"2021-05-29\",\"2021-05-30\",\"2021-05-31\",\"2021-06-01\",\"2021-06-02\",\"2021-06-03\",\"2021-06-04\",\"2021-06-05\",\"2021-06-06\",\"2021-06-07\",\"2021-06-08\",\"2021-06-09\",\"2021-06-10\",\"2021-06-11\",\"2021-06-12\",\"2021-06-13\",\"2021-06-14\",\"2021-06-15\",\"2021-06-16\",\"2021-06-17\",\"2021-06-18\",\"2021-06-19\",\"2021-06-20\",\"2021-06-21\",\"2021-06-22\",\"2021-06-23\",\"2021-06-24\",\"2021-06-25\",\"2021-06-26\",\"2021-06-27\",\"2021-06-28\",\"2021-06-29\",\"2021-06-30\",\"2021-07-01\",\"2021-07-02\",\"2021-07-03\",\"2021-07-04\",\"2021-07-05\",\"2021-07-06\",\"2021-07-07\",\"2021-07-08\",\"2021-07-09\",\"2021-07-10\",\"2021-07-11\",\"2021-07-12\",\"2021-07-13\",\"2021-07-14\",\"2021-07-15\",\"2021-07-16\",\"2021-07-17\",\"2021-07-18\",\"2021-07-19\",\"2021-07-20\",\"2021-07-21\",\"2021-07-22\",\"2021-07-23\",\"2021-07-24\",\"2021-07-25\",\"2021-07-26\",\"2021-07-27\",\"2021-07-28\",\"2021-07-29\",\"2021-07-30\",\"2021-07-31\",\"2021-08-01\",\"2021-08-02\",\"2021-08-03\",\"2021-08-04\",\"2021-08-05\",\"2021-08-06\",\"2021-08-07\",\"2021-08-08\",\"2021-08-09\",\"2021-08-10\",\"2021-08-11\",\"2021-08-12\",\"2021-08-13\",\"2021-08-14\",\"2021-08-15\",\"2021-08-16\",\"2021-08-17\",\"2021-08-18\",\"2021-08-19\",\"2021-08-20\",\"2021-08-21\",\"2021-08-22\",\"2021-08-23\",\"2021-08-24\",\"2021-08-25\",\"2021-08-26\",\"2021-08-27\",\"2021-08-28\",\"2021-08-29\",\"2021-08-30\",\"2021-08-31\",\"2021-09-01\",\"2021-09-02\",\"2021-09-03\",\"2021-09-04\",\"2021-09-05\",\"2021-09-06\",\"2021-09-07\",\"2021-09-08\",\"2021-09-09\",\"2021-09-10\",\"2021-09-11\",\"2021-09-12\",\"2021-09-13\",\"2021-09-14\",\"2021-09-15\",\"2021-09-16\",\"2021-09-17\",\"2021-09-18\",\"2021-09-19\",\"2021-09-20\",\"2021-09-21\",\"2021-09-22\",\"2021-09-23\",\"2021-09-24\",\"2021-09-25\",\"2021-09-26\",\"2021-09-27\",\"2021-09-28\",\"2021-09-29\",\"2021-09-30\",\"2021-10-01\",\"2021-10-02\",\"2021-10-03\",\"2021-10-04\",\"2021-10-05\",\"2021-10-06\",\"2021-10-07\",\"2021-10-08\",\"2021-10-09\",\"2021-10-10\",\"2021-10-11\",\"2021-10-12\",\"2021-10-13\",\"2021-10-14\",\"2021-10-15\",\"2021-10-16\",\"2021-10-17\",\"2021-10-18\",\"2021-10-19\",\"2021-10-20\",\"2021-10-21\",\"2021-10-22\",\"2021-10-23\",\"2021-10-24\",\"2021-10-25\",\"2021-10-26\",\"2021-10-27\",\"2021-10-28\",\"2021-10-29\",\"2021-10-30\",\"2021-10-31\",\"2021-11-01\",\"2021-11-02\",\"2021-11-03\",\"2021-11-04\",\"2021-11-05\",\"2021-11-06\",\"2021-11-07\",\"2021-11-08\",\"2021-11-09\",\"2021-11-10\",\"2021-11-11\",\"2021-11-12\",\"2021-11-13\",\"2021-11-14\",\"2021-11-15\",\"2021-11-16\",\"2021-11-17\",\"2021-11-18\",\"2021-11-19\",\"2021-11-20\",\"2021-11-21\",\"2021-11-22\",\"2021-11-23\",\"2021-11-24\",\"2021-11-25\",\"2021-11-26\",\"2021-11-27\",\"2021-11-28\",\"2021-11-29\",\"2021-11-30\",\"2021-12-01\",\"2021-12-02\",\"2021-12-03\",\"2021-12-04\",\"2021-12-05\",\"2021-12-06\",\"2021-12-07\",\"2021-12-08\",\"2021-12-09\",\"2021-12-10\",\"2021-12-11\",\"2021-12-12\",\"2021-12-13\",\"2021-12-14\",\"2021-12-15\",\"2021-12-16\",\"2021-12-17\",\"2021-12-18\",\"2021-12-19\",\"2021-12-20\",\"2021-12-21\",\"2021-12-22\",\"2021-12-23\",\"2021-12-24\",\"2021-12-25\",\"2021-12-26\",\"2021-12-27\",\"2021-12-28\",\"2021-12-29\",\"2021-12-30\",\"2021-12-31\",\"2022-01-01\",\"2022-01-02\",\"2022-01-03\",\"2022-01-04\",\"2022-01-05\",\"2022-01-06\",\"2022-01-07\",\"2022-01-08\",\"2022-01-09\",\"2022-01-10\",\"2022-01-11\",\"2022-01-12\",\"2022-01-13\",\"2022-01-14\",\"2022-01-15\",\"2022-01-16\",\"2022-01-17\",\"2022-01-18\",\"2022-01-19\",\"2022-01-20\",\"2022-01-21\",\"2022-01-22\",\"2022-01-23\",\"2022-01-24\",\"2022-01-25\",\"2022-01-26\",\"2022-01-27\",\"2022-01-28\",\"2022-01-29\",\"2022-01-30\",\"2022-01-31\",\"2022-02-01\",\"2022-02-02\",\"2022-02-03\",\"2022-02-04\",\"2022-02-05\",\"2022-02-06\",\"2022-02-07\",\"2022-02-08\",\"2022-02-09\",\"2022-02-10\",\"2022-02-11\",\"2022-02-12\",\"2022-02-13\",\"2022-02-14\",\"2022-02-15\",\"2022-02-16\",\"2022-02-17\",\"2022-02-18\",\"2022-02-19\",\"2022-02-20\",\"2022-02-21\",\"2022-02-22\",\"2022-02-23\",\"2022-02-24\",\"2022-02-25\",\"2022-02-26\",\"2022-02-27\",\"2022-02-28\",\"2022-03-01\",\"2022-03-02\",\"2022-03-03\",\"2022-03-04\",\"2022-03-05\",\"2022-03-06\",\"2022-03-07\",\"2022-03-08\",\"2022-03-09\",\"2022-03-10\",\"2022-03-11\",\"2022-03-12\",\"2022-03-13\",\"2022-03-14\",\"2022-03-15\",\"2022-03-16\",\"2022-03-17\",\"2022-03-18\",\"2022-03-19\",\"2022-03-20\",\"2022-03-21\",\"2022-03-22\",\"2022-03-23\",\"2022-03-24\",\"2022-03-25\",\"2022-03-26\",\"2022-03-27\",\"2022-03-28\",\"2022-03-29\",\"2022-03-30\",\"2022-03-31\",\"2022-04-01\",\"2022-04-02\",\"2022-04-03\",\"2022-04-04\",\"2022-04-05\",\"2022-04-06\",\"2022-04-07\",\"2022-04-08\",\"2022-04-09\",\"2022-04-10\",\"2022-04-11\",\"2022-04-12\",\"2022-04-13\",\"2022-04-14\",\"2022-04-15\",\"2022-04-16\",\"2022-04-17\",\"2022-04-18\",\"2022-04-19\",\"2022-04-20\",\"2022-04-21\",\"2022-04-22\",\"2022-04-23\",\"2022-04-24\",\"2022-04-25\",\"2022-04-26\",\"2022-04-27\",\"2022-04-28\",\"2022-04-29\",\"2022-04-30\",\"2022-05-01\",\"2022-05-02\",\"2022-05-03\",\"2022-05-04\",\"2022-05-05\",\"2022-05-06\",\"2022-05-07\",\"2022-05-08\",\"2022-05-09\",\"2022-05-10\",\"2022-05-11\",\"2022-05-12\",\"2022-05-13\",\"2022-05-14\",\"2022-05-15\",\"2022-05-16\",\"2022-05-17\",\"2022-05-18\",\"2022-05-19\",\"2022-05-20\",\"2022-05-21\",\"2022-05-22\",\"2022-05-23\",\"2022-05-24\",\"2022-05-25\",\"2022-05-26\",\"2022-05-27\",\"2022-05-28\",\"2022-05-29\",\"2022-05-30\",\"2022-05-31\",\"2022-06-01\",\"2022-06-02\",\"2022-06-03\",\"2022-06-04\",\"2022-06-05\",\"2022-06-06\",\"2022-06-07\",\"2022-06-08\",\"2022-06-09\",\"2022-06-10\",\"2022-06-11\",\"2022-06-12\",\"2022-06-13\",\"2022-06-14\",\"2022-06-15\",\"2022-06-16\",\"2022-06-17\",\"2022-06-18\",\"2022-06-19\",\"2022-06-20\",\"2022-06-21\",\"2022-06-22\",\"2022-06-23\",\"2022-06-24\",\"2022-06-25\",\"2022-06-26\",\"2022-06-27\",\"2022-06-28\",\"2022-06-29\",\"2022-06-30\",\"2022-07-01\",\"2022-07-02\",\"2022-07-03\",\"2022-07-04\",\"2022-07-05\",\"2022-07-06\",\"2022-07-07\",\"2022-07-08\",\"2022-07-09\",\"2022-07-10\",\"2022-07-11\",\"2022-07-12\",\"2022-07-13\",\"2022-07-14\",\"2022-07-15\",\"2022-07-16\",\"2022-07-17\",\"2022-07-18\",\"2022-07-19\",\"2022-07-20\",\"2022-07-21\",\"2022-07-22\",\"2022-07-23\",\"2022-07-24\",\"2022-07-25\",\"2022-07-26\",\"2022-07-27\",\"2022-07-28\",\"2022-07-29\",\"2022-07-30\",\"2022-07-31\",\"2022-08-01\",\"2022-08-02\",\"2022-08-03\",\"2022-08-04\",\"2022-08-05\",\"2022-08-06\",\"2022-08-07\",\"2022-08-08\",\"2022-08-09\",\"2022-08-10\",\"2022-08-11\",\"2022-08-12\",\"2022-08-13\",\"2022-08-14\",\"2022-08-15\",\"2022-08-16\",\"2022-08-17\",\"2022-08-18\",\"2022-08-19\",\"2022-08-20\",\"2022-08-21\",\"2022-08-22\",\"2022-08-23\",\"2022-08-24\",\"2022-08-25\",\"2022-08-26\",\"2022-08-27\",\"2022-08-28\",\"2022-08-29\",\"2022-08-30\",\"2022-08-31\",\"2022-09-01\",\"2022-09-02\",\"2022-09-03\",\"2022-09-04\",\"2022-09-05\",\"2022-09-06\",\"2022-09-07\",\"2022-09-08\",\"2022-09-09\",\"2022-09-10\",\"2022-09-11\",\"2022-09-12\",\"2022-09-13\",\"2022-09-14\",\"2022-09-15\",\"2022-09-16\",\"2022-09-17\",\"2022-09-18\",\"2022-09-19\",\"2022-09-20\",\"2022-09-21\",\"2022-09-22\",\"2022-09-23\",\"2022-09-24\",\"2022-09-25\",\"2022-09-26\",\"2022-09-27\",\"2022-09-28\",\"2022-09-29\",\"2022-09-30\",\"2022-10-01\",\"2022-10-02\",\"2022-10-03\",\"2022-10-04\",\"2022-10-05\",\"2022-10-06\",\"2022-10-07\",\"2022-10-08\",\"2022-10-09\",\"2022-10-10\",\"2022-10-11\",\"2022-10-12\",\"2022-10-13\",\"2022-10-14\",\"2022-10-15\",\"2022-10-16\",\"2022-10-17\",\"2022-10-18\",\"2022-10-19\",\"2022-10-20\",\"2022-10-21\",\"2022-10-22\",\"2022-10-23\",\"2022-10-24\",\"2022-10-25\",\"2022-10-26\",\"2022-10-27\",\"2022-10-28\",\"2022-10-29\",\"2022-10-30\"],\"xaxis\":\"x\",\"y\":[3843.52002,3943.409424,3836.741211,3857.717529,3845.19458,4076.632568,4025.248291,4030.8479,4035.296387,3678.924561,3687.365479,3661.301025,3552.953125,3706.052246,3630.675293,3655.006836,3678.563965,3657.839355,3728.568359,3601.013672,3576.032471,3604.577148,3585.123047,3600.865479,3599.765869,3602.460449,3583.96582,3470.450439,3448.116943,3486.181641,3457.792725,3487.945313,3521.060791,3464.013428,3459.154053,3466.357422,3413.767822,3399.47168,3666.780273,3671.203613,3690.188232,3648.430664,3653.528564,3632.070557,3616.880859,3620.810791,3629.787598,3673.836182,3915.714355,3947.094482,3999.820557,3954.118164,4005.526611,4142.526855,3810.42749,3882.696289,3854.35791,3851.047363,3854.7854,3859.58374,3864.415039,3847.175781,3761.557129,3896.375,3903.942627,3911.484375,3901.131592,3963.313721,3951.599854,3905.227295,3909.15625,3906.717285,3924.369141,3960.911133,4048.72583,4025.229004,4032.507324,4071.190186,4087.476318,4029.326904,4023.968262,4035.826416,4022.168213,3963.070557,3985.080811,4087.066162,4069.107178,4098.374512,4106.660156,4105.404297,4158.183105,4879.87793,4973.021973,4922.798828,5036.681152,5059.817383,5198.896973,5289.770996,5204.958496,5324.551758,5064.487793,5089.539063,5096.586426,5167.722168,5067.108398,5235.55957,5251.937988,5298.385742,5303.8125,5337.88623,5314.53125,5399.365234,5572.362305,5464.866699,5210.515625,5279.348145,5268.291016,5285.13916,5247.352539,5350.726563,5402.697266,5505.283691,5768.289551,5831.16748,5795.708496,5746.807129,5829.501465,5982.45752,6174.528809,6378.849121,7204.771484,6972.371582,7814.915039,7994.416016,8205.167969,7884.90918,7343.895508,7271.208008,8197.689453,7978.309082,7963.327637,7680.066406,7881.84668,7987.371582,8052.543945,8673.21582,8805.77832,8719.961914,8659.487305,8319.472656,8574.501953,8564.016602,8742.958008,8208.995117,7707.770996,7824.231445,7822.023438,8043.951172,7954.12793,7688.077148,8000.32959,7927.714355,8145.857422,8230.923828,8693.833008,8838.375,8994.488281,9320.352539,9081.762695,9273.521484,9527.160156,10144.556641,10701.691406,10855.371094,11011.102539,11790.916992,13016.231445,11182.806641,12407.332031,11959.371094,10817.155273,10583.134766,10801.677734,11961.269531,11215.4375,10978.459961,11208.550781,11450.84668,12285.958008,12573.8125,12156.512695,11358.662109,11815.986328,11392.378906,10256.058594,10895.089844,9477.641602,9693.802734,10666.482422,10530.732422,10767.139648,10599.105469,10343.106445,9900.767578,9811.925781,9911.841797,9870.303711,9477.677734,9552.860352,9519.145508,9607.423828,10085.62793,10399.668945,10518.174805,10821.726563,10970.18457,11805.65332,11478.168945,11941.96875,11966.407227,11862.936523,11354.024414,11523.579102,11382.616211,10895.830078,10051.704102,10311.545898,10374.338867,10231.744141,10345.810547,10916.053711,10763.232422,10138.049805,10131.055664,10407.964844,10159.960938,10138.517578,10370.820313,10185.5,9754.422852,9510.200195,9598.173828,9630.664063,9757.970703,10346.760742,10623.540039,10594.493164,10575.533203,10353.302734,10517.254883,10441.276367,10334.974609,10115.975586,10178.37207,10410.126953,10360.546875,10358.048828,10347.712891,10276.793945,10241.272461,10198.248047,10266.415039,10181.641602,10019.716797,10070.392578,9729.324219,8620.566406,8486.993164,8118.967773,8251.845703,8245.915039,8104.185547,8293.868164,8343.276367,8393.041992,8259.992188,8205.939453,8151.500488,7988.155762,8245.623047,8228.783203,8595.740234,8586.473633,8321.756836,8336.555664,8321.005859,8374.686523,8205.369141,8047.526855,8103.911133,7973.20752,7988.560547,8222.078125,8243.720703,8078.203125,7514.671875,7493.48877,8660.700195,9244.972656,9551.714844,9256.148438,9427.6875,9205.726563,9199.584961,9261.104492,9324.717773,9235.354492,9412.612305,9342.527344,9360.879883,9267.561523,8804.880859,8813.582031,9055.526367,8757.788086,8815.662109,8808.262695,8708.094727,8491.992188,8550.760742,8577.975586,8309.286133,8206.145508,8027.268066,7642.75,7296.577637,7397.796875,7047.916992,7146.133789,7218.371094,7531.663574,7463.105957,7761.243652,7569.629883,7424.29248,7321.988281,7320.145508,7252.034668,7448.307617,7546.996582,7556.237793,7564.345215,7400.899414,7278.119629,7217.427246,7243.134277,7269.68457,7124.673828,7152.301758,6932.480469,6640.515137,7276.802734,7202.844238,7218.816406,7191.158691,7511.588867,7355.628418,7322.532227,7275.155762,7238.966797,7290.088379,7317.990234,7422.652832,7292.995117,7193.599121,7200.174316,6985.470215,7344.884277,7410.656738,7411.317383,7769.219238,8163.692383,8079.862793,7879.071289,8166.554199,8037.537598,8192.494141,8144.194336,8827.764648,8807.010742,8723.786133,8929.038086,8942.808594,8706.245117,8657.642578,8745.894531,8680.875977,8406.515625,8445.43457,8367.847656,8596.830078,8909.819336,9358.589844,9316.629883,9508.993164,9350.529297,9392.875,9344.365234,9293.521484,9180.962891,9613.423828,9729.801758,9795.943359,9865.119141,10116.673828,9856.611328,10208.236328,10326.054688,10214.379883,10312.116211,9889.424805,9934.433594,9690.142578,10141.996094,9633.386719,9608.475586,9686.441406,9663.181641,9924.515625,9650.174805,9341.705078,8820.522461,8784.494141,8672.455078,8599.508789,8562.454102,8869.669922,8787.786133,8755.246094,9078.762695,9122.545898,8909.954102,8108.116211,7923.644531,7909.729492,7911.430176,4970.788086,5563.707031,5200.366211,5392.314941,5014.47998,5225.629395,5238.438477,6191.192871,6198.77832,6185.066406,5830.254883,6416.314941,6734.803711,6681.062988,6716.44043,6469.79834,6242.193848,5922.042969,6429.841797,6438.644531,6606.776367,6793.624512,6733.387207,6867.527344,6791.129395,7271.78125,7176.414551,7334.098633,7302.089355,6865.493164,6859.083008,6971.091797,6845.037598,6842.427734,6642.109863,7116.804199,7096.18457,7257.665039,7189.424805,6881.958496,6880.323242,7117.20752,7429.724609,7550.900879,7569.936035,7679.867188,7795.601074,7807.058594,8801.038086,8658.553711,8864.766602,8988.59668,8897.46875,8912.654297,9003.070313,9268.761719,9951.518555,9842.666016,9593.896484,8756.430664,8601.795898,8804.477539,9269.987305,9733.72168,9328.197266,9377.013672,9670.739258,9726.575195,9729.038086,9522.981445,9081.761719,9182.577148,9209.287109,8790.368164,8906.93457,8835.052734,9181.017578,9525.750977,9439.124023,9700.414063,9461.058594,10167.268555,9529.803711,9656.717773,9800.636719,9665.533203,9653.679688,9758.852539,9771.489258,9795.700195,9870.094727,9321.78125,9480.84375,9475.277344,9386.788086,9450.702148,9538.024414,9480.254883,9411.84082,9288.018555,9332.34082,9303.629883,9648.717773,9629.658203,9313.610352,9264.813477,9162.917969,9045.390625,9143.582031,9190.854492,9137.993164,9228.325195,9123.410156,9087.303711,9132.488281,9073.942383,9375.474609,9252.277344,9428.333008,9277.967773,9278.807617,9240.34668,9276.5,9243.614258,9243.213867,9192.836914,9132.227539,9151.392578,9159.040039,9185.817383,9164.231445,9374.887695,9525.363281,9581.072266,9536.892578,9677.113281,9905.166992,10990.873047,10912.823242,11100.467773,11111.213867,11323.466797,11759.592773,11053.614258,11246.348633,11205.892578,11747.022461,11779.773438,11601.472656,11754.045898,11675.739258,11878.111328,11410.525391,11584.93457,11784.137695,11768.871094,11865.698242,11892.803711,12254.402344,11991.233398,11758.283203,11878.37207,11592.489258,11681.825195,11664.847656,11774.595703,11366.134766,11488.363281,11323.397461,11542.5,11506.865234,11711.505859,11680.820313,11970.478516,11414.03418,10245.296875,10511.813477,10169.567383,10280.351563,10369.563477,10131.516602,10242.347656,10363.138672,10400.915039,10442.170898,10323.755859,10680.837891,10796.951172,10974.905273,10948.990234,10944.585938,11094.34668,10938.271484,10462.259766,10538.459961,10246.186523,10760.066406,10692.716797,10750.723633,10775.269531,10709.652344,10844.640625,10784.491211,10619.452148,10575.974609,10549.329102,10669.583008,10793.339844,10604.40625,10668.96875,10915.685547,11064.458008,11296.361328,11384.181641,11555.363281,11425.899414,11429.506836,11495.349609,11322.123047,11358.101563,11483.359375,11742.037109,11916.334961,12823.689453,12965.891602,12931.539063,13108.0625,13031.173828,13075.248047,13654.21875,13271.285156,13437.882813,13546.522461,13780.995117,13737.109375,13550.489258,13950.300781,14133.707031,15579.848633,15565.880859,14833.753906,15479.567383,15332.31543,15290.902344,15701.339844,16276.34375,16317.808594,16068.138672,15955.587891,16716.111328,17645.40625,17804.005859,17817.089844,18621.314453,18642.232422,18370.001953,18364.121094,19107.464844,18732.121094,17150.623047,17108.402344,17717.414063,18177.484375,19625.835938,18802.998047,19201.091797,19445.398438,18699.765625,19154.230469,19345.121094,19191.630859,18321.144531,18553.916016,18264.992188,18058.904297,18803.65625,19142.382813,19246.644531,19417.076172,21310.597656,22805.162109,23137.960938,23869.832031,23477.294922,22803.082031,23783.029297,23241.345703,23735.949219,24664.791016,26437.037109,26272.294922,27084.808594,27362.4375,28840.953125,29001.720703,29374.152344,32127.267578,32782.023438,31971.914063,33992.429688,36824.363281,39371.042969,40797.609375,40254.546875,38356.441406,35566.65625,33922.960938,37316.359375,39187.328125,36825.367188,36178.140625,35791.277344,36630.074219,36069.804688,35547.75,30825.699219,33005.761719,32067.642578,32289.378906,32366.392578,32569.849609,30432.546875,33466.097656,34316.386719,34269.523438,33114.359375,33537.175781,35510.289063,37472.089844,36926.066406,38144.308594,39266.011719,38903.441406,46196.464844,46481.105469,44918.183594,47909.332031,47504.851563,47105.515625,48717.289063,47945.058594,49199.871094,52149.007813,51679.796875,55888.132813,56099.519531,57539.945313,54207.320313,48824.425781,49705.332031,47093.851563,46339.761719,46188.453125,45137.769531,49631.242188,48378.988281,50538.242188,48561.167969,48927.304688,48912.382813,51206.691406,52246.523438,54824.117188,56008.550781,57805.121094,57332.089844,61243.085938,59302.316406,55907.199219,56804.902344,58870.894531,57858.921875,58346.652344,58313.644531,57523.421875,54529.144531,54738.945313,52774.265625,51704.160156,55137.3125,55973.511719,55950.746094,57750.199219,58917.691406,58918.832031,59095.808594,59384.3125,57603.890625,58758.554688,59057.878906,58192.359375,56048.9375,58323.953125,58245.003906,59793.234375,60204.964844,59893.453125,63503.457031,63109.695313,63314.011719,61572.789063,60683.820313,56216.183594,55724.265625,56473.03125,53906.089844,51762.273438,51093.652344,50050.867188,49004.253906,54021.753906,55033.117188,54824.703125,53555.109375,57750.175781,57828.050781,56631.078125,57200.292969,53333.539063,57424.007813,56396.515625,57356.402344,58803.777344,58232.316406,55859.796875,56704.574219,49150.535156,49716.191406,49880.535156,46760.1875,46456.058594,43537.511719,42909.402344,37002.441406,40782.738281,37304.691406,37536.632813,34770.582031,38705.980469,38402.222656,39294.199219,38436.96875,35697.605469,34616.066406,35678.128906,37332.855469,36684.925781,37575.179688,39208.765625,36894.40625,35551.957031,35862.378906,33560.707031,33472.632813,37345.121094,36702.597656,37334.398438,35552.515625,39097.859375,40218.476563,40406.269531,38347.0625,38053.503906,35787.246094,35615.871094,35698.296875,31676.693359,32505.660156,33723.027344,34662.4375,31637.779297,32186.277344,34649.644531,34434.335938,35867.777344,35040.835938,33572.117188,33897.046875,34668.546875,35287.78125,33746.003906,34235.195313,33855.328125,32877.371094,33798.011719,33520.519531,34240.1875,33155.847656,32702.025391,32822.347656,31780.730469,31421.539063,31533.068359,31796.810547,30817.832031,29807.347656,32110.693359,32313.105469,33581.550781,34292.445313,35350.1875,37337.535156,39406.941406,39995.90625,40008.421875,42235.546875,41626.195313,39974.894531,39201.945313,38152.980469,39747.503906,40869.554688,42816.5,44555.800781,43798.117188,46365.402344,45585.03125,45593.636719,44428.289063,47793.320313,47096.945313,47047.003906,46004.484375,44695.359375,44801.1875,46717.578125,49339.175781,48905.492188,49321.652344,49546.148438,47706.117188,48960.789063,46942.21875,49058.667969,48902.402344,48829.832031,47054.984375,47166.6875,48847.027344,49327.722656,50025.375,49944.625,51753.410156,52633.535156,46811.128906,46091.390625,46391.421875,44883.910156,45201.457031,46063.269531,44963.074219,47092.492188,48176.347656,47783.359375,47267.519531,48278.363281,47260.21875,42843.800781,40693.675781,43574.507813,44895.097656,42839.75,42716.59375,43208.539063,42235.730469,41034.542969,41564.363281,43790.894531,48116.941406,47711.488281,48199.953125,49112.902344,51514.8125,55361.449219,53805.984375,53967.847656,54968.222656,54771.578125,57484.789063,56041.058594,57401.097656,57321.523438,61593.949219,60892.179688,61553.617188,62026.078125,64261.992188,65992.835938,62210.171875,60692.265625,61393.617188,60930.835938,63039.824219,60363.792969,58482.386719,60622.136719,62227.964844,61888.832031,61318.957031,61004.40625,63226.402344,62970.046875,61452.230469,61125.675781,61527.480469,63326.988281,67566.828125,66971.828125,64995.230469,64949.960938,64155.941406,64469.527344,65466.839844,63557.871094,60161.246094,60368.011719,56942.136719,58119.578125,59697.195313,58730.476563,56289.289063,57569.074219,56280.425781,57274.679688,53569.765625,54815.078125,57248.457031,57806.566406,57005.425781,57229.828125,56477.816406,53598.246094,49200.703125,49368.847656,50582.625,50700.085938,50504.796875,47672.121094,47243.304688,49362.507813,50098.335938,46737.480469,46612.632813,48896.722656,47665.425781,46202.144531,46848.777344,46707.015625,46880.277344,48936.613281,48628.511719,50784.539063,50822.195313,50429.859375,50809.515625,50640.417969,47588.855469,46444.710938,47178.125,46306.445313,47686.8125,47345.21875,46458.117188,45897.574219,43569.003906,43160.929688,41557.902344,41733.941406,41911.601563,41821.261719,42735.855469,43949.101563,42591.570313,43099.699219,43177.398438,43113.878906,42250.550781,42375.632813,41744.328125,40680.417969,36457.316406,35030.25,36276.804688,36654.328125,36954.003906,36852.121094,37138.234375,37784.332031,38138.179688,37917.601563,38483.125,38743.273438,36952.984375,37154.601563,41500.875,41441.164063,42412.433594,43840.285156,44118.445313,44338.796875,43565.113281,42407.9375,42244.46875,42197.515625,42586.917969,44575.203125,43961.859375,40538.011719,40030.976563,40122.15625,38431.378906,37075.28125,38286.027344,37296.570313,38332.609375,39214.21875,39105.148438,37709.785156,43193.234375,44354.636719,43924.117188,42451.789063,39137.605469,39400.585938,38419.984375,38062.039063,38737.269531,41982.925781,39437.460938,38794.972656,38904.011719,37849.664063,39666.753906,39338.785156,41143.929688,40951.378906,41801.15625,42190.652344,41247.824219,41077.996094,42358.808594,42892.957031,43960.933594,44348.730469,44500.828125,46820.492188,47128.003906,47465.730469,47062.664063,45538.675781,46281.644531,45868.949219,46453.566406,46622.675781,45555.992188,43206.738281,43503.847656,42287.664063,42782.136719,42207.671875,39521.902344,40127.183594,41166.730469,39935.515625,40553.464844,40424.484375,39716.953125,40826.214844,41502.75,41374.378906,40527.363281,39740.320313,39486.730469,39469.292969,40458.308594,38117.460938,39241.121094,39773.828125,38609.824219,37714.875,38469.09375,38529.328125,37750.453125,39698.371094,36575.140625,36040.921875,35501.953125,34059.265625,30296.953125,31022.90625,28936.355469,29047.751953,29283.103516,30101.265625,31305.113281,29862.917969,30425.857422,28720.271484,30314.333984,29200.740234,29432.226563,30323.722656,29098.910156,29655.585938,29562.361328,29267.224609,28627.574219,28814.900391,29445.957031,31726.390625,31792.310547,29799.080078,30467.488281,29704.390625,29832.914063,29906.662109,31370.671875,31155.478516,30214.355469,30111.998047,29083.804688,28360.810547,26762.648438,22487.388672,22206.792969,22572.839844,20381.650391,20471.482422,19017.642578,20553.271484,20599.537109,20710.597656,19987.029297,21085.876953,21231.65625,21502.337891,21027.294922,20735.478516,20280.634766,20104.023438,19784.726563,19269.367188,19242.255859,19297.076172,20231.261719,20190.115234,20548.246094,21637.587891,21731.117188,21592.207031,20860.449219,19970.556641,19323.914063,20212.074219,20569.919922,20836.328125,21190.316406,20779.34375,22485.689453,23389.433594,23231.732422,23164.628906,22714.978516,22465.478516,22609.164063,21361.701172,21239.753906,22930.548828,23843.886719,23804.632813,23656.207031,23336.896484,23314.199219,22978.117188,22846.507813,22630.957031,23289.314453,22961.279297,23175.890625,23809.486328,23164.318359,23947.642578,23957.529297,24402.818359,24424.068359,24319.333984,24136.972656,23883.291016,23335.998047,23212.738281,20877.552734,21166.060547,21534.121094,21398.908203,21528.087891,21395.019531,21600.904297,20260.019531,20041.738281,19616.814453,20297.994141,19796.808594,20049.763672,20127.140625,19969.771484,19832.087891,19986.712891,19812.371094,18837.667969,19290.324219,19329.833984,21381.152344,21680.539063,21769.255859,22370.449219,20296.707031,20241.089844,19701.210938,19772.583984,20127.576172,19419.505859,19544.128906,18890.789063,18547.400391,19413.550781,19297.638672,18937.011719,18802.097656,19222.671875,19110.546875,19426.720703,19573.050781,19431.789063,19312.095703,19044.107422,19623.580078,20336.84375,20160.716797,19955.443359,19546.849609,19416.568359,19446.425781,19141.484375,19051.417969,19157.445313,19382.904297,19185.65625,19067.634766,19268.09375,19550.757813,19334.416016,19139.535156,19053.740234,19172.46875,19208.189453,19567.007813,19345.572266,20095.857422,20770.441406,20285.835938,20595.351563,20818.476563,20763.728516],\"yaxis\":\"y\",\"type\":\"scattergl\",\"opacity\":0.8}],                        {\"template\":{\"data\":{\"bar\":[{\"error_x\":{\"color\":\"#2a3f5f\"},\"error_y\":{\"color\":\"#2a3f5f\"},\"marker\":{\"line\":{\"color\":\"#E5ECF6\",\"width\":0.5},\"pattern\":{\"fillmode\":\"overlay\",\"size\":10,\"solidity\":0.2}},\"type\":\"bar\"}],\"barpolar\":[{\"marker\":{\"line\":{\"color\":\"#E5ECF6\",\"width\":0.5},\"pattern\":{\"fillmode\":\"overlay\",\"size\":10,\"solidity\":0.2}},\"type\":\"barpolar\"}],\"carpet\":[{\"aaxis\":{\"endlinecolor\":\"#2a3f5f\",\"gridcolor\":\"white\",\"linecolor\":\"white\",\"minorgridcolor\":\"white\",\"startlinecolor\":\"#2a3f5f\"},\"baxis\":{\"endlinecolor\":\"#2a3f5f\",\"gridcolor\":\"white\",\"linecolor\":\"white\",\"minorgridcolor\":\"white\",\"startlinecolor\":\"#2a3f5f\"},\"type\":\"carpet\"}],\"choropleth\":[{\"colorbar\":{\"outlinewidth\":0,\"ticks\":\"\"},\"type\":\"choropleth\"}],\"contour\":[{\"colorbar\":{\"outlinewidth\":0,\"ticks\":\"\"},\"colorscale\":[[0.0,\"#0d0887\"],[0.1111111111111111,\"#46039f\"],[0.2222222222222222,\"#7201a8\"],[0.3333333333333333,\"#9c179e\"],[0.4444444444444444,\"#bd3786\"],[0.5555555555555556,\"#d8576b\"],[0.6666666666666666,\"#ed7953\"],[0.7777777777777778,\"#fb9f3a\"],[0.8888888888888888,\"#fdca26\"],[1.0,\"#f0f921\"]],\"type\":\"contour\"}],\"contourcarpet\":[{\"colorbar\":{\"outlinewidth\":0,\"ticks\":\"\"},\"type\":\"contourcarpet\"}],\"heatmap\":[{\"colorbar\":{\"outlinewidth\":0,\"ticks\":\"\"},\"colorscale\":[[0.0,\"#0d0887\"],[0.1111111111111111,\"#46039f\"],[0.2222222222222222,\"#7201a8\"],[0.3333333333333333,\"#9c179e\"],[0.4444444444444444,\"#bd3786\"],[0.5555555555555556,\"#d8576b\"],[0.6666666666666666,\"#ed7953\"],[0.7777777777777778,\"#fb9f3a\"],[0.8888888888888888,\"#fdca26\"],[1.0,\"#f0f921\"]],\"type\":\"heatmap\"}],\"heatmapgl\":[{\"colorbar\":{\"outlinewidth\":0,\"ticks\":\"\"},\"colorscale\":[[0.0,\"#0d0887\"],[0.1111111111111111,\"#46039f\"],[0.2222222222222222,\"#7201a8\"],[0.3333333333333333,\"#9c179e\"],[0.4444444444444444,\"#bd3786\"],[0.5555555555555556,\"#d8576b\"],[0.6666666666666666,\"#ed7953\"],[0.7777777777777778,\"#fb9f3a\"],[0.8888888888888888,\"#fdca26\"],[1.0,\"#f0f921\"]],\"type\":\"heatmapgl\"}],\"histogram\":[{\"marker\":{\"pattern\":{\"fillmode\":\"overlay\",\"size\":10,\"solidity\":0.2}},\"type\":\"histogram\"}],\"histogram2d\":[{\"colorbar\":{\"outlinewidth\":0,\"ticks\":\"\"},\"colorscale\":[[0.0,\"#0d0887\"],[0.1111111111111111,\"#46039f\"],[0.2222222222222222,\"#7201a8\"],[0.3333333333333333,\"#9c179e\"],[0.4444444444444444,\"#bd3786\"],[0.5555555555555556,\"#d8576b\"],[0.6666666666666666,\"#ed7953\"],[0.7777777777777778,\"#fb9f3a\"],[0.8888888888888888,\"#fdca26\"],[1.0,\"#f0f921\"]],\"type\":\"histogram2d\"}],\"histogram2dcontour\":[{\"colorbar\":{\"outlinewidth\":0,\"ticks\":\"\"},\"colorscale\":[[0.0,\"#0d0887\"],[0.1111111111111111,\"#46039f\"],[0.2222222222222222,\"#7201a8\"],[0.3333333333333333,\"#9c179e\"],[0.4444444444444444,\"#bd3786\"],[0.5555555555555556,\"#d8576b\"],[0.6666666666666666,\"#ed7953\"],[0.7777777777777778,\"#fb9f3a\"],[0.8888888888888888,\"#fdca26\"],[1.0,\"#f0f921\"]],\"type\":\"histogram2dcontour\"}],\"mesh3d\":[{\"colorbar\":{\"outlinewidth\":0,\"ticks\":\"\"},\"type\":\"mesh3d\"}],\"parcoords\":[{\"line\":{\"colorbar\":{\"outlinewidth\":0,\"ticks\":\"\"}},\"type\":\"parcoords\"}],\"pie\":[{\"automargin\":true,\"type\":\"pie\"}],\"scatter\":[{\"marker\":{\"colorbar\":{\"outlinewidth\":0,\"ticks\":\"\"}},\"type\":\"scatter\"}],\"scatter3d\":[{\"line\":{\"colorbar\":{\"outlinewidth\":0,\"ticks\":\"\"}},\"marker\":{\"colorbar\":{\"outlinewidth\":0,\"ticks\":\"\"}},\"type\":\"scatter3d\"}],\"scattercarpet\":[{\"marker\":{\"colorbar\":{\"outlinewidth\":0,\"ticks\":\"\"}},\"type\":\"scattercarpet\"}],\"scattergeo\":[{\"marker\":{\"colorbar\":{\"outlinewidth\":0,\"ticks\":\"\"}},\"type\":\"scattergeo\"}],\"scattergl\":[{\"marker\":{\"colorbar\":{\"outlinewidth\":0,\"ticks\":\"\"}},\"type\":\"scattergl\"}],\"scattermapbox\":[{\"marker\":{\"colorbar\":{\"outlinewidth\":0,\"ticks\":\"\"}},\"type\":\"scattermapbox\"}],\"scatterpolar\":[{\"marker\":{\"colorbar\":{\"outlinewidth\":0,\"ticks\":\"\"}},\"type\":\"scatterpolar\"}],\"scatterpolargl\":[{\"marker\":{\"colorbar\":{\"outlinewidth\":0,\"ticks\":\"\"}},\"type\":\"scatterpolargl\"}],\"scatterternary\":[{\"marker\":{\"colorbar\":{\"outlinewidth\":0,\"ticks\":\"\"}},\"type\":\"scatterternary\"}],\"surface\":[{\"colorbar\":{\"outlinewidth\":0,\"ticks\":\"\"},\"colorscale\":[[0.0,\"#0d0887\"],[0.1111111111111111,\"#46039f\"],[0.2222222222222222,\"#7201a8\"],[0.3333333333333333,\"#9c179e\"],[0.4444444444444444,\"#bd3786\"],[0.5555555555555556,\"#d8576b\"],[0.6666666666666666,\"#ed7953\"],[0.7777777777777778,\"#fb9f3a\"],[0.8888888888888888,\"#fdca26\"],[1.0,\"#f0f921\"]],\"type\":\"surface\"}],\"table\":[{\"cells\":{\"fill\":{\"color\":\"#EBF0F8\"},\"line\":{\"color\":\"white\"}},\"header\":{\"fill\":{\"color\":\"#C8D4E3\"},\"line\":{\"color\":\"white\"}},\"type\":\"table\"}]},\"layout\":{\"annotationdefaults\":{\"arrowcolor\":\"#2a3f5f\",\"arrowhead\":0,\"arrowwidth\":1},\"autotypenumbers\":\"strict\",\"coloraxis\":{\"colorbar\":{\"outlinewidth\":0,\"ticks\":\"\"}},\"colorscale\":{\"diverging\":[[0,\"#8e0152\"],[0.1,\"#c51b7d\"],[0.2,\"#de77ae\"],[0.3,\"#f1b6da\"],[0.4,\"#fde0ef\"],[0.5,\"#f7f7f7\"],[0.6,\"#e6f5d0\"],[0.7,\"#b8e186\"],[0.8,\"#7fbc41\"],[0.9,\"#4d9221\"],[1,\"#276419\"]],\"sequential\":[[0.0,\"#0d0887\"],[0.1111111111111111,\"#46039f\"],[0.2222222222222222,\"#7201a8\"],[0.3333333333333333,\"#9c179e\"],[0.4444444444444444,\"#bd3786\"],[0.5555555555555556,\"#d8576b\"],[0.6666666666666666,\"#ed7953\"],[0.7777777777777778,\"#fb9f3a\"],[0.8888888888888888,\"#fdca26\"],[1.0,\"#f0f921\"]],\"sequentialminus\":[[0.0,\"#0d0887\"],[0.1111111111111111,\"#46039f\"],[0.2222222222222222,\"#7201a8\"],[0.3333333333333333,\"#9c179e\"],[0.4444444444444444,\"#bd3786\"],[0.5555555555555556,\"#d8576b\"],[0.6666666666666666,\"#ed7953\"],[0.7777777777777778,\"#fb9f3a\"],[0.8888888888888888,\"#fdca26\"],[1.0,\"#f0f921\"]]},\"colorway\":[\"#636efa\",\"#EF553B\",\"#00cc96\",\"#ab63fa\",\"#FFA15A\",\"#19d3f3\",\"#FF6692\",\"#B6E880\",\"#FF97FF\",\"#FECB52\"],\"font\":{\"color\":\"#2a3f5f\"},\"geo\":{\"bgcolor\":\"white\",\"lakecolor\":\"white\",\"landcolor\":\"#E5ECF6\",\"showlakes\":true,\"showland\":true,\"subunitcolor\":\"white\"},\"hoverlabel\":{\"align\":\"left\"},\"hovermode\":\"closest\",\"mapbox\":{\"style\":\"light\"},\"paper_bgcolor\":\"white\",\"plot_bgcolor\":\"#E5ECF6\",\"polar\":{\"angularaxis\":{\"gridcolor\":\"white\",\"linecolor\":\"white\",\"ticks\":\"\"},\"bgcolor\":\"#E5ECF6\",\"radialaxis\":{\"gridcolor\":\"white\",\"linecolor\":\"white\",\"ticks\":\"\"}},\"scene\":{\"xaxis\":{\"backgroundcolor\":\"#E5ECF6\",\"gridcolor\":\"white\",\"gridwidth\":2,\"linecolor\":\"white\",\"showbackground\":true,\"ticks\":\"\",\"zerolinecolor\":\"white\"},\"yaxis\":{\"backgroundcolor\":\"#E5ECF6\",\"gridcolor\":\"white\",\"gridwidth\":2,\"linecolor\":\"white\",\"showbackground\":true,\"ticks\":\"\",\"zerolinecolor\":\"white\"},\"zaxis\":{\"backgroundcolor\":\"#E5ECF6\",\"gridcolor\":\"white\",\"gridwidth\":2,\"linecolor\":\"white\",\"showbackground\":true,\"ticks\":\"\",\"zerolinecolor\":\"white\"}},\"shapedefaults\":{\"line\":{\"color\":\"#2a3f5f\"}},\"ternary\":{\"aaxis\":{\"gridcolor\":\"white\",\"linecolor\":\"white\",\"ticks\":\"\"},\"baxis\":{\"gridcolor\":\"white\",\"linecolor\":\"white\",\"ticks\":\"\"},\"bgcolor\":\"#E5ECF6\",\"caxis\":{\"gridcolor\":\"white\",\"linecolor\":\"white\",\"ticks\":\"\"}},\"title\":{\"x\":0.05},\"xaxis\":{\"automargin\":true,\"gridcolor\":\"white\",\"linecolor\":\"white\",\"ticks\":\"\",\"title\":{\"standoff\":15},\"zerolinecolor\":\"white\",\"zerolinewidth\":2},\"yaxis\":{\"automargin\":true,\"gridcolor\":\"white\",\"linecolor\":\"white\",\"ticks\":\"\",\"title\":{\"standoff\":15},\"zerolinecolor\":\"white\",\"zerolinewidth\":2}}},\"xaxis\":{\"anchor\":\"y\",\"domain\":[0.0,1.0],\"title\":{\"text\":\"Date\"},\"showgrid\":false},\"yaxis\":{\"anchor\":\"x\",\"domain\":[0.0,1.0],\"title\":{\"text\":\"Close\"},\"showgrid\":false},\"legend\":{\"tracegroupgap\":0},\"margin\":{\"t\":60},\"title\":{\"text\":\"Whole period of timeframe of Bitcoin close price 2014-2022\"},\"font\":{\"size\":15,\"color\":\"black\"},\"plot_bgcolor\":\"white\"},                        {\"responsive\": true}                    ).then(function(){\n",
              "                            \n",
              "var gd = document.getElementById('fb95763e-d872-4abb-8910-0eb16a68c81e');\n",
              "var x = new MutationObserver(function (mutations, observer) {{\n",
              "        var display = window.getComputedStyle(gd).display;\n",
              "        if (!display || display === 'none') {{\n",
              "            console.log([gd, 'removed!']);\n",
              "            Plotly.purge(gd);\n",
              "            observer.disconnect();\n",
              "        }}\n",
              "}});\n",
              "\n",
              "// Listen for the removal of the full notebook cells\n",
              "var notebookContainer = gd.closest('#notebook-container');\n",
              "if (notebookContainer) {{\n",
              "    x.observe(notebookContainer, {childList: true});\n",
              "}}\n",
              "\n",
              "// Listen for the clearing of the current output cell\n",
              "var outputEl = gd.closest('.output');\n",
              "if (outputEl) {{\n",
              "    x.observe(outputEl, {childList: true});\n",
              "}}\n",
              "\n",
              "                        })                };                            </script>        </div>\n",
              "</body>\n",
              "</html>"
            ]
          },
          "metadata": {}
        }
      ],
      "source": [
        "fig = px.line(closedf, x=closedf.Date, y=closedf.Close,labels={'date':'Date','close':'Close Stock'})\n",
        "fig.update_traces(marker_line_width=2, opacity=0.8, marker_line_color='orange')\n",
        "fig.update_layout(title_text='Whole period of timeframe of Bitcoin close price 2014-2022', plot_bgcolor='white', \n",
        "                  font_size=15, font_color='black')\n",
        "fig.update_xaxes(showgrid=False)\n",
        "fig.update_yaxes(showgrid=False)\n",
        "fig.show()"
      ]
    },
    {
      "cell_type": "code",
      "execution_count": null,
      "metadata": {
        "colab": {
          "base_uri": "https://localhost:8080/"
        },
        "id": "RnW0ZgKFjAHb",
        "outputId": "d982b72f-3e49-412f-bcbc-0453b024245e"
      },
      "outputs": [
        {
          "output_type": "stream",
          "name": "stdout",
          "text": [
            "Shape of close dataframe: (1399, 2)\n"
          ]
        }
      ],
      "source": [
        "\n",
        "# Lets First Take all the Close Price \n",
        "closedf = maindf[['Date','Close']]\n",
        "print(\"Shape of close dataframe:\", closedf.shape)"
      ]
    },
    {
      "cell_type": "code",
      "execution_count": null,
      "metadata": {
        "colab": {
          "base_uri": "https://localhost:8080/",
          "height": 542
        },
        "id": "6TA2vWT1jOb7",
        "outputId": "790c07c8-4105-4c05-dd6c-87bee29d85f9"
      },
      "outputs": [
        {
          "output_type": "display_data",
          "data": {
            "text/html": [
              "<html>\n",
              "<head><meta charset=\"utf-8\" /></head>\n",
              "<body>\n",
              "    <div>            <script src=\"https://cdnjs.cloudflare.com/ajax/libs/mathjax/2.7.5/MathJax.js?config=TeX-AMS-MML_SVG\"></script><script type=\"text/javascript\">if (window.MathJax) {MathJax.Hub.Config({SVG: {font: \"STIX-Web\"}});}</script>                <script type=\"text/javascript\">window.PlotlyConfig = {MathJaxConfig: 'local'};</script>\n",
              "        <script src=\"https://cdn.plot.ly/plotly-2.8.3.min.js\"></script>                <div id=\"98096443-4195-4457-b3d1-97a0934cbb7f\" class=\"plotly-graph-div\" style=\"height:525px; width:100%;\"></div>            <script type=\"text/javascript\">                                    window.PLOTLYENV=window.PLOTLYENV || {};                                    if (document.getElementById(\"98096443-4195-4457-b3d1-97a0934cbb7f\")) {                    Plotly.newPlot(                        \"98096443-4195-4457-b3d1-97a0934cbb7f\",                        [{\"hovertemplate\":\"Date=%{x}<br>Close=%{y}<extra></extra>\",\"legendgroup\":\"\",\"line\":{\"color\":\"#636efa\",\"dash\":\"solid\"},\"marker\":{\"symbol\":\"circle\",\"line\":{\"color\":\"orange\",\"width\":2}},\"mode\":\"lines\",\"name\":\"\",\"showlegend\":false,\"x\":[\"2019-01-01\",\"2019-01-02\",\"2019-01-03\",\"2019-01-04\",\"2019-01-05\",\"2019-01-06\",\"2019-01-07\",\"2019-01-08\",\"2019-01-09\",\"2019-01-10\",\"2019-01-11\",\"2019-01-12\",\"2019-01-13\",\"2019-01-14\",\"2019-01-15\",\"2019-01-16\",\"2019-01-17\",\"2019-01-18\",\"2019-01-19\",\"2019-01-20\",\"2019-01-21\",\"2019-01-22\",\"2019-01-23\",\"2019-01-24\",\"2019-01-25\",\"2019-01-26\",\"2019-01-27\",\"2019-01-28\",\"2019-01-29\",\"2019-01-30\",\"2019-01-31\",\"2019-02-01\",\"2019-02-02\",\"2019-02-03\",\"2019-02-04\",\"2019-02-05\",\"2019-02-06\",\"2019-02-07\",\"2019-02-08\",\"2019-02-09\",\"2019-02-10\",\"2019-02-11\",\"2019-02-12\",\"2019-02-13\",\"2019-02-14\",\"2019-02-15\",\"2019-02-16\",\"2019-02-17\",\"2019-02-18\",\"2019-02-19\",\"2019-02-20\",\"2019-02-21\",\"2019-02-22\",\"2019-02-23\",\"2019-02-24\",\"2019-02-25\",\"2019-02-26\",\"2019-02-27\",\"2019-02-28\",\"2019-03-01\",\"2019-03-02\",\"2019-03-03\",\"2019-03-04\",\"2019-03-05\",\"2019-03-06\",\"2019-03-07\",\"2019-03-08\",\"2019-03-09\",\"2019-03-10\",\"2019-03-11\",\"2019-03-12\",\"2019-03-13\",\"2019-03-14\",\"2019-03-15\",\"2019-03-16\",\"2019-03-17\",\"2019-03-18\",\"2019-03-19\",\"2019-03-20\",\"2019-03-21\",\"2019-03-22\",\"2019-03-23\",\"2019-03-24\",\"2019-03-25\",\"2019-03-26\",\"2019-03-27\",\"2019-03-28\",\"2019-03-29\",\"2019-03-30\",\"2019-03-31\",\"2019-04-01\",\"2019-04-02\",\"2019-04-03\",\"2019-04-04\",\"2019-04-05\",\"2019-04-06\",\"2019-04-07\",\"2019-04-08\",\"2019-04-09\",\"2019-04-10\",\"2019-04-11\",\"2019-04-12\",\"2019-04-13\",\"2019-04-14\",\"2019-04-15\",\"2019-04-16\",\"2019-04-17\",\"2019-04-18\",\"2019-04-19\",\"2019-04-20\",\"2019-04-21\",\"2019-04-22\",\"2019-04-23\",\"2019-04-24\",\"2019-04-25\",\"2019-04-26\",\"2019-04-27\",\"2019-04-28\",\"2019-04-29\",\"2019-04-30\",\"2019-05-01\",\"2019-05-02\",\"2019-05-03\",\"2019-05-04\",\"2019-05-05\",\"2019-05-06\",\"2019-05-07\",\"2019-05-08\",\"2019-05-09\",\"2019-05-10\",\"2019-05-11\",\"2019-05-12\",\"2019-05-13\",\"2019-05-14\",\"2019-05-15\",\"2019-05-16\",\"2019-05-17\",\"2019-05-18\",\"2019-05-19\",\"2019-05-20\",\"2019-05-21\",\"2019-05-22\",\"2019-05-23\",\"2019-05-24\",\"2019-05-25\",\"2019-05-26\",\"2019-05-27\",\"2019-05-28\",\"2019-05-29\",\"2019-05-30\",\"2019-05-31\",\"2019-06-01\",\"2019-06-02\",\"2019-06-03\",\"2019-06-04\",\"2019-06-05\",\"2019-06-06\",\"2019-06-07\",\"2019-06-08\",\"2019-06-09\",\"2019-06-10\",\"2019-06-11\",\"2019-06-12\",\"2019-06-13\",\"2019-06-14\",\"2019-06-15\",\"2019-06-16\",\"2019-06-17\",\"2019-06-18\",\"2019-06-19\",\"2019-06-20\",\"2019-06-21\",\"2019-06-22\",\"2019-06-23\",\"2019-06-24\",\"2019-06-25\",\"2019-06-26\",\"2019-06-27\",\"2019-06-28\",\"2019-06-29\",\"2019-06-30\",\"2019-07-01\",\"2019-07-02\",\"2019-07-03\",\"2019-07-04\",\"2019-07-05\",\"2019-07-06\",\"2019-07-07\",\"2019-07-08\",\"2019-07-09\",\"2019-07-10\",\"2019-07-11\",\"2019-07-12\",\"2019-07-13\",\"2019-07-14\",\"2019-07-15\",\"2019-07-16\",\"2019-07-17\",\"2019-07-18\",\"2019-07-19\",\"2019-07-20\",\"2019-07-21\",\"2019-07-22\",\"2019-07-23\",\"2019-07-24\",\"2019-07-25\",\"2019-07-26\",\"2019-07-27\",\"2019-07-28\",\"2019-07-29\",\"2019-07-30\",\"2019-07-31\",\"2019-08-01\",\"2019-08-02\",\"2019-08-03\",\"2019-08-04\",\"2019-08-05\",\"2019-08-06\",\"2019-08-07\",\"2019-08-08\",\"2019-08-09\",\"2019-08-10\",\"2019-08-11\",\"2019-08-12\",\"2019-08-13\",\"2019-08-14\",\"2019-08-15\",\"2019-08-16\",\"2019-08-17\",\"2019-08-18\",\"2019-08-19\",\"2019-08-20\",\"2019-08-21\",\"2019-08-22\",\"2019-08-23\",\"2019-08-24\",\"2019-08-25\",\"2019-08-26\",\"2019-08-27\",\"2019-08-28\",\"2019-08-29\",\"2019-08-30\",\"2019-08-31\",\"2019-09-01\",\"2019-09-02\",\"2019-09-03\",\"2019-09-04\",\"2019-09-05\",\"2019-09-06\",\"2019-09-07\",\"2019-09-08\",\"2019-09-09\",\"2019-09-10\",\"2019-09-11\",\"2019-09-12\",\"2019-09-13\",\"2019-09-14\",\"2019-09-15\",\"2019-09-16\",\"2019-09-17\",\"2019-09-18\",\"2019-09-19\",\"2019-09-20\",\"2019-09-21\",\"2019-09-22\",\"2019-09-23\",\"2019-09-24\",\"2019-09-25\",\"2019-09-26\",\"2019-09-27\",\"2019-09-28\",\"2019-09-29\",\"2019-09-30\",\"2019-10-01\",\"2019-10-02\",\"2019-10-03\",\"2019-10-04\",\"2019-10-05\",\"2019-10-06\",\"2019-10-07\",\"2019-10-08\",\"2019-10-09\",\"2019-10-10\",\"2019-10-11\",\"2019-10-12\",\"2019-10-13\",\"2019-10-14\",\"2019-10-15\",\"2019-10-16\",\"2019-10-17\",\"2019-10-18\",\"2019-10-19\",\"2019-10-20\",\"2019-10-21\",\"2019-10-22\",\"2019-10-23\",\"2019-10-24\",\"2019-10-25\",\"2019-10-26\",\"2019-10-27\",\"2019-10-28\",\"2019-10-29\",\"2019-10-30\",\"2019-10-31\",\"2019-11-01\",\"2019-11-02\",\"2019-11-03\",\"2019-11-04\",\"2019-11-05\",\"2019-11-06\",\"2019-11-07\",\"2019-11-08\",\"2019-11-09\",\"2019-11-10\",\"2019-11-11\",\"2019-11-12\",\"2019-11-13\",\"2019-11-14\",\"2019-11-15\",\"2019-11-16\",\"2019-11-17\",\"2019-11-18\",\"2019-11-19\",\"2019-11-20\",\"2019-11-21\",\"2019-11-22\",\"2019-11-23\",\"2019-11-24\",\"2019-11-25\",\"2019-11-26\",\"2019-11-27\",\"2019-11-28\",\"2019-11-29\",\"2019-11-30\",\"2019-12-01\",\"2019-12-02\",\"2019-12-03\",\"2019-12-04\",\"2019-12-05\",\"2019-12-06\",\"2019-12-07\",\"2019-12-08\",\"2019-12-09\",\"2019-12-10\",\"2019-12-11\",\"2019-12-12\",\"2019-12-13\",\"2019-12-14\",\"2019-12-15\",\"2019-12-16\",\"2019-12-17\",\"2019-12-18\",\"2019-12-19\",\"2019-12-20\",\"2019-12-21\",\"2019-12-22\",\"2019-12-23\",\"2019-12-24\",\"2019-12-25\",\"2019-12-26\",\"2019-12-27\",\"2019-12-28\",\"2019-12-29\",\"2019-12-30\",\"2019-12-31\",\"2020-01-01\",\"2020-01-02\",\"2020-01-03\",\"2020-01-04\",\"2020-01-05\",\"2020-01-06\",\"2020-01-07\",\"2020-01-08\",\"2020-01-09\",\"2020-01-10\",\"2020-01-11\",\"2020-01-12\",\"2020-01-13\",\"2020-01-14\",\"2020-01-15\",\"2020-01-16\",\"2020-01-17\",\"2020-01-18\",\"2020-01-19\",\"2020-01-20\",\"2020-01-21\",\"2020-01-22\",\"2020-01-23\",\"2020-01-24\",\"2020-01-25\",\"2020-01-26\",\"2020-01-27\",\"2020-01-28\",\"2020-01-29\",\"2020-01-30\",\"2020-01-31\",\"2020-02-01\",\"2020-02-02\",\"2020-02-03\",\"2020-02-04\",\"2020-02-05\",\"2020-02-06\",\"2020-02-07\",\"2020-02-08\",\"2020-02-09\",\"2020-02-10\",\"2020-02-11\",\"2020-02-12\",\"2020-02-13\",\"2020-02-14\",\"2020-02-15\",\"2020-02-16\",\"2020-02-17\",\"2020-02-18\",\"2020-02-19\",\"2020-02-20\",\"2020-02-21\",\"2020-02-22\",\"2020-02-23\",\"2020-02-24\",\"2020-02-25\",\"2020-02-26\",\"2020-02-27\",\"2020-02-28\",\"2020-02-29\",\"2020-03-01\",\"2020-03-02\",\"2020-03-03\",\"2020-03-04\",\"2020-03-05\",\"2020-03-06\",\"2020-03-07\",\"2020-03-08\",\"2020-03-09\",\"2020-03-10\",\"2020-03-11\",\"2020-03-12\",\"2020-03-13\",\"2020-03-14\",\"2020-03-15\",\"2020-03-16\",\"2020-03-17\",\"2020-03-18\",\"2020-03-19\",\"2020-03-20\",\"2020-03-21\",\"2020-03-22\",\"2020-03-23\",\"2020-03-24\",\"2020-03-25\",\"2020-03-26\",\"2020-03-27\",\"2020-03-28\",\"2020-03-29\",\"2020-03-30\",\"2020-03-31\",\"2020-04-01\",\"2020-04-02\",\"2020-04-03\",\"2020-04-04\",\"2020-04-05\",\"2020-04-06\",\"2020-04-07\",\"2020-04-08\",\"2020-04-09\",\"2020-04-10\",\"2020-04-11\",\"2020-04-12\",\"2020-04-13\",\"2020-04-14\",\"2020-04-15\",\"2020-04-16\",\"2020-04-17\",\"2020-04-18\",\"2020-04-19\",\"2020-04-20\",\"2020-04-21\",\"2020-04-22\",\"2020-04-23\",\"2020-04-24\",\"2020-04-25\",\"2020-04-26\",\"2020-04-27\",\"2020-04-28\",\"2020-04-29\",\"2020-04-30\",\"2020-05-01\",\"2020-05-02\",\"2020-05-03\",\"2020-05-04\",\"2020-05-05\",\"2020-05-06\",\"2020-05-07\",\"2020-05-08\",\"2020-05-09\",\"2020-05-10\",\"2020-05-11\",\"2020-05-12\",\"2020-05-13\",\"2020-05-14\",\"2020-05-15\",\"2020-05-16\",\"2020-05-17\",\"2020-05-18\",\"2020-05-19\",\"2020-05-20\",\"2020-05-21\",\"2020-05-22\",\"2020-05-23\",\"2020-05-24\",\"2020-05-25\",\"2020-05-26\",\"2020-05-27\",\"2020-05-28\",\"2020-05-29\",\"2020-05-30\",\"2020-05-31\",\"2020-06-01\",\"2020-06-02\",\"2020-06-03\",\"2020-06-04\",\"2020-06-05\",\"2020-06-06\",\"2020-06-07\",\"2020-06-08\",\"2020-06-09\",\"2020-06-10\",\"2020-06-11\",\"2020-06-12\",\"2020-06-13\",\"2020-06-14\",\"2020-06-15\",\"2020-06-16\",\"2020-06-17\",\"2020-06-18\",\"2020-06-19\",\"2020-06-20\",\"2020-06-21\",\"2020-06-22\",\"2020-06-23\",\"2020-06-24\",\"2020-06-25\",\"2020-06-26\",\"2020-06-27\",\"2020-06-28\",\"2020-06-29\",\"2020-06-30\",\"2020-07-01\",\"2020-07-02\",\"2020-07-03\",\"2020-07-04\",\"2020-07-05\",\"2020-07-06\",\"2020-07-07\",\"2020-07-08\",\"2020-07-09\",\"2020-07-10\",\"2020-07-11\",\"2020-07-12\",\"2020-07-13\",\"2020-07-14\",\"2020-07-15\",\"2020-07-16\",\"2020-07-17\",\"2020-07-18\",\"2020-07-19\",\"2020-07-20\",\"2020-07-21\",\"2020-07-22\",\"2020-07-23\",\"2020-07-24\",\"2020-07-25\",\"2020-07-26\",\"2020-07-27\",\"2020-07-28\",\"2020-07-29\",\"2020-07-30\",\"2020-07-31\",\"2020-08-01\",\"2020-08-02\",\"2020-08-03\",\"2020-08-04\",\"2020-08-05\",\"2020-08-06\",\"2020-08-07\",\"2020-08-08\",\"2020-08-09\",\"2020-08-10\",\"2020-08-11\",\"2020-08-12\",\"2020-08-13\",\"2020-08-14\",\"2020-08-15\",\"2020-08-16\",\"2020-08-17\",\"2020-08-18\",\"2020-08-19\",\"2020-08-20\",\"2020-08-21\",\"2020-08-22\",\"2020-08-23\",\"2020-08-24\",\"2020-08-25\",\"2020-08-26\",\"2020-08-27\",\"2020-08-28\",\"2020-08-29\",\"2020-08-30\",\"2020-08-31\",\"2020-09-01\",\"2020-09-02\",\"2020-09-03\",\"2020-09-04\",\"2020-09-05\",\"2020-09-06\",\"2020-09-07\",\"2020-09-08\",\"2020-09-09\",\"2020-09-10\",\"2020-09-11\",\"2020-09-12\",\"2020-09-13\",\"2020-09-14\",\"2020-09-15\",\"2020-09-16\",\"2020-09-17\",\"2020-09-18\",\"2020-09-19\",\"2020-09-20\",\"2020-09-21\",\"2020-09-22\",\"2020-09-23\",\"2020-09-24\",\"2020-09-25\",\"2020-09-26\",\"2020-09-27\",\"2020-09-28\",\"2020-09-29\",\"2020-09-30\",\"2020-10-01\",\"2020-10-02\",\"2020-10-03\",\"2020-10-04\",\"2020-10-05\",\"2020-10-06\",\"2020-10-07\",\"2020-10-08\",\"2020-10-09\",\"2020-10-10\",\"2020-10-11\",\"2020-10-12\",\"2020-10-13\",\"2020-10-14\",\"2020-10-15\",\"2020-10-16\",\"2020-10-17\",\"2020-10-18\",\"2020-10-19\",\"2020-10-20\",\"2020-10-21\",\"2020-10-22\",\"2020-10-23\",\"2020-10-24\",\"2020-10-25\",\"2020-10-26\",\"2020-10-27\",\"2020-10-28\",\"2020-10-29\",\"2020-10-30\",\"2020-10-31\",\"2020-11-01\",\"2020-11-02\",\"2020-11-03\",\"2020-11-04\",\"2020-11-05\",\"2020-11-06\",\"2020-11-07\",\"2020-11-08\",\"2020-11-09\",\"2020-11-10\",\"2020-11-11\",\"2020-11-12\",\"2020-11-13\",\"2020-11-14\",\"2020-11-15\",\"2020-11-16\",\"2020-11-17\",\"2020-11-18\",\"2020-11-19\",\"2020-11-20\",\"2020-11-21\",\"2020-11-22\",\"2020-11-23\",\"2020-11-24\",\"2020-11-25\",\"2020-11-26\",\"2020-11-27\",\"2020-11-28\",\"2020-11-29\",\"2020-11-30\",\"2020-12-01\",\"2020-12-02\",\"2020-12-03\",\"2020-12-04\",\"2020-12-05\",\"2020-12-06\",\"2020-12-07\",\"2020-12-08\",\"2020-12-09\",\"2020-12-10\",\"2020-12-11\",\"2020-12-12\",\"2020-12-13\",\"2020-12-14\",\"2020-12-15\",\"2020-12-16\",\"2020-12-17\",\"2020-12-18\",\"2020-12-19\",\"2020-12-20\",\"2020-12-21\",\"2020-12-22\",\"2020-12-23\",\"2020-12-24\",\"2020-12-25\",\"2020-12-26\",\"2020-12-27\",\"2020-12-28\",\"2020-12-29\",\"2020-12-30\",\"2020-12-31\",\"2021-01-01\",\"2021-01-02\",\"2021-01-03\",\"2021-01-04\",\"2021-01-05\",\"2021-01-06\",\"2021-01-07\",\"2021-01-08\",\"2021-01-09\",\"2021-01-10\",\"2021-01-11\",\"2021-01-12\",\"2021-01-13\",\"2021-01-14\",\"2021-01-15\",\"2021-01-16\",\"2021-01-17\",\"2021-01-18\",\"2021-01-19\",\"2021-01-20\",\"2021-01-21\",\"2021-01-22\",\"2021-01-23\",\"2021-01-24\",\"2021-01-25\",\"2021-01-26\",\"2021-01-27\",\"2021-01-28\",\"2021-01-29\",\"2021-01-30\",\"2021-01-31\",\"2021-02-01\",\"2021-02-02\",\"2021-02-03\",\"2021-02-04\",\"2021-02-05\",\"2021-02-06\",\"2021-02-07\",\"2021-02-08\",\"2021-02-09\",\"2021-02-10\",\"2021-02-11\",\"2021-02-12\",\"2021-02-13\",\"2021-02-14\",\"2021-02-15\",\"2021-02-16\",\"2021-02-17\",\"2021-02-18\",\"2021-02-19\",\"2021-02-20\",\"2021-02-21\",\"2021-02-22\",\"2021-02-23\",\"2021-02-24\",\"2021-02-25\",\"2021-02-26\",\"2021-02-27\",\"2021-02-28\",\"2021-03-01\",\"2021-03-02\",\"2021-03-03\",\"2021-03-04\",\"2021-03-05\",\"2021-03-06\",\"2021-03-07\",\"2021-03-08\",\"2021-03-09\",\"2021-03-10\",\"2021-03-11\",\"2021-03-12\",\"2021-03-13\",\"2021-03-14\",\"2021-03-15\",\"2021-03-16\",\"2021-03-17\",\"2021-03-18\",\"2021-03-19\",\"2021-03-20\",\"2021-03-21\",\"2021-03-22\",\"2021-03-23\",\"2021-03-24\",\"2021-03-25\",\"2021-03-26\",\"2021-03-27\",\"2021-03-28\",\"2021-03-29\",\"2021-03-30\",\"2021-03-31\",\"2021-04-01\",\"2021-04-02\",\"2021-04-03\",\"2021-04-04\",\"2021-04-05\",\"2021-04-06\",\"2021-04-07\",\"2021-04-08\",\"2021-04-09\",\"2021-04-10\",\"2021-04-11\",\"2021-04-12\",\"2021-04-13\",\"2021-04-14\",\"2021-04-15\",\"2021-04-16\",\"2021-04-17\",\"2021-04-18\",\"2021-04-19\",\"2021-04-20\",\"2021-04-21\",\"2021-04-22\",\"2021-04-23\",\"2021-04-24\",\"2021-04-25\",\"2021-04-26\",\"2021-04-27\",\"2021-04-28\",\"2021-04-29\",\"2021-04-30\",\"2021-05-01\",\"2021-05-02\",\"2021-05-03\",\"2021-05-04\",\"2021-05-05\",\"2021-05-06\",\"2021-05-07\",\"2021-05-08\",\"2021-05-09\",\"2021-05-10\",\"2021-05-11\",\"2021-05-12\",\"2021-05-13\",\"2021-05-14\",\"2021-05-15\",\"2021-05-16\",\"2021-05-17\",\"2021-05-18\",\"2021-05-19\",\"2021-05-20\",\"2021-05-21\",\"2021-05-22\",\"2021-05-23\",\"2021-05-24\",\"2021-05-25\",\"2021-05-26\",\"2021-05-27\",\"2021-05-28\",\"2021-05-29\",\"2021-05-30\",\"2021-05-31\",\"2021-06-01\",\"2021-06-02\",\"2021-06-03\",\"2021-06-04\",\"2021-06-05\",\"2021-06-06\",\"2021-06-07\",\"2021-06-08\",\"2021-06-09\",\"2021-06-10\",\"2021-06-11\",\"2021-06-12\",\"2021-06-13\",\"2021-06-14\",\"2021-06-15\",\"2021-06-16\",\"2021-06-17\",\"2021-06-18\",\"2021-06-19\",\"2021-06-20\",\"2021-06-21\",\"2021-06-22\",\"2021-06-23\",\"2021-06-24\",\"2021-06-25\",\"2021-06-26\",\"2021-06-27\",\"2021-06-28\",\"2021-06-29\",\"2021-06-30\",\"2021-07-01\",\"2021-07-02\",\"2021-07-03\",\"2021-07-04\",\"2021-07-05\",\"2021-07-06\",\"2021-07-07\",\"2021-07-08\",\"2021-07-09\",\"2021-07-10\",\"2021-07-11\",\"2021-07-12\",\"2021-07-13\",\"2021-07-14\",\"2021-07-15\",\"2021-07-16\",\"2021-07-17\",\"2021-07-18\",\"2021-07-19\",\"2021-07-20\",\"2021-07-21\",\"2021-07-22\",\"2021-07-23\",\"2021-07-24\",\"2021-07-25\",\"2021-07-26\",\"2021-07-27\",\"2021-07-28\",\"2021-07-29\",\"2021-07-30\",\"2021-07-31\",\"2021-08-01\",\"2021-08-02\",\"2021-08-03\",\"2021-08-04\",\"2021-08-05\",\"2021-08-06\",\"2021-08-07\",\"2021-08-08\",\"2021-08-09\",\"2021-08-10\",\"2021-08-11\",\"2021-08-12\",\"2021-08-13\",\"2021-08-14\",\"2021-08-15\",\"2021-08-16\",\"2021-08-17\",\"2021-08-18\",\"2021-08-19\",\"2021-08-20\",\"2021-08-21\",\"2021-08-22\",\"2021-08-23\",\"2021-08-24\",\"2021-08-25\",\"2021-08-26\",\"2021-08-27\",\"2021-08-28\",\"2021-08-29\",\"2021-08-30\",\"2021-08-31\",\"2021-09-01\",\"2021-09-02\",\"2021-09-03\",\"2021-09-04\",\"2021-09-05\",\"2021-09-06\",\"2021-09-07\",\"2021-09-08\",\"2021-09-09\",\"2021-09-10\",\"2021-09-11\",\"2021-09-12\",\"2021-09-13\",\"2021-09-14\",\"2021-09-15\",\"2021-09-16\",\"2021-09-17\",\"2021-09-18\",\"2021-09-19\",\"2021-09-20\",\"2021-09-21\",\"2021-09-22\",\"2021-09-23\",\"2021-09-24\",\"2021-09-25\",\"2021-09-26\",\"2021-09-27\",\"2021-09-28\",\"2021-09-29\",\"2021-09-30\",\"2021-10-01\",\"2021-10-02\",\"2021-10-03\",\"2021-10-04\",\"2021-10-05\",\"2021-10-06\",\"2021-10-07\",\"2021-10-08\",\"2021-10-09\",\"2021-10-10\",\"2021-10-11\",\"2021-10-12\",\"2021-10-13\",\"2021-10-14\",\"2021-10-15\",\"2021-10-16\",\"2021-10-17\",\"2021-10-18\",\"2021-10-19\",\"2021-10-20\",\"2021-10-21\",\"2021-10-22\",\"2021-10-23\",\"2021-10-24\",\"2021-10-25\",\"2021-10-26\",\"2021-10-27\",\"2021-10-28\",\"2021-10-29\",\"2021-10-30\",\"2021-10-31\",\"2021-11-01\",\"2021-11-02\",\"2021-11-03\",\"2021-11-04\",\"2021-11-05\",\"2021-11-06\",\"2021-11-07\",\"2021-11-08\",\"2021-11-09\",\"2021-11-10\",\"2021-11-11\",\"2021-11-12\",\"2021-11-13\",\"2021-11-14\",\"2021-11-15\",\"2021-11-16\",\"2021-11-17\",\"2021-11-18\",\"2021-11-19\",\"2021-11-20\",\"2021-11-21\",\"2021-11-22\",\"2021-11-23\",\"2021-11-24\",\"2021-11-25\",\"2021-11-26\",\"2021-11-27\",\"2021-11-28\",\"2021-11-29\",\"2021-11-30\",\"2021-12-01\",\"2021-12-02\",\"2021-12-03\",\"2021-12-04\",\"2021-12-05\",\"2021-12-06\",\"2021-12-07\",\"2021-12-08\",\"2021-12-09\",\"2021-12-10\",\"2021-12-11\",\"2021-12-12\",\"2021-12-13\",\"2021-12-14\",\"2021-12-15\",\"2021-12-16\",\"2021-12-17\",\"2021-12-18\",\"2021-12-19\",\"2021-12-20\",\"2021-12-21\",\"2021-12-22\",\"2021-12-23\",\"2021-12-24\",\"2021-12-25\",\"2021-12-26\",\"2021-12-27\",\"2021-12-28\",\"2021-12-29\",\"2021-12-30\",\"2021-12-31\",\"2022-01-01\",\"2022-01-02\",\"2022-01-03\",\"2022-01-04\",\"2022-01-05\",\"2022-01-06\",\"2022-01-07\",\"2022-01-08\",\"2022-01-09\",\"2022-01-10\",\"2022-01-11\",\"2022-01-12\",\"2022-01-13\",\"2022-01-14\",\"2022-01-15\",\"2022-01-16\",\"2022-01-17\",\"2022-01-18\",\"2022-01-19\",\"2022-01-20\",\"2022-01-21\",\"2022-01-22\",\"2022-01-23\",\"2022-01-24\",\"2022-01-25\",\"2022-01-26\",\"2022-01-27\",\"2022-01-28\",\"2022-01-29\",\"2022-01-30\",\"2022-01-31\",\"2022-02-01\",\"2022-02-02\",\"2022-02-03\",\"2022-02-04\",\"2022-02-05\",\"2022-02-06\",\"2022-02-07\",\"2022-02-08\",\"2022-02-09\",\"2022-02-10\",\"2022-02-11\",\"2022-02-12\",\"2022-02-13\",\"2022-02-14\",\"2022-02-15\",\"2022-02-16\",\"2022-02-17\",\"2022-02-18\",\"2022-02-19\",\"2022-02-20\",\"2022-02-21\",\"2022-02-22\",\"2022-02-23\",\"2022-02-24\",\"2022-02-25\",\"2022-02-26\",\"2022-02-27\",\"2022-02-28\",\"2022-03-01\",\"2022-03-02\",\"2022-03-03\",\"2022-03-04\",\"2022-03-05\",\"2022-03-06\",\"2022-03-07\",\"2022-03-08\",\"2022-03-09\",\"2022-03-10\",\"2022-03-11\",\"2022-03-12\",\"2022-03-13\",\"2022-03-14\",\"2022-03-15\",\"2022-03-16\",\"2022-03-17\",\"2022-03-18\",\"2022-03-19\",\"2022-03-20\",\"2022-03-21\",\"2022-03-22\",\"2022-03-23\",\"2022-03-24\",\"2022-03-25\",\"2022-03-26\",\"2022-03-27\",\"2022-03-28\",\"2022-03-29\",\"2022-03-30\",\"2022-03-31\",\"2022-04-01\",\"2022-04-02\",\"2022-04-03\",\"2022-04-04\",\"2022-04-05\",\"2022-04-06\",\"2022-04-07\",\"2022-04-08\",\"2022-04-09\",\"2022-04-10\",\"2022-04-11\",\"2022-04-12\",\"2022-04-13\",\"2022-04-14\",\"2022-04-15\",\"2022-04-16\",\"2022-04-17\",\"2022-04-18\",\"2022-04-19\",\"2022-04-20\",\"2022-04-21\",\"2022-04-22\",\"2022-04-23\",\"2022-04-24\",\"2022-04-25\",\"2022-04-26\",\"2022-04-27\",\"2022-04-28\",\"2022-04-29\",\"2022-04-30\",\"2022-05-01\",\"2022-05-02\",\"2022-05-03\",\"2022-05-04\",\"2022-05-05\",\"2022-05-06\",\"2022-05-07\",\"2022-05-08\",\"2022-05-09\",\"2022-05-10\",\"2022-05-11\",\"2022-05-12\",\"2022-05-13\",\"2022-05-14\",\"2022-05-15\",\"2022-05-16\",\"2022-05-17\",\"2022-05-18\",\"2022-05-19\",\"2022-05-20\",\"2022-05-21\",\"2022-05-22\",\"2022-05-23\",\"2022-05-24\",\"2022-05-25\",\"2022-05-26\",\"2022-05-27\",\"2022-05-28\",\"2022-05-29\",\"2022-05-30\",\"2022-05-31\",\"2022-06-01\",\"2022-06-02\",\"2022-06-03\",\"2022-06-04\",\"2022-06-05\",\"2022-06-06\",\"2022-06-07\",\"2022-06-08\",\"2022-06-09\",\"2022-06-10\",\"2022-06-11\",\"2022-06-12\",\"2022-06-13\",\"2022-06-14\",\"2022-06-15\",\"2022-06-16\",\"2022-06-17\",\"2022-06-18\",\"2022-06-19\",\"2022-06-20\",\"2022-06-21\",\"2022-06-22\",\"2022-06-23\",\"2022-06-24\",\"2022-06-25\",\"2022-06-26\",\"2022-06-27\",\"2022-06-28\",\"2022-06-29\",\"2022-06-30\",\"2022-07-01\",\"2022-07-02\",\"2022-07-03\",\"2022-07-04\",\"2022-07-05\",\"2022-07-06\",\"2022-07-07\",\"2022-07-08\",\"2022-07-09\",\"2022-07-10\",\"2022-07-11\",\"2022-07-12\",\"2022-07-13\",\"2022-07-14\",\"2022-07-15\",\"2022-07-16\",\"2022-07-17\",\"2022-07-18\",\"2022-07-19\",\"2022-07-20\",\"2022-07-21\",\"2022-07-22\",\"2022-07-23\",\"2022-07-24\",\"2022-07-25\",\"2022-07-26\",\"2022-07-27\",\"2022-07-28\",\"2022-07-29\",\"2022-07-30\",\"2022-07-31\",\"2022-08-01\",\"2022-08-02\",\"2022-08-03\",\"2022-08-04\",\"2022-08-05\",\"2022-08-06\",\"2022-08-07\",\"2022-08-08\",\"2022-08-09\",\"2022-08-10\",\"2022-08-11\",\"2022-08-12\",\"2022-08-13\",\"2022-08-14\",\"2022-08-15\",\"2022-08-16\",\"2022-08-17\",\"2022-08-18\",\"2022-08-19\",\"2022-08-20\",\"2022-08-21\",\"2022-08-22\",\"2022-08-23\",\"2022-08-24\",\"2022-08-25\",\"2022-08-26\",\"2022-08-27\",\"2022-08-28\",\"2022-08-29\",\"2022-08-30\",\"2022-08-31\",\"2022-09-01\",\"2022-09-02\",\"2022-09-03\",\"2022-09-04\",\"2022-09-05\",\"2022-09-06\",\"2022-09-07\",\"2022-09-08\",\"2022-09-09\",\"2022-09-10\",\"2022-09-11\",\"2022-09-12\",\"2022-09-13\",\"2022-09-14\",\"2022-09-15\",\"2022-09-16\",\"2022-09-17\",\"2022-09-18\",\"2022-09-19\",\"2022-09-20\",\"2022-09-21\",\"2022-09-22\",\"2022-09-23\",\"2022-09-24\",\"2022-09-25\",\"2022-09-26\",\"2022-09-27\",\"2022-09-28\",\"2022-09-29\",\"2022-09-30\",\"2022-10-01\",\"2022-10-02\",\"2022-10-03\",\"2022-10-04\",\"2022-10-05\",\"2022-10-06\",\"2022-10-07\",\"2022-10-08\",\"2022-10-09\",\"2022-10-10\",\"2022-10-11\",\"2022-10-12\",\"2022-10-13\",\"2022-10-14\",\"2022-10-15\",\"2022-10-16\",\"2022-10-17\",\"2022-10-18\",\"2022-10-19\",\"2022-10-20\",\"2022-10-21\",\"2022-10-22\",\"2022-10-23\",\"2022-10-24\",\"2022-10-25\",\"2022-10-26\",\"2022-10-27\",\"2022-10-28\",\"2022-10-29\",\"2022-10-30\"],\"xaxis\":\"x\",\"y\":[3843.52002,3943.409424,3836.741211,3857.717529,3845.19458,4076.632568,4025.248291,4030.8479,4035.296387,3678.924561,3687.365479,3661.301025,3552.953125,3706.052246,3630.675293,3655.006836,3678.563965,3657.839355,3728.568359,3601.013672,3576.032471,3604.577148,3585.123047,3600.865479,3599.765869,3602.460449,3583.96582,3470.450439,3448.116943,3486.181641,3457.792725,3487.945313,3521.060791,3464.013428,3459.154053,3466.357422,3413.767822,3399.47168,3666.780273,3671.203613,3690.188232,3648.430664,3653.528564,3632.070557,3616.880859,3620.810791,3629.787598,3673.836182,3915.714355,3947.094482,3999.820557,3954.118164,4005.526611,4142.526855,3810.42749,3882.696289,3854.35791,3851.047363,3854.7854,3859.58374,3864.415039,3847.175781,3761.557129,3896.375,3903.942627,3911.484375,3901.131592,3963.313721,3951.599854,3905.227295,3909.15625,3906.717285,3924.369141,3960.911133,4048.72583,4025.229004,4032.507324,4071.190186,4087.476318,4029.326904,4023.968262,4035.826416,4022.168213,3963.070557,3985.080811,4087.066162,4069.107178,4098.374512,4106.660156,4105.404297,4158.183105,4879.87793,4973.021973,4922.798828,5036.681152,5059.817383,5198.896973,5289.770996,5204.958496,5324.551758,5064.487793,5089.539063,5096.586426,5167.722168,5067.108398,5235.55957,5251.937988,5298.385742,5303.8125,5337.88623,5314.53125,5399.365234,5572.362305,5464.866699,5210.515625,5279.348145,5268.291016,5285.13916,5247.352539,5350.726563,5402.697266,5505.283691,5768.289551,5831.16748,5795.708496,5746.807129,5829.501465,5982.45752,6174.528809,6378.849121,7204.771484,6972.371582,7814.915039,7994.416016,8205.167969,7884.90918,7343.895508,7271.208008,8197.689453,7978.309082,7963.327637,7680.066406,7881.84668,7987.371582,8052.543945,8673.21582,8805.77832,8719.961914,8659.487305,8319.472656,8574.501953,8564.016602,8742.958008,8208.995117,7707.770996,7824.231445,7822.023438,8043.951172,7954.12793,7688.077148,8000.32959,7927.714355,8145.857422,8230.923828,8693.833008,8838.375,8994.488281,9320.352539,9081.762695,9273.521484,9527.160156,10144.556641,10701.691406,10855.371094,11011.102539,11790.916992,13016.231445,11182.806641,12407.332031,11959.371094,10817.155273,10583.134766,10801.677734,11961.269531,11215.4375,10978.459961,11208.550781,11450.84668,12285.958008,12573.8125,12156.512695,11358.662109,11815.986328,11392.378906,10256.058594,10895.089844,9477.641602,9693.802734,10666.482422,10530.732422,10767.139648,10599.105469,10343.106445,9900.767578,9811.925781,9911.841797,9870.303711,9477.677734,9552.860352,9519.145508,9607.423828,10085.62793,10399.668945,10518.174805,10821.726563,10970.18457,11805.65332,11478.168945,11941.96875,11966.407227,11862.936523,11354.024414,11523.579102,11382.616211,10895.830078,10051.704102,10311.545898,10374.338867,10231.744141,10345.810547,10916.053711,10763.232422,10138.049805,10131.055664,10407.964844,10159.960938,10138.517578,10370.820313,10185.5,9754.422852,9510.200195,9598.173828,9630.664063,9757.970703,10346.760742,10623.540039,10594.493164,10575.533203,10353.302734,10517.254883,10441.276367,10334.974609,10115.975586,10178.37207,10410.126953,10360.546875,10358.048828,10347.712891,10276.793945,10241.272461,10198.248047,10266.415039,10181.641602,10019.716797,10070.392578,9729.324219,8620.566406,8486.993164,8118.967773,8251.845703,8245.915039,8104.185547,8293.868164,8343.276367,8393.041992,8259.992188,8205.939453,8151.500488,7988.155762,8245.623047,8228.783203,8595.740234,8586.473633,8321.756836,8336.555664,8321.005859,8374.686523,8205.369141,8047.526855,8103.911133,7973.20752,7988.560547,8222.078125,8243.720703,8078.203125,7514.671875,7493.48877,8660.700195,9244.972656,9551.714844,9256.148438,9427.6875,9205.726563,9199.584961,9261.104492,9324.717773,9235.354492,9412.612305,9342.527344,9360.879883,9267.561523,8804.880859,8813.582031,9055.526367,8757.788086,8815.662109,8808.262695,8708.094727,8491.992188,8550.760742,8577.975586,8309.286133,8206.145508,8027.268066,7642.75,7296.577637,7397.796875,7047.916992,7146.133789,7218.371094,7531.663574,7463.105957,7761.243652,7569.629883,7424.29248,7321.988281,7320.145508,7252.034668,7448.307617,7546.996582,7556.237793,7564.345215,7400.899414,7278.119629,7217.427246,7243.134277,7269.68457,7124.673828,7152.301758,6932.480469,6640.515137,7276.802734,7202.844238,7218.816406,7191.158691,7511.588867,7355.628418,7322.532227,7275.155762,7238.966797,7290.088379,7317.990234,7422.652832,7292.995117,7193.599121,7200.174316,6985.470215,7344.884277,7410.656738,7411.317383,7769.219238,8163.692383,8079.862793,7879.071289,8166.554199,8037.537598,8192.494141,8144.194336,8827.764648,8807.010742,8723.786133,8929.038086,8942.808594,8706.245117,8657.642578,8745.894531,8680.875977,8406.515625,8445.43457,8367.847656,8596.830078,8909.819336,9358.589844,9316.629883,9508.993164,9350.529297,9392.875,9344.365234,9293.521484,9180.962891,9613.423828,9729.801758,9795.943359,9865.119141,10116.673828,9856.611328,10208.236328,10326.054688,10214.379883,10312.116211,9889.424805,9934.433594,9690.142578,10141.996094,9633.386719,9608.475586,9686.441406,9663.181641,9924.515625,9650.174805,9341.705078,8820.522461,8784.494141,8672.455078,8599.508789,8562.454102,8869.669922,8787.786133,8755.246094,9078.762695,9122.545898,8909.954102,8108.116211,7923.644531,7909.729492,7911.430176,4970.788086,5563.707031,5200.366211,5392.314941,5014.47998,5225.629395,5238.438477,6191.192871,6198.77832,6185.066406,5830.254883,6416.314941,6734.803711,6681.062988,6716.44043,6469.79834,6242.193848,5922.042969,6429.841797,6438.644531,6606.776367,6793.624512,6733.387207,6867.527344,6791.129395,7271.78125,7176.414551,7334.098633,7302.089355,6865.493164,6859.083008,6971.091797,6845.037598,6842.427734,6642.109863,7116.804199,7096.18457,7257.665039,7189.424805,6881.958496,6880.323242,7117.20752,7429.724609,7550.900879,7569.936035,7679.867188,7795.601074,7807.058594,8801.038086,8658.553711,8864.766602,8988.59668,8897.46875,8912.654297,9003.070313,9268.761719,9951.518555,9842.666016,9593.896484,8756.430664,8601.795898,8804.477539,9269.987305,9733.72168,9328.197266,9377.013672,9670.739258,9726.575195,9729.038086,9522.981445,9081.761719,9182.577148,9209.287109,8790.368164,8906.93457,8835.052734,9181.017578,9525.750977,9439.124023,9700.414063,9461.058594,10167.268555,9529.803711,9656.717773,9800.636719,9665.533203,9653.679688,9758.852539,9771.489258,9795.700195,9870.094727,9321.78125,9480.84375,9475.277344,9386.788086,9450.702148,9538.024414,9480.254883,9411.84082,9288.018555,9332.34082,9303.629883,9648.717773,9629.658203,9313.610352,9264.813477,9162.917969,9045.390625,9143.582031,9190.854492,9137.993164,9228.325195,9123.410156,9087.303711,9132.488281,9073.942383,9375.474609,9252.277344,9428.333008,9277.967773,9278.807617,9240.34668,9276.5,9243.614258,9243.213867,9192.836914,9132.227539,9151.392578,9159.040039,9185.817383,9164.231445,9374.887695,9525.363281,9581.072266,9536.892578,9677.113281,9905.166992,10990.873047,10912.823242,11100.467773,11111.213867,11323.466797,11759.592773,11053.614258,11246.348633,11205.892578,11747.022461,11779.773438,11601.472656,11754.045898,11675.739258,11878.111328,11410.525391,11584.93457,11784.137695,11768.871094,11865.698242,11892.803711,12254.402344,11991.233398,11758.283203,11878.37207,11592.489258,11681.825195,11664.847656,11774.595703,11366.134766,11488.363281,11323.397461,11542.5,11506.865234,11711.505859,11680.820313,11970.478516,11414.03418,10245.296875,10511.813477,10169.567383,10280.351563,10369.563477,10131.516602,10242.347656,10363.138672,10400.915039,10442.170898,10323.755859,10680.837891,10796.951172,10974.905273,10948.990234,10944.585938,11094.34668,10938.271484,10462.259766,10538.459961,10246.186523,10760.066406,10692.716797,10750.723633,10775.269531,10709.652344,10844.640625,10784.491211,10619.452148,10575.974609,10549.329102,10669.583008,10793.339844,10604.40625,10668.96875,10915.685547,11064.458008,11296.361328,11384.181641,11555.363281,11425.899414,11429.506836,11495.349609,11322.123047,11358.101563,11483.359375,11742.037109,11916.334961,12823.689453,12965.891602,12931.539063,13108.0625,13031.173828,13075.248047,13654.21875,13271.285156,13437.882813,13546.522461,13780.995117,13737.109375,13550.489258,13950.300781,14133.707031,15579.848633,15565.880859,14833.753906,15479.567383,15332.31543,15290.902344,15701.339844,16276.34375,16317.808594,16068.138672,15955.587891,16716.111328,17645.40625,17804.005859,17817.089844,18621.314453,18642.232422,18370.001953,18364.121094,19107.464844,18732.121094,17150.623047,17108.402344,17717.414063,18177.484375,19625.835938,18802.998047,19201.091797,19445.398438,18699.765625,19154.230469,19345.121094,19191.630859,18321.144531,18553.916016,18264.992188,18058.904297,18803.65625,19142.382813,19246.644531,19417.076172,21310.597656,22805.162109,23137.960938,23869.832031,23477.294922,22803.082031,23783.029297,23241.345703,23735.949219,24664.791016,26437.037109,26272.294922,27084.808594,27362.4375,28840.953125,29001.720703,29374.152344,32127.267578,32782.023438,31971.914063,33992.429688,36824.363281,39371.042969,40797.609375,40254.546875,38356.441406,35566.65625,33922.960938,37316.359375,39187.328125,36825.367188,36178.140625,35791.277344,36630.074219,36069.804688,35547.75,30825.699219,33005.761719,32067.642578,32289.378906,32366.392578,32569.849609,30432.546875,33466.097656,34316.386719,34269.523438,33114.359375,33537.175781,35510.289063,37472.089844,36926.066406,38144.308594,39266.011719,38903.441406,46196.464844,46481.105469,44918.183594,47909.332031,47504.851563,47105.515625,48717.289063,47945.058594,49199.871094,52149.007813,51679.796875,55888.132813,56099.519531,57539.945313,54207.320313,48824.425781,49705.332031,47093.851563,46339.761719,46188.453125,45137.769531,49631.242188,48378.988281,50538.242188,48561.167969,48927.304688,48912.382813,51206.691406,52246.523438,54824.117188,56008.550781,57805.121094,57332.089844,61243.085938,59302.316406,55907.199219,56804.902344,58870.894531,57858.921875,58346.652344,58313.644531,57523.421875,54529.144531,54738.945313,52774.265625,51704.160156,55137.3125,55973.511719,55950.746094,57750.199219,58917.691406,58918.832031,59095.808594,59384.3125,57603.890625,58758.554688,59057.878906,58192.359375,56048.9375,58323.953125,58245.003906,59793.234375,60204.964844,59893.453125,63503.457031,63109.695313,63314.011719,61572.789063,60683.820313,56216.183594,55724.265625,56473.03125,53906.089844,51762.273438,51093.652344,50050.867188,49004.253906,54021.753906,55033.117188,54824.703125,53555.109375,57750.175781,57828.050781,56631.078125,57200.292969,53333.539063,57424.007813,56396.515625,57356.402344,58803.777344,58232.316406,55859.796875,56704.574219,49150.535156,49716.191406,49880.535156,46760.1875,46456.058594,43537.511719,42909.402344,37002.441406,40782.738281,37304.691406,37536.632813,34770.582031,38705.980469,38402.222656,39294.199219,38436.96875,35697.605469,34616.066406,35678.128906,37332.855469,36684.925781,37575.179688,39208.765625,36894.40625,35551.957031,35862.378906,33560.707031,33472.632813,37345.121094,36702.597656,37334.398438,35552.515625,39097.859375,40218.476563,40406.269531,38347.0625,38053.503906,35787.246094,35615.871094,35698.296875,31676.693359,32505.660156,33723.027344,34662.4375,31637.779297,32186.277344,34649.644531,34434.335938,35867.777344,35040.835938,33572.117188,33897.046875,34668.546875,35287.78125,33746.003906,34235.195313,33855.328125,32877.371094,33798.011719,33520.519531,34240.1875,33155.847656,32702.025391,32822.347656,31780.730469,31421.539063,31533.068359,31796.810547,30817.832031,29807.347656,32110.693359,32313.105469,33581.550781,34292.445313,35350.1875,37337.535156,39406.941406,39995.90625,40008.421875,42235.546875,41626.195313,39974.894531,39201.945313,38152.980469,39747.503906,40869.554688,42816.5,44555.800781,43798.117188,46365.402344,45585.03125,45593.636719,44428.289063,47793.320313,47096.945313,47047.003906,46004.484375,44695.359375,44801.1875,46717.578125,49339.175781,48905.492188,49321.652344,49546.148438,47706.117188,48960.789063,46942.21875,49058.667969,48902.402344,48829.832031,47054.984375,47166.6875,48847.027344,49327.722656,50025.375,49944.625,51753.410156,52633.535156,46811.128906,46091.390625,46391.421875,44883.910156,45201.457031,46063.269531,44963.074219,47092.492188,48176.347656,47783.359375,47267.519531,48278.363281,47260.21875,42843.800781,40693.675781,43574.507813,44895.097656,42839.75,42716.59375,43208.539063,42235.730469,41034.542969,41564.363281,43790.894531,48116.941406,47711.488281,48199.953125,49112.902344,51514.8125,55361.449219,53805.984375,53967.847656,54968.222656,54771.578125,57484.789063,56041.058594,57401.097656,57321.523438,61593.949219,60892.179688,61553.617188,62026.078125,64261.992188,65992.835938,62210.171875,60692.265625,61393.617188,60930.835938,63039.824219,60363.792969,58482.386719,60622.136719,62227.964844,61888.832031,61318.957031,61004.40625,63226.402344,62970.046875,61452.230469,61125.675781,61527.480469,63326.988281,67566.828125,66971.828125,64995.230469,64949.960938,64155.941406,64469.527344,65466.839844,63557.871094,60161.246094,60368.011719,56942.136719,58119.578125,59697.195313,58730.476563,56289.289063,57569.074219,56280.425781,57274.679688,53569.765625,54815.078125,57248.457031,57806.566406,57005.425781,57229.828125,56477.816406,53598.246094,49200.703125,49368.847656,50582.625,50700.085938,50504.796875,47672.121094,47243.304688,49362.507813,50098.335938,46737.480469,46612.632813,48896.722656,47665.425781,46202.144531,46848.777344,46707.015625,46880.277344,48936.613281,48628.511719,50784.539063,50822.195313,50429.859375,50809.515625,50640.417969,47588.855469,46444.710938,47178.125,46306.445313,47686.8125,47345.21875,46458.117188,45897.574219,43569.003906,43160.929688,41557.902344,41733.941406,41911.601563,41821.261719,42735.855469,43949.101563,42591.570313,43099.699219,43177.398438,43113.878906,42250.550781,42375.632813,41744.328125,40680.417969,36457.316406,35030.25,36276.804688,36654.328125,36954.003906,36852.121094,37138.234375,37784.332031,38138.179688,37917.601563,38483.125,38743.273438,36952.984375,37154.601563,41500.875,41441.164063,42412.433594,43840.285156,44118.445313,44338.796875,43565.113281,42407.9375,42244.46875,42197.515625,42586.917969,44575.203125,43961.859375,40538.011719,40030.976563,40122.15625,38431.378906,37075.28125,38286.027344,37296.570313,38332.609375,39214.21875,39105.148438,37709.785156,43193.234375,44354.636719,43924.117188,42451.789063,39137.605469,39400.585938,38419.984375,38062.039063,38737.269531,41982.925781,39437.460938,38794.972656,38904.011719,37849.664063,39666.753906,39338.785156,41143.929688,40951.378906,41801.15625,42190.652344,41247.824219,41077.996094,42358.808594,42892.957031,43960.933594,44348.730469,44500.828125,46820.492188,47128.003906,47465.730469,47062.664063,45538.675781,46281.644531,45868.949219,46453.566406,46622.675781,45555.992188,43206.738281,43503.847656,42287.664063,42782.136719,42207.671875,39521.902344,40127.183594,41166.730469,39935.515625,40553.464844,40424.484375,39716.953125,40826.214844,41502.75,41374.378906,40527.363281,39740.320313,39486.730469,39469.292969,40458.308594,38117.460938,39241.121094,39773.828125,38609.824219,37714.875,38469.09375,38529.328125,37750.453125,39698.371094,36575.140625,36040.921875,35501.953125,34059.265625,30296.953125,31022.90625,28936.355469,29047.751953,29283.103516,30101.265625,31305.113281,29862.917969,30425.857422,28720.271484,30314.333984,29200.740234,29432.226563,30323.722656,29098.910156,29655.585938,29562.361328,29267.224609,28627.574219,28814.900391,29445.957031,31726.390625,31792.310547,29799.080078,30467.488281,29704.390625,29832.914063,29906.662109,31370.671875,31155.478516,30214.355469,30111.998047,29083.804688,28360.810547,26762.648438,22487.388672,22206.792969,22572.839844,20381.650391,20471.482422,19017.642578,20553.271484,20599.537109,20710.597656,19987.029297,21085.876953,21231.65625,21502.337891,21027.294922,20735.478516,20280.634766,20104.023438,19784.726563,19269.367188,19242.255859,19297.076172,20231.261719,20190.115234,20548.246094,21637.587891,21731.117188,21592.207031,20860.449219,19970.556641,19323.914063,20212.074219,20569.919922,20836.328125,21190.316406,20779.34375,22485.689453,23389.433594,23231.732422,23164.628906,22714.978516,22465.478516,22609.164063,21361.701172,21239.753906,22930.548828,23843.886719,23804.632813,23656.207031,23336.896484,23314.199219,22978.117188,22846.507813,22630.957031,23289.314453,22961.279297,23175.890625,23809.486328,23164.318359,23947.642578,23957.529297,24402.818359,24424.068359,24319.333984,24136.972656,23883.291016,23335.998047,23212.738281,20877.552734,21166.060547,21534.121094,21398.908203,21528.087891,21395.019531,21600.904297,20260.019531,20041.738281,19616.814453,20297.994141,19796.808594,20049.763672,20127.140625,19969.771484,19832.087891,19986.712891,19812.371094,18837.667969,19290.324219,19329.833984,21381.152344,21680.539063,21769.255859,22370.449219,20296.707031,20241.089844,19701.210938,19772.583984,20127.576172,19419.505859,19544.128906,18890.789063,18547.400391,19413.550781,19297.638672,18937.011719,18802.097656,19222.671875,19110.546875,19426.720703,19573.050781,19431.789063,19312.095703,19044.107422,19623.580078,20336.84375,20160.716797,19955.443359,19546.849609,19416.568359,19446.425781,19141.484375,19051.417969,19157.445313,19382.904297,19185.65625,19067.634766,19268.09375,19550.757813,19334.416016,19139.535156,19053.740234,19172.46875,19208.189453,19567.007813,19345.572266,20095.857422,20770.441406,20285.835938,20595.351563,20818.476563,20763.728516],\"yaxis\":\"y\",\"type\":\"scattergl\",\"opacity\":0.8}],                        {\"template\":{\"data\":{\"bar\":[{\"error_x\":{\"color\":\"#2a3f5f\"},\"error_y\":{\"color\":\"#2a3f5f\"},\"marker\":{\"line\":{\"color\":\"#E5ECF6\",\"width\":0.5},\"pattern\":{\"fillmode\":\"overlay\",\"size\":10,\"solidity\":0.2}},\"type\":\"bar\"}],\"barpolar\":[{\"marker\":{\"line\":{\"color\":\"#E5ECF6\",\"width\":0.5},\"pattern\":{\"fillmode\":\"overlay\",\"size\":10,\"solidity\":0.2}},\"type\":\"barpolar\"}],\"carpet\":[{\"aaxis\":{\"endlinecolor\":\"#2a3f5f\",\"gridcolor\":\"white\",\"linecolor\":\"white\",\"minorgridcolor\":\"white\",\"startlinecolor\":\"#2a3f5f\"},\"baxis\":{\"endlinecolor\":\"#2a3f5f\",\"gridcolor\":\"white\",\"linecolor\":\"white\",\"minorgridcolor\":\"white\",\"startlinecolor\":\"#2a3f5f\"},\"type\":\"carpet\"}],\"choropleth\":[{\"colorbar\":{\"outlinewidth\":0,\"ticks\":\"\"},\"type\":\"choropleth\"}],\"contour\":[{\"colorbar\":{\"outlinewidth\":0,\"ticks\":\"\"},\"colorscale\":[[0.0,\"#0d0887\"],[0.1111111111111111,\"#46039f\"],[0.2222222222222222,\"#7201a8\"],[0.3333333333333333,\"#9c179e\"],[0.4444444444444444,\"#bd3786\"],[0.5555555555555556,\"#d8576b\"],[0.6666666666666666,\"#ed7953\"],[0.7777777777777778,\"#fb9f3a\"],[0.8888888888888888,\"#fdca26\"],[1.0,\"#f0f921\"]],\"type\":\"contour\"}],\"contourcarpet\":[{\"colorbar\":{\"outlinewidth\":0,\"ticks\":\"\"},\"type\":\"contourcarpet\"}],\"heatmap\":[{\"colorbar\":{\"outlinewidth\":0,\"ticks\":\"\"},\"colorscale\":[[0.0,\"#0d0887\"],[0.1111111111111111,\"#46039f\"],[0.2222222222222222,\"#7201a8\"],[0.3333333333333333,\"#9c179e\"],[0.4444444444444444,\"#bd3786\"],[0.5555555555555556,\"#d8576b\"],[0.6666666666666666,\"#ed7953\"],[0.7777777777777778,\"#fb9f3a\"],[0.8888888888888888,\"#fdca26\"],[1.0,\"#f0f921\"]],\"type\":\"heatmap\"}],\"heatmapgl\":[{\"colorbar\":{\"outlinewidth\":0,\"ticks\":\"\"},\"colorscale\":[[0.0,\"#0d0887\"],[0.1111111111111111,\"#46039f\"],[0.2222222222222222,\"#7201a8\"],[0.3333333333333333,\"#9c179e\"],[0.4444444444444444,\"#bd3786\"],[0.5555555555555556,\"#d8576b\"],[0.6666666666666666,\"#ed7953\"],[0.7777777777777778,\"#fb9f3a\"],[0.8888888888888888,\"#fdca26\"],[1.0,\"#f0f921\"]],\"type\":\"heatmapgl\"}],\"histogram\":[{\"marker\":{\"pattern\":{\"fillmode\":\"overlay\",\"size\":10,\"solidity\":0.2}},\"type\":\"histogram\"}],\"histogram2d\":[{\"colorbar\":{\"outlinewidth\":0,\"ticks\":\"\"},\"colorscale\":[[0.0,\"#0d0887\"],[0.1111111111111111,\"#46039f\"],[0.2222222222222222,\"#7201a8\"],[0.3333333333333333,\"#9c179e\"],[0.4444444444444444,\"#bd3786\"],[0.5555555555555556,\"#d8576b\"],[0.6666666666666666,\"#ed7953\"],[0.7777777777777778,\"#fb9f3a\"],[0.8888888888888888,\"#fdca26\"],[1.0,\"#f0f921\"]],\"type\":\"histogram2d\"}],\"histogram2dcontour\":[{\"colorbar\":{\"outlinewidth\":0,\"ticks\":\"\"},\"colorscale\":[[0.0,\"#0d0887\"],[0.1111111111111111,\"#46039f\"],[0.2222222222222222,\"#7201a8\"],[0.3333333333333333,\"#9c179e\"],[0.4444444444444444,\"#bd3786\"],[0.5555555555555556,\"#d8576b\"],[0.6666666666666666,\"#ed7953\"],[0.7777777777777778,\"#fb9f3a\"],[0.8888888888888888,\"#fdca26\"],[1.0,\"#f0f921\"]],\"type\":\"histogram2dcontour\"}],\"mesh3d\":[{\"colorbar\":{\"outlinewidth\":0,\"ticks\":\"\"},\"type\":\"mesh3d\"}],\"parcoords\":[{\"line\":{\"colorbar\":{\"outlinewidth\":0,\"ticks\":\"\"}},\"type\":\"parcoords\"}],\"pie\":[{\"automargin\":true,\"type\":\"pie\"}],\"scatter\":[{\"marker\":{\"colorbar\":{\"outlinewidth\":0,\"ticks\":\"\"}},\"type\":\"scatter\"}],\"scatter3d\":[{\"line\":{\"colorbar\":{\"outlinewidth\":0,\"ticks\":\"\"}},\"marker\":{\"colorbar\":{\"outlinewidth\":0,\"ticks\":\"\"}},\"type\":\"scatter3d\"}],\"scattercarpet\":[{\"marker\":{\"colorbar\":{\"outlinewidth\":0,\"ticks\":\"\"}},\"type\":\"scattercarpet\"}],\"scattergeo\":[{\"marker\":{\"colorbar\":{\"outlinewidth\":0,\"ticks\":\"\"}},\"type\":\"scattergeo\"}],\"scattergl\":[{\"marker\":{\"colorbar\":{\"outlinewidth\":0,\"ticks\":\"\"}},\"type\":\"scattergl\"}],\"scattermapbox\":[{\"marker\":{\"colorbar\":{\"outlinewidth\":0,\"ticks\":\"\"}},\"type\":\"scattermapbox\"}],\"scatterpolar\":[{\"marker\":{\"colorbar\":{\"outlinewidth\":0,\"ticks\":\"\"}},\"type\":\"scatterpolar\"}],\"scatterpolargl\":[{\"marker\":{\"colorbar\":{\"outlinewidth\":0,\"ticks\":\"\"}},\"type\":\"scatterpolargl\"}],\"scatterternary\":[{\"marker\":{\"colorbar\":{\"outlinewidth\":0,\"ticks\":\"\"}},\"type\":\"scatterternary\"}],\"surface\":[{\"colorbar\":{\"outlinewidth\":0,\"ticks\":\"\"},\"colorscale\":[[0.0,\"#0d0887\"],[0.1111111111111111,\"#46039f\"],[0.2222222222222222,\"#7201a8\"],[0.3333333333333333,\"#9c179e\"],[0.4444444444444444,\"#bd3786\"],[0.5555555555555556,\"#d8576b\"],[0.6666666666666666,\"#ed7953\"],[0.7777777777777778,\"#fb9f3a\"],[0.8888888888888888,\"#fdca26\"],[1.0,\"#f0f921\"]],\"type\":\"surface\"}],\"table\":[{\"cells\":{\"fill\":{\"color\":\"#EBF0F8\"},\"line\":{\"color\":\"white\"}},\"header\":{\"fill\":{\"color\":\"#C8D4E3\"},\"line\":{\"color\":\"white\"}},\"type\":\"table\"}]},\"layout\":{\"annotationdefaults\":{\"arrowcolor\":\"#2a3f5f\",\"arrowhead\":0,\"arrowwidth\":1},\"autotypenumbers\":\"strict\",\"coloraxis\":{\"colorbar\":{\"outlinewidth\":0,\"ticks\":\"\"}},\"colorscale\":{\"diverging\":[[0,\"#8e0152\"],[0.1,\"#c51b7d\"],[0.2,\"#de77ae\"],[0.3,\"#f1b6da\"],[0.4,\"#fde0ef\"],[0.5,\"#f7f7f7\"],[0.6,\"#e6f5d0\"],[0.7,\"#b8e186\"],[0.8,\"#7fbc41\"],[0.9,\"#4d9221\"],[1,\"#276419\"]],\"sequential\":[[0.0,\"#0d0887\"],[0.1111111111111111,\"#46039f\"],[0.2222222222222222,\"#7201a8\"],[0.3333333333333333,\"#9c179e\"],[0.4444444444444444,\"#bd3786\"],[0.5555555555555556,\"#d8576b\"],[0.6666666666666666,\"#ed7953\"],[0.7777777777777778,\"#fb9f3a\"],[0.8888888888888888,\"#fdca26\"],[1.0,\"#f0f921\"]],\"sequentialminus\":[[0.0,\"#0d0887\"],[0.1111111111111111,\"#46039f\"],[0.2222222222222222,\"#7201a8\"],[0.3333333333333333,\"#9c179e\"],[0.4444444444444444,\"#bd3786\"],[0.5555555555555556,\"#d8576b\"],[0.6666666666666666,\"#ed7953\"],[0.7777777777777778,\"#fb9f3a\"],[0.8888888888888888,\"#fdca26\"],[1.0,\"#f0f921\"]]},\"colorway\":[\"#636efa\",\"#EF553B\",\"#00cc96\",\"#ab63fa\",\"#FFA15A\",\"#19d3f3\",\"#FF6692\",\"#B6E880\",\"#FF97FF\",\"#FECB52\"],\"font\":{\"color\":\"#2a3f5f\"},\"geo\":{\"bgcolor\":\"white\",\"lakecolor\":\"white\",\"landcolor\":\"#E5ECF6\",\"showlakes\":true,\"showland\":true,\"subunitcolor\":\"white\"},\"hoverlabel\":{\"align\":\"left\"},\"hovermode\":\"closest\",\"mapbox\":{\"style\":\"light\"},\"paper_bgcolor\":\"white\",\"plot_bgcolor\":\"#E5ECF6\",\"polar\":{\"angularaxis\":{\"gridcolor\":\"white\",\"linecolor\":\"white\",\"ticks\":\"\"},\"bgcolor\":\"#E5ECF6\",\"radialaxis\":{\"gridcolor\":\"white\",\"linecolor\":\"white\",\"ticks\":\"\"}},\"scene\":{\"xaxis\":{\"backgroundcolor\":\"#E5ECF6\",\"gridcolor\":\"white\",\"gridwidth\":2,\"linecolor\":\"white\",\"showbackground\":true,\"ticks\":\"\",\"zerolinecolor\":\"white\"},\"yaxis\":{\"backgroundcolor\":\"#E5ECF6\",\"gridcolor\":\"white\",\"gridwidth\":2,\"linecolor\":\"white\",\"showbackground\":true,\"ticks\":\"\",\"zerolinecolor\":\"white\"},\"zaxis\":{\"backgroundcolor\":\"#E5ECF6\",\"gridcolor\":\"white\",\"gridwidth\":2,\"linecolor\":\"white\",\"showbackground\":true,\"ticks\":\"\",\"zerolinecolor\":\"white\"}},\"shapedefaults\":{\"line\":{\"color\":\"#2a3f5f\"}},\"ternary\":{\"aaxis\":{\"gridcolor\":\"white\",\"linecolor\":\"white\",\"ticks\":\"\"},\"baxis\":{\"gridcolor\":\"white\",\"linecolor\":\"white\",\"ticks\":\"\"},\"bgcolor\":\"#E5ECF6\",\"caxis\":{\"gridcolor\":\"white\",\"linecolor\":\"white\",\"ticks\":\"\"}},\"title\":{\"x\":0.05},\"xaxis\":{\"automargin\":true,\"gridcolor\":\"white\",\"linecolor\":\"white\",\"ticks\":\"\",\"title\":{\"standoff\":15},\"zerolinecolor\":\"white\",\"zerolinewidth\":2},\"yaxis\":{\"automargin\":true,\"gridcolor\":\"white\",\"linecolor\":\"white\",\"ticks\":\"\",\"title\":{\"standoff\":15},\"zerolinecolor\":\"white\",\"zerolinewidth\":2}}},\"xaxis\":{\"anchor\":\"y\",\"domain\":[0.0,1.0],\"title\":{\"text\":\"Date\"},\"showgrid\":false},\"yaxis\":{\"anchor\":\"x\",\"domain\":[0.0,1.0],\"title\":{\"text\":\"Close\"},\"showgrid\":false},\"legend\":{\"tracegroupgap\":0},\"margin\":{\"t\":60},\"title\":{\"text\":\"Considered period to predict Bitcoin close price\"},\"font\":{\"size\":15,\"color\":\"black\"},\"plot_bgcolor\":\"white\"},                        {\"responsive\": true}                    ).then(function(){\n",
              "                            \n",
              "var gd = document.getElementById('98096443-4195-4457-b3d1-97a0934cbb7f');\n",
              "var x = new MutationObserver(function (mutations, observer) {{\n",
              "        var display = window.getComputedStyle(gd).display;\n",
              "        if (!display || display === 'none') {{\n",
              "            console.log([gd, 'removed!']);\n",
              "            Plotly.purge(gd);\n",
              "            observer.disconnect();\n",
              "        }}\n",
              "}});\n",
              "\n",
              "// Listen for the removal of the full notebook cells\n",
              "var notebookContainer = gd.closest('#notebook-container');\n",
              "if (notebookContainer) {{\n",
              "    x.observe(notebookContainer, {childList: true});\n",
              "}}\n",
              "\n",
              "// Listen for the clearing of the current output cell\n",
              "var outputEl = gd.closest('.output');\n",
              "if (outputEl) {{\n",
              "    x.observe(outputEl, {childList: true});\n",
              "}}\n",
              "\n",
              "                        })                };                            </script>        </div>\n",
              "</body>\n",
              "</html>"
            ]
          },
          "metadata": {}
        }
      ],
      "source": [
        "fig = px.line(closedf, x=closedf.Date, y=closedf.Close,labels={'date':'Date','close':'Close Stock'})\n",
        "fig.update_traces(marker_line_width=2, opacity=0.8, marker_line_color='orange')\n",
        "fig.update_layout(title_text='Considered period to predict Bitcoin close price', \n",
        "                  plot_bgcolor='white', font_size=15, font_color='black')\n",
        "fig.update_xaxes(showgrid=False)\n",
        "fig.update_yaxes(showgrid=False)\n",
        "fig.show()"
      ]
    },
    {
      "cell_type": "code",
      "execution_count": null,
      "metadata": {
        "colab": {
          "base_uri": "https://localhost:8080/"
        },
        "id": "OnwaVRgplq2h",
        "outputId": "a1c4029b-bd16-4c37-fa03-0d215bb76698"
      },
      "outputs": [
        {
          "output_type": "stream",
          "name": "stdout",
          "text": [
            "Total data for prediction:  1398\n"
          ]
        }
      ],
      "source": [
        "closedf = closedf[closedf['Date'] > '2019-01-01']\n",
        "close_stock = closedf.copy()\n",
        "print(\"Total data for prediction: \",closedf.shape[0])"
      ]
    },
    {
      "cell_type": "markdown",
      "metadata": {
        "id": "0ICt4A2jnPW5"
      },
      "source": [
        "Normalizing Data\n",
        "Normalization is a technique often applied as part of data preparation for machine learning. The goal of normalization is to change the values of numeric columns in the dataset to use a common scale, without distorting differences in the ranges of values or losing information.\n",
        "MinMaxScaler. For each value in a feature, MinMaxScaler subtracts the minimum value in the feature and then divides by the range. The range is the difference between the original maximum and original minimum. MinMaxScaler preserves the shape of the original distribution."
      ]
    },
    {
      "cell_type": "code",
      "execution_count": null,
      "metadata": {
        "colab": {
          "base_uri": "https://localhost:8080/"
        },
        "id": "6_OokjkknSnh",
        "outputId": "dc60339f-5a16-4936-893d-5a12e8b2fafd"
      },
      "outputs": [
        {
          "output_type": "stream",
          "name": "stdout",
          "text": [
            "(1398, 1)\n"
          ]
        }
      ],
      "source": [
        "# deleting date column and normalizing using MinMax Scaler\n",
        "\n",
        "del closedf['Date']\n",
        "scaler=MinMaxScaler(feature_range=(0,1))\n",
        "closedf=scaler.fit_transform(np.array(closedf).reshape(-1,1))\n",
        "print(closedf.shape)"
      ]
    },
    {
      "cell_type": "markdown",
      "metadata": {
        "id": "4sYmUvt_nWeZ"
      },
      "source": [
        "Slicing data into Training set and Testing set"
      ]
    },
    {
      "cell_type": "code",
      "execution_count": null,
      "metadata": {
        "colab": {
          "base_uri": "https://localhost:8080/"
        },
        "id": "rdN-LBwBna-Z",
        "outputId": "9461688b-35b5-4bcb-db34-e7b2677dacb3"
      },
      "outputs": [
        {
          "output_type": "stream",
          "name": "stdout",
          "text": [
            "train_data:  (838, 1)\n",
            "test_data:  (560, 1)\n"
          ]
        }
      ],
      "source": [
        "# we keep the training set as 60% and 40% testing set\n",
        "\n",
        "training_size=int(len(closedf)*0.60)\n",
        "test_size=len(closedf)-training_size\n",
        "train_data,test_data=closedf[0:training_size,:],closedf[training_size:len(closedf),:1]\n",
        "print(\"train_data: \", train_data.shape)\n",
        "print(\"test_data: \", test_data.shape)"
      ]
    },
    {
      "cell_type": "markdown",
      "metadata": {
        "id": "rf7jTxwanrzI"
      },
      "source": [
        "Now we Transform the Close price based on Time-series-analysis forecasting requirement , Here we will take 15"
      ]
    },
    {
      "cell_type": "code",
      "execution_count": null,
      "metadata": {
        "id": "n4DUMEizntsg"
      },
      "outputs": [],
      "source": [
        "# convert an array of values into a dataset matrix\n",
        "\n",
        "def create_dataset(dataset, time_step=1):\n",
        "    dataX, dataY = [], []\n",
        "    for i in range(len(dataset)-time_step-1):\n",
        "        a = dataset[i:(i+time_step), 0]   ###i=0, 0,1,2,3-----99   100 \n",
        "        dataX.append(a)\n",
        "        dataY.append(dataset[i + time_step, 0])\n",
        "    return np.array(dataX), np.array(dataY)"
      ]
    },
    {
      "cell_type": "code",
      "execution_count": null,
      "metadata": {
        "colab": {
          "base_uri": "https://localhost:8080/"
        },
        "id": "5qhsbnYenyEo",
        "outputId": "89b45783-a3f8-4744-ed78-b18dd4cd51db"
      },
      "outputs": [
        {
          "output_type": "stream",
          "name": "stdout",
          "text": [
            "X_train:  (822, 15)\n",
            "y_train:  (822,)\n",
            "X_test:  (544, 15)\n",
            "y_test (544,)\n"
          ]
        }
      ],
      "source": [
        "time_step = 15\n",
        "X_train, y_train = create_dataset(train_data, time_step)\n",
        "X_test, y_test = create_dataset(test_data, time_step)\n",
        "\n",
        "print(\"X_train: \", X_train.shape)\n",
        "print(\"y_train: \", y_train.shape)\n",
        "print(\"X_test: \", X_test.shape)\n",
        "print(\"y_test\", y_test.shape)"
      ]
    },
    {
      "cell_type": "code",
      "execution_count": null,
      "metadata": {
        "colab": {
          "base_uri": "https://localhost:8080/"
        },
        "id": "RwoJETDAn0oR",
        "outputId": "f33ca1be-0556-4bda-9c3e-fce6504100ac"
      },
      "outputs": [
        {
          "output_type": "stream",
          "name": "stdout",
          "text": [
            "X_train:  (822, 15, 1)\n",
            "X_test:  (544, 15, 1)\n"
          ]
        }
      ],
      "source": [
        "# reshape input to be [samples, time steps, features] which is required for LSTM\n",
        "X_train =X_train.reshape(X_train.shape[0],X_train.shape[1] , 1)\n",
        "X_test = X_test.reshape(X_test.shape[0],X_test.shape[1] , 1)\n",
        "\n",
        "print(\"X_train: \", X_train.shape)\n",
        "print(\"X_test: \", X_test.shape)"
      ]
    },
    {
      "cell_type": "markdown",
      "metadata": {
        "id": "dSjAqqjAoHdg"
      },
      "source": [
        "Model Building"
      ]
    },
    {
      "cell_type": "code",
      "execution_count": null,
      "metadata": {
        "id": "QzRSUcMkIPLJ"
      },
      "outputs": [],
      "source": [
        "def build_lstm_model(input_data, output_size, neurons=100, activ_func='linear',\n",
        "                     dropout=0.2, loss='mse', optimizer='adam'):\n",
        "    model = Sequential()\n",
        "    model.add(LSTM(neurons, input_shape=(input_data.shape[1], input_data.shape[2])))\n",
        "    model.add(Dropout(dropout))\n",
        "    model.add(Dense(units=output_size))\n",
        "    model.add(Activation(activ_func))\n",
        "\n",
        "    model.compile(loss=loss, optimizer=optimizer)\n",
        "    return model"
      ]
    },
    {
      "cell_type": "code",
      "execution_count": null,
      "metadata": {
        "id": "UtwXRvvvILdA"
      },
      "outputs": [],
      "source": [
        "np.random.seed(42)\n",
        "window_len = 5\n",
        "test_size = 0.2\n",
        "zero_base = True\n",
        "lstm_neurons = 100\n",
        "epochs = 50\n",
        "batch_size = 32\n",
        "loss = 'mse'\n",
        "dropout = 0.2\n",
        "optimizer = 'adam'"
      ]
    },
    {
      "cell_type": "code",
      "execution_count": null,
      "metadata": {
        "id": "TMjRbPZ4oLoQ"
      },
      "outputs": [],
      "source": [
        "# model=Sequential()\n",
        "\n",
        "# model.add(LSTM(10,input_shape=(None,1),activation=\"relu\"))\n",
        "\n",
        "# model.add(Dense(1))\n",
        "\n",
        "# model.compile(loss=\"mean_squared_error\",optimizer=\"adam\")\n",
        "model = build_lstm_model(\n",
        "    X_train, output_size=1, neurons=lstm_neurons, dropout=dropout, loss=loss,\n",
        "    optimizer=optimizer)"
      ]
    },
    {
      "cell_type": "code",
      "execution_count": null,
      "metadata": {
        "colab": {
          "base_uri": "https://localhost:8080/"
        },
        "id": "VngCeI_ooPmQ",
        "outputId": "561256e7-477a-469d-bccf-a69408da8cbd"
      },
      "outputs": [
        {
          "output_type": "stream",
          "name": "stdout",
          "text": [
            "Epoch 1/200\n",
            "26/26 [==============================] - 3s 42ms/step - loss: 0.0122 - val_loss: 0.0024\n",
            "Epoch 2/200\n",
            "26/26 [==============================] - 0s 19ms/step - loss: 0.0012 - val_loss: 0.0018\n",
            "Epoch 3/200\n",
            "26/26 [==============================] - 0s 19ms/step - loss: 0.0012 - val_loss: 0.0019\n",
            "Epoch 4/200\n",
            "26/26 [==============================] - 0s 18ms/step - loss: 0.0010 - val_loss: 0.0021\n",
            "Epoch 5/200\n",
            "26/26 [==============================] - 0s 19ms/step - loss: 9.5895e-04 - val_loss: 0.0017\n",
            "Epoch 6/200\n",
            "26/26 [==============================] - 0s 19ms/step - loss: 9.6776e-04 - val_loss: 0.0027\n",
            "Epoch 7/200\n",
            "26/26 [==============================] - 0s 19ms/step - loss: 8.2316e-04 - val_loss: 0.0024\n",
            "Epoch 8/200\n",
            "26/26 [==============================] - 0s 19ms/step - loss: 9.3135e-04 - val_loss: 0.0016\n",
            "Epoch 9/200\n",
            "26/26 [==============================] - 1s 19ms/step - loss: 9.3039e-04 - val_loss: 0.0028\n",
            "Epoch 10/200\n",
            "26/26 [==============================] - 0s 18ms/step - loss: 8.7487e-04 - val_loss: 0.0015\n",
            "Epoch 11/200\n",
            "26/26 [==============================] - 0s 19ms/step - loss: 7.5375e-04 - val_loss: 0.0029\n",
            "Epoch 12/200\n",
            "26/26 [==============================] - 0s 19ms/step - loss: 6.8889e-04 - val_loss: 0.0016\n",
            "Epoch 13/200\n",
            "26/26 [==============================] - 0s 18ms/step - loss: 9.3863e-04 - val_loss: 0.0035\n",
            "Epoch 14/200\n",
            "26/26 [==============================] - 0s 19ms/step - loss: 9.2889e-04 - val_loss: 0.0037\n",
            "Epoch 15/200\n",
            "26/26 [==============================] - 0s 19ms/step - loss: 9.5241e-04 - val_loss: 0.0022\n",
            "Epoch 16/200\n",
            "26/26 [==============================] - 0s 19ms/step - loss: 6.8490e-04 - val_loss: 0.0027\n",
            "Epoch 17/200\n",
            "26/26 [==============================] - 0s 19ms/step - loss: 0.0011 - val_loss: 0.0013\n",
            "Epoch 18/200\n",
            "26/26 [==============================] - 1s 20ms/step - loss: 8.4537e-04 - val_loss: 0.0034\n",
            "Epoch 19/200\n",
            "26/26 [==============================] - 0s 19ms/step - loss: 6.3882e-04 - val_loss: 0.0014\n",
            "Epoch 20/200\n",
            "26/26 [==============================] - 0s 19ms/step - loss: 7.4166e-04 - val_loss: 0.0013\n",
            "Epoch 21/200\n",
            "26/26 [==============================] - 0s 19ms/step - loss: 7.7378e-04 - val_loss: 0.0021\n",
            "Epoch 22/200\n",
            "26/26 [==============================] - 0s 19ms/step - loss: 8.1982e-04 - val_loss: 0.0018\n",
            "Epoch 23/200\n",
            "26/26 [==============================] - 0s 18ms/step - loss: 6.3928e-04 - val_loss: 0.0020\n",
            "Epoch 24/200\n",
            "26/26 [==============================] - 0s 19ms/step - loss: 6.3676e-04 - val_loss: 0.0012\n",
            "Epoch 25/200\n",
            "26/26 [==============================] - 0s 18ms/step - loss: 5.4062e-04 - val_loss: 0.0017\n",
            "Epoch 26/200\n",
            "26/26 [==============================] - 0s 19ms/step - loss: 8.5652e-04 - val_loss: 0.0011\n",
            "Epoch 27/200\n",
            "26/26 [==============================] - 0s 18ms/step - loss: 7.3320e-04 - val_loss: 0.0014\n",
            "Epoch 28/200\n",
            "26/26 [==============================] - 0s 19ms/step - loss: 6.6495e-04 - val_loss: 0.0015\n",
            "Epoch 29/200\n",
            "26/26 [==============================] - 1s 20ms/step - loss: 7.1893e-04 - val_loss: 0.0011\n",
            "Epoch 30/200\n",
            "26/26 [==============================] - 0s 19ms/step - loss: 5.7319e-04 - val_loss: 0.0011\n",
            "Epoch 31/200\n",
            "26/26 [==============================] - 0s 19ms/step - loss: 5.7336e-04 - val_loss: 0.0011\n",
            "Epoch 32/200\n",
            "26/26 [==============================] - 1s 19ms/step - loss: 6.6303e-04 - val_loss: 0.0011\n",
            "Epoch 33/200\n",
            "26/26 [==============================] - 1s 21ms/step - loss: 7.9016e-04 - val_loss: 0.0040\n",
            "Epoch 34/200\n",
            "26/26 [==============================] - 0s 19ms/step - loss: 8.0625e-04 - val_loss: 0.0015\n",
            "Epoch 35/200\n",
            "26/26 [==============================] - 0s 19ms/step - loss: 5.7818e-04 - val_loss: 0.0015\n",
            "Epoch 36/200\n",
            "26/26 [==============================] - 0s 18ms/step - loss: 5.6225e-04 - val_loss: 0.0016\n",
            "Epoch 37/200\n",
            "26/26 [==============================] - 0s 18ms/step - loss: 6.5791e-04 - val_loss: 9.8531e-04\n",
            "Epoch 38/200\n",
            "26/26 [==============================] - 0s 18ms/step - loss: 5.9331e-04 - val_loss: 0.0011\n",
            "Epoch 39/200\n",
            "26/26 [==============================] - 0s 18ms/step - loss: 6.1036e-04 - val_loss: 0.0016\n",
            "Epoch 40/200\n",
            "26/26 [==============================] - 0s 19ms/step - loss: 5.4259e-04 - val_loss: 0.0010\n",
            "Epoch 41/200\n",
            "26/26 [==============================] - 0s 18ms/step - loss: 5.2152e-04 - val_loss: 9.3107e-04\n",
            "Epoch 42/200\n",
            "26/26 [==============================] - 0s 18ms/step - loss: 4.9232e-04 - val_loss: 0.0014\n",
            "Epoch 43/200\n",
            "26/26 [==============================] - 0s 19ms/step - loss: 4.8452e-04 - val_loss: 0.0013\n",
            "Epoch 44/200\n",
            "26/26 [==============================] - 0s 19ms/step - loss: 4.9483e-04 - val_loss: 0.0011\n",
            "Epoch 45/200\n",
            "26/26 [==============================] - 0s 19ms/step - loss: 5.8505e-04 - val_loss: 0.0015\n",
            "Epoch 46/200\n",
            "26/26 [==============================] - 0s 18ms/step - loss: 5.0886e-04 - val_loss: 0.0012\n",
            "Epoch 47/200\n",
            "26/26 [==============================] - 0s 19ms/step - loss: 4.2152e-04 - val_loss: 8.9959e-04\n",
            "Epoch 48/200\n",
            "26/26 [==============================] - 0s 18ms/step - loss: 5.1843e-04 - val_loss: 8.8867e-04\n",
            "Epoch 49/200\n",
            "26/26 [==============================] - 0s 18ms/step - loss: 5.0944e-04 - val_loss: 0.0014\n",
            "Epoch 50/200\n",
            "26/26 [==============================] - 0s 18ms/step - loss: 5.3422e-04 - val_loss: 9.9479e-04\n",
            "Epoch 51/200\n",
            "26/26 [==============================] - 0s 19ms/step - loss: 5.8326e-04 - val_loss: 0.0015\n",
            "Epoch 52/200\n",
            "26/26 [==============================] - 1s 21ms/step - loss: 4.7642e-04 - val_loss: 8.5930e-04\n",
            "Epoch 53/200\n",
            "26/26 [==============================] - 1s 40ms/step - loss: 4.1769e-04 - val_loss: 8.5935e-04\n",
            "Epoch 54/200\n",
            "26/26 [==============================] - 1s 36ms/step - loss: 5.1689e-04 - val_loss: 9.2031e-04\n",
            "Epoch 55/200\n",
            "26/26 [==============================] - 1s 26ms/step - loss: 5.6747e-04 - val_loss: 0.0011\n",
            "Epoch 56/200\n",
            "26/26 [==============================] - 1s 41ms/step - loss: 4.8569e-04 - val_loss: 8.4773e-04\n",
            "Epoch 57/200\n",
            "26/26 [==============================] - 0s 18ms/step - loss: 4.9491e-04 - val_loss: 0.0013\n",
            "Epoch 58/200\n",
            "26/26 [==============================] - 0s 18ms/step - loss: 5.8197e-04 - val_loss: 8.3716e-04\n",
            "Epoch 59/200\n",
            "26/26 [==============================] - 0s 18ms/step - loss: 4.6003e-04 - val_loss: 8.9734e-04\n",
            "Epoch 60/200\n",
            "26/26 [==============================] - 0s 18ms/step - loss: 4.0470e-04 - val_loss: 8.8366e-04\n",
            "Epoch 61/200\n",
            "26/26 [==============================] - 0s 17ms/step - loss: 4.5746e-04 - val_loss: 9.4635e-04\n",
            "Epoch 62/200\n",
            "26/26 [==============================] - 0s 19ms/step - loss: 4.4525e-04 - val_loss: 0.0014\n",
            "Epoch 63/200\n",
            "26/26 [==============================] - 0s 18ms/step - loss: 5.0173e-04 - val_loss: 0.0011\n",
            "Epoch 64/200\n",
            "26/26 [==============================] - 0s 18ms/step - loss: 4.7955e-04 - val_loss: 9.9710e-04\n",
            "Epoch 65/200\n",
            "26/26 [==============================] - 0s 18ms/step - loss: 5.7339e-04 - val_loss: 9.7441e-04\n",
            "Epoch 66/200\n",
            "26/26 [==============================] - 0s 19ms/step - loss: 4.3666e-04 - val_loss: 9.3942e-04\n",
            "Epoch 67/200\n",
            "26/26 [==============================] - 0s 19ms/step - loss: 4.7753e-04 - val_loss: 8.0794e-04\n",
            "Epoch 68/200\n",
            "26/26 [==============================] - 0s 19ms/step - loss: 4.8965e-04 - val_loss: 9.9530e-04\n",
            "Epoch 69/200\n",
            "26/26 [==============================] - 0s 18ms/step - loss: 4.2915e-04 - val_loss: 7.8851e-04\n",
            "Epoch 70/200\n",
            "26/26 [==============================] - 0s 18ms/step - loss: 4.5182e-04 - val_loss: 8.1796e-04\n",
            "Epoch 71/200\n",
            "26/26 [==============================] - 0s 18ms/step - loss: 6.0149e-04 - val_loss: 8.9883e-04\n",
            "Epoch 72/200\n",
            "26/26 [==============================] - 0s 18ms/step - loss: 4.3207e-04 - val_loss: 7.7020e-04\n",
            "Epoch 73/200\n",
            "26/26 [==============================] - 0s 19ms/step - loss: 5.0335e-04 - val_loss: 7.6990e-04\n",
            "Epoch 74/200\n",
            "26/26 [==============================] - 0s 19ms/step - loss: 4.4564e-04 - val_loss: 0.0017\n",
            "Epoch 75/200\n",
            "26/26 [==============================] - 1s 20ms/step - loss: 4.1613e-04 - val_loss: 0.0012\n",
            "Epoch 76/200\n",
            "26/26 [==============================] - 0s 18ms/step - loss: 5.1081e-04 - val_loss: 8.5251e-04\n",
            "Epoch 77/200\n",
            "26/26 [==============================] - 1s 20ms/step - loss: 3.6445e-04 - val_loss: 7.5425e-04\n",
            "Epoch 78/200\n",
            "26/26 [==============================] - 0s 19ms/step - loss: 4.4229e-04 - val_loss: 8.1248e-04\n",
            "Epoch 79/200\n",
            "26/26 [==============================] - 1s 19ms/step - loss: 4.3462e-04 - val_loss: 7.9455e-04\n",
            "Epoch 80/200\n",
            "26/26 [==============================] - 0s 19ms/step - loss: 4.8780e-04 - val_loss: 8.5248e-04\n",
            "Epoch 81/200\n",
            "26/26 [==============================] - 1s 20ms/step - loss: 4.7457e-04 - val_loss: 0.0011\n",
            "Epoch 82/200\n",
            "26/26 [==============================] - 1s 20ms/step - loss: 4.6104e-04 - val_loss: 0.0010\n",
            "Epoch 83/200\n",
            "26/26 [==============================] - 1s 20ms/step - loss: 5.2760e-04 - val_loss: 7.2604e-04\n",
            "Epoch 84/200\n",
            "26/26 [==============================] - 0s 18ms/step - loss: 4.7356e-04 - val_loss: 7.7231e-04\n",
            "Epoch 85/200\n",
            "26/26 [==============================] - 1s 20ms/step - loss: 4.8076e-04 - val_loss: 9.8193e-04\n",
            "Epoch 86/200\n",
            "26/26 [==============================] - 0s 18ms/step - loss: 5.5472e-04 - val_loss: 7.4538e-04\n",
            "Epoch 87/200\n",
            "26/26 [==============================] - 0s 18ms/step - loss: 4.3389e-04 - val_loss: 0.0012\n",
            "Epoch 88/200\n",
            "26/26 [==============================] - 0s 18ms/step - loss: 4.3616e-04 - val_loss: 8.1322e-04\n",
            "Epoch 89/200\n",
            "26/26 [==============================] - 0s 18ms/step - loss: 4.6312e-04 - val_loss: 0.0010\n",
            "Epoch 90/200\n",
            "26/26 [==============================] - 0s 18ms/step - loss: 6.2367e-04 - val_loss: 7.2532e-04\n",
            "Epoch 91/200\n",
            "26/26 [==============================] - 0s 18ms/step - loss: 3.7349e-04 - val_loss: 0.0010\n",
            "Epoch 92/200\n",
            "26/26 [==============================] - 0s 18ms/step - loss: 5.1544e-04 - val_loss: 7.5099e-04\n",
            "Epoch 93/200\n",
            "26/26 [==============================] - 0s 18ms/step - loss: 4.9815e-04 - val_loss: 0.0015\n",
            "Epoch 94/200\n",
            "26/26 [==============================] - 0s 19ms/step - loss: 4.0526e-04 - val_loss: 8.7753e-04\n",
            "Epoch 95/200\n",
            "26/26 [==============================] - 0s 18ms/step - loss: 4.8350e-04 - val_loss: 9.0189e-04\n",
            "Epoch 96/200\n",
            "26/26 [==============================] - 1s 20ms/step - loss: 4.0036e-04 - val_loss: 8.4215e-04\n",
            "Epoch 97/200\n",
            "26/26 [==============================] - 0s 19ms/step - loss: 3.6064e-04 - val_loss: 8.6938e-04\n",
            "Epoch 98/200\n",
            "26/26 [==============================] - 0s 19ms/step - loss: 3.9118e-04 - val_loss: 7.4282e-04\n",
            "Epoch 99/200\n",
            "26/26 [==============================] - 0s 19ms/step - loss: 3.2777e-04 - val_loss: 0.0012\n",
            "Epoch 100/200\n",
            "26/26 [==============================] - 1s 33ms/step - loss: 4.3304e-04 - val_loss: 8.7760e-04\n",
            "Epoch 101/200\n",
            "26/26 [==============================] - 1s 31ms/step - loss: 3.4425e-04 - val_loss: 7.9384e-04\n",
            "Epoch 102/200\n",
            "26/26 [==============================] - 0s 18ms/step - loss: 4.2980e-04 - val_loss: 6.9890e-04\n",
            "Epoch 103/200\n",
            "26/26 [==============================] - 1s 31ms/step - loss: 3.7079e-04 - val_loss: 6.8905e-04\n",
            "Epoch 104/200\n",
            "26/26 [==============================] - 0s 18ms/step - loss: 3.1556e-04 - val_loss: 7.1317e-04\n",
            "Epoch 105/200\n",
            "26/26 [==============================] - 0s 17ms/step - loss: 3.4793e-04 - val_loss: 8.5248e-04\n",
            "Epoch 106/200\n",
            "26/26 [==============================] - 0s 18ms/step - loss: 3.5637e-04 - val_loss: 7.5340e-04\n",
            "Epoch 107/200\n",
            "26/26 [==============================] - 0s 18ms/step - loss: 4.1244e-04 - val_loss: 0.0013\n",
            "Epoch 108/200\n",
            "26/26 [==============================] - 1s 19ms/step - loss: 3.9620e-04 - val_loss: 9.6710e-04\n",
            "Epoch 109/200\n",
            "26/26 [==============================] - 0s 19ms/step - loss: 3.6651e-04 - val_loss: 7.7866e-04\n",
            "Epoch 110/200\n",
            "26/26 [==============================] - 0s 19ms/step - loss: 4.3905e-04 - val_loss: 8.3995e-04\n",
            "Epoch 111/200\n",
            "26/26 [==============================] - 0s 18ms/step - loss: 5.0241e-04 - val_loss: 0.0012\n",
            "Epoch 112/200\n",
            "26/26 [==============================] - 0s 19ms/step - loss: 4.4426e-04 - val_loss: 9.0543e-04\n",
            "Epoch 113/200\n",
            "26/26 [==============================] - 0s 19ms/step - loss: 3.8317e-04 - val_loss: 7.0545e-04\n",
            "Epoch 114/200\n",
            "26/26 [==============================] - 0s 19ms/step - loss: 4.3148e-04 - val_loss: 8.0747e-04\n",
            "Epoch 115/200\n",
            "26/26 [==============================] - 0s 19ms/step - loss: 4.0289e-04 - val_loss: 6.6704e-04\n",
            "Epoch 116/200\n",
            "26/26 [==============================] - 0s 18ms/step - loss: 4.2035e-04 - val_loss: 0.0014\n",
            "Epoch 117/200\n",
            "26/26 [==============================] - 0s 18ms/step - loss: 4.2116e-04 - val_loss: 6.5747e-04\n",
            "Epoch 118/200\n",
            "26/26 [==============================] - 0s 18ms/step - loss: 3.7627e-04 - val_loss: 0.0010\n",
            "Epoch 119/200\n",
            "26/26 [==============================] - 0s 19ms/step - loss: 4.2931e-04 - val_loss: 0.0010\n",
            "Epoch 120/200\n",
            "26/26 [==============================] - 0s 19ms/step - loss: 3.6672e-04 - val_loss: 7.5079e-04\n",
            "Epoch 121/200\n",
            "26/26 [==============================] - 0s 19ms/step - loss: 4.4441e-04 - val_loss: 0.0011\n",
            "Epoch 122/200\n",
            "26/26 [==============================] - 0s 18ms/step - loss: 3.9159e-04 - val_loss: 8.0906e-04\n",
            "Epoch 123/200\n",
            "26/26 [==============================] - 1s 19ms/step - loss: 2.9902e-04 - val_loss: 8.7646e-04\n",
            "Epoch 124/200\n",
            "26/26 [==============================] - 1s 20ms/step - loss: 3.2716e-04 - val_loss: 6.5020e-04\n",
            "Epoch 125/200\n",
            "26/26 [==============================] - 1s 20ms/step - loss: 3.7843e-04 - val_loss: 7.0093e-04\n",
            "Epoch 126/200\n",
            "26/26 [==============================] - 0s 18ms/step - loss: 4.6980e-04 - val_loss: 0.0013\n",
            "Epoch 127/200\n",
            "26/26 [==============================] - 0s 18ms/step - loss: 3.8038e-04 - val_loss: 6.4546e-04\n",
            "Epoch 128/200\n",
            "26/26 [==============================] - 0s 18ms/step - loss: 4.3041e-04 - val_loss: 6.5592e-04\n",
            "Epoch 129/200\n",
            "26/26 [==============================] - 0s 19ms/step - loss: 3.4987e-04 - val_loss: 6.6970e-04\n",
            "Epoch 130/200\n",
            "26/26 [==============================] - 0s 18ms/step - loss: 3.9102e-04 - val_loss: 6.4251e-04\n",
            "Epoch 131/200\n",
            "26/26 [==============================] - 0s 19ms/step - loss: 4.0109e-04 - val_loss: 6.8098e-04\n",
            "Epoch 132/200\n",
            "26/26 [==============================] - 1s 19ms/step - loss: 3.9629e-04 - val_loss: 6.5386e-04\n",
            "Epoch 133/200\n",
            "26/26 [==============================] - 0s 19ms/step - loss: 4.2681e-04 - val_loss: 0.0010\n",
            "Epoch 134/200\n",
            "26/26 [==============================] - 0s 19ms/step - loss: 4.1972e-04 - val_loss: 7.2566e-04\n",
            "Epoch 135/200\n",
            "26/26 [==============================] - 0s 19ms/step - loss: 3.7935e-04 - val_loss: 7.4429e-04\n",
            "Epoch 136/200\n",
            "26/26 [==============================] - 1s 20ms/step - loss: 3.8036e-04 - val_loss: 6.9079e-04\n",
            "Epoch 137/200\n",
            "26/26 [==============================] - 1s 20ms/step - loss: 4.0770e-04 - val_loss: 6.3581e-04\n",
            "Epoch 138/200\n",
            "26/26 [==============================] - 0s 19ms/step - loss: 3.4387e-04 - val_loss: 7.6909e-04\n",
            "Epoch 139/200\n",
            "26/26 [==============================] - 0s 19ms/step - loss: 3.5336e-04 - val_loss: 6.4390e-04\n",
            "Epoch 140/200\n",
            "26/26 [==============================] - 0s 19ms/step - loss: 3.3756e-04 - val_loss: 8.5656e-04\n",
            "Epoch 141/200\n",
            "26/26 [==============================] - 0s 18ms/step - loss: 3.6275e-04 - val_loss: 7.4846e-04\n",
            "Epoch 142/200\n",
            "26/26 [==============================] - 0s 19ms/step - loss: 3.5516e-04 - val_loss: 6.7751e-04\n",
            "Epoch 143/200\n",
            "26/26 [==============================] - 0s 18ms/step - loss: 3.5955e-04 - val_loss: 7.7532e-04\n",
            "Epoch 144/200\n",
            "26/26 [==============================] - 0s 19ms/step - loss: 3.4940e-04 - val_loss: 6.1986e-04\n",
            "Epoch 145/200\n",
            "26/26 [==============================] - 0s 18ms/step - loss: 3.0716e-04 - val_loss: 7.2390e-04\n",
            "Epoch 146/200\n",
            "26/26 [==============================] - 0s 18ms/step - loss: 3.5483e-04 - val_loss: 6.4325e-04\n",
            "Epoch 147/200\n",
            "26/26 [==============================] - 0s 18ms/step - loss: 2.9892e-04 - val_loss: 6.1437e-04\n",
            "Epoch 148/200\n",
            "26/26 [==============================] - 0s 19ms/step - loss: 3.6183e-04 - val_loss: 7.2263e-04\n",
            "Epoch 149/200\n",
            "26/26 [==============================] - 0s 19ms/step - loss: 3.0009e-04 - val_loss: 6.3537e-04\n",
            "Epoch 150/200\n",
            "26/26 [==============================] - 0s 19ms/step - loss: 3.3675e-04 - val_loss: 8.5558e-04\n",
            "Epoch 151/200\n",
            "26/26 [==============================] - 0s 18ms/step - loss: 3.6229e-04 - val_loss: 6.0342e-04\n",
            "Epoch 152/200\n",
            "26/26 [==============================] - 1s 20ms/step - loss: 3.6532e-04 - val_loss: 6.2906e-04\n",
            "Epoch 153/200\n",
            "26/26 [==============================] - 0s 18ms/step - loss: 3.2800e-04 - val_loss: 6.4522e-04\n",
            "Epoch 154/200\n",
            "26/26 [==============================] - 0s 19ms/step - loss: 3.7739e-04 - val_loss: 6.4840e-04\n",
            "Epoch 155/200\n",
            "26/26 [==============================] - 0s 18ms/step - loss: 2.7993e-04 - val_loss: 6.0986e-04\n",
            "Epoch 156/200\n",
            "26/26 [==============================] - 0s 19ms/step - loss: 3.5410e-04 - val_loss: 0.0014\n",
            "Epoch 157/200\n",
            "26/26 [==============================] - 0s 18ms/step - loss: 3.7271e-04 - val_loss: 6.4369e-04\n",
            "Epoch 158/200\n",
            "26/26 [==============================] - 0s 19ms/step - loss: 3.9580e-04 - val_loss: 6.1037e-04\n",
            "Epoch 159/200\n",
            "26/26 [==============================] - 0s 19ms/step - loss: 3.6654e-04 - val_loss: 6.0892e-04\n",
            "Epoch 160/200\n",
            "26/26 [==============================] - 0s 18ms/step - loss: 3.1524e-04 - val_loss: 6.3665e-04\n",
            "Epoch 161/200\n",
            "26/26 [==============================] - 0s 18ms/step - loss: 4.2151e-04 - val_loss: 6.1285e-04\n",
            "Epoch 162/200\n",
            "26/26 [==============================] - 0s 18ms/step - loss: 3.4450e-04 - val_loss: 0.0010\n",
            "Epoch 163/200\n",
            "26/26 [==============================] - 0s 19ms/step - loss: 3.8622e-04 - val_loss: 7.1647e-04\n",
            "Epoch 164/200\n",
            "26/26 [==============================] - 0s 18ms/step - loss: 4.1297e-04 - val_loss: 0.0010\n",
            "Epoch 165/200\n",
            "26/26 [==============================] - 0s 19ms/step - loss: 3.5956e-04 - val_loss: 6.1677e-04\n",
            "Epoch 166/200\n",
            "26/26 [==============================] - 0s 19ms/step - loss: 3.2538e-04 - val_loss: 7.1451e-04\n",
            "Epoch 167/200\n",
            "26/26 [==============================] - 1s 20ms/step - loss: 2.9045e-04 - val_loss: 8.9736e-04\n",
            "Epoch 168/200\n",
            "26/26 [==============================] - 0s 18ms/step - loss: 3.7986e-04 - val_loss: 6.3497e-04\n",
            "Epoch 169/200\n",
            "26/26 [==============================] - 0s 19ms/step - loss: 3.7808e-04 - val_loss: 7.2379e-04\n",
            "Epoch 170/200\n",
            "26/26 [==============================] - 0s 18ms/step - loss: 3.7886e-04 - val_loss: 6.2251e-04\n",
            "Epoch 171/200\n",
            "26/26 [==============================] - 0s 18ms/step - loss: 3.0652e-04 - val_loss: 5.8437e-04\n",
            "Epoch 172/200\n",
            "26/26 [==============================] - 0s 18ms/step - loss: 3.5628e-04 - val_loss: 7.6545e-04\n",
            "Epoch 173/200\n",
            "26/26 [==============================] - 0s 19ms/step - loss: 3.6833e-04 - val_loss: 5.9530e-04\n",
            "Epoch 174/200\n",
            "26/26 [==============================] - 0s 18ms/step - loss: 3.3272e-04 - val_loss: 6.0213e-04\n",
            "Epoch 175/200\n",
            "26/26 [==============================] - 0s 19ms/step - loss: 3.3747e-04 - val_loss: 7.1945e-04\n",
            "Epoch 176/200\n",
            "26/26 [==============================] - 0s 18ms/step - loss: 3.7369e-04 - val_loss: 5.8411e-04\n",
            "Epoch 177/200\n",
            "26/26 [==============================] - 0s 19ms/step - loss: 3.4447e-04 - val_loss: 7.4441e-04\n",
            "Epoch 178/200\n",
            "26/26 [==============================] - 0s 18ms/step - loss: 3.6918e-04 - val_loss: 5.9325e-04\n",
            "Epoch 179/200\n",
            "26/26 [==============================] - 1s 19ms/step - loss: 4.0284e-04 - val_loss: 0.0013\n",
            "Epoch 180/200\n",
            "26/26 [==============================] - 0s 18ms/step - loss: 3.2482e-04 - val_loss: 6.0318e-04\n",
            "Epoch 181/200\n",
            "26/26 [==============================] - 0s 19ms/step - loss: 3.1372e-04 - val_loss: 6.0356e-04\n",
            "Epoch 182/200\n",
            "26/26 [==============================] - 0s 18ms/step - loss: 3.0551e-04 - val_loss: 5.9432e-04\n",
            "Epoch 183/200\n",
            "26/26 [==============================] - 0s 19ms/step - loss: 3.1407e-04 - val_loss: 6.1263e-04\n",
            "Epoch 184/200\n",
            "26/26 [==============================] - 0s 18ms/step - loss: 3.1668e-04 - val_loss: 5.8560e-04\n",
            "Epoch 185/200\n",
            "26/26 [==============================] - 0s 18ms/step - loss: 3.5507e-04 - val_loss: 6.5873e-04\n",
            "Epoch 186/200\n",
            "26/26 [==============================] - 1s 20ms/step - loss: 3.2243e-04 - val_loss: 6.2345e-04\n",
            "Epoch 187/200\n",
            "26/26 [==============================] - 0s 18ms/step - loss: 3.1534e-04 - val_loss: 6.5431e-04\n",
            "Epoch 188/200\n",
            "26/26 [==============================] - 0s 19ms/step - loss: 3.1991e-04 - val_loss: 5.8407e-04\n",
            "Epoch 189/200\n",
            "26/26 [==============================] - 0s 19ms/step - loss: 3.0492e-04 - val_loss: 5.8519e-04\n",
            "Epoch 190/200\n",
            "26/26 [==============================] - 0s 18ms/step - loss: 3.4401e-04 - val_loss: 7.4100e-04\n",
            "Epoch 191/200\n",
            "26/26 [==============================] - 0s 18ms/step - loss: 3.4957e-04 - val_loss: 6.2287e-04\n",
            "Epoch 192/200\n",
            "26/26 [==============================] - 1s 20ms/step - loss: 3.1255e-04 - val_loss: 8.6889e-04\n",
            "Epoch 193/200\n",
            "26/26 [==============================] - 0s 19ms/step - loss: 4.6965e-04 - val_loss: 0.0018\n",
            "Epoch 194/200\n",
            "26/26 [==============================] - 0s 19ms/step - loss: 3.4153e-04 - val_loss: 6.5948e-04\n",
            "Epoch 195/200\n",
            "26/26 [==============================] - 0s 19ms/step - loss: 3.4996e-04 - val_loss: 5.7830e-04\n",
            "Epoch 196/200\n",
            "26/26 [==============================] - 1s 19ms/step - loss: 3.6692e-04 - val_loss: 5.8839e-04\n",
            "Epoch 197/200\n",
            "26/26 [==============================] - 0s 18ms/step - loss: 3.8885e-04 - val_loss: 6.0597e-04\n",
            "Epoch 198/200\n",
            "26/26 [==============================] - 1s 19ms/step - loss: 2.6940e-04 - val_loss: 5.8163e-04\n",
            "Epoch 199/200\n",
            "26/26 [==============================] - 0s 18ms/step - loss: 3.3712e-04 - val_loss: 5.9544e-04\n",
            "Epoch 200/200\n",
            "26/26 [==============================] - 0s 19ms/step - loss: 3.4819e-04 - val_loss: 5.8239e-04\n"
          ]
        }
      ],
      "source": [
        "history = model.fit(X_train,y_train,validation_data=(X_test,y_test),epochs=200,batch_size=32,verbose=1)"
      ]
    },
    {
      "cell_type": "markdown",
      "metadata": {
        "id": "ooVLmzrmA7ER"
      },
      "source": [
        "Plotting Loss vs Validation loss"
      ]
    },
    {
      "cell_type": "code",
      "execution_count": null,
      "metadata": {
        "colab": {
          "base_uri": "https://localhost:8080/",
          "height": 298
        },
        "id": "HqxC3xaGA0xh",
        "outputId": "26721828-1dc8-4c99-8f33-ad0dc3834fb1"
      },
      "outputs": [
        {
          "output_type": "display_data",
          "data": {
            "text/plain": [
              "<Figure size 432x288 with 1 Axes>"
            ],
            "image/png": "[encoded data removed]"
          },
          "metadata": {
            "needs_background": "light"
          }
        },
        {
          "output_type": "display_data",
          "data": {
            "text/plain": [
              "<Figure size 432x288 with 0 Axes>"
            ]
          },
          "metadata": {}
        }
      ],
      "source": [
        "loss = history.history['loss']\n",
        "val_loss = history.history['val_loss']\n",
        "\n",
        "epochs = range(len(loss))\n",
        "\n",
        "plt.plot(epochs, loss, 'r', label='Training loss')\n",
        "plt.plot(epochs, val_loss, 'b', label='Validation loss')\n",
        "plt.title('Training and validation loss')\n",
        "plt.legend(loc=0)\n",
        "plt.figure()\n",
        "\n",
        "\n",
        "plt.show()"
      ]
    },
    {
      "cell_type": "code",
      "execution_count": null,
      "metadata": {
        "colab": {
          "base_uri": "https://localhost:8080/"
        },
        "id": "QwNsEHilBBAJ",
        "outputId": "f41ad2cc-0d64-4d32-99bf-606fe214393e"
      },
      "outputs": [
        {
          "output_type": "stream",
          "name": "stdout",
          "text": [
            "26/26 [==============================] - 2s 9ms/step\n",
            "17/17 [==============================] - 0s 9ms/step\n"
          ]
        },
        {
          "output_type": "execute_result",
          "data": {
            "text/plain": [
              "((822, 1), (544, 1))"
            ]
          },
          "metadata": {},
          "execution_count": 227
        }
      ],
      "source": [
        "### Lets Do the prediction and check performance metrics\n",
        "train_predict=model.predict(X_train)\n",
        "test_predict=model.predict(X_test)\n",
        "train_predict.shape, test_predict.shape"
      ]
    },
    {
      "cell_type": "markdown",
      "metadata": {
        "id": "O5CwUEqaBF0B"
      },
      "source": [
        "Model Evaluation"
      ]
    },
    {
      "cell_type": "code",
      "execution_count": null,
      "metadata": {
        "id": "pHEAuSVaBNs6"
      },
      "outputs": [],
      "source": [
        "# Transform back to original form\n",
        "\n",
        "train_predict = scaler.inverse_transform(train_predict)\n",
        "test_predict = scaler.inverse_transform(test_predict)\n",
        "original_ytrain = scaler.inverse_transform(y_train.reshape(-1,1)) \n",
        "original_ytest = scaler.inverse_transform(y_test.reshape(-1,1)) "
      ]
    },
    {
      "cell_type": "markdown",
      "metadata": {
        "id": "p2A5DIkfBQCh"
      },
      "source": [
        "Evaluation Metrics"
      ]
    },
    {
      "cell_type": "code",
      "execution_count": null,
      "metadata": {
        "colab": {
          "base_uri": "https://localhost:8080/"
        },
        "id": "3QEgTvYVBeRz",
        "outputId": "916cedb9-b6f2-4bc2-cecf-3d3adca79940"
      },
      "outputs": [
        {
          "output_type": "stream",
          "name": "stdout",
          "text": [
            "Train data RMSE:  830.6284705942766\n",
            "Train data MSE:  689943.656161787\n",
            "Train data MAE:  451.3122053691454\n",
            "-------------------------------------------------------------------------------------\n",
            "Test data RMSE:  1548.5369082359493\n",
            "Test data MSE:  2397966.556168953\n",
            "Test data MAE:  1114.402846380055\n"
          ]
        }
      ],
      "source": [
        "# Evaluation metrices RMSE and MAE\n",
        "print(\"Train data RMSE: \", math.sqrt(mean_squared_error(original_ytrain,train_predict)))\n",
        "print(\"Train data MSE: \", mean_squared_error(original_ytrain,train_predict))\n",
        "print(\"Train data MAE: \", mean_absolute_error(original_ytrain,train_predict))\n",
        "print(\"-------------------------------------------------------------------------------------\")\n",
        "print(\"Test data RMSE: \", math.sqrt(mean_squared_error(original_ytest,test_predict)))\n",
        "print(\"Test data MSE: \", mean_squared_error(original_ytest,test_predict))\n",
        "print(\"Test data MAE: \", mean_absolute_error(original_ytest,test_predict))"
      ]
    },
    {
      "cell_type": "markdown",
      "metadata": {
        "id": "Z42Qs4h7Bglb"
      },
      "source": [
        "Variance Regression Score"
      ]
    },
    {
      "cell_type": "code",
      "execution_count": null,
      "metadata": {
        "colab": {
          "base_uri": "https://localhost:8080/"
        },
        "id": "92lq1CdjBmac",
        "outputId": "127e199b-4356-47f7-b012-f0babb28401c"
      },
      "outputs": [
        {
          "output_type": "stream",
          "name": "stdout",
          "text": [
            "Train data explained variance regression score: 0.9965265979329725\n",
            "Test data explained variance regression score: 0.9854314473364453\n"
          ]
        }
      ],
      "source": [
        "print(\"Train data explained variance regression score:\", \n",
        "      explained_variance_score(original_ytrain, train_predict))\n",
        "print(\"Test data explained variance regression score:\", \n",
        "      explained_variance_score(original_ytest, test_predict))"
      ]
    },
    {
      "cell_type": "markdown",
      "metadata": {
        "id": "8r24xEnjBqJd"
      },
      "source": [
        "R squared score for Regression"
      ]
    },
    {
      "cell_type": "code",
      "execution_count": null,
      "metadata": {
        "colab": {
          "base_uri": "https://localhost:8080/"
        },
        "id": "IxqDhTaPBvg7",
        "outputId": "f8c98c92-c8e4-402b-c2b5-83de4cb3e399"
      },
      "outputs": [
        {
          "output_type": "stream",
          "name": "stdout",
          "text": [
            "Train data R2 score: 0.9964267008128199\n",
            "Test data R2 score: 0.9851363401894534\n"
          ]
        }
      ],
      "source": [
        "print(\"Train data R2 score:\", r2_score(original_ytrain, train_predict))\n",
        "print(\"Test data R2 score:\", r2_score(original_ytest, test_predict))"
      ]
    },
    {
      "cell_type": "markdown",
      "metadata": {
        "id": "-sF0zdivCRZ8"
      },
      "source": [
        "Regression Loss Mean Gamma deviance regression loss (MGD) and Mean Poisson deviance regression loss (MPD)"
      ]
    },
    {
      "cell_type": "code",
      "execution_count": null,
      "metadata": {
        "colab": {
          "base_uri": "https://localhost:8080/"
        },
        "id": "qZbGxxY6CZiM",
        "outputId": "9c683239-dd29-4cc1-eba3-f7667afb17bd"
      },
      "outputs": [
        {
          "output_type": "stream",
          "name": "stdout",
          "text": [
            "Train data MGD:  0.0025117715462902946\n",
            "Test data MGD:  0.0015587727139610796\n",
            "----------------------------------------------------------------------\n",
            "Train data MPD:  28.240651599785483\n",
            "Test data MPD:  58.48668313862125\n"
          ]
        }
      ],
      "source": [
        "print(\"Train data MGD: \", mean_gamma_deviance(original_ytrain, train_predict))\n",
        "print(\"Test data MGD: \", mean_gamma_deviance(original_ytest, test_predict))\n",
        "print(\"----------------------------------------------------------------------\")\n",
        "print(\"Train data MPD: \", mean_poisson_deviance(original_ytrain, train_predict))\n",
        "print(\"Test data MPD: \", mean_poisson_deviance(original_ytest, test_predict))"
      ]
    },
    {
      "cell_type": "markdown",
      "metadata": {
        "id": "BmUybMATCfYM"
      },
      "source": [
        "Comparision of original Bitcoin close price and predicted close price"
      ]
    },
    {
      "cell_type": "code",
      "execution_count": null,
      "metadata": {
        "colab": {
          "base_uri": "https://localhost:8080/",
          "height": 577
        },
        "id": "Erxrlg1WCcpc",
        "outputId": "45544a4b-752f-4dbc-8525-78c411bb5920"
      },
      "outputs": [
        {
          "output_type": "stream",
          "name": "stdout",
          "text": [
            "Train predicted data:  (1398, 1)\n",
            "Test predicted data:  (1398, 1)\n"
          ]
        },
        {
          "output_type": "display_data",
          "data": {
            "text/html": [
              "<html>\n",
              "<head><meta charset=\"utf-8\" /></head>\n",
              "<body>\n",
              "    <div>            <script src=\"https://cdnjs.cloudflare.com/ajax/libs/mathjax/2.7.5/MathJax.js?config=TeX-AMS-MML_SVG\"></script><script type=\"text/javascript\">if (window.MathJax) {MathJax.Hub.Config({SVG: {font: \"STIX-Web\"}});}</script>                <script type=\"text/javascript\">window.PlotlyConfig = {MathJaxConfig: 'local'};</script>\n",
              "        <script src=\"https://cdn.plot.ly/plotly-2.8.3.min.js\"></script>                <div id=\"84125015-857f-4f3b-9a8c-fbd219aad57b\" class=\"plotly-graph-div\" style=\"height:525px; width:100%;\"></div>            <script type=\"text/javascript\">                                    window.PLOTLYENV=window.PLOTLYENV || {};                                    if (document.getElementById(\"84125015-857f-4f3b-9a8c-fbd219aad57b\")) {                    Plotly.newPlot(                        \"84125015-857f-4f3b-9a8c-fbd219aad57b\",                        [{\"hovertemplate\":\"variable=original_close<br>Date=%{x}<br>Stock price=%{y}<extra></extra>\",\"legendgroup\":\"original_close\",\"line\":{\"color\":\"#636efa\",\"dash\":\"solid\"},\"marker\":{\"symbol\":\"circle\"},\"mode\":\"lines\",\"name\":\"Original close price\",\"showlegend\":true,\"x\":[\"2019-01-02\",\"2019-01-03\",\"2019-01-04\",\"2019-01-05\",\"2019-01-06\",\"2019-01-07\",\"2019-01-08\",\"2019-01-09\",\"2019-01-10\",\"2019-01-11\",\"2019-01-12\",\"2019-01-13\",\"2019-01-14\",\"2019-01-15\",\"2019-01-16\",\"2019-01-17\",\"2019-01-18\",\"2019-01-19\",\"2019-01-20\",\"2019-01-21\",\"2019-01-22\",\"2019-01-23\",\"2019-01-24\",\"2019-01-25\",\"2019-01-26\",\"2019-01-27\",\"2019-01-28\",\"2019-01-29\",\"2019-01-30\",\"2019-01-31\",\"2019-02-01\",\"2019-02-02\",\"2019-02-03\",\"2019-02-04\",\"2019-02-05\",\"2019-02-06\",\"2019-02-07\",\"2019-02-08\",\"2019-02-09\",\"2019-02-10\",\"2019-02-11\",\"2019-02-12\",\"2019-02-13\",\"2019-02-14\",\"2019-02-15\",\"2019-02-16\",\"2019-02-17\",\"2019-02-18\",\"2019-02-19\",\"2019-02-20\",\"2019-02-21\",\"2019-02-22\",\"2019-02-23\",\"2019-02-24\",\"2019-02-25\",\"2019-02-26\",\"2019-02-27\",\"2019-02-28\",\"2019-03-01\",\"2019-03-02\",\"2019-03-03\",\"2019-03-04\",\"2019-03-05\",\"2019-03-06\",\"2019-03-07\",\"2019-03-08\",\"2019-03-09\",\"2019-03-10\",\"2019-03-11\",\"2019-03-12\",\"2019-03-13\",\"2019-03-14\",\"2019-03-15\",\"2019-03-16\",\"2019-03-17\",\"2019-03-18\",\"2019-03-19\",\"2019-03-20\",\"2019-03-21\",\"2019-03-22\",\"2019-03-23\",\"2019-03-24\",\"2019-03-25\",\"2019-03-26\",\"2019-03-27\",\"2019-03-28\",\"2019-03-29\",\"2019-03-30\",\"2019-03-31\",\"2019-04-01\",\"2019-04-02\",\"2019-04-03\",\"2019-04-04\",\"2019-04-05\",\"2019-04-06\",\"2019-04-07\",\"2019-04-08\",\"2019-04-09\",\"2019-04-10\",\"2019-04-11\",\"2019-04-12\",\"2019-04-13\",\"2019-04-14\",\"2019-04-15\",\"2019-04-16\",\"2019-04-17\",\"2019-04-18\",\"2019-04-19\",\"2019-04-20\",\"2019-04-21\",\"2019-04-22\",\"2019-04-23\",\"2019-04-24\",\"2019-04-25\",\"2019-04-26\",\"2019-04-27\",\"2019-04-28\",\"2019-04-29\",\"2019-04-30\",\"2019-05-01\",\"2019-05-02\",\"2019-05-03\",\"2019-05-04\",\"2019-05-05\",\"2019-05-06\",\"2019-05-07\",\"2019-05-08\",\"2019-05-09\",\"2019-05-10\",\"2019-05-11\",\"2019-05-12\",\"2019-05-13\",\"2019-05-14\",\"2019-05-15\",\"2019-05-16\",\"2019-05-17\",\"2019-05-18\",\"2019-05-19\",\"2019-05-20\",\"2019-05-21\",\"2019-05-22\",\"2019-05-23\",\"2019-05-24\",\"2019-05-25\",\"2019-05-26\",\"2019-05-27\",\"2019-05-28\",\"2019-05-29\",\"2019-05-30\",\"2019-05-31\",\"2019-06-01\",\"2019-06-02\",\"2019-06-03\",\"2019-06-04\",\"2019-06-05\",\"2019-06-06\",\"2019-06-07\",\"2019-06-08\",\"2019-06-09\",\"2019-06-10\",\"2019-06-11\",\"2019-06-12\",\"2019-06-13\",\"2019-06-14\",\"2019-06-15\",\"2019-06-16\",\"2019-06-17\",\"2019-06-18\",\"2019-06-19\",\"2019-06-20\",\"2019-06-21\",\"2019-06-22\",\"2019-06-23\",\"2019-06-24\",\"2019-06-25\",\"2019-06-26\",\"2019-06-27\",\"2019-06-28\",\"2019-06-29\",\"2019-06-30\",\"2019-07-01\",\"2019-07-02\",\"2019-07-03\",\"2019-07-04\",\"2019-07-05\",\"2019-07-06\",\"2019-07-07\",\"2019-07-08\",\"2019-07-09\",\"2019-07-10\",\"2019-07-11\",\"2019-07-12\",\"2019-07-13\",\"2019-07-14\",\"2019-07-15\",\"2019-07-16\",\"2019-07-17\",\"2019-07-18\",\"2019-07-19\",\"2019-07-20\",\"2019-07-21\",\"2019-07-22\",\"2019-07-23\",\"2019-07-24\",\"2019-07-25\",\"2019-07-26\",\"2019-07-27\",\"2019-07-28\",\"2019-07-29\",\"2019-07-30\",\"2019-07-31\",\"2019-08-01\",\"2019-08-02\",\"2019-08-03\",\"2019-08-04\",\"2019-08-05\",\"2019-08-06\",\"2019-08-07\",\"2019-08-08\",\"2019-08-09\",\"2019-08-10\",\"2019-08-11\",\"2019-08-12\",\"2019-08-13\",\"2019-08-14\",\"2019-08-15\",\"2019-08-16\",\"2019-08-17\",\"2019-08-18\",\"2019-08-19\",\"2019-08-20\",\"2019-08-21\",\"2019-08-22\",\"2019-08-23\",\"2019-08-24\",\"2019-08-25\",\"2019-08-26\",\"2019-08-27\",\"2019-08-28\",\"2019-08-29\",\"2019-08-30\",\"2019-08-31\",\"2019-09-01\",\"2019-09-02\",\"2019-09-03\",\"2019-09-04\",\"2019-09-05\",\"2019-09-06\",\"2019-09-07\",\"2019-09-08\",\"2019-09-09\",\"2019-09-10\",\"2019-09-11\",\"2019-09-12\",\"2019-09-13\",\"2019-09-14\",\"2019-09-15\",\"2019-09-16\",\"2019-09-17\",\"2019-09-18\",\"2019-09-19\",\"2019-09-20\",\"2019-09-21\",\"2019-09-22\",\"2019-09-23\",\"2019-09-24\",\"2019-09-25\",\"2019-09-26\",\"2019-09-27\",\"2019-09-28\",\"2019-09-29\",\"2019-09-30\",\"2019-10-01\",\"2019-10-02\",\"2019-10-03\",\"2019-10-04\",\"2019-10-05\",\"2019-10-06\",\"2019-10-07\",\"2019-10-08\",\"2019-10-09\",\"2019-10-10\",\"2019-10-11\",\"2019-10-12\",\"2019-10-13\",\"2019-10-14\",\"2019-10-15\",\"2019-10-16\",\"2019-10-17\",\"2019-10-18\",\"2019-10-19\",\"2019-10-20\",\"2019-10-21\",\"2019-10-22\",\"2019-10-23\",\"2019-10-24\",\"2019-10-25\",\"2019-10-26\",\"2019-10-27\",\"2019-10-28\",\"2019-10-29\",\"2019-10-30\",\"2019-10-31\",\"2019-11-01\",\"2019-11-02\",\"2019-11-03\",\"2019-11-04\",\"2019-11-05\",\"2019-11-06\",\"2019-11-07\",\"2019-11-08\",\"2019-11-09\",\"2019-11-10\",\"2019-11-11\",\"2019-11-12\",\"2019-11-13\",\"2019-11-14\",\"2019-11-15\",\"2019-11-16\",\"2019-11-17\",\"2019-11-18\",\"2019-11-19\",\"2019-11-20\",\"2019-11-21\",\"2019-11-22\",\"2019-11-23\",\"2019-11-24\",\"2019-11-25\",\"2019-11-26\",\"2019-11-27\",\"2019-11-28\",\"2019-11-29\",\"2019-11-30\",\"2019-12-01\",\"2019-12-02\",\"2019-12-03\",\"2019-12-04\",\"2019-12-05\",\"2019-12-06\",\"2019-12-07\",\"2019-12-08\",\"2019-12-09\",\"2019-12-10\",\"2019-12-11\",\"2019-12-12\",\"2019-12-13\",\"2019-12-14\",\"2019-12-15\",\"2019-12-16\",\"2019-12-17\",\"2019-12-18\",\"2019-12-19\",\"2019-12-20\",\"2019-12-21\",\"2019-12-22\",\"2019-12-23\",\"2019-12-24\",\"2019-12-25\",\"2019-12-26\",\"2019-12-27\",\"2019-12-28\",\"2019-12-29\",\"2019-12-30\",\"2019-12-31\",\"2020-01-01\",\"2020-01-02\",\"2020-01-03\",\"2020-01-04\",\"2020-01-05\",\"2020-01-06\",\"2020-01-07\",\"2020-01-08\",\"2020-01-09\",\"2020-01-10\",\"2020-01-11\",\"2020-01-12\",\"2020-01-13\",\"2020-01-14\",\"2020-01-15\",\"2020-01-16\",\"2020-01-17\",\"2020-01-18\",\"2020-01-19\",\"2020-01-20\",\"2020-01-21\",\"2020-01-22\",\"2020-01-23\",\"2020-01-24\",\"2020-01-25\",\"2020-01-26\",\"2020-01-27\",\"2020-01-28\",\"2020-01-29\",\"2020-01-30\",\"2020-01-31\",\"2020-02-01\",\"2020-02-02\",\"2020-02-03\",\"2020-02-04\",\"2020-02-05\",\"2020-02-06\",\"2020-02-07\",\"2020-02-08\",\"2020-02-09\",\"2020-02-10\",\"2020-02-11\",\"2020-02-12\",\"2020-02-13\",\"2020-02-14\",\"2020-02-15\",\"2020-02-16\",\"2020-02-17\",\"2020-02-18\",\"2020-02-19\",\"2020-02-20\",\"2020-02-21\",\"2020-02-22\",\"2020-02-23\",\"2020-02-24\",\"2020-02-25\",\"2020-02-26\",\"2020-02-27\",\"2020-02-28\",\"2020-02-29\",\"2020-03-01\",\"2020-03-02\",\"2020-03-03\",\"2020-03-04\",\"2020-03-05\",\"2020-03-06\",\"2020-03-07\",\"2020-03-08\",\"2020-03-09\",\"2020-03-10\",\"2020-03-11\",\"2020-03-12\",\"2020-03-13\",\"2020-03-14\",\"2020-03-15\",\"2020-03-16\",\"2020-03-17\",\"2020-03-18\",\"2020-03-19\",\"2020-03-20\",\"2020-03-21\",\"2020-03-22\",\"2020-03-23\",\"2020-03-24\",\"2020-03-25\",\"2020-03-26\",\"2020-03-27\",\"2020-03-28\",\"2020-03-29\",\"2020-03-30\",\"2020-03-31\",\"2020-04-01\",\"2020-04-02\",\"2020-04-03\",\"2020-04-04\",\"2020-04-05\",\"2020-04-06\",\"2020-04-07\",\"2020-04-08\",\"2020-04-09\",\"2020-04-10\",\"2020-04-11\",\"2020-04-12\",\"2020-04-13\",\"2020-04-14\",\"2020-04-15\",\"2020-04-16\",\"2020-04-17\",\"2020-04-18\",\"2020-04-19\",\"2020-04-20\",\"2020-04-21\",\"2020-04-22\",\"2020-04-23\",\"2020-04-24\",\"2020-04-25\",\"2020-04-26\",\"2020-04-27\",\"2020-04-28\",\"2020-04-29\",\"2020-04-30\",\"2020-05-01\",\"2020-05-02\",\"2020-05-03\",\"2020-05-04\",\"2020-05-05\",\"2020-05-06\",\"2020-05-07\",\"2020-05-08\",\"2020-05-09\",\"2020-05-10\",\"2020-05-11\",\"2020-05-12\",\"2020-05-13\",\"2020-05-14\",\"2020-05-15\",\"2020-05-16\",\"2020-05-17\",\"2020-05-18\",\"2020-05-19\",\"2020-05-20\",\"2020-05-21\",\"2020-05-22\",\"2020-05-23\",\"2020-05-24\",\"2020-05-25\",\"2020-05-26\",\"2020-05-27\",\"2020-05-28\",\"2020-05-29\",\"2020-05-30\",\"2020-05-31\",\"2020-06-01\",\"2020-06-02\",\"2020-06-03\",\"2020-06-04\",\"2020-06-05\",\"2020-06-06\",\"2020-06-07\",\"2020-06-08\",\"2020-06-09\",\"2020-06-10\",\"2020-06-11\",\"2020-06-12\",\"2020-06-13\",\"2020-06-14\",\"2020-06-15\",\"2020-06-16\",\"2020-06-17\",\"2020-06-18\",\"2020-06-19\",\"2020-06-20\",\"2020-06-21\",\"2020-06-22\",\"2020-06-23\",\"2020-06-24\",\"2020-06-25\",\"2020-06-26\",\"2020-06-27\",\"2020-06-28\",\"2020-06-29\",\"2020-06-30\",\"2020-07-01\",\"2020-07-02\",\"2020-07-03\",\"2020-07-04\",\"2020-07-05\",\"2020-07-06\",\"2020-07-07\",\"2020-07-08\",\"2020-07-09\",\"2020-07-10\",\"2020-07-11\",\"2020-07-12\",\"2020-07-13\",\"2020-07-14\",\"2020-07-15\",\"2020-07-16\",\"2020-07-17\",\"2020-07-18\",\"2020-07-19\",\"2020-07-20\",\"2020-07-21\",\"2020-07-22\",\"2020-07-23\",\"2020-07-24\",\"2020-07-25\",\"2020-07-26\",\"2020-07-27\",\"2020-07-28\",\"2020-07-29\",\"2020-07-30\",\"2020-07-31\",\"2020-08-01\",\"2020-08-02\",\"2020-08-03\",\"2020-08-04\",\"2020-08-05\",\"2020-08-06\",\"2020-08-07\",\"2020-08-08\",\"2020-08-09\",\"2020-08-10\",\"2020-08-11\",\"2020-08-12\",\"2020-08-13\",\"2020-08-14\",\"2020-08-15\",\"2020-08-16\",\"2020-08-17\",\"2020-08-18\",\"2020-08-19\",\"2020-08-20\",\"2020-08-21\",\"2020-08-22\",\"2020-08-23\",\"2020-08-24\",\"2020-08-25\",\"2020-08-26\",\"2020-08-27\",\"2020-08-28\",\"2020-08-29\",\"2020-08-30\",\"2020-08-31\",\"2020-09-01\",\"2020-09-02\",\"2020-09-03\",\"2020-09-04\",\"2020-09-05\",\"2020-09-06\",\"2020-09-07\",\"2020-09-08\",\"2020-09-09\",\"2020-09-10\",\"2020-09-11\",\"2020-09-12\",\"2020-09-13\",\"2020-09-14\",\"2020-09-15\",\"2020-09-16\",\"2020-09-17\",\"2020-09-18\",\"2020-09-19\",\"2020-09-20\",\"2020-09-21\",\"2020-09-22\",\"2020-09-23\",\"2020-09-24\",\"2020-09-25\",\"2020-09-26\",\"2020-09-27\",\"2020-09-28\",\"2020-09-29\",\"2020-09-30\",\"2020-10-01\",\"2020-10-02\",\"2020-10-03\",\"2020-10-04\",\"2020-10-05\",\"2020-10-06\",\"2020-10-07\",\"2020-10-08\",\"2020-10-09\",\"2020-10-10\",\"2020-10-11\",\"2020-10-12\",\"2020-10-13\",\"2020-10-14\",\"2020-10-15\",\"2020-10-16\",\"2020-10-17\",\"2020-10-18\",\"2020-10-19\",\"2020-10-20\",\"2020-10-21\",\"2020-10-22\",\"2020-10-23\",\"2020-10-24\",\"2020-10-25\",\"2020-10-26\",\"2020-10-27\",\"2020-10-28\",\"2020-10-29\",\"2020-10-30\",\"2020-10-31\",\"2020-11-01\",\"2020-11-02\",\"2020-11-03\",\"2020-11-04\",\"2020-11-05\",\"2020-11-06\",\"2020-11-07\",\"2020-11-08\",\"2020-11-09\",\"2020-11-10\",\"2020-11-11\",\"2020-11-12\",\"2020-11-13\",\"2020-11-14\",\"2020-11-15\",\"2020-11-16\",\"2020-11-17\",\"2020-11-18\",\"2020-11-19\",\"2020-11-20\",\"2020-11-21\",\"2020-11-22\",\"2020-11-23\",\"2020-11-24\",\"2020-11-25\",\"2020-11-26\",\"2020-11-27\",\"2020-11-28\",\"2020-11-29\",\"2020-11-30\",\"2020-12-01\",\"2020-12-02\",\"2020-12-03\",\"2020-12-04\",\"2020-12-05\",\"2020-12-06\",\"2020-12-07\",\"2020-12-08\",\"2020-12-09\",\"2020-12-10\",\"2020-12-11\",\"2020-12-12\",\"2020-12-13\",\"2020-12-14\",\"2020-12-15\",\"2020-12-16\",\"2020-12-17\",\"2020-12-18\",\"2020-12-19\",\"2020-12-20\",\"2020-12-21\",\"2020-12-22\",\"2020-12-23\",\"2020-12-24\",\"2020-12-25\",\"2020-12-26\",\"2020-12-27\",\"2020-12-28\",\"2020-12-29\",\"2020-12-30\",\"2020-12-31\",\"2021-01-01\",\"2021-01-02\",\"2021-01-03\",\"2021-01-04\",\"2021-01-05\",\"2021-01-06\",\"2021-01-07\",\"2021-01-08\",\"2021-01-09\",\"2021-01-10\",\"2021-01-11\",\"2021-01-12\",\"2021-01-13\",\"2021-01-14\",\"2021-01-15\",\"2021-01-16\",\"2021-01-17\",\"2021-01-18\",\"2021-01-19\",\"2021-01-20\",\"2021-01-21\",\"2021-01-22\",\"2021-01-23\",\"2021-01-24\",\"2021-01-25\",\"2021-01-26\",\"2021-01-27\",\"2021-01-28\",\"2021-01-29\",\"2021-01-30\",\"2021-01-31\",\"2021-02-01\",\"2021-02-02\",\"2021-02-03\",\"2021-02-04\",\"2021-02-05\",\"2021-02-06\",\"2021-02-07\",\"2021-02-08\",\"2021-02-09\",\"2021-02-10\",\"2021-02-11\",\"2021-02-12\",\"2021-02-13\",\"2021-02-14\",\"2021-02-15\",\"2021-02-16\",\"2021-02-17\",\"2021-02-18\",\"2021-02-19\",\"2021-02-20\",\"2021-02-21\",\"2021-02-22\",\"2021-02-23\",\"2021-02-24\",\"2021-02-25\",\"2021-02-26\",\"2021-02-27\",\"2021-02-28\",\"2021-03-01\",\"2021-03-02\",\"2021-03-03\",\"2021-03-04\",\"2021-03-05\",\"2021-03-06\",\"2021-03-07\",\"2021-03-08\",\"2021-03-09\",\"2021-03-10\",\"2021-03-11\",\"2021-03-12\",\"2021-03-13\",\"2021-03-14\",\"2021-03-15\",\"2021-03-16\",\"2021-03-17\",\"2021-03-18\",\"2021-03-19\",\"2021-03-20\",\"2021-03-21\",\"2021-03-22\",\"2021-03-23\",\"2021-03-24\",\"2021-03-25\",\"2021-03-26\",\"2021-03-27\",\"2021-03-28\",\"2021-03-29\",\"2021-03-30\",\"2021-03-31\",\"2021-04-01\",\"2021-04-02\",\"2021-04-03\",\"2021-04-04\",\"2021-04-05\",\"2021-04-06\",\"2021-04-07\",\"2021-04-08\",\"2021-04-09\",\"2021-04-10\",\"2021-04-11\",\"2021-04-12\",\"2021-04-13\",\"2021-04-14\",\"2021-04-15\",\"2021-04-16\",\"2021-04-17\",\"2021-04-18\",\"2021-04-19\",\"2021-04-20\",\"2021-04-21\",\"2021-04-22\",\"2021-04-23\",\"2021-04-24\",\"2021-04-25\",\"2021-04-26\",\"2021-04-27\",\"2021-04-28\",\"2021-04-29\",\"2021-04-30\",\"2021-05-01\",\"2021-05-02\",\"2021-05-03\",\"2021-05-04\",\"2021-05-05\",\"2021-05-06\",\"2021-05-07\",\"2021-05-08\",\"2021-05-09\",\"2021-05-10\",\"2021-05-11\",\"2021-05-12\",\"2021-05-13\",\"2021-05-14\",\"2021-05-15\",\"2021-05-16\",\"2021-05-17\",\"2021-05-18\",\"2021-05-19\",\"2021-05-20\",\"2021-05-21\",\"2021-05-22\",\"2021-05-23\",\"2021-05-24\",\"2021-05-25\",\"2021-05-26\",\"2021-05-27\",\"2021-05-28\",\"2021-05-29\",\"2021-05-30\",\"2021-05-31\",\"2021-06-01\",\"2021-06-02\",\"2021-06-03\",\"2021-06-04\",\"2021-06-05\",\"2021-06-06\",\"2021-06-07\",\"2021-06-08\",\"2021-06-09\",\"2021-06-10\",\"2021-06-11\",\"2021-06-12\",\"2021-06-13\",\"2021-06-14\",\"2021-06-15\",\"2021-06-16\",\"2021-06-17\",\"2021-06-18\",\"2021-06-19\",\"2021-06-20\",\"2021-06-21\",\"2021-06-22\",\"2021-06-23\",\"2021-06-24\",\"2021-06-25\",\"2021-06-26\",\"2021-06-27\",\"2021-06-28\",\"2021-06-29\",\"2021-06-30\",\"2021-07-01\",\"2021-07-02\",\"2021-07-03\",\"2021-07-04\",\"2021-07-05\",\"2021-07-06\",\"2021-07-07\",\"2021-07-08\",\"2021-07-09\",\"2021-07-10\",\"2021-07-11\",\"2021-07-12\",\"2021-07-13\",\"2021-07-14\",\"2021-07-15\",\"2021-07-16\",\"2021-07-17\",\"2021-07-18\",\"2021-07-19\",\"2021-07-20\",\"2021-07-21\",\"2021-07-22\",\"2021-07-23\",\"2021-07-24\",\"2021-07-25\",\"2021-07-26\",\"2021-07-27\",\"2021-07-28\",\"2021-07-29\",\"2021-07-30\",\"2021-07-31\",\"2021-08-01\",\"2021-08-02\",\"2021-08-03\",\"2021-08-04\",\"2021-08-05\",\"2021-08-06\",\"2021-08-07\",\"2021-08-08\",\"2021-08-09\",\"2021-08-10\",\"2021-08-11\",\"2021-08-12\",\"2021-08-13\",\"2021-08-14\",\"2021-08-15\",\"2021-08-16\",\"2021-08-17\",\"2021-08-18\",\"2021-08-19\",\"2021-08-20\",\"2021-08-21\",\"2021-08-22\",\"2021-08-23\",\"2021-08-24\",\"2021-08-25\",\"2021-08-26\",\"2021-08-27\",\"2021-08-28\",\"2021-08-29\",\"2021-08-30\",\"2021-08-31\",\"2021-09-01\",\"2021-09-02\",\"2021-09-03\",\"2021-09-04\",\"2021-09-05\",\"2021-09-06\",\"2021-09-07\",\"2021-09-08\",\"2021-09-09\",\"2021-09-10\",\"2021-09-11\",\"2021-09-12\",\"2021-09-13\",\"2021-09-14\",\"2021-09-15\",\"2021-09-16\",\"2021-09-17\",\"2021-09-18\",\"2021-09-19\",\"2021-09-20\",\"2021-09-21\",\"2021-09-22\",\"2021-09-23\",\"2021-09-24\",\"2021-09-25\",\"2021-09-26\",\"2021-09-27\",\"2021-09-28\",\"2021-09-29\",\"2021-09-30\",\"2021-10-01\",\"2021-10-02\",\"2021-10-03\",\"2021-10-04\",\"2021-10-05\",\"2021-10-06\",\"2021-10-07\",\"2021-10-08\",\"2021-10-09\",\"2021-10-10\",\"2021-10-11\",\"2021-10-12\",\"2021-10-13\",\"2021-10-14\",\"2021-10-15\",\"2021-10-16\",\"2021-10-17\",\"2021-10-18\",\"2021-10-19\",\"2021-10-20\",\"2021-10-21\",\"2021-10-22\",\"2021-10-23\",\"2021-10-24\",\"2021-10-25\",\"2021-10-26\",\"2021-10-27\",\"2021-10-28\",\"2021-10-29\",\"2021-10-30\",\"2021-10-31\",\"2021-11-01\",\"2021-11-02\",\"2021-11-03\",\"2021-11-04\",\"2021-11-05\",\"2021-11-06\",\"2021-11-07\",\"2021-11-08\",\"2021-11-09\",\"2021-11-10\",\"2021-11-11\",\"2021-11-12\",\"2021-11-13\",\"2021-11-14\",\"2021-11-15\",\"2021-11-16\",\"2021-11-17\",\"2021-11-18\",\"2021-11-19\",\"2021-11-20\",\"2021-11-21\",\"2021-11-22\",\"2021-11-23\",\"2021-11-24\",\"2021-11-25\",\"2021-11-26\",\"2021-11-27\",\"2021-11-28\",\"2021-11-29\",\"2021-11-30\",\"2021-12-01\",\"2021-12-02\",\"2021-12-03\",\"2021-12-04\",\"2021-12-05\",\"2021-12-06\",\"2021-12-07\",\"2021-12-08\",\"2021-12-09\",\"2021-12-10\",\"2021-12-11\",\"2021-12-12\",\"2021-12-13\",\"2021-12-14\",\"2021-12-15\",\"2021-12-16\",\"2021-12-17\",\"2021-12-18\",\"2021-12-19\",\"2021-12-20\",\"2021-12-21\",\"2021-12-22\",\"2021-12-23\",\"2021-12-24\",\"2021-12-25\",\"2021-12-26\",\"2021-12-27\",\"2021-12-28\",\"2021-12-29\",\"2021-12-30\",\"2021-12-31\",\"2022-01-01\",\"2022-01-02\",\"2022-01-03\",\"2022-01-04\",\"2022-01-05\",\"2022-01-06\",\"2022-01-07\",\"2022-01-08\",\"2022-01-09\",\"2022-01-10\",\"2022-01-11\",\"2022-01-12\",\"2022-01-13\",\"2022-01-14\",\"2022-01-15\",\"2022-01-16\",\"2022-01-17\",\"2022-01-18\",\"2022-01-19\",\"2022-01-20\",\"2022-01-21\",\"2022-01-22\",\"2022-01-23\",\"2022-01-24\",\"2022-01-25\",\"2022-01-26\",\"2022-01-27\",\"2022-01-28\",\"2022-01-29\",\"2022-01-30\",\"2022-01-31\",\"2022-02-01\",\"2022-02-02\",\"2022-02-03\",\"2022-02-04\",\"2022-02-05\",\"2022-02-06\",\"2022-02-07\",\"2022-02-08\",\"2022-02-09\",\"2022-02-10\",\"2022-02-11\",\"2022-02-12\",\"2022-02-13\",\"2022-02-14\",\"2022-02-15\",\"2022-02-16\",\"2022-02-17\",\"2022-02-18\",\"2022-02-19\",\"2022-02-20\",\"2022-02-21\",\"2022-02-22\",\"2022-02-23\",\"2022-02-24\",\"2022-02-25\",\"2022-02-26\",\"2022-02-27\",\"2022-02-28\",\"2022-03-01\",\"2022-03-02\",\"2022-03-03\",\"2022-03-04\",\"2022-03-05\",\"2022-03-06\",\"2022-03-07\",\"2022-03-08\",\"2022-03-09\",\"2022-03-10\",\"2022-03-11\",\"2022-03-12\",\"2022-03-13\",\"2022-03-14\",\"2022-03-15\",\"2022-03-16\",\"2022-03-17\",\"2022-03-18\",\"2022-03-19\",\"2022-03-20\",\"2022-03-21\",\"2022-03-22\",\"2022-03-23\",\"2022-03-24\",\"2022-03-25\",\"2022-03-26\",\"2022-03-27\",\"2022-03-28\",\"2022-03-29\",\"2022-03-30\",\"2022-03-31\",\"2022-04-01\",\"2022-04-02\",\"2022-04-03\",\"2022-04-04\",\"2022-04-05\",\"2022-04-06\",\"2022-04-07\",\"2022-04-08\",\"2022-04-09\",\"2022-04-10\",\"2022-04-11\",\"2022-04-12\",\"2022-04-13\",\"2022-04-14\",\"2022-04-15\",\"2022-04-16\",\"2022-04-17\",\"2022-04-18\",\"2022-04-19\",\"2022-04-20\",\"2022-04-21\",\"2022-04-22\",\"2022-04-23\",\"2022-04-24\",\"2022-04-25\",\"2022-04-26\",\"2022-04-27\",\"2022-04-28\",\"2022-04-29\",\"2022-04-30\",\"2022-05-01\",\"2022-05-02\",\"2022-05-03\",\"2022-05-04\",\"2022-05-05\",\"2022-05-06\",\"2022-05-07\",\"2022-05-08\",\"2022-05-09\",\"2022-05-10\",\"2022-05-11\",\"2022-05-12\",\"2022-05-13\",\"2022-05-14\",\"2022-05-15\",\"2022-05-16\",\"2022-05-17\",\"2022-05-18\",\"2022-05-19\",\"2022-05-20\",\"2022-05-21\",\"2022-05-22\",\"2022-05-23\",\"2022-05-24\",\"2022-05-25\",\"2022-05-26\",\"2022-05-27\",\"2022-05-28\",\"2022-05-29\",\"2022-05-30\",\"2022-05-31\",\"2022-06-01\",\"2022-06-02\",\"2022-06-03\",\"2022-06-04\",\"2022-06-05\",\"2022-06-06\",\"2022-06-07\",\"2022-06-08\",\"2022-06-09\",\"2022-06-10\",\"2022-06-11\",\"2022-06-12\",\"2022-06-13\",\"2022-06-14\",\"2022-06-15\",\"2022-06-16\",\"2022-06-17\",\"2022-06-18\",\"2022-06-19\",\"2022-06-20\",\"2022-06-21\",\"2022-06-22\",\"2022-06-23\",\"2022-06-24\",\"2022-06-25\",\"2022-06-26\",\"2022-06-27\",\"2022-06-28\",\"2022-06-29\",\"2022-06-30\",\"2022-07-01\",\"2022-07-02\",\"2022-07-03\",\"2022-07-04\",\"2022-07-05\",\"2022-07-06\",\"2022-07-07\",\"2022-07-08\",\"2022-07-09\",\"2022-07-10\",\"2022-07-11\",\"2022-07-12\",\"2022-07-13\",\"2022-07-14\",\"2022-07-15\",\"2022-07-16\",\"2022-07-17\",\"2022-07-18\",\"2022-07-19\",\"2022-07-20\",\"2022-07-21\",\"2022-07-22\",\"2022-07-23\",\"2022-07-24\",\"2022-07-25\",\"2022-07-26\",\"2022-07-27\",\"2022-07-28\",\"2022-07-29\",\"2022-07-30\",\"2022-07-31\",\"2022-08-01\",\"2022-08-02\",\"2022-08-03\",\"2022-08-04\",\"2022-08-05\",\"2022-08-06\",\"2022-08-07\",\"2022-08-08\",\"2022-08-09\",\"2022-08-10\",\"2022-08-11\",\"2022-08-12\",\"2022-08-13\",\"2022-08-14\",\"2022-08-15\",\"2022-08-16\",\"2022-08-17\",\"2022-08-18\",\"2022-08-19\",\"2022-08-20\",\"2022-08-21\",\"2022-08-22\",\"2022-08-23\",\"2022-08-24\",\"2022-08-25\",\"2022-08-26\",\"2022-08-27\",\"2022-08-28\",\"2022-08-29\",\"2022-08-30\",\"2022-08-31\",\"2022-09-01\",\"2022-09-02\",\"2022-09-03\",\"2022-09-04\",\"2022-09-05\",\"2022-09-06\",\"2022-09-07\",\"2022-09-08\",\"2022-09-09\",\"2022-09-10\",\"2022-09-11\",\"2022-09-12\",\"2022-09-13\",\"2022-09-14\",\"2022-09-15\",\"2022-09-16\",\"2022-09-17\",\"2022-09-18\",\"2022-09-19\",\"2022-09-20\",\"2022-09-21\",\"2022-09-22\",\"2022-09-23\",\"2022-09-24\",\"2022-09-25\",\"2022-09-26\",\"2022-09-27\",\"2022-09-28\",\"2022-09-29\",\"2022-09-30\",\"2022-10-01\",\"2022-10-02\",\"2022-10-03\",\"2022-10-04\",\"2022-10-05\",\"2022-10-06\",\"2022-10-07\",\"2022-10-08\",\"2022-10-09\",\"2022-10-10\",\"2022-10-11\",\"2022-10-12\",\"2022-10-13\",\"2022-10-14\",\"2022-10-15\",\"2022-10-16\",\"2022-10-17\",\"2022-10-18\",\"2022-10-19\",\"2022-10-20\",\"2022-10-21\",\"2022-10-22\",\"2022-10-23\",\"2022-10-24\",\"2022-10-25\",\"2022-10-26\",\"2022-10-27\",\"2022-10-28\",\"2022-10-29\",\"2022-10-30\"],\"xaxis\":\"x\",\"y\":[3943.409424,3836.741211,3857.717529,3845.19458,4076.632568,4025.248291,4030.8479,4035.296387,3678.924561,3687.365479,3661.301025,3552.953125,3706.052246,3630.675293,3655.006836,3678.563965,3657.839355,3728.568359,3601.013672,3576.032471,3604.577148,3585.123047,3600.865479,3599.765869,3602.460449,3583.96582,3470.450439,3448.116943,3486.181641,3457.792725,3487.945313,3521.060791,3464.013428,3459.154053,3466.357422,3413.767822,3399.47168,3666.780273,3671.203613,3690.188232,3648.430664,3653.528564,3632.070557,3616.880859,3620.810791,3629.787598,3673.836182,3915.714355,3947.094482,3999.820557,3954.118164,4005.526611,4142.526855,3810.42749,3882.696289,3854.35791,3851.047363,3854.7854,3859.58374,3864.415039,3847.175781,3761.557129,3896.375,3903.942627,3911.484375,3901.131592,3963.313721,3951.599854,3905.227295,3909.15625,3906.717285,3924.369141,3960.911133,4048.72583,4025.229004,4032.507324,4071.190186,4087.476318,4029.326904,4023.968262,4035.826416,4022.168213,3963.070557,3985.080811,4087.066162,4069.107178,4098.374512,4106.660156,4105.404297,4158.183105,4879.87793,4973.021973,4922.798828,5036.681152,5059.817383,5198.896973,5289.770996,5204.958496,5324.551758,5064.487793,5089.539063,5096.586426,5167.722168,5067.108398,5235.55957,5251.937988,5298.385742,5303.8125,5337.88623,5314.53125,5399.365234,5572.362305,5464.866699,5210.515625,5279.348145,5268.291016,5285.13916,5247.352539,5350.726563,5402.697266,5505.283691,5768.289551,5831.16748,5795.708496,5746.807129,5829.501465,5982.45752,6174.528809,6378.849121,7204.771484,6972.371582,7814.915039,7994.416016,8205.167969,7884.90918,7343.895508,7271.208008,8197.689453,7978.309082,7963.327637,7680.066406,7881.84668,7987.371582,8052.543945,8673.21582,8805.77832,8719.961914,8659.487305,8319.472656,8574.501953,8564.016602,8742.958008,8208.995117,7707.770996,7824.231445,7822.023438,8043.951172,7954.12793,7688.077148,8000.32959,7927.714355,8145.857422,8230.923828,8693.833008,8838.375,8994.488281,9320.352539,9081.762695,9273.521484,9527.160156,10144.556641,10701.691406,10855.371094,11011.102539,11790.916992,13016.231445,11182.806641,12407.332031,11959.371094,10817.155273,10583.134766,10801.677734,11961.269531,11215.4375,10978.459961,11208.550781,11450.84668,12285.958008,12573.8125,12156.512695,11358.662109,11815.986328,11392.378906,10256.058594,10895.089844,9477.641602,9693.802734,10666.482422,10530.732422,10767.139648,10599.105469,10343.106445,9900.767578,9811.925781,9911.841797,9870.303711,9477.677734,9552.860352,9519.145508,9607.423828,10085.62793,10399.668945,10518.174805,10821.726563,10970.18457,11805.65332,11478.168945,11941.96875,11966.407227,11862.936523,11354.024414,11523.579102,11382.616211,10895.830078,10051.704102,10311.545898,10374.338867,10231.744141,10345.810547,10916.053711,10763.232422,10138.049805,10131.055664,10407.964844,10159.960938,10138.517578,10370.820313,10185.5,9754.422852,9510.200195,9598.173828,9630.664063,9757.970703,10346.760742,10623.540039,10594.493164,10575.533203,10353.302734,10517.254883,10441.276367,10334.974609,10115.975586,10178.37207,10410.126953,10360.546875,10358.048828,10347.712891,10276.793945,10241.272461,10198.248047,10266.415039,10181.641602,10019.716797,10070.392578,9729.324219,8620.566406,8486.993164,8118.967773,8251.845703,8245.915039,8104.185547,8293.868164,8343.276367,8393.041992,8259.992188,8205.939453,8151.500488,7988.155762,8245.623047,8228.783203,8595.740234,8586.473633,8321.756836,8336.555664,8321.005859,8374.686523,8205.369141,8047.526855,8103.911133,7973.20752,7988.560547,8222.078125,8243.720703,8078.203125,7514.671875,7493.48877,8660.700195,9244.972656,9551.714844,9256.148438,9427.6875,9205.726563,9199.584961,9261.104492,9324.717773,9235.354492,9412.612305,9342.527344,9360.879883,9267.561523,8804.880859,8813.582031,9055.526367,8757.788086,8815.662109,8808.262695,8708.094727,8491.992188,8550.760742,8577.975586,8309.286133,8206.145508,8027.268066,7642.75,7296.577637,7397.796875,7047.916992,7146.133789,7218.371094,7531.663574,7463.105957,7761.243652,7569.629883,7424.29248,7321.988281,7320.145508,7252.034668,7448.307617,7546.996582,7556.237793,7564.345215,7400.899414,7278.119629,7217.427246,7243.134277,7269.68457,7124.673828,7152.301758,6932.480469,6640.515137,7276.802734,7202.844238,7218.816406,7191.158691,7511.588867,7355.628418,7322.532227,7275.155762,7238.966797,7290.088379,7317.990234,7422.652832,7292.995117,7193.599121,7200.174316,6985.470215,7344.884277,7410.656738,7411.317383,7769.219238,8163.692383,8079.862793,7879.071289,8166.554199,8037.537598,8192.494141,8144.194336,8827.764648,8807.010742,8723.786133,8929.038086,8942.808594,8706.245117,8657.642578,8745.894531,8680.875977,8406.515625,8445.43457,8367.847656,8596.830078,8909.819336,9358.589844,9316.629883,9508.993164,9350.529297,9392.875,9344.365234,9293.521484,9180.962891,9613.423828,9729.801758,9795.943359,9865.119141,10116.673828,9856.611328,10208.236328,10326.054688,10214.379883,10312.116211,9889.424805,9934.433594,9690.142578,10141.996094,9633.386719,9608.475586,9686.441406,9663.181641,9924.515625,9650.174805,9341.705078,8820.522461,8784.494141,8672.455078,8599.508789,8562.454102,8869.669922,8787.786133,8755.246094,9078.762695,9122.545898,8909.954102,8108.116211,7923.644531,7909.729492,7911.430176,4970.788086,5563.707031,5200.366211,5392.314941,5014.47998,5225.629395,5238.438477,6191.192871,6198.77832,6185.066406,5830.254883,6416.314941,6734.803711,6681.062988,6716.44043,6469.79834,6242.193848,5922.042969,6429.841797,6438.644531,6606.776367,6793.624512,6733.387207,6867.527344,6791.129395,7271.78125,7176.414551,7334.098633,7302.089355,6865.493164,6859.083008,6971.091797,6845.037598,6842.427734,6642.109863,7116.804199,7096.18457,7257.665039,7189.424805,6881.958496,6880.323242,7117.20752,7429.724609,7550.900879,7569.936035,7679.867188,7795.601074,7807.058594,8801.038086,8658.553711,8864.766602,8988.59668,8897.46875,8912.654297,9003.070313,9268.761719,9951.518555,9842.666016,9593.896484,8756.430664,8601.795898,8804.477539,9269.987305,9733.72168,9328.197266,9377.013672,9670.739258,9726.575195,9729.038086,9522.981445,9081.761719,9182.577148,9209.287109,8790.368164,8906.93457,8835.052734,9181.017578,9525.750977,9439.124023,9700.414063,9461.058594,10167.268555,9529.803711,9656.717773,9800.636719,9665.533203,9653.679688,9758.852539,9771.489258,9795.700195,9870.094727,9321.78125,9480.84375,9475.277344,9386.788086,9450.702148,9538.024414,9480.254883,9411.84082,9288.018555,9332.34082,9303.629883,9648.717773,9629.658203,9313.610352,9264.813477,9162.917969,9045.390625,9143.582031,9190.854492,9137.993164,9228.325195,9123.410156,9087.303711,9132.488281,9073.942383,9375.474609,9252.277344,9428.333008,9277.967773,9278.807617,9240.34668,9276.5,9243.614258,9243.213867,9192.836914,9132.227539,9151.392578,9159.040039,9185.817383,9164.231445,9374.887695,9525.363281,9581.072266,9536.892578,9677.113281,9905.166992,10990.873047,10912.823242,11100.467773,11111.213867,11323.466797,11759.592773,11053.614258,11246.348633,11205.892578,11747.022461,11779.773438,11601.472656,11754.045898,11675.739258,11878.111328,11410.525391,11584.93457,11784.137695,11768.871094,11865.698242,11892.803711,12254.402344,11991.233398,11758.283203,11878.37207,11592.489258,11681.825195,11664.847656,11774.595703,11366.134766,11488.363281,11323.397461,11542.5,11506.865234,11711.505859,11680.820313,11970.478516,11414.03418,10245.296875,10511.813477,10169.567383,10280.351563,10369.563477,10131.516602,10242.347656,10363.138672,10400.915039,10442.170898,10323.755859,10680.837891,10796.951172,10974.905273,10948.990234,10944.585938,11094.34668,10938.271484,10462.259766,10538.459961,10246.186523,10760.066406,10692.716797,10750.723633,10775.269531,10709.652344,10844.640625,10784.491211,10619.452148,10575.974609,10549.329102,10669.583008,10793.339844,10604.40625,10668.96875,10915.685547,11064.458008,11296.361328,11384.181641,11555.363281,11425.899414,11429.506836,11495.349609,11322.123047,11358.101563,11483.359375,11742.037109,11916.334961,12823.689453,12965.891602,12931.539063,13108.0625,13031.173828,13075.248047,13654.21875,13271.285156,13437.882813,13546.522461,13780.995117,13737.109375,13550.489258,13950.300781,14133.707031,15579.848633,15565.880859,14833.753906,15479.567383,15332.31543,15290.902344,15701.339844,16276.34375,16317.808594,16068.138672,15955.587891,16716.111328,17645.40625,17804.005859,17817.089844,18621.314453,18642.232422,18370.001953,18364.121094,19107.464844,18732.121094,17150.623047,17108.402344,17717.414063,18177.484375,19625.835938,18802.998047,19201.091797,19445.398438,18699.765625,19154.230469,19345.121094,19191.630859,18321.144531,18553.916016,18264.992188,18058.904297,18803.65625,19142.382813,19246.644531,19417.076172,21310.597656,22805.162109,23137.960938,23869.832031,23477.294922,22803.082031,23783.029297,23241.345703,23735.949219,24664.791016,26437.037109,26272.294922,27084.808594,27362.4375,28840.953125,29001.720703,29374.152344,32127.267578,32782.023438,31971.914063,33992.429688,36824.363281,39371.042969,40797.609375,40254.546875,38356.441406,35566.65625,33922.960938,37316.359375,39187.328125,36825.367188,36178.140625,35791.277344,36630.074219,36069.804688,35547.75,30825.699219,33005.761719,32067.642578,32289.378906,32366.392578,32569.849609,30432.546875,33466.097656,34316.386719,34269.523438,33114.359375,33537.175781,35510.289063,37472.089844,36926.066406,38144.308594,39266.011719,38903.441406,46196.464844,46481.105469,44918.183594,47909.332031,47504.851563,47105.515625,48717.289063,47945.058594,49199.871094,52149.007813,51679.796875,55888.132813,56099.519531,57539.945313,54207.320313,48824.425781,49705.332031,47093.851563,46339.761719,46188.453125,45137.769531,49631.242188,48378.988281,50538.242188,48561.167969,48927.304688,48912.382813,51206.691406,52246.523438,54824.117188,56008.550781,57805.121094,57332.089844,61243.085938,59302.316406,55907.199219,56804.902344,58870.894531,57858.921875,58346.652344,58313.644531,57523.421875,54529.144531,54738.945313,52774.265625,51704.160156,55137.3125,55973.511719,55950.746094,57750.199219,58917.691406,58918.832031,59095.808594,59384.3125,57603.890625,58758.554688,59057.878906,58192.359375,56048.9375,58323.953125,58245.003906,59793.234375,60204.964844,59893.453125,63503.457031,63109.695313,63314.011719,61572.789063,60683.820313,56216.183594,55724.265625,56473.03125,53906.089844,51762.273438,51093.652344,50050.867188,49004.253906,54021.753906,55033.117188,54824.703125,53555.109375,57750.175781,57828.050781,56631.078125,57200.292969,53333.539063,57424.007813,56396.515625,57356.402344,58803.777344,58232.316406,55859.796875,56704.574219,49150.535156,49716.191406,49880.535156,46760.1875,46456.058594,43537.511719,42909.402344,37002.441406,40782.738281,37304.691406,37536.632813,34770.582031,38705.980469,38402.222656,39294.199219,38436.96875,35697.605469,34616.066406,35678.128906,37332.855469,36684.925781,37575.179688,39208.765625,36894.40625,35551.957031,35862.378906,33560.707031,33472.632813,37345.121094,36702.597656,37334.398438,35552.515625,39097.859375,40218.476563,40406.269531,38347.0625,38053.503906,35787.246094,35615.871094,35698.296875,31676.693359,32505.660156,33723.027344,34662.4375,31637.779297,32186.277344,34649.644531,34434.335938,35867.777344,35040.835938,33572.117188,33897.046875,34668.546875,35287.78125,33746.003906,34235.195313,33855.328125,32877.371094,33798.011719,33520.519531,34240.1875,33155.847656,32702.025391,32822.347656,31780.730469,31421.539063,31533.068359,31796.810547,30817.832031,29807.347656,32110.693359,32313.105469,33581.550781,34292.445313,35350.1875,37337.535156,39406.941406,39995.90625,40008.421875,42235.546875,41626.195313,39974.894531,39201.945313,38152.980469,39747.503906,40869.554688,42816.5,44555.800781,43798.117188,46365.402344,45585.03125,45593.636719,44428.289063,47793.320313,47096.945313,47047.003906,46004.484375,44695.359375,44801.1875,46717.578125,49339.175781,48905.492188,49321.652344,49546.148438,47706.117188,48960.789063,46942.21875,49058.667969,48902.402344,48829.832031,47054.984375,47166.6875,48847.027344,49327.722656,50025.375,49944.625,51753.410156,52633.535156,46811.128906,46091.390625,46391.421875,44883.910156,45201.457031,46063.269531,44963.074219,47092.492188,48176.347656,47783.359375,47267.519531,48278.363281,47260.21875,42843.800781,40693.675781,43574.507813,44895.097656,42839.75,42716.59375,43208.539063,42235.730469,41034.542969,41564.363281,43790.894531,48116.941406,47711.488281,48199.953125,49112.902344,51514.8125,55361.449219,53805.984375,53967.847656,54968.222656,54771.578125,57484.789063,56041.058594,57401.097656,57321.523438,61593.949219,60892.179688,61553.617188,62026.078125,64261.992188,65992.835938,62210.171875,60692.265625,61393.617188,60930.835938,63039.824219,60363.792969,58482.386719,60622.136719,62227.964844,61888.832031,61318.957031,61004.40625,63226.402344,62970.046875,61452.230469,61125.675781,61527.480469,63326.988281,67566.828125,66971.828125,64995.230469,64949.960938,64155.941406,64469.527344,65466.839844,63557.871094,60161.246094,60368.011719,56942.136719,58119.578125,59697.195313,58730.476563,56289.289063,57569.074219,56280.425781,57274.679688,53569.765625,54815.078125,57248.457031,57806.566406,57005.425781,57229.828125,56477.816406,53598.246094,49200.703125,49368.847656,50582.625,50700.085938,50504.796875,47672.121094,47243.304688,49362.507813,50098.335938,46737.480469,46612.632813,48896.722656,47665.425781,46202.144531,46848.777344,46707.015625,46880.277344,48936.613281,48628.511719,50784.539063,50822.195313,50429.859375,50809.515625,50640.417969,47588.855469,46444.710938,47178.125,46306.445313,47686.8125,47345.21875,46458.117188,45897.574219,43569.003906,43160.929688,41557.902344,41733.941406,41911.601563,41821.261719,42735.855469,43949.101563,42591.570313,43099.699219,43177.398438,43113.878906,42250.550781,42375.632813,41744.328125,40680.417969,36457.316406,35030.25,36276.804688,36654.328125,36954.003906,36852.121094,37138.234375,37784.332031,38138.179688,37917.601563,38483.125,38743.273438,36952.984375,37154.601563,41500.875,41441.164063,42412.433594,43840.285156,44118.445313,44338.796875,43565.113281,42407.9375,42244.46875,42197.515625,42586.917969,44575.203125,43961.859375,40538.011719,40030.976563,40122.15625,38431.378906,37075.28125,38286.027344,37296.570313,38332.609375,39214.21875,39105.148438,37709.785156,43193.234375,44354.636719,43924.117188,42451.789063,39137.605469,39400.585938,38419.984375,38062.039063,38737.269531,41982.925781,39437.460938,38794.972656,38904.011719,37849.664063,39666.753906,39338.785156,41143.929688,40951.378906,41801.15625,42190.652344,41247.824219,41077.996094,42358.808594,42892.957031,43960.933594,44348.730469,44500.828125,46820.492188,47128.003906,47465.730469,47062.664063,45538.675781,46281.644531,45868.949219,46453.566406,46622.675781,45555.992188,43206.738281,43503.847656,42287.664063,42782.136719,42207.671875,39521.902344,40127.183594,41166.730469,39935.515625,40553.464844,40424.484375,39716.953125,40826.214844,41502.75,41374.378906,40527.363281,39740.320313,39486.730469,39469.292969,40458.308594,38117.460938,39241.121094,39773.828125,38609.824219,37714.875,38469.09375,38529.328125,37750.453125,39698.371094,36575.140625,36040.921875,35501.953125,34059.265625,30296.953125,31022.90625,28936.355469,29047.751953,29283.103516,30101.265625,31305.113281,29862.917969,30425.857422,28720.271484,30314.333984,29200.740234,29432.226563,30323.722656,29098.910156,29655.585938,29562.361328,29267.224609,28627.574219,28814.900391,29445.957031,31726.390625,31792.310547,29799.080078,30467.488281,29704.390625,29832.914063,29906.662109,31370.671875,31155.478516,30214.355469,30111.998047,29083.804688,28360.810547,26762.648438,22487.388672,22206.792969,22572.839844,20381.650391,20471.482422,19017.642578,20553.271484,20599.537109,20710.597656,19987.029297,21085.876953,21231.65625,21502.337891,21027.294922,20735.478516,20280.634766,20104.023438,19784.726563,19269.367188,19242.255859,19297.076172,20231.261719,20190.115234,20548.246094,21637.587891,21731.117188,21592.207031,20860.449219,19970.556641,19323.914063,20212.074219,20569.919922,20836.328125,21190.316406,20779.34375,22485.689453,23389.433594,23231.732422,23164.628906,22714.978516,22465.478516,22609.164063,21361.701172,21239.753906,22930.548828,23843.886719,23804.632813,23656.207031,23336.896484,23314.199219,22978.117188,22846.507813,22630.957031,23289.314453,22961.279297,23175.890625,23809.486328,23164.318359,23947.642578,23957.529297,24402.818359,24424.068359,24319.333984,24136.972656,23883.291016,23335.998047,23212.738281,20877.552734,21166.060547,21534.121094,21398.908203,21528.087891,21395.019531,21600.904297,20260.019531,20041.738281,19616.814453,20297.994141,19796.808594,20049.763672,20127.140625,19969.771484,19832.087891,19986.712891,19812.371094,18837.667969,19290.324219,19329.833984,21381.152344,21680.539063,21769.255859,22370.449219,20296.707031,20241.089844,19701.210938,19772.583984,20127.576172,19419.505859,19544.128906,18890.789063,18547.400391,19413.550781,19297.638672,18937.011719,18802.097656,19222.671875,19110.546875,19426.720703,19573.050781,19431.789063,19312.095703,19044.107422,19623.580078,20336.84375,20160.716797,19955.443359,19546.849609,19416.568359,19446.425781,19141.484375,19051.417969,19157.445313,19382.904297,19185.65625,19067.634766,19268.09375,19550.757813,19334.416016,19139.535156,19053.740234,19172.46875,19208.189453,19567.007813,19345.572266,20095.857422,20770.441406,20285.835938,20595.351563,20818.476563,20763.728516],\"yaxis\":\"y\",\"type\":\"scattergl\"},{\"hovertemplate\":\"variable=train_predicted_close<br>Date=%{x}<br>Stock price=%{y}<extra></extra>\",\"legendgroup\":\"train_predicted_close\",\"line\":{\"color\":\"#EF553B\",\"dash\":\"solid\"},\"marker\":{\"symbol\":\"circle\"},\"mode\":\"lines\",\"name\":\"Train predicted close price\",\"showlegend\":true,\"x\":[\"2019-01-02\",\"2019-01-03\",\"2019-01-04\",\"2019-01-05\",\"2019-01-06\",\"2019-01-07\",\"2019-01-08\",\"2019-01-09\",\"2019-01-10\",\"2019-01-11\",\"2019-01-12\",\"2019-01-13\",\"2019-01-14\",\"2019-01-15\",\"2019-01-16\",\"2019-01-17\",\"2019-01-18\",\"2019-01-19\",\"2019-01-20\",\"2019-01-21\",\"2019-01-22\",\"2019-01-23\",\"2019-01-24\",\"2019-01-25\",\"2019-01-26\",\"2019-01-27\",\"2019-01-28\",\"2019-01-29\",\"2019-01-30\",\"2019-01-31\",\"2019-02-01\",\"2019-02-02\",\"2019-02-03\",\"2019-02-04\",\"2019-02-05\",\"2019-02-06\",\"2019-02-07\",\"2019-02-08\",\"2019-02-09\",\"2019-02-10\",\"2019-02-11\",\"2019-02-12\",\"2019-02-13\",\"2019-02-14\",\"2019-02-15\",\"2019-02-16\",\"2019-02-17\",\"2019-02-18\",\"2019-02-19\",\"2019-02-20\",\"2019-02-21\",\"2019-02-22\",\"2019-02-23\",\"2019-02-24\",\"2019-02-25\",\"2019-02-26\",\"2019-02-27\",\"2019-02-28\",\"2019-03-01\",\"2019-03-02\",\"2019-03-03\",\"2019-03-04\",\"2019-03-05\",\"2019-03-06\",\"2019-03-07\",\"2019-03-08\",\"2019-03-09\",\"2019-03-10\",\"2019-03-11\",\"2019-03-12\",\"2019-03-13\",\"2019-03-14\",\"2019-03-15\",\"2019-03-16\",\"2019-03-17\",\"2019-03-18\",\"2019-03-19\",\"2019-03-20\",\"2019-03-21\",\"2019-03-22\",\"2019-03-23\",\"2019-03-24\",\"2019-03-25\",\"2019-03-26\",\"2019-03-27\",\"2019-03-28\",\"2019-03-29\",\"2019-03-30\",\"2019-03-31\",\"2019-04-01\",\"2019-04-02\",\"2019-04-03\",\"2019-04-04\",\"2019-04-05\",\"2019-04-06\",\"2019-04-07\",\"2019-04-08\",\"2019-04-09\",\"2019-04-10\",\"2019-04-11\",\"2019-04-12\",\"2019-04-13\",\"2019-04-14\",\"2019-04-15\",\"2019-04-16\",\"2019-04-17\",\"2019-04-18\",\"2019-04-19\",\"2019-04-20\",\"2019-04-21\",\"2019-04-22\",\"2019-04-23\",\"2019-04-24\",\"2019-04-25\",\"2019-04-26\",\"2019-04-27\",\"2019-04-28\",\"2019-04-29\",\"2019-04-30\",\"2019-05-01\",\"2019-05-02\",\"2019-05-03\",\"2019-05-04\",\"2019-05-05\",\"2019-05-06\",\"2019-05-07\",\"2019-05-08\",\"2019-05-09\",\"2019-05-10\",\"2019-05-11\",\"2019-05-12\",\"2019-05-13\",\"2019-05-14\",\"2019-05-15\",\"2019-05-16\",\"2019-05-17\",\"2019-05-18\",\"2019-05-19\",\"2019-05-20\",\"2019-05-21\",\"2019-05-22\",\"2019-05-23\",\"2019-05-24\",\"2019-05-25\",\"2019-05-26\",\"2019-05-27\",\"2019-05-28\",\"2019-05-29\",\"2019-05-30\",\"2019-05-31\",\"2019-06-01\",\"2019-06-02\",\"2019-06-03\",\"2019-06-04\",\"2019-06-05\",\"2019-06-06\",\"2019-06-07\",\"2019-06-08\",\"2019-06-09\",\"2019-06-10\",\"2019-06-11\",\"2019-06-12\",\"2019-06-13\",\"2019-06-14\",\"2019-06-15\",\"2019-06-16\",\"2019-06-17\",\"2019-06-18\",\"2019-06-19\",\"2019-06-20\",\"2019-06-21\",\"2019-06-22\",\"2019-06-23\",\"2019-06-24\",\"2019-06-25\",\"2019-06-26\",\"2019-06-27\",\"2019-06-28\",\"2019-06-29\",\"2019-06-30\",\"2019-07-01\",\"2019-07-02\",\"2019-07-03\",\"2019-07-04\",\"2019-07-05\",\"2019-07-06\",\"2019-07-07\",\"2019-07-08\",\"2019-07-09\",\"2019-07-10\",\"2019-07-11\",\"2019-07-12\",\"2019-07-13\",\"2019-07-14\",\"2019-07-15\",\"2019-07-16\",\"2019-07-17\",\"2019-07-18\",\"2019-07-19\",\"2019-07-20\",\"2019-07-21\",\"2019-07-22\",\"2019-07-23\",\"2019-07-24\",\"2019-07-25\",\"2019-07-26\",\"2019-07-27\",\"2019-07-28\",\"2019-07-29\",\"2019-07-30\",\"2019-07-31\",\"2019-08-01\",\"2019-08-02\",\"2019-08-03\",\"2019-08-04\",\"2019-08-05\",\"2019-08-06\",\"2019-08-07\",\"2019-08-08\",\"2019-08-09\",\"2019-08-10\",\"2019-08-11\",\"2019-08-12\",\"2019-08-13\",\"2019-08-14\",\"2019-08-15\",\"2019-08-16\",\"2019-08-17\",\"2019-08-18\",\"2019-08-19\",\"2019-08-20\",\"2019-08-21\",\"2019-08-22\",\"2019-08-23\",\"2019-08-24\",\"2019-08-25\",\"2019-08-26\",\"2019-08-27\",\"2019-08-28\",\"2019-08-29\",\"2019-08-30\",\"2019-08-31\",\"2019-09-01\",\"2019-09-02\",\"2019-09-03\",\"2019-09-04\",\"2019-09-05\",\"2019-09-06\",\"2019-09-07\",\"2019-09-08\",\"2019-09-09\",\"2019-09-10\",\"2019-09-11\",\"2019-09-12\",\"2019-09-13\",\"2019-09-14\",\"2019-09-15\",\"2019-09-16\",\"2019-09-17\",\"2019-09-18\",\"2019-09-19\",\"2019-09-20\",\"2019-09-21\",\"2019-09-22\",\"2019-09-23\",\"2019-09-24\",\"2019-09-25\",\"2019-09-26\",\"2019-09-27\",\"2019-09-28\",\"2019-09-29\",\"2019-09-30\",\"2019-10-01\",\"2019-10-02\",\"2019-10-03\",\"2019-10-04\",\"2019-10-05\",\"2019-10-06\",\"2019-10-07\",\"2019-10-08\",\"2019-10-09\",\"2019-10-10\",\"2019-10-11\",\"2019-10-12\",\"2019-10-13\",\"2019-10-14\",\"2019-10-15\",\"2019-10-16\",\"2019-10-17\",\"2019-10-18\",\"2019-10-19\",\"2019-10-20\",\"2019-10-21\",\"2019-10-22\",\"2019-10-23\",\"2019-10-24\",\"2019-10-25\",\"2019-10-26\",\"2019-10-27\",\"2019-10-28\",\"2019-10-29\",\"2019-10-30\",\"2019-10-31\",\"2019-11-01\",\"2019-11-02\",\"2019-11-03\",\"2019-11-04\",\"2019-11-05\",\"2019-11-06\",\"2019-11-07\",\"2019-11-08\",\"2019-11-09\",\"2019-11-10\",\"2019-11-11\",\"2019-11-12\",\"2019-11-13\",\"2019-11-14\",\"2019-11-15\",\"2019-11-16\",\"2019-11-17\",\"2019-11-18\",\"2019-11-19\",\"2019-11-20\",\"2019-11-21\",\"2019-11-22\",\"2019-11-23\",\"2019-11-24\",\"2019-11-25\",\"2019-11-26\",\"2019-11-27\",\"2019-11-28\",\"2019-11-29\",\"2019-11-30\",\"2019-12-01\",\"2019-12-02\",\"2019-12-03\",\"2019-12-04\",\"2019-12-05\",\"2019-12-06\",\"2019-12-07\",\"2019-12-08\",\"2019-12-09\",\"2019-12-10\",\"2019-12-11\",\"2019-12-12\",\"2019-12-13\",\"2019-12-14\",\"2019-12-15\",\"2019-12-16\",\"2019-12-17\",\"2019-12-18\",\"2019-12-19\",\"2019-12-20\",\"2019-12-21\",\"2019-12-22\",\"2019-12-23\",\"2019-12-24\",\"2019-12-25\",\"2019-12-26\",\"2019-12-27\",\"2019-12-28\",\"2019-12-29\",\"2019-12-30\",\"2019-12-31\",\"2020-01-01\",\"2020-01-02\",\"2020-01-03\",\"2020-01-04\",\"2020-01-05\",\"2020-01-06\",\"2020-01-07\",\"2020-01-08\",\"2020-01-09\",\"2020-01-10\",\"2020-01-11\",\"2020-01-12\",\"2020-01-13\",\"2020-01-14\",\"2020-01-15\",\"2020-01-16\",\"2020-01-17\",\"2020-01-18\",\"2020-01-19\",\"2020-01-20\",\"2020-01-21\",\"2020-01-22\",\"2020-01-23\",\"2020-01-24\",\"2020-01-25\",\"2020-01-26\",\"2020-01-27\",\"2020-01-28\",\"2020-01-29\",\"2020-01-30\",\"2020-01-31\",\"2020-02-01\",\"2020-02-02\",\"2020-02-03\",\"2020-02-04\",\"2020-02-05\",\"2020-02-06\",\"2020-02-07\",\"2020-02-08\",\"2020-02-09\",\"2020-02-10\",\"2020-02-11\",\"2020-02-12\",\"2020-02-13\",\"2020-02-14\",\"2020-02-15\",\"2020-02-16\",\"2020-02-17\",\"2020-02-18\",\"2020-02-19\",\"2020-02-20\",\"2020-02-21\",\"2020-02-22\",\"2020-02-23\",\"2020-02-24\",\"2020-02-25\",\"2020-02-26\",\"2020-02-27\",\"2020-02-28\",\"2020-02-29\",\"2020-03-01\",\"2020-03-02\",\"2020-03-03\",\"2020-03-04\",\"2020-03-05\",\"2020-03-06\",\"2020-03-07\",\"2020-03-08\",\"2020-03-09\",\"2020-03-10\",\"2020-03-11\",\"2020-03-12\",\"2020-03-13\",\"2020-03-14\",\"2020-03-15\",\"2020-03-16\",\"2020-03-17\",\"2020-03-18\",\"2020-03-19\",\"2020-03-20\",\"2020-03-21\",\"2020-03-22\",\"2020-03-23\",\"2020-03-24\",\"2020-03-25\",\"2020-03-26\",\"2020-03-27\",\"2020-03-28\",\"2020-03-29\",\"2020-03-30\",\"2020-03-31\",\"2020-04-01\",\"2020-04-02\",\"2020-04-03\",\"2020-04-04\",\"2020-04-05\",\"2020-04-06\",\"2020-04-07\",\"2020-04-08\",\"2020-04-09\",\"2020-04-10\",\"2020-04-11\",\"2020-04-12\",\"2020-04-13\",\"2020-04-14\",\"2020-04-15\",\"2020-04-16\",\"2020-04-17\",\"2020-04-18\",\"2020-04-19\",\"2020-04-20\",\"2020-04-21\",\"2020-04-22\",\"2020-04-23\",\"2020-04-24\",\"2020-04-25\",\"2020-04-26\",\"2020-04-27\",\"2020-04-28\",\"2020-04-29\",\"2020-04-30\",\"2020-05-01\",\"2020-05-02\",\"2020-05-03\",\"2020-05-04\",\"2020-05-05\",\"2020-05-06\",\"2020-05-07\",\"2020-05-08\",\"2020-05-09\",\"2020-05-10\",\"2020-05-11\",\"2020-05-12\",\"2020-05-13\",\"2020-05-14\",\"2020-05-15\",\"2020-05-16\",\"2020-05-17\",\"2020-05-18\",\"2020-05-19\",\"2020-05-20\",\"2020-05-21\",\"2020-05-22\",\"2020-05-23\",\"2020-05-24\",\"2020-05-25\",\"2020-05-26\",\"2020-05-27\",\"2020-05-28\",\"2020-05-29\",\"2020-05-30\",\"2020-05-31\",\"2020-06-01\",\"2020-06-02\",\"2020-06-03\",\"2020-06-04\",\"2020-06-05\",\"2020-06-06\",\"2020-06-07\",\"2020-06-08\",\"2020-06-09\",\"2020-06-10\",\"2020-06-11\",\"2020-06-12\",\"2020-06-13\",\"2020-06-14\",\"2020-06-15\",\"2020-06-16\",\"2020-06-17\",\"2020-06-18\",\"2020-06-19\",\"2020-06-20\",\"2020-06-21\",\"2020-06-22\",\"2020-06-23\",\"2020-06-24\",\"2020-06-25\",\"2020-06-26\",\"2020-06-27\",\"2020-06-28\",\"2020-06-29\",\"2020-06-30\",\"2020-07-01\",\"2020-07-02\",\"2020-07-03\",\"2020-07-04\",\"2020-07-05\",\"2020-07-06\",\"2020-07-07\",\"2020-07-08\",\"2020-07-09\",\"2020-07-10\",\"2020-07-11\",\"2020-07-12\",\"2020-07-13\",\"2020-07-14\",\"2020-07-15\",\"2020-07-16\",\"2020-07-17\",\"2020-07-18\",\"2020-07-19\",\"2020-07-20\",\"2020-07-21\",\"2020-07-22\",\"2020-07-23\",\"2020-07-24\",\"2020-07-25\",\"2020-07-26\",\"2020-07-27\",\"2020-07-28\",\"2020-07-29\",\"2020-07-30\",\"2020-07-31\",\"2020-08-01\",\"2020-08-02\",\"2020-08-03\",\"2020-08-04\",\"2020-08-05\",\"2020-08-06\",\"2020-08-07\",\"2020-08-08\",\"2020-08-09\",\"2020-08-10\",\"2020-08-11\",\"2020-08-12\",\"2020-08-13\",\"2020-08-14\",\"2020-08-15\",\"2020-08-16\",\"2020-08-17\",\"2020-08-18\",\"2020-08-19\",\"2020-08-20\",\"2020-08-21\",\"2020-08-22\",\"2020-08-23\",\"2020-08-24\",\"2020-08-25\",\"2020-08-26\",\"2020-08-27\",\"2020-08-28\",\"2020-08-29\",\"2020-08-30\",\"2020-08-31\",\"2020-09-01\",\"2020-09-02\",\"2020-09-03\",\"2020-09-04\",\"2020-09-05\",\"2020-09-06\",\"2020-09-07\",\"2020-09-08\",\"2020-09-09\",\"2020-09-10\",\"2020-09-11\",\"2020-09-12\",\"2020-09-13\",\"2020-09-14\",\"2020-09-15\",\"2020-09-16\",\"2020-09-17\",\"2020-09-18\",\"2020-09-19\",\"2020-09-20\",\"2020-09-21\",\"2020-09-22\",\"2020-09-23\",\"2020-09-24\",\"2020-09-25\",\"2020-09-26\",\"2020-09-27\",\"2020-09-28\",\"2020-09-29\",\"2020-09-30\",\"2020-10-01\",\"2020-10-02\",\"2020-10-03\",\"2020-10-04\",\"2020-10-05\",\"2020-10-06\",\"2020-10-07\",\"2020-10-08\",\"2020-10-09\",\"2020-10-10\",\"2020-10-11\",\"2020-10-12\",\"2020-10-13\",\"2020-10-14\",\"2020-10-15\",\"2020-10-16\",\"2020-10-17\",\"2020-10-18\",\"2020-10-19\",\"2020-10-20\",\"2020-10-21\",\"2020-10-22\",\"2020-10-23\",\"2020-10-24\",\"2020-10-25\",\"2020-10-26\",\"2020-10-27\",\"2020-10-28\",\"2020-10-29\",\"2020-10-30\",\"2020-10-31\",\"2020-11-01\",\"2020-11-02\",\"2020-11-03\",\"2020-11-04\",\"2020-11-05\",\"2020-11-06\",\"2020-11-07\",\"2020-11-08\",\"2020-11-09\",\"2020-11-10\",\"2020-11-11\",\"2020-11-12\",\"2020-11-13\",\"2020-11-14\",\"2020-11-15\",\"2020-11-16\",\"2020-11-17\",\"2020-11-18\",\"2020-11-19\",\"2020-11-20\",\"2020-11-21\",\"2020-11-22\",\"2020-11-23\",\"2020-11-24\",\"2020-11-25\",\"2020-11-26\",\"2020-11-27\",\"2020-11-28\",\"2020-11-29\",\"2020-11-30\",\"2020-12-01\",\"2020-12-02\",\"2020-12-03\",\"2020-12-04\",\"2020-12-05\",\"2020-12-06\",\"2020-12-07\",\"2020-12-08\",\"2020-12-09\",\"2020-12-10\",\"2020-12-11\",\"2020-12-12\",\"2020-12-13\",\"2020-12-14\",\"2020-12-15\",\"2020-12-16\",\"2020-12-17\",\"2020-12-18\",\"2020-12-19\",\"2020-12-20\",\"2020-12-21\",\"2020-12-22\",\"2020-12-23\",\"2020-12-24\",\"2020-12-25\",\"2020-12-26\",\"2020-12-27\",\"2020-12-28\",\"2020-12-29\",\"2020-12-30\",\"2020-12-31\",\"2021-01-01\",\"2021-01-02\",\"2021-01-03\",\"2021-01-04\",\"2021-01-05\",\"2021-01-06\",\"2021-01-07\",\"2021-01-08\",\"2021-01-09\",\"2021-01-10\",\"2021-01-11\",\"2021-01-12\",\"2021-01-13\",\"2021-01-14\",\"2021-01-15\",\"2021-01-16\",\"2021-01-17\",\"2021-01-18\",\"2021-01-19\",\"2021-01-20\",\"2021-01-21\",\"2021-01-22\",\"2021-01-23\",\"2021-01-24\",\"2021-01-25\",\"2021-01-26\",\"2021-01-27\",\"2021-01-28\",\"2021-01-29\",\"2021-01-30\",\"2021-01-31\",\"2021-02-01\",\"2021-02-02\",\"2021-02-03\",\"2021-02-04\",\"2021-02-05\",\"2021-02-06\",\"2021-02-07\",\"2021-02-08\",\"2021-02-09\",\"2021-02-10\",\"2021-02-11\",\"2021-02-12\",\"2021-02-13\",\"2021-02-14\",\"2021-02-15\",\"2021-02-16\",\"2021-02-17\",\"2021-02-18\",\"2021-02-19\",\"2021-02-20\",\"2021-02-21\",\"2021-02-22\",\"2021-02-23\",\"2021-02-24\",\"2021-02-25\",\"2021-02-26\",\"2021-02-27\",\"2021-02-28\",\"2021-03-01\",\"2021-03-02\",\"2021-03-03\",\"2021-03-04\",\"2021-03-05\",\"2021-03-06\",\"2021-03-07\",\"2021-03-08\",\"2021-03-09\",\"2021-03-10\",\"2021-03-11\",\"2021-03-12\",\"2021-03-13\",\"2021-03-14\",\"2021-03-15\",\"2021-03-16\",\"2021-03-17\",\"2021-03-18\",\"2021-03-19\",\"2021-03-20\",\"2021-03-21\",\"2021-03-22\",\"2021-03-23\",\"2021-03-24\",\"2021-03-25\",\"2021-03-26\",\"2021-03-27\",\"2021-03-28\",\"2021-03-29\",\"2021-03-30\",\"2021-03-31\",\"2021-04-01\",\"2021-04-02\",\"2021-04-03\",\"2021-04-04\",\"2021-04-05\",\"2021-04-06\",\"2021-04-07\",\"2021-04-08\",\"2021-04-09\",\"2021-04-10\",\"2021-04-11\",\"2021-04-12\",\"2021-04-13\",\"2021-04-14\",\"2021-04-15\",\"2021-04-16\",\"2021-04-17\",\"2021-04-18\",\"2021-04-19\",\"2021-04-20\",\"2021-04-21\",\"2021-04-22\",\"2021-04-23\",\"2021-04-24\",\"2021-04-25\",\"2021-04-26\",\"2021-04-27\",\"2021-04-28\",\"2021-04-29\",\"2021-04-30\",\"2021-05-01\",\"2021-05-02\",\"2021-05-03\",\"2021-05-04\",\"2021-05-05\",\"2021-05-06\",\"2021-05-07\",\"2021-05-08\",\"2021-05-09\",\"2021-05-10\",\"2021-05-11\",\"2021-05-12\",\"2021-05-13\",\"2021-05-14\",\"2021-05-15\",\"2021-05-16\",\"2021-05-17\",\"2021-05-18\",\"2021-05-19\",\"2021-05-20\",\"2021-05-21\",\"2021-05-22\",\"2021-05-23\",\"2021-05-24\",\"2021-05-25\",\"2021-05-26\",\"2021-05-27\",\"2021-05-28\",\"2021-05-29\",\"2021-05-30\",\"2021-05-31\",\"2021-06-01\",\"2021-06-02\",\"2021-06-03\",\"2021-06-04\",\"2021-06-05\",\"2021-06-06\",\"2021-06-07\",\"2021-06-08\",\"2021-06-09\",\"2021-06-10\",\"2021-06-11\",\"2021-06-12\",\"2021-06-13\",\"2021-06-14\",\"2021-06-15\",\"2021-06-16\",\"2021-06-17\",\"2021-06-18\",\"2021-06-19\",\"2021-06-20\",\"2021-06-21\",\"2021-06-22\",\"2021-06-23\",\"2021-06-24\",\"2021-06-25\",\"2021-06-26\",\"2021-06-27\",\"2021-06-28\",\"2021-06-29\",\"2021-06-30\",\"2021-07-01\",\"2021-07-02\",\"2021-07-03\",\"2021-07-04\",\"2021-07-05\",\"2021-07-06\",\"2021-07-07\",\"2021-07-08\",\"2021-07-09\",\"2021-07-10\",\"2021-07-11\",\"2021-07-12\",\"2021-07-13\",\"2021-07-14\",\"2021-07-15\",\"2021-07-16\",\"2021-07-17\",\"2021-07-18\",\"2021-07-19\",\"2021-07-20\",\"2021-07-21\",\"2021-07-22\",\"2021-07-23\",\"2021-07-24\",\"2021-07-25\",\"2021-07-26\",\"2021-07-27\",\"2021-07-28\",\"2021-07-29\",\"2021-07-30\",\"2021-07-31\",\"2021-08-01\",\"2021-08-02\",\"2021-08-03\",\"2021-08-04\",\"2021-08-05\",\"2021-08-06\",\"2021-08-07\",\"2021-08-08\",\"2021-08-09\",\"2021-08-10\",\"2021-08-11\",\"2021-08-12\",\"2021-08-13\",\"2021-08-14\",\"2021-08-15\",\"2021-08-16\",\"2021-08-17\",\"2021-08-18\",\"2021-08-19\",\"2021-08-20\",\"2021-08-21\",\"2021-08-22\",\"2021-08-23\",\"2021-08-24\",\"2021-08-25\",\"2021-08-26\",\"2021-08-27\",\"2021-08-28\",\"2021-08-29\",\"2021-08-30\",\"2021-08-31\",\"2021-09-01\",\"2021-09-02\",\"2021-09-03\",\"2021-09-04\",\"2021-09-05\",\"2021-09-06\",\"2021-09-07\",\"2021-09-08\",\"2021-09-09\",\"2021-09-10\",\"2021-09-11\",\"2021-09-12\",\"2021-09-13\",\"2021-09-14\",\"2021-09-15\",\"2021-09-16\",\"2021-09-17\",\"2021-09-18\",\"2021-09-19\",\"2021-09-20\",\"2021-09-21\",\"2021-09-22\",\"2021-09-23\",\"2021-09-24\",\"2021-09-25\",\"2021-09-26\",\"2021-09-27\",\"2021-09-28\",\"2021-09-29\",\"2021-09-30\",\"2021-10-01\",\"2021-10-02\",\"2021-10-03\",\"2021-10-04\",\"2021-10-05\",\"2021-10-06\",\"2021-10-07\",\"2021-10-08\",\"2021-10-09\",\"2021-10-10\",\"2021-10-11\",\"2021-10-12\",\"2021-10-13\",\"2021-10-14\",\"2021-10-15\",\"2021-10-16\",\"2021-10-17\",\"2021-10-18\",\"2021-10-19\",\"2021-10-20\",\"2021-10-21\",\"2021-10-22\",\"2021-10-23\",\"2021-10-24\",\"2021-10-25\",\"2021-10-26\",\"2021-10-27\",\"2021-10-28\",\"2021-10-29\",\"2021-10-30\",\"2021-10-31\",\"2021-11-01\",\"2021-11-02\",\"2021-11-03\",\"2021-11-04\",\"2021-11-05\",\"2021-11-06\",\"2021-11-07\",\"2021-11-08\",\"2021-11-09\",\"2021-11-10\",\"2021-11-11\",\"2021-11-12\",\"2021-11-13\",\"2021-11-14\",\"2021-11-15\",\"2021-11-16\",\"2021-11-17\",\"2021-11-18\",\"2021-11-19\",\"2021-11-20\",\"2021-11-21\",\"2021-11-22\",\"2021-11-23\",\"2021-11-24\",\"2021-11-25\",\"2021-11-26\",\"2021-11-27\",\"2021-11-28\",\"2021-11-29\",\"2021-11-30\",\"2021-12-01\",\"2021-12-02\",\"2021-12-03\",\"2021-12-04\",\"2021-12-05\",\"2021-12-06\",\"2021-12-07\",\"2021-12-08\",\"2021-12-09\",\"2021-12-10\",\"2021-12-11\",\"2021-12-12\",\"2021-12-13\",\"2021-12-14\",\"2021-12-15\",\"2021-12-16\",\"2021-12-17\",\"2021-12-18\",\"2021-12-19\",\"2021-12-20\",\"2021-12-21\",\"2021-12-22\",\"2021-12-23\",\"2021-12-24\",\"2021-12-25\",\"2021-12-26\",\"2021-12-27\",\"2021-12-28\",\"2021-12-29\",\"2021-12-30\",\"2021-12-31\",\"2022-01-01\",\"2022-01-02\",\"2022-01-03\",\"2022-01-04\",\"2022-01-05\",\"2022-01-06\",\"2022-01-07\",\"2022-01-08\",\"2022-01-09\",\"2022-01-10\",\"2022-01-11\",\"2022-01-12\",\"2022-01-13\",\"2022-01-14\",\"2022-01-15\",\"2022-01-16\",\"2022-01-17\",\"2022-01-18\",\"2022-01-19\",\"2022-01-20\",\"2022-01-21\",\"2022-01-22\",\"2022-01-23\",\"2022-01-24\",\"2022-01-25\",\"2022-01-26\",\"2022-01-27\",\"2022-01-28\",\"2022-01-29\",\"2022-01-30\",\"2022-01-31\",\"2022-02-01\",\"2022-02-02\",\"2022-02-03\",\"2022-02-04\",\"2022-02-05\",\"2022-02-06\",\"2022-02-07\",\"2022-02-08\",\"2022-02-09\",\"2022-02-10\",\"2022-02-11\",\"2022-02-12\",\"2022-02-13\",\"2022-02-14\",\"2022-02-15\",\"2022-02-16\",\"2022-02-17\",\"2022-02-18\",\"2022-02-19\",\"2022-02-20\",\"2022-02-21\",\"2022-02-22\",\"2022-02-23\",\"2022-02-24\",\"2022-02-25\",\"2022-02-26\",\"2022-02-27\",\"2022-02-28\",\"2022-03-01\",\"2022-03-02\",\"2022-03-03\",\"2022-03-04\",\"2022-03-05\",\"2022-03-06\",\"2022-03-07\",\"2022-03-08\",\"2022-03-09\",\"2022-03-10\",\"2022-03-11\",\"2022-03-12\",\"2022-03-13\",\"2022-03-14\",\"2022-03-15\",\"2022-03-16\",\"2022-03-17\",\"2022-03-18\",\"2022-03-19\",\"2022-03-20\",\"2022-03-21\",\"2022-03-22\",\"2022-03-23\",\"2022-03-24\",\"2022-03-25\",\"2022-03-26\",\"2022-03-27\",\"2022-03-28\",\"2022-03-29\",\"2022-03-30\",\"2022-03-31\",\"2022-04-01\",\"2022-04-02\",\"2022-04-03\",\"2022-04-04\",\"2022-04-05\",\"2022-04-06\",\"2022-04-07\",\"2022-04-08\",\"2022-04-09\",\"2022-04-10\",\"2022-04-11\",\"2022-04-12\",\"2022-04-13\",\"2022-04-14\",\"2022-04-15\",\"2022-04-16\",\"2022-04-17\",\"2022-04-18\",\"2022-04-19\",\"2022-04-20\",\"2022-04-21\",\"2022-04-22\",\"2022-04-23\",\"2022-04-24\",\"2022-04-25\",\"2022-04-26\",\"2022-04-27\",\"2022-04-28\",\"2022-04-29\",\"2022-04-30\",\"2022-05-01\",\"2022-05-02\",\"2022-05-03\",\"2022-05-04\",\"2022-05-05\",\"2022-05-06\",\"2022-05-07\",\"2022-05-08\",\"2022-05-09\",\"2022-05-10\",\"2022-05-11\",\"2022-05-12\",\"2022-05-13\",\"2022-05-14\",\"2022-05-15\",\"2022-05-16\",\"2022-05-17\",\"2022-05-18\",\"2022-05-19\",\"2022-05-20\",\"2022-05-21\",\"2022-05-22\",\"2022-05-23\",\"2022-05-24\",\"2022-05-25\",\"2022-05-26\",\"2022-05-27\",\"2022-05-28\",\"2022-05-29\",\"2022-05-30\",\"2022-05-31\",\"2022-06-01\",\"2022-06-02\",\"2022-06-03\",\"2022-06-04\",\"2022-06-05\",\"2022-06-06\",\"2022-06-07\",\"2022-06-08\",\"2022-06-09\",\"2022-06-10\",\"2022-06-11\",\"2022-06-12\",\"2022-06-13\",\"2022-06-14\",\"2022-06-15\",\"2022-06-16\",\"2022-06-17\",\"2022-06-18\",\"2022-06-19\",\"2022-06-20\",\"2022-06-21\",\"2022-06-22\",\"2022-06-23\",\"2022-06-24\",\"2022-06-25\",\"2022-06-26\",\"2022-06-27\",\"2022-06-28\",\"2022-06-29\",\"2022-06-30\",\"2022-07-01\",\"2022-07-02\",\"2022-07-03\",\"2022-07-04\",\"2022-07-05\",\"2022-07-06\",\"2022-07-07\",\"2022-07-08\",\"2022-07-09\",\"2022-07-10\",\"2022-07-11\",\"2022-07-12\",\"2022-07-13\",\"2022-07-14\",\"2022-07-15\",\"2022-07-16\",\"2022-07-17\",\"2022-07-18\",\"2022-07-19\",\"2022-07-20\",\"2022-07-21\",\"2022-07-22\",\"2022-07-23\",\"2022-07-24\",\"2022-07-25\",\"2022-07-26\",\"2022-07-27\",\"2022-07-28\",\"2022-07-29\",\"2022-07-30\",\"2022-07-31\",\"2022-08-01\",\"2022-08-02\",\"2022-08-03\",\"2022-08-04\",\"2022-08-05\",\"2022-08-06\",\"2022-08-07\",\"2022-08-08\",\"2022-08-09\",\"2022-08-10\",\"2022-08-11\",\"2022-08-12\",\"2022-08-13\",\"2022-08-14\",\"2022-08-15\",\"2022-08-16\",\"2022-08-17\",\"2022-08-18\",\"2022-08-19\",\"2022-08-20\",\"2022-08-21\",\"2022-08-22\",\"2022-08-23\",\"2022-08-24\",\"2022-08-25\",\"2022-08-26\",\"2022-08-27\",\"2022-08-28\",\"2022-08-29\",\"2022-08-30\",\"2022-08-31\",\"2022-09-01\",\"2022-09-02\",\"2022-09-03\",\"2022-09-04\",\"2022-09-05\",\"2022-09-06\",\"2022-09-07\",\"2022-09-08\",\"2022-09-09\",\"2022-09-10\",\"2022-09-11\",\"2022-09-12\",\"2022-09-13\",\"2022-09-14\",\"2022-09-15\",\"2022-09-16\",\"2022-09-17\",\"2022-09-18\",\"2022-09-19\",\"2022-09-20\",\"2022-09-21\",\"2022-09-22\",\"2022-09-23\",\"2022-09-24\",\"2022-09-25\",\"2022-09-26\",\"2022-09-27\",\"2022-09-28\",\"2022-09-29\",\"2022-09-30\",\"2022-10-01\",\"2022-10-02\",\"2022-10-03\",\"2022-10-04\",\"2022-10-05\",\"2022-10-06\",\"2022-10-07\",\"2022-10-08\",\"2022-10-09\",\"2022-10-10\",\"2022-10-11\",\"2022-10-12\",\"2022-10-13\",\"2022-10-14\",\"2022-10-15\",\"2022-10-16\",\"2022-10-17\",\"2022-10-18\",\"2022-10-19\",\"2022-10-20\",\"2022-10-21\",\"2022-10-22\",\"2022-10-23\",\"2022-10-24\",\"2022-10-25\",\"2022-10-26\",\"2022-10-27\",\"2022-10-28\",\"2022-10-29\",\"2022-10-30\"],\"xaxis\":\"x\",\"y\":[null,null,null,null,null,null,null,null,null,null,null,null,null,null,null,3374.830322265625,3398.526123046875,3397.501953125,3431.884765625,3380.757568359375,3325.162109375,3310.221923828125,3300.7578125,3309.6435546875,3318.215576171875,3325.171630859375,3317.525146484375,3244.9443359375,3182.83837890625,3174.454833984375,3167.051025390625,3185.140869140625,3219.545654296875,3208.189208984375,3190.561279296875,3182.37841796875,3149.619140625,3121.14453125,3261.7958984375,3368.720458984375,3431.393310546875,3425.22119140625,3405.35400390625,3375.126708984375,3348.155029296875,3338.015869140625,3342.865478515625,3375.32568359375,3537.2412109375,3661.56396484375,3747.96142578125,3750.48388671875,3757.89990234375,3835.218505859375,3694.036376953125,3624.427490234375,3580.25341796875,3566.233154296875,3571.666015625,3584.107666015625,3595.8916015625,3591.70068359375,3536.51171875,3576.13427734375,3617.38134765625,3646.396484375,3652.0283203125,3684.32861328125,3696.91748046875,3672.09912109375,3653.4013671875,3642.260986328125,3649.07470703125,3678.105712890625,3748.56005859375,3778.4404296875,3789.39990234375,3809.807373046875,3828.884765625,3803.7578125,3778.7548828125,3771.396240234375,3763.863525390625,3727.4296875,3716.9970703125,3775.455078125,3809.197265625,3840.274658203125,3857.7763671875,3861.229248046875,3888.722900390625,4322.93017578125,4670.916015625,4804.21923828125,4878.1533203125,4894.96240234375,4961.6484375,5050.77099609375,5049.1162109375,5098.34912109375,4975.99609375,4896.76904296875,4864.58154296875,4902.71044921875,4881.25,4960.30126953125,5026.65283203125,5085.6357421875,5113.37060546875,5137.4267578125,5131.33984375,5170.05712890625,5296.45751953125,5313.6728515625,5154.2861328125,5075.0126953125,5039.20361328125,5045.8525390625,5040.91796875,5099.50146484375,5170.97509765625,5269.3271484375,5473.89453125,5628.5595703125,5671.91943359375,5634.296875,5638.5537109375,5732.53369140625,5908.7724609375,6131.75,6730.6240234375,6951.943359375,7477.271484375,7864.5126953125,8138.5791015625,8037.05322265625,7578.80224609375,7227.2666015625,7613.2431640625,7829.12158203125,7922.82470703125,7767.5908203125,7749.4404296875,7816.3349609375,7908.10107421875,8326.1953125,8665.373046875,8764.9228515625,8715.01171875,8442.4970703125,8408.9658203125,8427.6396484375,8565.8134765625,8347.193359375,7882.77734375,7669.9111328125,7613.4560546875,7767.8232421875,7845.21435546875,7720.611328125,7800.19482421875,7826.12939453125,7962.67236328125,8097.34228515625,8434.451171875,8715.490234375,8929.0771484375,9197.1240234375,9179.498046875,9220.2216796875,9384.3603515625,9849.453125,10458.7001953125,10864.3056640625,11093.7861328125,11603.4111328125,12602.6416015625,12055.2001953125,12230.8349609375,12118.7470703125,11351.1689453125,10727.505859375,10583.4345703125,11322.4384765625,11427.0185546875,11241.921875,11204.4072265625,11340.46484375,11939.625,12484.3427734375,12482.005859375,11882.3896484375,11730.7529296875,11477.185546875,10691.197265625,10612.17578125,9869.30859375,9561.6123046875,10073.5107421875,10421.328125,10726.138671875,10745.697265625,10530.794921875,10104.5205078125,9803.419921875,9747.037109375,9760.9560546875,9569.6630859375,9492.0244140625,9452.4775390625,9501.2880859375,9827.4921875,10224.8515625,10500.873046875,10777.9658203125,10978.17578125,11541.21484375,11664.30078125,11912.099609375,12038.5263671875,12005.3134765625,11645.4052734375,11508.416015625,11396.6708984375,11074.966796875,10392.9775390625,10160.416015625,10176.431640625,10178.2236328125,10263.240234375,10659.44140625,10814.814453125,10472.5908203125,10196.6240234375,10225.1552734375,10159.3193359375,10116.310546875,10240.43359375,10223.544921875,9938.3017578125,9602.0205078125,9479.708984375,9489.2138671875,9611.6591796875,10050.6337890625,10486.515625,10675.0712890625,10689.115234375,10507.5625,10468.5927734375,10426.044921875,10351.2939453125,10184.703125,10127.53125,10259.2802734375,10335.1884765625,10365.6513671875,10360.419921875,10304.0146484375,10244.1796875,10188.73828125,10205.6552734375,10179.92578125,10067.6318359375,10028.001953125,9820.1826171875,9040.97265625,8484.244140625,8040.52197265625,7957.9599609375,8012.34130859375,8009.87109375,8120.28662109375,8221.7734375,8298.853515625,8248.912109375,8164.56298828125,8080.12646484375,7944.44287109375,8025.10009765625,8098.603515625,8357.4677734375,8510.84765625,8408.4130859375,8308.3359375,8238.716796875,8243.6015625,8165.8525390625,8025.5712890625,7979.0068359375,7898.828125,7869.81591796875,8005.1767578125,8118.16259765625,8075.98046875,7691.18017578125,7420.9296875,7990.5517578125,8784.31640625,9417.798828125,9503.3564453125,9505.8671875,9319.263671875,9178.4375,9152.1103515625,9206.5751953125,9204.7109375,9302.416015625,9323.5771484375,9330.123046875,9269.333984375,8952.0810546875,8756.4833984375,8825.9296875,8746.9296875,8729.8330078125,8727.146484375,8672.16015625,8510.0595703125,8446.1572265625,8450.0498046875,8314.345703125,8167.9990234375,7989.18994140625,7675.89794921875,7302.5693359375,7175.0341796875,6966.72900390625,6928.96240234375,6992.794921875,7238.7177734375,7358.04443359375,7568.296875,7563.47509765625,7430.04931640625,7269.193359375,7180.59228515625,7115.86474609375,7212.7978515625,7354.0439453125,7442.5341796875,7478.6025390625,7382.90087890625,7233.8212890625,7111.04345703125,7073.5302734375,7093.64404296875,7037.67431640625,7016.1884765625,6882.20361328125,6627.283203125,6851.27294921875,7010.40478515625,7103.767578125,7115.39892578125,7284.263671875,7297.51171875,7255.90673828125,7189.197265625,7127.72216796875,7129.60498046875,7161.93359375,7248.73193359375,7226.62060546875,7136.6669921875,7078.27490234375,6929.232421875,7053.23388671875,7205.25,7295.39697265625,7535.740234375,7904.24658203125,8054.39208984375,7960.13720703125,8018.2158203125,7985.33154296875,8046.947265625,8064.10888671875,8468.3662109375,8721.0654296875,8769.552734375,8858.10546875,8899.2939453125,8765.7490234375,8635.6337890625,8620.9951171875,8601.740234375,8437.859375,8356.728515625,8286.1865234375,8395.3095703125,8670.4892578125,9104.7265625,9317.9853515625,9483.337890625,9437.4833984375,9387.791015625,9323.06640625,9259.12109375,9164.8134765625,9372.8212890625,9600.1142578125,9759.447265625,9857.41015625,10029.53515625,9961.43359375,10088.0341796875,10243.87109375,10260.3505859375,10297.2392578125,10059.431640625,9920.0224609375,9721.6572265625,9892.6396484375,9748.203125,9620.6142578125,9600.4794921875,9600.05859375,9765.0654296875,9714.916015625,9471.2412109375,9003.1142578125,8713.1279296875,8546.2958984375,8468.30078125,8443.3037109375,8633.58203125,8722.474609375,8732.3994140625,8904.3505859375,9036.3427734375,8967.8330078125,8419.533203125,7949.82421875,7722.83642578125,7680.2001953125,6004.9140625,5245.51953125,4808.1455078125,4835.9267578125,4771.40087890625,4881.53515625,4980.85498046875,5586.97314453125,5983.45361328125,6134.61962890625,5930.283203125,6078.74365234375,6388.146484375,6551.0107421875,6625.32275390625,6484.24072265625,6232.2783203125,5892.3203125,6006.28271484375,6161.353515625,6366.30078125,6586.31884765625,6656.44775390625,6730.61767578125,6709.2529296875,6955.60009765625,7065.81201171875,7190.751953125,7225.12353515625,6963.0830078125,6768.26953125,6743.26611328125,6698.49658203125,6684.73388671875,6570.14453125,6774.978515625,6922.166015625,7086.427734375,7122.90087890625,6929.30419921875,6781.291015625,6848.6796875,7112.1826171875,7359.93115234375,7491.42236328125,7587.76513671875,7681.59716796875,7724.1591796875,8313.7255859375,8611.9755859375,8828.6689453125,8964.5634765625,8942.1416015625,8897.275390625,8914.5361328125,9089.9169921875,9609.9501953125,9861.048828125,9781.7451171875,9163.5556640625,8656.8369140625,8543.8955078125,8860.681640625,9399.6708984375,9476.6796875,9449.76171875,9560.482421875,9659.66796875,9707.3046875,9595.4423828125,9247.5234375,9092.6552734375,9069.8642578125,8852.7998046875,8792.16015625,8749.75,8946.734375,9294.2802734375,9443.6630859375,9627.5703125,9562.7744140625,9894.388671875,9737.1357421875,9652.849609375,9693.6826171875,9659.51171875,9628.884765625,9676.0205078125,9720.7734375,9758.3095703125,9817.064453125,9522.6630859375,9409.0009765625,9376.8671875,9336.7802734375,9362.2099609375,9441.7109375,9457.6337890625,9413.3359375,9303.8076171875,9262.775390625,9239.248046875,9440.708984375,9570.98828125,9438.1982421875,9289.4423828125,9143.859375,9008.2001953125,9009.6689453125,9071.1728515625,9089.5947265625,9146.3310546875,9115.787109375,9062.4404296875,9055.3994140625,9026.23828125,9189.005859375,9231.2197265625,9337.0888671875,9303.4765625,9259.5615234375,9207.3583984375,9201.88671875,9190.494140625,9187.0,9157.869140625,9104.0849609375,9084.64453125,9086.7568359375,9110.244140625,9114.2734375,9237.6953125,9406.564453125,9530.203125,9550.80859375,9616.359375,9782.9013671875,10523.333984375,10934.5859375,11180.8076171875,11239.8271484375,11333.748046875,11627.5712890625,11378.1318359375,11274.7001953125,11210.6708984375,11517.5322265625,11756.4853515625,11758.1337890625,11794.3603515625,11755.25390625,11840.38671875,11622.5185546875,11570.88671875,11689.5888671875,11776.568359375,11875.7451171875,11937.0771484375,12169.498046875,12147.3408203125,11949.8095703125,11885.0341796875,11704.654296875,11660.76953125,11658.5947265625,11739.8173828125,11554.0009765625,11491.447265625,11379.8671875,11455.8232421875,11508.1513671875,11657.8076171875,11726.0205078125,11914.765625,11686.283203125,10805.57421875,10416.2392578125,10115.947265625,10095.44140625,10215.7958984375,10178.125,10201.9931640625,10289.4033203125,10364.7236328125,10422.8525390625,10373.73828125,10539.2607421875,10722.5908203125,10923.4658203125,11001.349609375,11004.2666015625,11070.525390625,11014.3720703125,10682.787109375,10516.7529296875,10292.703125,10494.984375,10638.7314453125,10746.3125,10799.30078125,10766.7900390625,10809.0068359375,10802.4765625,10694.2353515625,10597.01171875,10536.0185546875,10589.56640625,10714.7802734375,10679.7275390625,10671.7529296875,10811.7685546875,10994.1494140625,11228.4091796875,11396.6513671875,11558.3837890625,11544.7109375,11499.578125,11501.8984375,11407.0048828125,11368.4873046875,11434.73046875,11643.59375,11875.67578125,12530.7138671875,12991.7919921875,13144.0458984375,13234.9208984375,13192.5615234375,13163.8740234375,13494.865234375,13485.84375,13525.9599609375,13603.5087890625,13784.03515625,13858.0947265625,13758.3876953125,13912.2607421875,14133.0029296875,15126.0361328125,15709.908203125,15456.1103515625,15536.6083984375,15505.21875,15452.4716796875,15673.1728515625,16173.462890625,16481.802734375,16429.7421875,16250.3447265625,16587.861328125,17397.1171875,17955.349609375,18160.970703125,18647.103515625,18894.796875,18784.15234375,18648.09375,19024.462890625,19055.349609375,18051.48046875,17382.43359375,17500.5,18013.005859375,19241.392578125,19412.541015625,19525.85546875,19655.107421875,19238.51953125,19232.916015625,19414.173828125,19452.5546875,18916.759765625,18714.494140625,18499.306640625,18295.40625,18674.283203125,19164.083984375,19477.044921875,19675.892578125,20886.740234375,22508.423828125,23483.810546875,24194.794921875,24130.853515625,23501.01953125,23715.765625,23618.6953125,23864.59765625,24608.830078125,26128.9765625,26785.779296875,27386.521484375,27732.146484375,28733.287109375,29333.3515625,29731.16015625,31584.873046875,32970.84765625,32886.2734375,33836.25,36173.703125,38972.765625,40983.578125,41103.7109375,39468.453125,36720.32421875,34492.7578125,36030.0703125,38599.0234375,38236.140625,37102.88671875,36204.2265625,36461.43359375,36433.26171875,36068.2890625,32814.8515625,32491.876953125,32277.5546875,32467.0625,32680.3125,32894.8984375,31584.443359375,32750.498046875,34174.8515625,34776.3125,34072.78515625,33799.71875,35030.3046875,37070.62890625,37625.3359375,38321.3828125,39266.171875,39387.21875,44131.046875,46759.95703125,46156.19921875,47269.2890625,47606.1796875,47343.05078125,48247.8125,48228.00390625,48924.10546875,51270.9453125,51957.36328125,54735.98828125,56010.05859375,57066.17578125,54958.3125,50130.75390625,48871.6015625,47430.42578125,46553.91796875,46291.83203125,45612.8203125,48352.76171875,48963.0234375,50222.46484375,49290.61328125,48839.63671875,48766.453125,50415.5390625,51967.5859375,54185.61328125,55718.76953125,57226.4453125,57260.80078125,59724.3046875,59460.59375,56537.81640625,55899.98046875,57629.71875,57895.73828125,58033.03125,57975.515625,57361.23046875,55020.84375,54224.95703125,52952.56640625,51812.484375,53876.62890625,55647.1171875,56061.6171875,57105.24609375,58274.1484375,58603.6171875,58651.41796875,58813.1484375,57649.39453125,57924.3515625,58488.2734375,58107.2890625,56332.6328125,57175.8984375,57843.63671875,59096.1875,59791.48828125,59619.33203125,61936.296875,62702.4453125,62741.31640625,61363.19140625,null,null,null,null,null,null,null,null,null,null,null,null,null,null,null,null,null,null,null,null,null,null,null,null,null,null,null,null,null,null,null,null,null,null,null,null,null,null,null,null,null,null,null,null,null,null,null,null,null,null,null,null,null,null,null,null,null,null,null,null,null,null,null,null,null,null,null,null,null,null,null,null,null,null,null,null,null,null,null,null,null,null,null,null,null,null,null,null,null,null,null,null,null,null,null,null,null,null,null,null,null,null,null,null,null,null,null,null,null,null,null,null,null,null,null,null,null,null,null,null,null,null,null,null,null,null,null,null,null,null,null,null,null,null,null,null,null,null,null,null,null,null,null,null,null,null,null,null,null,null,null,null,null,null,null,null,null,null,null,null,null,null,null,null,null,null,null,null,null,null,null,null,null,null,null,null,null,null,null,null,null,null,null,null,null,null,null,null,null,null,null,null,null,null,null,null,null,null,null,null,null,null,null,null,null,null,null,null,null,null,null,null,null,null,null,null,null,null,null,null,null,null,null,null,null,null,null,null,null,null,null,null,null,null,null,null,null,null,null,null,null,null,null,null,null,null,null,null,null,null,null,null,null,null,null,null,null,null,null,null,null,null,null,null,null,null,null,null,null,null,null,null,null,null,null,null,null,null,null,null,null,null,null,null,null,null,null,null,null,null,null,null,null,null,null,null,null,null,null,null,null,null,null,null,null,null,null,null,null,null,null,null,null,null,null,null,null,null,null,null,null,null,null,null,null,null,null,null,null,null,null,null,null,null,null,null,null,null,null,null,null,null,null,null,null,null,null,null,null,null,null,null,null,null,null,null,null,null,null,null,null,null,null,null,null,null,null,null,null,null,null,null,null,null,null,null,null,null,null,null,null,null,null,null,null,null,null,null,null,null,null,null,null,null,null,null,null,null,null,null,null,null,null,null,null,null,null,null,null,null,null,null,null,null,null,null,null,null,null,null,null,null,null,null,null,null,null,null,null,null,null,null,null,null,null,null,null,null,null,null,null,null,null,null,null,null,null,null,null,null,null,null,null,null,null,null,null,null,null,null,null,null,null,null,null,null,null,null,null,null,null,null,null,null,null,null,null,null,null,null,null,null,null,null,null,null,null,null,null,null,null,null,null,null,null,null,null,null,null,null,null,null,null,null,null,null,null,null,null,null,null,null,null,null,null,null,null,null,null,null,null,null,null,null,null,null,null,null,null,null,null,null,null,null,null,null,null,null,null,null,null,null,null,null,null,null,null,null,null,null,null,null,null,null,null,null,null,null,null,null,null],\"yaxis\":\"y\",\"type\":\"scattergl\"},{\"hovertemplate\":\"variable=test_predicted_close<br>Date=%{x}<br>Stock price=%{y}<extra></extra>\",\"legendgroup\":\"test_predicted_close\",\"line\":{\"color\":\"#00cc96\",\"dash\":\"solid\"},\"marker\":{\"symbol\":\"circle\"},\"mode\":\"lines\",\"name\":\"Test predicted close price\",\"showlegend\":true,\"x\":[\"2019-01-02\",\"2019-01-03\",\"2019-01-04\",\"2019-01-05\",\"2019-01-06\",\"2019-01-07\",\"2019-01-08\",\"2019-01-09\",\"2019-01-10\",\"2019-01-11\",\"2019-01-12\",\"2019-01-13\",\"2019-01-14\",\"2019-01-15\",\"2019-01-16\",\"2019-01-17\",\"2019-01-18\",\"2019-01-19\",\"2019-01-20\",\"2019-01-21\",\"2019-01-22\",\"2019-01-23\",\"2019-01-24\",\"2019-01-25\",\"2019-01-26\",\"2019-01-27\",\"2019-01-28\",\"2019-01-29\",\"2019-01-30\",\"2019-01-31\",\"2019-02-01\",\"2019-02-02\",\"2019-02-03\",\"2019-02-04\",\"2019-02-05\",\"2019-02-06\",\"2019-02-07\",\"2019-02-08\",\"2019-02-09\",\"2019-02-10\",\"2019-02-11\",\"2019-02-12\",\"2019-02-13\",\"2019-02-14\",\"2019-02-15\",\"2019-02-16\",\"2019-02-17\",\"2019-02-18\",\"2019-02-19\",\"2019-02-20\",\"2019-02-21\",\"2019-02-22\",\"2019-02-23\",\"2019-02-24\",\"2019-02-25\",\"2019-02-26\",\"2019-02-27\",\"2019-02-28\",\"2019-03-01\",\"2019-03-02\",\"2019-03-03\",\"2019-03-04\",\"2019-03-05\",\"2019-03-06\",\"2019-03-07\",\"2019-03-08\",\"2019-03-09\",\"2019-03-10\",\"2019-03-11\",\"2019-03-12\",\"2019-03-13\",\"2019-03-14\",\"2019-03-15\",\"2019-03-16\",\"2019-03-17\",\"2019-03-18\",\"2019-03-19\",\"2019-03-20\",\"2019-03-21\",\"2019-03-22\",\"2019-03-23\",\"2019-03-24\",\"2019-03-25\",\"2019-03-26\",\"2019-03-27\",\"2019-03-28\",\"2019-03-29\",\"2019-03-30\",\"2019-03-31\",\"2019-04-01\",\"2019-04-02\",\"2019-04-03\",\"2019-04-04\",\"2019-04-05\",\"2019-04-06\",\"2019-04-07\",\"2019-04-08\",\"2019-04-09\",\"2019-04-10\",\"2019-04-11\",\"2019-04-12\",\"2019-04-13\",\"2019-04-14\",\"2019-04-15\",\"2019-04-16\",\"2019-04-17\",\"2019-04-18\",\"2019-04-19\",\"2019-04-20\",\"2019-04-21\",\"2019-04-22\",\"2019-04-23\",\"2019-04-24\",\"2019-04-25\",\"2019-04-26\",\"2019-04-27\",\"2019-04-28\",\"2019-04-29\",\"2019-04-30\",\"2019-05-01\",\"2019-05-02\",\"2019-05-03\",\"2019-05-04\",\"2019-05-05\",\"2019-05-06\",\"2019-05-07\",\"2019-05-08\",\"2019-05-09\",\"2019-05-10\",\"2019-05-11\",\"2019-05-12\",\"2019-05-13\",\"2019-05-14\",\"2019-05-15\",\"2019-05-16\",\"2019-05-17\",\"2019-05-18\",\"2019-05-19\",\"2019-05-20\",\"2019-05-21\",\"2019-05-22\",\"2019-05-23\",\"2019-05-24\",\"2019-05-25\",\"2019-05-26\",\"2019-05-27\",\"2019-05-28\",\"2019-05-29\",\"2019-05-30\",\"2019-05-31\",\"2019-06-01\",\"2019-06-02\",\"2019-06-03\",\"2019-06-04\",\"2019-06-05\",\"2019-06-06\",\"2019-06-07\",\"2019-06-08\",\"2019-06-09\",\"2019-06-10\",\"2019-06-11\",\"2019-06-12\",\"2019-06-13\",\"2019-06-14\",\"2019-06-15\",\"2019-06-16\",\"2019-06-17\",\"2019-06-18\",\"2019-06-19\",\"2019-06-20\",\"2019-06-21\",\"2019-06-22\",\"2019-06-23\",\"2019-06-24\",\"2019-06-25\",\"2019-06-26\",\"2019-06-27\",\"2019-06-28\",\"2019-06-29\",\"2019-06-30\",\"2019-07-01\",\"2019-07-02\",\"2019-07-03\",\"2019-07-04\",\"2019-07-05\",\"2019-07-06\",\"2019-07-07\",\"2019-07-08\",\"2019-07-09\",\"2019-07-10\",\"2019-07-11\",\"2019-07-12\",\"2019-07-13\",\"2019-07-14\",\"2019-07-15\",\"2019-07-16\",\"2019-07-17\",\"2019-07-18\",\"2019-07-19\",\"2019-07-20\",\"2019-07-21\",\"2019-07-22\",\"2019-07-23\",\"2019-07-24\",\"2019-07-25\",\"2019-07-26\",\"2019-07-27\",\"2019-07-28\",\"2019-07-29\",\"2019-07-30\",\"2019-07-31\",\"2019-08-01\",\"2019-08-02\",\"2019-08-03\",\"2019-08-04\",\"2019-08-05\",\"2019-08-06\",\"2019-08-07\",\"2019-08-08\",\"2019-08-09\",\"2019-08-10\",\"2019-08-11\",\"2019-08-12\",\"2019-08-13\",\"2019-08-14\",\"2019-08-15\",\"2019-08-16\",\"2019-08-17\",\"2019-08-18\",\"2019-08-19\",\"2019-08-20\",\"2019-08-21\",\"2019-08-22\",\"2019-08-23\",\"2019-08-24\",\"2019-08-25\",\"2019-08-26\",\"2019-08-27\",\"2019-08-28\",\"2019-08-29\",\"2019-08-30\",\"2019-08-31\",\"2019-09-01\",\"2019-09-02\",\"2019-09-03\",\"2019-09-04\",\"2019-09-05\",\"2019-09-06\",\"2019-09-07\",\"2019-09-08\",\"2019-09-09\",\"2019-09-10\",\"2019-09-11\",\"2019-09-12\",\"2019-09-13\",\"2019-09-14\",\"2019-09-15\",\"2019-09-16\",\"2019-09-17\",\"2019-09-18\",\"2019-09-19\",\"2019-09-20\",\"2019-09-21\",\"2019-09-22\",\"2019-09-23\",\"2019-09-24\",\"2019-09-25\",\"2019-09-26\",\"2019-09-27\",\"2019-09-28\",\"2019-09-29\",\"2019-09-30\",\"2019-10-01\",\"2019-10-02\",\"2019-10-03\",\"2019-10-04\",\"2019-10-05\",\"2019-10-06\",\"2019-10-07\",\"2019-10-08\",\"2019-10-09\",\"2019-10-10\",\"2019-10-11\",\"2019-10-12\",\"2019-10-13\",\"2019-10-14\",\"2019-10-15\",\"2019-10-16\",\"2019-10-17\",\"2019-10-18\",\"2019-10-19\",\"2019-10-20\",\"2019-10-21\",\"2019-10-22\",\"2019-10-23\",\"2019-10-24\",\"2019-10-25\",\"2019-10-26\",\"2019-10-27\",\"2019-10-28\",\"2019-10-29\",\"2019-10-30\",\"2019-10-31\",\"2019-11-01\",\"2019-11-02\",\"2019-11-03\",\"2019-11-04\",\"2019-11-05\",\"2019-11-06\",\"2019-11-07\",\"2019-11-08\",\"2019-11-09\",\"2019-11-10\",\"2019-11-11\",\"2019-11-12\",\"2019-11-13\",\"2019-11-14\",\"2019-11-15\",\"2019-11-16\",\"2019-11-17\",\"2019-11-18\",\"2019-11-19\",\"2019-11-20\",\"2019-11-21\",\"2019-11-22\",\"2019-11-23\",\"2019-11-24\",\"2019-11-25\",\"2019-11-26\",\"2019-11-27\",\"2019-11-28\",\"2019-11-29\",\"2019-11-30\",\"2019-12-01\",\"2019-12-02\",\"2019-12-03\",\"2019-12-04\",\"2019-12-05\",\"2019-12-06\",\"2019-12-07\",\"2019-12-08\",\"2019-12-09\",\"2019-12-10\",\"2019-12-11\",\"2019-12-12\",\"2019-12-13\",\"2019-12-14\",\"2019-12-15\",\"2019-12-16\",\"2019-12-17\",\"2019-12-18\",\"2019-12-19\",\"2019-12-20\",\"2019-12-21\",\"2019-12-22\",\"2019-12-23\",\"2019-12-24\",\"2019-12-25\",\"2019-12-26\",\"2019-12-27\",\"2019-12-28\",\"2019-12-29\",\"2019-12-30\",\"2019-12-31\",\"2020-01-01\",\"2020-01-02\",\"2020-01-03\",\"2020-01-04\",\"2020-01-05\",\"2020-01-06\",\"2020-01-07\",\"2020-01-08\",\"2020-01-09\",\"2020-01-10\",\"2020-01-11\",\"2020-01-12\",\"2020-01-13\",\"2020-01-14\",\"2020-01-15\",\"2020-01-16\",\"2020-01-17\",\"2020-01-18\",\"2020-01-19\",\"2020-01-20\",\"2020-01-21\",\"2020-01-22\",\"2020-01-23\",\"2020-01-24\",\"2020-01-25\",\"2020-01-26\",\"2020-01-27\",\"2020-01-28\",\"2020-01-29\",\"2020-01-30\",\"2020-01-31\",\"2020-02-01\",\"2020-02-02\",\"2020-02-03\",\"2020-02-04\",\"2020-02-05\",\"2020-02-06\",\"2020-02-07\",\"2020-02-08\",\"2020-02-09\",\"2020-02-10\",\"2020-02-11\",\"2020-02-12\",\"2020-02-13\",\"2020-02-14\",\"2020-02-15\",\"2020-02-16\",\"2020-02-17\",\"2020-02-18\",\"2020-02-19\",\"2020-02-20\",\"2020-02-21\",\"2020-02-22\",\"2020-02-23\",\"2020-02-24\",\"2020-02-25\",\"2020-02-26\",\"2020-02-27\",\"2020-02-28\",\"2020-02-29\",\"2020-03-01\",\"2020-03-02\",\"2020-03-03\",\"2020-03-04\",\"2020-03-05\",\"2020-03-06\",\"2020-03-07\",\"2020-03-08\",\"2020-03-09\",\"2020-03-10\",\"2020-03-11\",\"2020-03-12\",\"2020-03-13\",\"2020-03-14\",\"2020-03-15\",\"2020-03-16\",\"2020-03-17\",\"2020-03-18\",\"2020-03-19\",\"2020-03-20\",\"2020-03-21\",\"2020-03-22\",\"2020-03-23\",\"2020-03-24\",\"2020-03-25\",\"2020-03-26\",\"2020-03-27\",\"2020-03-28\",\"2020-03-29\",\"2020-03-30\",\"2020-03-31\",\"2020-04-01\",\"2020-04-02\",\"2020-04-03\",\"2020-04-04\",\"2020-04-05\",\"2020-04-06\",\"2020-04-07\",\"2020-04-08\",\"2020-04-09\",\"2020-04-10\",\"2020-04-11\",\"2020-04-12\",\"2020-04-13\",\"2020-04-14\",\"2020-04-15\",\"2020-04-16\",\"2020-04-17\",\"2020-04-18\",\"2020-04-19\",\"2020-04-20\",\"2020-04-21\",\"2020-04-22\",\"2020-04-23\",\"2020-04-24\",\"2020-04-25\",\"2020-04-26\",\"2020-04-27\",\"2020-04-28\",\"2020-04-29\",\"2020-04-30\",\"2020-05-01\",\"2020-05-02\",\"2020-05-03\",\"2020-05-04\",\"2020-05-05\",\"2020-05-06\",\"2020-05-07\",\"2020-05-08\",\"2020-05-09\",\"2020-05-10\",\"2020-05-11\",\"2020-05-12\",\"2020-05-13\",\"2020-05-14\",\"2020-05-15\",\"2020-05-16\",\"2020-05-17\",\"2020-05-18\",\"2020-05-19\",\"2020-05-20\",\"2020-05-21\",\"2020-05-22\",\"2020-05-23\",\"2020-05-24\",\"2020-05-25\",\"2020-05-26\",\"2020-05-27\",\"2020-05-28\",\"2020-05-29\",\"2020-05-30\",\"2020-05-31\",\"2020-06-01\",\"2020-06-02\",\"2020-06-03\",\"2020-06-04\",\"2020-06-05\",\"2020-06-06\",\"2020-06-07\",\"2020-06-08\",\"2020-06-09\",\"2020-06-10\",\"2020-06-11\",\"2020-06-12\",\"2020-06-13\",\"2020-06-14\",\"2020-06-15\",\"2020-06-16\",\"2020-06-17\",\"2020-06-18\",\"2020-06-19\",\"2020-06-20\",\"2020-06-21\",\"2020-06-22\",\"2020-06-23\",\"2020-06-24\",\"2020-06-25\",\"2020-06-26\",\"2020-06-27\",\"2020-06-28\",\"2020-06-29\",\"2020-06-30\",\"2020-07-01\",\"2020-07-02\",\"2020-07-03\",\"2020-07-04\",\"2020-07-05\",\"2020-07-06\",\"2020-07-07\",\"2020-07-08\",\"2020-07-09\",\"2020-07-10\",\"2020-07-11\",\"2020-07-12\",\"2020-07-13\",\"2020-07-14\",\"2020-07-15\",\"2020-07-16\",\"2020-07-17\",\"2020-07-18\",\"2020-07-19\",\"2020-07-20\",\"2020-07-21\",\"2020-07-22\",\"2020-07-23\",\"2020-07-24\",\"2020-07-25\",\"2020-07-26\",\"2020-07-27\",\"2020-07-28\",\"2020-07-29\",\"2020-07-30\",\"2020-07-31\",\"2020-08-01\",\"2020-08-02\",\"2020-08-03\",\"2020-08-04\",\"2020-08-05\",\"2020-08-06\",\"2020-08-07\",\"2020-08-08\",\"2020-08-09\",\"2020-08-10\",\"2020-08-11\",\"2020-08-12\",\"2020-08-13\",\"2020-08-14\",\"2020-08-15\",\"2020-08-16\",\"2020-08-17\",\"2020-08-18\",\"2020-08-19\",\"2020-08-20\",\"2020-08-21\",\"2020-08-22\",\"2020-08-23\",\"2020-08-24\",\"2020-08-25\",\"2020-08-26\",\"2020-08-27\",\"2020-08-28\",\"2020-08-29\",\"2020-08-30\",\"2020-08-31\",\"2020-09-01\",\"2020-09-02\",\"2020-09-03\",\"2020-09-04\",\"2020-09-05\",\"2020-09-06\",\"2020-09-07\",\"2020-09-08\",\"2020-09-09\",\"2020-09-10\",\"2020-09-11\",\"2020-09-12\",\"2020-09-13\",\"2020-09-14\",\"2020-09-15\",\"2020-09-16\",\"2020-09-17\",\"2020-09-18\",\"2020-09-19\",\"2020-09-20\",\"2020-09-21\",\"2020-09-22\",\"2020-09-23\",\"2020-09-24\",\"2020-09-25\",\"2020-09-26\",\"2020-09-27\",\"2020-09-28\",\"2020-09-29\",\"2020-09-30\",\"2020-10-01\",\"2020-10-02\",\"2020-10-03\",\"2020-10-04\",\"2020-10-05\",\"2020-10-06\",\"2020-10-07\",\"2020-10-08\",\"2020-10-09\",\"2020-10-10\",\"2020-10-11\",\"2020-10-12\",\"2020-10-13\",\"2020-10-14\",\"2020-10-15\",\"2020-10-16\",\"2020-10-17\",\"2020-10-18\",\"2020-10-19\",\"2020-10-20\",\"2020-10-21\",\"2020-10-22\",\"2020-10-23\",\"2020-10-24\",\"2020-10-25\",\"2020-10-26\",\"2020-10-27\",\"2020-10-28\",\"2020-10-29\",\"2020-10-30\",\"2020-10-31\",\"2020-11-01\",\"2020-11-02\",\"2020-11-03\",\"2020-11-04\",\"2020-11-05\",\"2020-11-06\",\"2020-11-07\",\"2020-11-08\",\"2020-11-09\",\"2020-11-10\",\"2020-11-11\",\"2020-11-12\",\"2020-11-13\",\"2020-11-14\",\"2020-11-15\",\"2020-11-16\",\"2020-11-17\",\"2020-11-18\",\"2020-11-19\",\"2020-11-20\",\"2020-11-21\",\"2020-11-22\",\"2020-11-23\",\"2020-11-24\",\"2020-11-25\",\"2020-11-26\",\"2020-11-27\",\"2020-11-28\",\"2020-11-29\",\"2020-11-30\",\"2020-12-01\",\"2020-12-02\",\"2020-12-03\",\"2020-12-04\",\"2020-12-05\",\"2020-12-06\",\"2020-12-07\",\"2020-12-08\",\"2020-12-09\",\"2020-12-10\",\"2020-12-11\",\"2020-12-12\",\"2020-12-13\",\"2020-12-14\",\"2020-12-15\",\"2020-12-16\",\"2020-12-17\",\"2020-12-18\",\"2020-12-19\",\"2020-12-20\",\"2020-12-21\",\"2020-12-22\",\"2020-12-23\",\"2020-12-24\",\"2020-12-25\",\"2020-12-26\",\"2020-12-27\",\"2020-12-28\",\"2020-12-29\",\"2020-12-30\",\"2020-12-31\",\"2021-01-01\",\"2021-01-02\",\"2021-01-03\",\"2021-01-04\",\"2021-01-05\",\"2021-01-06\",\"2021-01-07\",\"2021-01-08\",\"2021-01-09\",\"2021-01-10\",\"2021-01-11\",\"2021-01-12\",\"2021-01-13\",\"2021-01-14\",\"2021-01-15\",\"2021-01-16\",\"2021-01-17\",\"2021-01-18\",\"2021-01-19\",\"2021-01-20\",\"2021-01-21\",\"2021-01-22\",\"2021-01-23\",\"2021-01-24\",\"2021-01-25\",\"2021-01-26\",\"2021-01-27\",\"2021-01-28\",\"2021-01-29\",\"2021-01-30\",\"2021-01-31\",\"2021-02-01\",\"2021-02-02\",\"2021-02-03\",\"2021-02-04\",\"2021-02-05\",\"2021-02-06\",\"2021-02-07\",\"2021-02-08\",\"2021-02-09\",\"2021-02-10\",\"2021-02-11\",\"2021-02-12\",\"2021-02-13\",\"2021-02-14\",\"2021-02-15\",\"2021-02-16\",\"2021-02-17\",\"2021-02-18\",\"2021-02-19\",\"2021-02-20\",\"2021-02-21\",\"2021-02-22\",\"2021-02-23\",\"2021-02-24\",\"2021-02-25\",\"2021-02-26\",\"2021-02-27\",\"2021-02-28\",\"2021-03-01\",\"2021-03-02\",\"2021-03-03\",\"2021-03-04\",\"2021-03-05\",\"2021-03-06\",\"2021-03-07\",\"2021-03-08\",\"2021-03-09\",\"2021-03-10\",\"2021-03-11\",\"2021-03-12\",\"2021-03-13\",\"2021-03-14\",\"2021-03-15\",\"2021-03-16\",\"2021-03-17\",\"2021-03-18\",\"2021-03-19\",\"2021-03-20\",\"2021-03-21\",\"2021-03-22\",\"2021-03-23\",\"2021-03-24\",\"2021-03-25\",\"2021-03-26\",\"2021-03-27\",\"2021-03-28\",\"2021-03-29\",\"2021-03-30\",\"2021-03-31\",\"2021-04-01\",\"2021-04-02\",\"2021-04-03\",\"2021-04-04\",\"2021-04-05\",\"2021-04-06\",\"2021-04-07\",\"2021-04-08\",\"2021-04-09\",\"2021-04-10\",\"2021-04-11\",\"2021-04-12\",\"2021-04-13\",\"2021-04-14\",\"2021-04-15\",\"2021-04-16\",\"2021-04-17\",\"2021-04-18\",\"2021-04-19\",\"2021-04-20\",\"2021-04-21\",\"2021-04-22\",\"2021-04-23\",\"2021-04-24\",\"2021-04-25\",\"2021-04-26\",\"2021-04-27\",\"2021-04-28\",\"2021-04-29\",\"2021-04-30\",\"2021-05-01\",\"2021-05-02\",\"2021-05-03\",\"2021-05-04\",\"2021-05-05\",\"2021-05-06\",\"2021-05-07\",\"2021-05-08\",\"2021-05-09\",\"2021-05-10\",\"2021-05-11\",\"2021-05-12\",\"2021-05-13\",\"2021-05-14\",\"2021-05-15\",\"2021-05-16\",\"2021-05-17\",\"2021-05-18\",\"2021-05-19\",\"2021-05-20\",\"2021-05-21\",\"2021-05-22\",\"2021-05-23\",\"2021-05-24\",\"2021-05-25\",\"2021-05-26\",\"2021-05-27\",\"2021-05-28\",\"2021-05-29\",\"2021-05-30\",\"2021-05-31\",\"2021-06-01\",\"2021-06-02\",\"2021-06-03\",\"2021-06-04\",\"2021-06-05\",\"2021-06-06\",\"2021-06-07\",\"2021-06-08\",\"2021-06-09\",\"2021-06-10\",\"2021-06-11\",\"2021-06-12\",\"2021-06-13\",\"2021-06-14\",\"2021-06-15\",\"2021-06-16\",\"2021-06-17\",\"2021-06-18\",\"2021-06-19\",\"2021-06-20\",\"2021-06-21\",\"2021-06-22\",\"2021-06-23\",\"2021-06-24\",\"2021-06-25\",\"2021-06-26\",\"2021-06-27\",\"2021-06-28\",\"2021-06-29\",\"2021-06-30\",\"2021-07-01\",\"2021-07-02\",\"2021-07-03\",\"2021-07-04\",\"2021-07-05\",\"2021-07-06\",\"2021-07-07\",\"2021-07-08\",\"2021-07-09\",\"2021-07-10\",\"2021-07-11\",\"2021-07-12\",\"2021-07-13\",\"2021-07-14\",\"2021-07-15\",\"2021-07-16\",\"2021-07-17\",\"2021-07-18\",\"2021-07-19\",\"2021-07-20\",\"2021-07-21\",\"2021-07-22\",\"2021-07-23\",\"2021-07-24\",\"2021-07-25\",\"2021-07-26\",\"2021-07-27\",\"2021-07-28\",\"2021-07-29\",\"2021-07-30\",\"2021-07-31\",\"2021-08-01\",\"2021-08-02\",\"2021-08-03\",\"2021-08-04\",\"2021-08-05\",\"2021-08-06\",\"2021-08-07\",\"2021-08-08\",\"2021-08-09\",\"2021-08-10\",\"2021-08-11\",\"2021-08-12\",\"2021-08-13\",\"2021-08-14\",\"2021-08-15\",\"2021-08-16\",\"2021-08-17\",\"2021-08-18\",\"2021-08-19\",\"2021-08-20\",\"2021-08-21\",\"2021-08-22\",\"2021-08-23\",\"2021-08-24\",\"2021-08-25\",\"2021-08-26\",\"2021-08-27\",\"2021-08-28\",\"2021-08-29\",\"2021-08-30\",\"2021-08-31\",\"2021-09-01\",\"2021-09-02\",\"2021-09-03\",\"2021-09-04\",\"2021-09-05\",\"2021-09-06\",\"2021-09-07\",\"2021-09-08\",\"2021-09-09\",\"2021-09-10\",\"2021-09-11\",\"2021-09-12\",\"2021-09-13\",\"2021-09-14\",\"2021-09-15\",\"2021-09-16\",\"2021-09-17\",\"2021-09-18\",\"2021-09-19\",\"2021-09-20\",\"2021-09-21\",\"2021-09-22\",\"2021-09-23\",\"2021-09-24\",\"2021-09-25\",\"2021-09-26\",\"2021-09-27\",\"2021-09-28\",\"2021-09-29\",\"2021-09-30\",\"2021-10-01\",\"2021-10-02\",\"2021-10-03\",\"2021-10-04\",\"2021-10-05\",\"2021-10-06\",\"2021-10-07\",\"2021-10-08\",\"2021-10-09\",\"2021-10-10\",\"2021-10-11\",\"2021-10-12\",\"2021-10-13\",\"2021-10-14\",\"2021-10-15\",\"2021-10-16\",\"2021-10-17\",\"2021-10-18\",\"2021-10-19\",\"2021-10-20\",\"2021-10-21\",\"2021-10-22\",\"2021-10-23\",\"2021-10-24\",\"2021-10-25\",\"2021-10-26\",\"2021-10-27\",\"2021-10-28\",\"2021-10-29\",\"2021-10-30\",\"2021-10-31\",\"2021-11-01\",\"2021-11-02\",\"2021-11-03\",\"2021-11-04\",\"2021-11-05\",\"2021-11-06\",\"2021-11-07\",\"2021-11-08\",\"2021-11-09\",\"2021-11-10\",\"2021-11-11\",\"2021-11-12\",\"2021-11-13\",\"2021-11-14\",\"2021-11-15\",\"2021-11-16\",\"2021-11-17\",\"2021-11-18\",\"2021-11-19\",\"2021-11-20\",\"2021-11-21\",\"2021-11-22\",\"2021-11-23\",\"2021-11-24\",\"2021-11-25\",\"2021-11-26\",\"2021-11-27\",\"2021-11-28\",\"2021-11-29\",\"2021-11-30\",\"2021-12-01\",\"2021-12-02\",\"2021-12-03\",\"2021-12-04\",\"2021-12-05\",\"2021-12-06\",\"2021-12-07\",\"2021-12-08\",\"2021-12-09\",\"2021-12-10\",\"2021-12-11\",\"2021-12-12\",\"2021-12-13\",\"2021-12-14\",\"2021-12-15\",\"2021-12-16\",\"2021-12-17\",\"2021-12-18\",\"2021-12-19\",\"2021-12-20\",\"2021-12-21\",\"2021-12-22\",\"2021-12-23\",\"2021-12-24\",\"2021-12-25\",\"2021-12-26\",\"2021-12-27\",\"2021-12-28\",\"2021-12-29\",\"2021-12-30\",\"2021-12-31\",\"2022-01-01\",\"2022-01-02\",\"2022-01-03\",\"2022-01-04\",\"2022-01-05\",\"2022-01-06\",\"2022-01-07\",\"2022-01-08\",\"2022-01-09\",\"2022-01-10\",\"2022-01-11\",\"2022-01-12\",\"2022-01-13\",\"2022-01-14\",\"2022-01-15\",\"2022-01-16\",\"2022-01-17\",\"2022-01-18\",\"2022-01-19\",\"2022-01-20\",\"2022-01-21\",\"2022-01-22\",\"2022-01-23\",\"2022-01-24\",\"2022-01-25\",\"2022-01-26\",\"2022-01-27\",\"2022-01-28\",\"2022-01-29\",\"2022-01-30\",\"2022-01-31\",\"2022-02-01\",\"2022-02-02\",\"2022-02-03\",\"2022-02-04\",\"2022-02-05\",\"2022-02-06\",\"2022-02-07\",\"2022-02-08\",\"2022-02-09\",\"2022-02-10\",\"2022-02-11\",\"2022-02-12\",\"2022-02-13\",\"2022-02-14\",\"2022-02-15\",\"2022-02-16\",\"2022-02-17\",\"2022-02-18\",\"2022-02-19\",\"2022-02-20\",\"2022-02-21\",\"2022-02-22\",\"2022-02-23\",\"2022-02-24\",\"2022-02-25\",\"2022-02-26\",\"2022-02-27\",\"2022-02-28\",\"2022-03-01\",\"2022-03-02\",\"2022-03-03\",\"2022-03-04\",\"2022-03-05\",\"2022-03-06\",\"2022-03-07\",\"2022-03-08\",\"2022-03-09\",\"2022-03-10\",\"2022-03-11\",\"2022-03-12\",\"2022-03-13\",\"2022-03-14\",\"2022-03-15\",\"2022-03-16\",\"2022-03-17\",\"2022-03-18\",\"2022-03-19\",\"2022-03-20\",\"2022-03-21\",\"2022-03-22\",\"2022-03-23\",\"2022-03-24\",\"2022-03-25\",\"2022-03-26\",\"2022-03-27\",\"2022-03-28\",\"2022-03-29\",\"2022-03-30\",\"2022-03-31\",\"2022-04-01\",\"2022-04-02\",\"2022-04-03\",\"2022-04-04\",\"2022-04-05\",\"2022-04-06\",\"2022-04-07\",\"2022-04-08\",\"2022-04-09\",\"2022-04-10\",\"2022-04-11\",\"2022-04-12\",\"2022-04-13\",\"2022-04-14\",\"2022-04-15\",\"2022-04-16\",\"2022-04-17\",\"2022-04-18\",\"2022-04-19\",\"2022-04-20\",\"2022-04-21\",\"2022-04-22\",\"2022-04-23\",\"2022-04-24\",\"2022-04-25\",\"2022-04-26\",\"2022-04-27\",\"2022-04-28\",\"2022-04-29\",\"2022-04-30\",\"2022-05-01\",\"2022-05-02\",\"2022-05-03\",\"2022-05-04\",\"2022-05-05\",\"2022-05-06\",\"2022-05-07\",\"2022-05-08\",\"2022-05-09\",\"2022-05-10\",\"2022-05-11\",\"2022-05-12\",\"2022-05-13\",\"2022-05-14\",\"2022-05-15\",\"2022-05-16\",\"2022-05-17\",\"2022-05-18\",\"2022-05-19\",\"2022-05-20\",\"2022-05-21\",\"2022-05-22\",\"2022-05-23\",\"2022-05-24\",\"2022-05-25\",\"2022-05-26\",\"2022-05-27\",\"2022-05-28\",\"2022-05-29\",\"2022-05-30\",\"2022-05-31\",\"2022-06-01\",\"2022-06-02\",\"2022-06-03\",\"2022-06-04\",\"2022-06-05\",\"2022-06-06\",\"2022-06-07\",\"2022-06-08\",\"2022-06-09\",\"2022-06-10\",\"2022-06-11\",\"2022-06-12\",\"2022-06-13\",\"2022-06-14\",\"2022-06-15\",\"2022-06-16\",\"2022-06-17\",\"2022-06-18\",\"2022-06-19\",\"2022-06-20\",\"2022-06-21\",\"2022-06-22\",\"2022-06-23\",\"2022-06-24\",\"2022-06-25\",\"2022-06-26\",\"2022-06-27\",\"2022-06-28\",\"2022-06-29\",\"2022-06-30\",\"2022-07-01\",\"2022-07-02\",\"2022-07-03\",\"2022-07-04\",\"2022-07-05\",\"2022-07-06\",\"2022-07-07\",\"2022-07-08\",\"2022-07-09\",\"2022-07-10\",\"2022-07-11\",\"2022-07-12\",\"2022-07-13\",\"2022-07-14\",\"2022-07-15\",\"2022-07-16\",\"2022-07-17\",\"2022-07-18\",\"2022-07-19\",\"2022-07-20\",\"2022-07-21\",\"2022-07-22\",\"2022-07-23\",\"2022-07-24\",\"2022-07-25\",\"2022-07-26\",\"2022-07-27\",\"2022-07-28\",\"2022-07-29\",\"2022-07-30\",\"2022-07-31\",\"2022-08-01\",\"2022-08-02\",\"2022-08-03\",\"2022-08-04\",\"2022-08-05\",\"2022-08-06\",\"2022-08-07\",\"2022-08-08\",\"2022-08-09\",\"2022-08-10\",\"2022-08-11\",\"2022-08-12\",\"2022-08-13\",\"2022-08-14\",\"2022-08-15\",\"2022-08-16\",\"2022-08-17\",\"2022-08-18\",\"2022-08-19\",\"2022-08-20\",\"2022-08-21\",\"2022-08-22\",\"2022-08-23\",\"2022-08-24\",\"2022-08-25\",\"2022-08-26\",\"2022-08-27\",\"2022-08-28\",\"2022-08-29\",\"2022-08-30\",\"2022-08-31\",\"2022-09-01\",\"2022-09-02\",\"2022-09-03\",\"2022-09-04\",\"2022-09-05\",\"2022-09-06\",\"2022-09-07\",\"2022-09-08\",\"2022-09-09\",\"2022-09-10\",\"2022-09-11\",\"2022-09-12\",\"2022-09-13\",\"2022-09-14\",\"2022-09-15\",\"2022-09-16\",\"2022-09-17\",\"2022-09-18\",\"2022-09-19\",\"2022-09-20\",\"2022-09-21\",\"2022-09-22\",\"2022-09-23\",\"2022-09-24\",\"2022-09-25\",\"2022-09-26\",\"2022-09-27\",\"2022-09-28\",\"2022-09-29\",\"2022-09-30\",\"2022-10-01\",\"2022-10-02\",\"2022-10-03\",\"2022-10-04\",\"2022-10-05\",\"2022-10-06\",\"2022-10-07\",\"2022-10-08\",\"2022-10-09\",\"2022-10-10\",\"2022-10-11\",\"2022-10-12\",\"2022-10-13\",\"2022-10-14\",\"2022-10-15\",\"2022-10-16\",\"2022-10-17\",\"2022-10-18\",\"2022-10-19\",\"2022-10-20\",\"2022-10-21\",\"2022-10-22\",\"2022-10-23\",\"2022-10-24\",\"2022-10-25\",\"2022-10-26\",\"2022-10-27\",\"2022-10-28\",\"2022-10-29\",\"2022-10-30\"],\"xaxis\":\"x\",\"y\":[null,null,null,null,null,null,null,null,null,null,null,null,null,null,null,null,null,null,null,null,null,null,null,null,null,null,null,null,null,null,null,null,null,null,null,null,null,null,null,null,null,null,null,null,null,null,null,null,null,null,null,null,null,null,null,null,null,null,null,null,null,null,null,null,null,null,null,null,null,null,null,null,null,null,null,null,null,null,null,null,null,null,null,null,null,null,null,null,null,null,null,null,null,null,null,null,null,null,null,null,null,null,null,null,null,null,null,null,null,null,null,null,null,null,null,null,null,null,null,null,null,null,null,null,null,null,null,null,null,null,null,null,null,null,null,null,null,null,null,null,null,null,null,null,null,null,null,null,null,null,null,null,null,null,null,null,null,null,null,null,null,null,null,null,null,null,null,null,null,null,null,null,null,null,null,null,null,null,null,null,null,null,null,null,null,null,null,null,null,null,null,null,null,null,null,null,null,null,null,null,null,null,null,null,null,null,null,null,null,null,null,null,null,null,null,null,null,null,null,null,null,null,null,null,null,null,null,null,null,null,null,null,null,null,null,null,null,null,null,null,null,null,null,null,null,null,null,null,null,null,null,null,null,null,null,null,null,null,null,null,null,null,null,null,null,null,null,null,null,null,null,null,null,null,null,null,null,null,null,null,null,null,null,null,null,null,null,null,null,null,null,null,null,null,null,null,null,null,null,null,null,null,null,null,null,null,null,null,null,null,null,null,null,null,null,null,null,null,null,null,null,null,null,null,null,null,null,null,null,null,null,null,null,null,null,null,null,null,null,null,null,null,null,null,null,null,null,null,null,null,null,null,null,null,null,null,null,null,null,null,null,null,null,null,null,null,null,null,null,null,null,null,null,null,null,null,null,null,null,null,null,null,null,null,null,null,null,null,null,null,null,null,null,null,null,null,null,null,null,null,null,null,null,null,null,null,null,null,null,null,null,null,null,null,null,null,null,null,null,null,null,null,null,null,null,null,null,null,null,null,null,null,null,null,null,null,null,null,null,null,null,null,null,null,null,null,null,null,null,null,null,null,null,null,null,null,null,null,null,null,null,null,null,null,null,null,null,null,null,null,null,null,null,null,null,null,null,null,null,null,null,null,null,null,null,null,null,null,null,null,null,null,null,null,null,null,null,null,null,null,null,null,null,null,null,null,null,null,null,null,null,null,null,null,null,null,null,null,null,null,null,null,null,null,null,null,null,null,null,null,null,null,null,null,null,null,null,null,null,null,null,null,null,null,null,null,null,null,null,null,null,null,null,null,null,null,null,null,null,null,null,null,null,null,null,null,null,null,null,null,null,null,null,null,null,null,null,null,null,null,null,null,null,null,null,null,null,null,null,null,null,null,null,null,null,null,null,null,null,null,null,null,null,null,null,null,null,null,null,null,null,null,null,null,null,null,null,null,null,null,null,null,null,null,null,null,null,null,null,null,null,null,null,null,null,null,null,null,null,null,null,null,null,null,null,null,null,null,null,null,null,null,null,null,null,null,null,null,null,null,null,null,null,null,null,null,null,null,null,null,null,null,null,null,null,null,null,null,null,null,null,null,null,null,null,null,null,null,null,null,null,null,null,null,null,null,null,null,null,null,null,null,null,null,null,null,null,null,null,null,null,null,null,null,null,null,null,null,null,null,null,null,null,null,null,null,null,null,null,null,null,null,null,null,null,null,null,null,null,null,null,null,null,null,null,null,null,null,null,null,null,null,null,null,null,null,null,null,null,null,null,null,null,null,null,null,null,null,null,null,null,null,null,null,null,null,null,null,null,null,null,null,null,null,null,null,null,null,null,null,null,null,null,null,null,null,null,null,null,null,null,null,null,null,null,null,null,null,null,null,null,null,null,null,null,null,null,null,null,null,null,null,null,null,null,null,null,null,null,null,null,null,null,null,null,null,null,null,null,null,null,null,null,null,null,null,null,null,null,null,null,null,null,56704.33984375,54066.9765625,55750.046875,56324.703125,56988.66796875,58151.1328125,58127.35546875,56233.875,55964.01953125,51016.87109375,49200.25,49338.95703125,47708.1796875,46701.53515625,44498.109375,43164.08203125,38974.33203125,39559.62890625,38328.65625,37832.0703125,35944.7578125,37599.48828125,38628.77734375,39523.84765625,39189.61328125,37013.87890625,35183.69140625,35275.5703125,36805.890625,37269.07421875,37828.74609375,39059.48828125,38067.328125,36427.0546875,35889.0234375,34422.23828125,33720.40625,36132.80859375,37209.5,37798.76953125,36668.71875,38229.57421875,39994.00390625,40819.734375,39537.71484375,38474.54296875,36637.72265625,35776.59765625,35728.40234375,33308.49609375,32549.3671875,33322.8671875,34568.08984375,33187.44140625,32525.416015625,33932.58203125,34732.33203125,35890.32421875,35797.50390625,34555.84375,34067.4453125,34521.37109375,35310.9765625,34688.8671875,34511.1171875,34244.66796875,33512.8984375,33759.62109375,33852.96875,34352.57421875,33901.63671875,33264.46484375,33048.9609375,32381.79296875,31840.634765625,31734.52734375,31960.638671875,31496.220703125,30550.666015625,31561.740234375,32442.279296875,33615.26953125,34541.97265625,35496.72265625,37112.734375,39153.109375,40319.82421875,40532.61328125,41857.69921875,42082.27734375,40875.35546875,39678.41015625,38578.5,39300.90234375,40666.3203125,42586.421875,44474.390625,44527.51171875,45875.609375,45973.4609375,45795.8125,44892.2890625,46749.83984375,47394.41796875,47370.953125,46493.70703125,45167.625,44741.40625,46084.21484375,48654.484375,49391.29296875,49512.8984375,49520.87109375,48243.83203125,48487.890625,47488.5625,48427.5390625,48963.671875,49022.75,47722.515625,47135.09765625,48220.14453125,49223.5859375,50003.8203125,50109.0,51224.55859375,52331.4609375,48684.93359375,46246.578125,45895.15234375,45236.0234375,45246.29296875,45944.60546875,45545.15625,46634.7734375,47954.6953125,48143.1640625,47616.00390625,47977.94921875,47566.70703125,44356.7734375,41409.0390625,42394.1640625,44400.5859375,43951.65234375,43234.5625,43197.8984375,42657.31640625,41609.359375,41520.59765625,43160.98828125,46973.71484375,48325.90234375,48564.875,48953.18359375,50718.03125,54174.7421875,54418.68359375,53970.2890625,54359.6875,54514.47265625,56435.56640625,56294.66796875,56817.55078125,56998.65234375,59987.68359375,60797.48828125,61044.5234375,61293.8984375,62947.44140625,64866.70703125,62686.73046875,60326.86328125,60222.94921875,60355.09765625,61958.48828125,60725.85546875,58545.8984375,59288.765625,61183.00390625,61661.9765625,61073.7578125,60468.765625,61885.55859375,62457.24609375,61371.55859375,60547.28125,60680.33203125,62191.6328125,65853.3828125,66667.7109375,64840.66015625,63868.92578125,63285.01953125,63504.21875,64442.0,63439.07421875,60427.80078125,59458.9140625,57226.1953125,57271.24609375,58808.35546875,58816.00390625,56789.83984375,56724.0390625,56171.6953125,56658.76953125,54410.4453125,54151.23046875,56121.703125,57503.56640625,57188.76953125,56891.09375,56270.41015625,54071.8984375,50192.69140625,48901.83203125,49848.01171875,50694.80078125,50797.359375,48703.5625,47342.5703125,48480.04296875,49837.34375,48032.44921875,46787.359375,48006.92578125,48043.02734375,46882.078125,46706.14453125,46725.0546875,46910.91015625,48397.80078125,48881.65625,50305.07421875,50893.0234375,50633.84765625,50639.68359375,50576.28515625,48489.7890625,46733.78515625,46750.484375,46536.7109375,47399.0078125,47618.97265625,46956.4140625,46178.0625,44337.73046875,43298.8984375,42053.19921875,41761.43359375,41972.8125,42097.18359375,42728.703125,43823.05859375,43346.4921875,43223.39453125,43267.82421875,43287.41015625,42725.25,42520.26953125,42096.65625,41224.5390625,38074.984375,35654.53125,35729.63671875,36531.15625,37228.05078125,37382.62890625,37482.1328125,37892.83203125,38316.91796875,38324.43359375,38616.4921875,38932.64453125,37876.7734375,37387.48046875,40171.3671875,41740.48828125,42724.5546875,43816.98046875,44332.48046875,44524.96875,43997.07421875,42925.09765625,42374.2734375,42276.4765625,42619.3671875,44160.01171875,44471.62890625,42049.59765625,40377.79296875,39988.921875,39037.01171875,37768.70703125,38062.2734375,37809.0390625,38332.09375,39219.94921875,39522.50390625,38583.02734375,41629.82421875,44177.7421875,44678.48828125,43401.8125,40402.73828125,39258.28515625,38593.72265625,38308.4921875,38757.82421875,41208.01953125,40721.421875,39576.82421875,39052.9296875,38293.51953125,39221.26171875,39657.7734375,40942.7734375,41381.1953125,41923.6171875,42346.80859375,41830.40234375,41367.62890625,42067.19921875,42891.73046875,43925.875,44547.046875,44751.54296875,46277.34375,47203.9453125,47616.77734375,47348.484375,46100.1640625,46033.64453125,45967.96484375,46381.01171875,46716.59375,46084.53125,44118.63671875,43432.125,42638.6015625,42736.421875,42560.99609375,40682.1875,40127.51953125,40852.6953125,40562.95703125,40704.9296875,40715.0078125,40225.25390625,40695.10546875,41476.91015625,41730.07421875,41146.2578125,40254.01953125,39718.08984375,39604.3515625,40324.5234375,39194.4921875,39211.72265625,39746.06640625,39285.26953125,38359.7890625,38426.3984375,38675.48046875,38313.62890625,39358.6015625,37911.421875,36617.921875,35793.95703125,34677.2109375,31833.521484375,30942.984375,29626.21484375,29195.9921875,29359.6875,30089.2421875,31259.349609375,30854.78515625,30746.359375,29616.794921875,30021.97265625,29748.849609375,29718.03125,30310.98046875,29879.17578125,29885.7265625,29882.453125,29702.501953125,29195.236328125,29055.33984375,29471.48828125,31216.380859375,32188.263671875,31133.423828125,30731.228515625,30158.013671875,30022.37890625,30118.048828125,31160.734375,31605.10546875,31064.349609375,30575.12890625,29713.271484375,28866.119140625,27539.55859375,24273.75,22444.71484375,22175.69140625,21095.4609375,20632.66015625,19651.8203125,20110.294921875,20606.916015625,20943.06640625,20600.751953125,20985.478515625,21351.404296875,21690.669921875,21530.2890625,21179.1640625,20695.671875,20358.44140625,20056.26953125,19634.87890625,19428.99609375,19421.11328125,20046.396484375,20418.599609375,20761.376953125,21552.46484375,22013.208984375,22053.267578125,21511.044921875,20603.109375,19741.74609375,19938.544921875,20473.021484375,20978.1171875,21411.4765625,21306.482421875,22196.283203125,23295.572265625,23708.97265625,23690.580078125,23279.037109375,22858.25390625,22766.775390625,22030.181640625,21547.90625,22437.09375,23661.228515625,24244.591796875,24252.01953125,23896.126953125,23634.197265625,23327.595703125,23125.50390625,22939.0625,23287.876953125,23335.314453125,23445.4453125,23884.138671875,23718.08203125,24026.55859375,24227.77734375,24578.216796875,24755.373046875,24725.7421875,24548.955078125,24282.154296875,23813.134765625,23510.6171875,21971.95703125,21296.8125,21389.779296875,21542.474609375,21737.779296875,21745.21484375,21832.35546875,21041.087890625,20407.5234375,19889.66796875,20132.92578125,20096.884765625,20217.345703125,20337.853515625,20292.12890625,20150.771484375,20160.681640625,20084.880859375,19444.513671875,19342.53515625,19416.71875,20774.80078125,21794.30078125,22234.458984375,22638.08203125,21467.193359375,20630.0703125,19969.9765625,19801.44921875,20076.755859375,19875.478515625,19792.0234375,19358.9765625,18897.46875,19219.841796875,19445.708984375,19333.27734375,19131.861328125,19271.5,19326.494140625,19540.037109375,19749.4453125,19751.96484375,19634.60546875,19386.912109375,19608.283203125,20233.0703125,20483.875,20396.6796875,20020.1171875,19707.162109375,19598.814453125,19416.138671875,19284.509765625,19306.751953125,19489.77734375,19483.94921875,19375.380859375,19423.109375,19642.783203125,19642.244140625,19484.140625,19324.23046875,19323.6953125,19379.724609375,19643.95703125,19663.173828125,20088.85546875,20751.998046875,20783.51953125,20861.619140625,null],\"yaxis\":\"y\",\"type\":\"scattergl\"}],                        {\"template\":{\"data\":{\"bar\":[{\"error_x\":{\"color\":\"#2a3f5f\"},\"error_y\":{\"color\":\"#2a3f5f\"},\"marker\":{\"line\":{\"color\":\"#E5ECF6\",\"width\":0.5},\"pattern\":{\"fillmode\":\"overlay\",\"size\":10,\"solidity\":0.2}},\"type\":\"bar\"}],\"barpolar\":[{\"marker\":{\"line\":{\"color\":\"#E5ECF6\",\"width\":0.5},\"pattern\":{\"fillmode\":\"overlay\",\"size\":10,\"solidity\":0.2}},\"type\":\"barpolar\"}],\"carpet\":[{\"aaxis\":{\"endlinecolor\":\"#2a3f5f\",\"gridcolor\":\"white\",\"linecolor\":\"white\",\"minorgridcolor\":\"white\",\"startlinecolor\":\"#2a3f5f\"},\"baxis\":{\"endlinecolor\":\"#2a3f5f\",\"gridcolor\":\"white\",\"linecolor\":\"white\",\"minorgridcolor\":\"white\",\"startlinecolor\":\"#2a3f5f\"},\"type\":\"carpet\"}],\"choropleth\":[{\"colorbar\":{\"outlinewidth\":0,\"ticks\":\"\"},\"type\":\"choropleth\"}],\"contour\":[{\"colorbar\":{\"outlinewidth\":0,\"ticks\":\"\"},\"colorscale\":[[0.0,\"#0d0887\"],[0.1111111111111111,\"#46039f\"],[0.2222222222222222,\"#7201a8\"],[0.3333333333333333,\"#9c179e\"],[0.4444444444444444,\"#bd3786\"],[0.5555555555555556,\"#d8576b\"],[0.6666666666666666,\"#ed7953\"],[0.7777777777777778,\"#fb9f3a\"],[0.8888888888888888,\"#fdca26\"],[1.0,\"#f0f921\"]],\"type\":\"contour\"}],\"contourcarpet\":[{\"colorbar\":{\"outlinewidth\":0,\"ticks\":\"\"},\"type\":\"contourcarpet\"}],\"heatmap\":[{\"colorbar\":{\"outlinewidth\":0,\"ticks\":\"\"},\"colorscale\":[[0.0,\"#0d0887\"],[0.1111111111111111,\"#46039f\"],[0.2222222222222222,\"#7201a8\"],[0.3333333333333333,\"#9c179e\"],[0.4444444444444444,\"#bd3786\"],[0.5555555555555556,\"#d8576b\"],[0.6666666666666666,\"#ed7953\"],[0.7777777777777778,\"#fb9f3a\"],[0.8888888888888888,\"#fdca26\"],[1.0,\"#f0f921\"]],\"type\":\"heatmap\"}],\"heatmapgl\":[{\"colorbar\":{\"outlinewidth\":0,\"ticks\":\"\"},\"colorscale\":[[0.0,\"#0d0887\"],[0.1111111111111111,\"#46039f\"],[0.2222222222222222,\"#7201a8\"],[0.3333333333333333,\"#9c179e\"],[0.4444444444444444,\"#bd3786\"],[0.5555555555555556,\"#d8576b\"],[0.6666666666666666,\"#ed7953\"],[0.7777777777777778,\"#fb9f3a\"],[0.8888888888888888,\"#fdca26\"],[1.0,\"#f0f921\"]],\"type\":\"heatmapgl\"}],\"histogram\":[{\"marker\":{\"pattern\":{\"fillmode\":\"overlay\",\"size\":10,\"solidity\":0.2}},\"type\":\"histogram\"}],\"histogram2d\":[{\"colorbar\":{\"outlinewidth\":0,\"ticks\":\"\"},\"colorscale\":[[0.0,\"#0d0887\"],[0.1111111111111111,\"#46039f\"],[0.2222222222222222,\"#7201a8\"],[0.3333333333333333,\"#9c179e\"],[0.4444444444444444,\"#bd3786\"],[0.5555555555555556,\"#d8576b\"],[0.6666666666666666,\"#ed7953\"],[0.7777777777777778,\"#fb9f3a\"],[0.8888888888888888,\"#fdca26\"],[1.0,\"#f0f921\"]],\"type\":\"histogram2d\"}],\"histogram2dcontour\":[{\"colorbar\":{\"outlinewidth\":0,\"ticks\":\"\"},\"colorscale\":[[0.0,\"#0d0887\"],[0.1111111111111111,\"#46039f\"],[0.2222222222222222,\"#7201a8\"],[0.3333333333333333,\"#9c179e\"],[0.4444444444444444,\"#bd3786\"],[0.5555555555555556,\"#d8576b\"],[0.6666666666666666,\"#ed7953\"],[0.7777777777777778,\"#fb9f3a\"],[0.8888888888888888,\"#fdca26\"],[1.0,\"#f0f921\"]],\"type\":\"histogram2dcontour\"}],\"mesh3d\":[{\"colorbar\":{\"outlinewidth\":0,\"ticks\":\"\"},\"type\":\"mesh3d\"}],\"parcoords\":[{\"line\":{\"colorbar\":{\"outlinewidth\":0,\"ticks\":\"\"}},\"type\":\"parcoords\"}],\"pie\":[{\"automargin\":true,\"type\":\"pie\"}],\"scatter\":[{\"marker\":{\"colorbar\":{\"outlinewidth\":0,\"ticks\":\"\"}},\"type\":\"scatter\"}],\"scatter3d\":[{\"line\":{\"colorbar\":{\"outlinewidth\":0,\"ticks\":\"\"}},\"marker\":{\"colorbar\":{\"outlinewidth\":0,\"ticks\":\"\"}},\"type\":\"scatter3d\"}],\"scattercarpet\":[{\"marker\":{\"colorbar\":{\"outlinewidth\":0,\"ticks\":\"\"}},\"type\":\"scattercarpet\"}],\"scattergeo\":[{\"marker\":{\"colorbar\":{\"outlinewidth\":0,\"ticks\":\"\"}},\"type\":\"scattergeo\"}],\"scattergl\":[{\"marker\":{\"colorbar\":{\"outlinewidth\":0,\"ticks\":\"\"}},\"type\":\"scattergl\"}],\"scattermapbox\":[{\"marker\":{\"colorbar\":{\"outlinewidth\":0,\"ticks\":\"\"}},\"type\":\"scattermapbox\"}],\"scatterpolar\":[{\"marker\":{\"colorbar\":{\"outlinewidth\":0,\"ticks\":\"\"}},\"type\":\"scatterpolar\"}],\"scatterpolargl\":[{\"marker\":{\"colorbar\":{\"outlinewidth\":0,\"ticks\":\"\"}},\"type\":\"scatterpolargl\"}],\"scatterternary\":[{\"marker\":{\"colorbar\":{\"outlinewidth\":0,\"ticks\":\"\"}},\"type\":\"scatterternary\"}],\"surface\":[{\"colorbar\":{\"outlinewidth\":0,\"ticks\":\"\"},\"colorscale\":[[0.0,\"#0d0887\"],[0.1111111111111111,\"#46039f\"],[0.2222222222222222,\"#7201a8\"],[0.3333333333333333,\"#9c179e\"],[0.4444444444444444,\"#bd3786\"],[0.5555555555555556,\"#d8576b\"],[0.6666666666666666,\"#ed7953\"],[0.7777777777777778,\"#fb9f3a\"],[0.8888888888888888,\"#fdca26\"],[1.0,\"#f0f921\"]],\"type\":\"surface\"}],\"table\":[{\"cells\":{\"fill\":{\"color\":\"#EBF0F8\"},\"line\":{\"color\":\"white\"}},\"header\":{\"fill\":{\"color\":\"#C8D4E3\"},\"line\":{\"color\":\"white\"}},\"type\":\"table\"}]},\"layout\":{\"annotationdefaults\":{\"arrowcolor\":\"#2a3f5f\",\"arrowhead\":0,\"arrowwidth\":1},\"autotypenumbers\":\"strict\",\"coloraxis\":{\"colorbar\":{\"outlinewidth\":0,\"ticks\":\"\"}},\"colorscale\":{\"diverging\":[[0,\"#8e0152\"],[0.1,\"#c51b7d\"],[0.2,\"#de77ae\"],[0.3,\"#f1b6da\"],[0.4,\"#fde0ef\"],[0.5,\"#f7f7f7\"],[0.6,\"#e6f5d0\"],[0.7,\"#b8e186\"],[0.8,\"#7fbc41\"],[0.9,\"#4d9221\"],[1,\"#276419\"]],\"sequential\":[[0.0,\"#0d0887\"],[0.1111111111111111,\"#46039f\"],[0.2222222222222222,\"#7201a8\"],[0.3333333333333333,\"#9c179e\"],[0.4444444444444444,\"#bd3786\"],[0.5555555555555556,\"#d8576b\"],[0.6666666666666666,\"#ed7953\"],[0.7777777777777778,\"#fb9f3a\"],[0.8888888888888888,\"#fdca26\"],[1.0,\"#f0f921\"]],\"sequentialminus\":[[0.0,\"#0d0887\"],[0.1111111111111111,\"#46039f\"],[0.2222222222222222,\"#7201a8\"],[0.3333333333333333,\"#9c179e\"],[0.4444444444444444,\"#bd3786\"],[0.5555555555555556,\"#d8576b\"],[0.6666666666666666,\"#ed7953\"],[0.7777777777777778,\"#fb9f3a\"],[0.8888888888888888,\"#fdca26\"],[1.0,\"#f0f921\"]]},\"colorway\":[\"#636efa\",\"#EF553B\",\"#00cc96\",\"#ab63fa\",\"#FFA15A\",\"#19d3f3\",\"#FF6692\",\"#B6E880\",\"#FF97FF\",\"#FECB52\"],\"font\":{\"color\":\"#2a3f5f\"},\"geo\":{\"bgcolor\":\"white\",\"lakecolor\":\"white\",\"landcolor\":\"#E5ECF6\",\"showlakes\":true,\"showland\":true,\"subunitcolor\":\"white\"},\"hoverlabel\":{\"align\":\"left\"},\"hovermode\":\"closest\",\"mapbox\":{\"style\":\"light\"},\"paper_bgcolor\":\"white\",\"plot_bgcolor\":\"#E5ECF6\",\"polar\":{\"angularaxis\":{\"gridcolor\":\"white\",\"linecolor\":\"white\",\"ticks\":\"\"},\"bgcolor\":\"#E5ECF6\",\"radialaxis\":{\"gridcolor\":\"white\",\"linecolor\":\"white\",\"ticks\":\"\"}},\"scene\":{\"xaxis\":{\"backgroundcolor\":\"#E5ECF6\",\"gridcolor\":\"white\",\"gridwidth\":2,\"linecolor\":\"white\",\"showbackground\":true,\"ticks\":\"\",\"zerolinecolor\":\"white\"},\"yaxis\":{\"backgroundcolor\":\"#E5ECF6\",\"gridcolor\":\"white\",\"gridwidth\":2,\"linecolor\":\"white\",\"showbackground\":true,\"ticks\":\"\",\"zerolinecolor\":\"white\"},\"zaxis\":{\"backgroundcolor\":\"#E5ECF6\",\"gridcolor\":\"white\",\"gridwidth\":2,\"linecolor\":\"white\",\"showbackground\":true,\"ticks\":\"\",\"zerolinecolor\":\"white\"}},\"shapedefaults\":{\"line\":{\"color\":\"#2a3f5f\"}},\"ternary\":{\"aaxis\":{\"gridcolor\":\"white\",\"linecolor\":\"white\",\"ticks\":\"\"},\"baxis\":{\"gridcolor\":\"white\",\"linecolor\":\"white\",\"ticks\":\"\"},\"bgcolor\":\"#E5ECF6\",\"caxis\":{\"gridcolor\":\"white\",\"linecolor\":\"white\",\"ticks\":\"\"}},\"title\":{\"x\":0.05},\"xaxis\":{\"automargin\":true,\"gridcolor\":\"white\",\"linecolor\":\"white\",\"ticks\":\"\",\"title\":{\"standoff\":15},\"zerolinecolor\":\"white\",\"zerolinewidth\":2},\"yaxis\":{\"automargin\":true,\"gridcolor\":\"white\",\"linecolor\":\"white\",\"ticks\":\"\",\"title\":{\"standoff\":15},\"zerolinecolor\":\"white\",\"zerolinewidth\":2}}},\"xaxis\":{\"anchor\":\"y\",\"domain\":[0.0,1.0],\"title\":{\"text\":\"Date\"},\"showgrid\":false},\"yaxis\":{\"anchor\":\"x\",\"domain\":[0.0,1.0],\"title\":{\"text\":\"Stock price\"},\"showgrid\":false},\"legend\":{\"title\":{\"text\":\"Close Price\"},\"tracegroupgap\":0},\"margin\":{\"t\":60},\"title\":{\"text\":\"Comparision between original close price vs predicted close price\"},\"font\":{\"size\":15,\"color\":\"black\"},\"plot_bgcolor\":\"white\"},                        {\"responsive\": true}                    ).then(function(){\n",
              "                            \n",
              "var gd = document.getElementById('84125015-857f-4f3b-9a8c-fbd219aad57b');\n",
              "var x = new MutationObserver(function (mutations, observer) {{\n",
              "        var display = window.getComputedStyle(gd).display;\n",
              "        if (!display || display === 'none') {{\n",
              "            console.log([gd, 'removed!']);\n",
              "            Plotly.purge(gd);\n",
              "            observer.disconnect();\n",
              "        }}\n",
              "}});\n",
              "\n",
              "// Listen for the removal of the full notebook cells\n",
              "var notebookContainer = gd.closest('#notebook-container');\n",
              "if (notebookContainer) {{\n",
              "    x.observe(notebookContainer, {childList: true});\n",
              "}}\n",
              "\n",
              "// Listen for the clearing of the current output cell\n",
              "var outputEl = gd.closest('.output');\n",
              "if (outputEl) {{\n",
              "    x.observe(outputEl, {childList: true});\n",
              "}}\n",
              "\n",
              "                        })                };                            </script>        </div>\n",
              "</body>\n",
              "</html>"
            ]
          },
          "metadata": {}
        }
      ],
      "source": [
        "# shift train predictions for plotting\n",
        "\n",
        "look_back=time_step\n",
        "trainPredictPlot = np.empty_like(closedf)\n",
        "trainPredictPlot[:, :] = np.nan\n",
        "trainPredictPlot[look_back:len(train_predict)+look_back, :] = train_predict\n",
        "print(\"Train predicted data: \", trainPredictPlot.shape)\n",
        "\n",
        "# shift test predictions for plotting\n",
        "testPredictPlot = np.empty_like(closedf)\n",
        "testPredictPlot[:, :] = np.nan\n",
        "testPredictPlot[len(train_predict)+(look_back*2)+1:len(closedf)-1, :] = test_predict\n",
        "print(\"Test predicted data: \", testPredictPlot.shape)\n",
        "\n",
        "names = cycle(['Original close price','Train predicted close price','Test predicted close price'])\n",
        "\n",
        "\n",
        "plotdf = pd.DataFrame({'date': close_stock['Date'],\n",
        "                       'original_close': close_stock['Close'],\n",
        "                      'train_predicted_close': trainPredictPlot.reshape(1,-1)[0].tolist(),\n",
        "                      'test_predicted_close': testPredictPlot.reshape(1,-1)[0].tolist()})\n",
        "\n",
        "fig = px.line(plotdf,x=plotdf['date'], y=[plotdf['original_close'],plotdf['train_predicted_close'],\n",
        "                                          plotdf['test_predicted_close']],\n",
        "              labels={'value':'Stock price','date': 'Date'})\n",
        "fig.update_layout(title_text='Comparision between original close price vs predicted close price',\n",
        "                  plot_bgcolor='white', font_size=15, font_color='black', legend_title_text='Close Price')\n",
        "fig.for_each_trace(lambda t:  t.update(name = next(names)))\n",
        "\n",
        "fig.update_xaxes(showgrid=False)\n",
        "fig.update_yaxes(showgrid=False)\n",
        "fig.show()"
      ]
    },
    {
      "cell_type": "markdown",
      "metadata": {
        "id": "xbRvvT_8NgQK"
      },
      "source": [
        "**GRU**"
      ]
    },
    {
      "cell_type": "code",
      "execution_count": null,
      "metadata": {
        "id": "y0134aa1OA4h"
      },
      "outputs": [],
      "source": [
        "import tensorflow as tf\n",
        "from tensorflow import keras"
      ]
    },
    {
      "cell_type": "code",
      "execution_count": null,
      "metadata": {
        "id": "BAndMy_gNoxZ"
      },
      "outputs": [],
      "source": [
        "def build_gru_model(input_data, output_size, neurons=100, activ_func='linear',\n",
        "                     dropout=0.2, loss='mse', optimizer='adam'):\n",
        "    model = Sequential()\n",
        "    model.add(tf.keras.layers.GRU(neurons, input_shape=(input_data.shape[1], input_data.shape[2])))\n",
        "    model.add(Dropout(dropout))\n",
        "    model.add(Dense(units=output_size))\n",
        "    model.add(Activation(activ_func))\n",
        "\n",
        "    model.compile(loss=loss, optimizer=optimizer)\n",
        "    return model"
      ]
    },
    {
      "cell_type": "code",
      "execution_count": null,
      "metadata": {
        "id": "Twa2rwyxN15x"
      },
      "outputs": [],
      "source": [
        "np.random.seed(42)\n",
        "window_len = 5\n",
        "test_size = 0.2\n",
        "zero_base = True\n",
        "gru_neurons = 100\n",
        "epochs = 200\n",
        "batch_size = 32\n",
        "loss = 'mse'\n",
        "dropout = 0.2\n",
        "optimizer = 'adam'"
      ]
    },
    {
      "cell_type": "code",
      "execution_count": null,
      "metadata": {
        "colab": {
          "base_uri": "https://localhost:8080/"
        },
        "id": "MoOsSNLwNvhh",
        "outputId": "0193f4ed-e63f-46da-9d3f-5c8a8b975b8a"
      },
      "outputs": [
        {
          "output_type": "stream",
          "name": "stdout",
          "text": [
            "Epoch 1/200\n",
            "26/26 [==============================] - 3s 37ms/step - loss: 0.0191 - val_loss: 0.0024\n",
            "Epoch 2/200\n",
            "26/26 [==============================] - 0s 18ms/step - loss: 0.0012 - val_loss: 0.0014\n",
            "Epoch 3/200\n",
            "26/26 [==============================] - 0s 18ms/step - loss: 0.0011 - val_loss: 0.0039\n",
            "Epoch 4/200\n",
            "26/26 [==============================] - 0s 17ms/step - loss: 8.5635e-04 - val_loss: 0.0013\n",
            "Epoch 5/200\n",
            "26/26 [==============================] - 0s 18ms/step - loss: 8.8982e-04 - val_loss: 0.0010\n",
            "Epoch 6/200\n",
            "26/26 [==============================] - 0s 17ms/step - loss: 7.8517e-04 - val_loss: 9.8482e-04\n",
            "Epoch 7/200\n",
            "26/26 [==============================] - 0s 18ms/step - loss: 7.5138e-04 - val_loss: 9.5454e-04\n",
            "Epoch 8/200\n",
            "26/26 [==============================] - 0s 18ms/step - loss: 7.2563e-04 - val_loss: 0.0010\n",
            "Epoch 9/200\n",
            "26/26 [==============================] - 0s 18ms/step - loss: 6.4154e-04 - val_loss: 9.2878e-04\n",
            "Epoch 10/200\n",
            "26/26 [==============================] - 0s 17ms/step - loss: 6.0381e-04 - val_loss: 0.0015\n",
            "Epoch 11/200\n",
            "26/26 [==============================] - 0s 18ms/step - loss: 7.4864e-04 - val_loss: 0.0011\n",
            "Epoch 12/200\n",
            "26/26 [==============================] - 0s 18ms/step - loss: 7.1284e-04 - val_loss: 8.0915e-04\n",
            "Epoch 13/200\n",
            "26/26 [==============================] - 0s 18ms/step - loss: 6.0843e-04 - val_loss: 0.0010\n",
            "Epoch 14/200\n",
            "26/26 [==============================] - 0s 18ms/step - loss: 4.4960e-04 - val_loss: 8.0813e-04\n",
            "Epoch 15/200\n",
            "26/26 [==============================] - 0s 17ms/step - loss: 5.7606e-04 - val_loss: 9.1283e-04\n",
            "Epoch 16/200\n",
            "26/26 [==============================] - 0s 18ms/step - loss: 5.7569e-04 - val_loss: 9.5874e-04\n",
            "Epoch 17/200\n",
            "26/26 [==============================] - 0s 17ms/step - loss: 5.8830e-04 - val_loss: 0.0013\n",
            "Epoch 18/200\n",
            "26/26 [==============================] - 0s 19ms/step - loss: 5.2372e-04 - val_loss: 7.5926e-04\n",
            "Epoch 19/200\n",
            "26/26 [==============================] - 0s 19ms/step - loss: 6.7396e-04 - val_loss: 8.0509e-04\n",
            "Epoch 20/200\n",
            "26/26 [==============================] - 1s 39ms/step - loss: 4.5672e-04 - val_loss: 7.4743e-04\n",
            "Epoch 21/200\n",
            "26/26 [==============================] - 1s 20ms/step - loss: 6.3814e-04 - val_loss: 0.0011\n",
            "Epoch 22/200\n",
            "26/26 [==============================] - 1s 42ms/step - loss: 4.9432e-04 - val_loss: 0.0011\n",
            "Epoch 23/200\n",
            "26/26 [==============================] - 1s 19ms/step - loss: 4.3830e-04 - val_loss: 6.9910e-04\n",
            "Epoch 24/200\n",
            "26/26 [==============================] - 1s 37ms/step - loss: 4.9771e-04 - val_loss: 6.9192e-04\n",
            "Epoch 25/200\n",
            "26/26 [==============================] - 0s 18ms/step - loss: 4.8913e-04 - val_loss: 6.9041e-04\n",
            "Epoch 26/200\n",
            "26/26 [==============================] - 0s 17ms/step - loss: 4.3336e-04 - val_loss: 0.0011\n",
            "Epoch 27/200\n",
            "26/26 [==============================] - 0s 18ms/step - loss: 4.5377e-04 - val_loss: 9.1433e-04\n",
            "Epoch 28/200\n",
            "26/26 [==============================] - 0s 18ms/step - loss: 5.7658e-04 - val_loss: 0.0014\n",
            "Epoch 29/200\n",
            "26/26 [==============================] - 0s 18ms/step - loss: 5.9951e-04 - val_loss: 9.4864e-04\n",
            "Epoch 30/200\n",
            "26/26 [==============================] - 0s 18ms/step - loss: 4.6244e-04 - val_loss: 8.4981e-04\n",
            "Epoch 31/200\n",
            "26/26 [==============================] - 0s 17ms/step - loss: 4.8902e-04 - val_loss: 6.7238e-04\n",
            "Epoch 32/200\n",
            "26/26 [==============================] - 0s 18ms/step - loss: 5.0702e-04 - val_loss: 7.1321e-04\n",
            "Epoch 33/200\n",
            "26/26 [==============================] - 0s 18ms/step - loss: 4.5717e-04 - val_loss: 9.8338e-04\n",
            "Epoch 34/200\n",
            "26/26 [==============================] - 0s 18ms/step - loss: 4.0630e-04 - val_loss: 6.9527e-04\n",
            "Epoch 35/200\n",
            "26/26 [==============================] - 0s 17ms/step - loss: 3.6366e-04 - val_loss: 7.7823e-04\n",
            "Epoch 36/200\n",
            "26/26 [==============================] - 0s 19ms/step - loss: 5.4320e-04 - val_loss: 8.1697e-04\n",
            "Epoch 37/200\n",
            "26/26 [==============================] - 0s 17ms/step - loss: 4.5057e-04 - val_loss: 6.9367e-04\n",
            "Epoch 38/200\n",
            "26/26 [==============================] - 0s 18ms/step - loss: 3.3251e-04 - val_loss: 9.8615e-04\n",
            "Epoch 39/200\n",
            "26/26 [==============================] - 0s 17ms/step - loss: 4.0402e-04 - val_loss: 7.0603e-04\n",
            "Epoch 40/200\n",
            "26/26 [==============================] - 0s 18ms/step - loss: 4.0560e-04 - val_loss: 7.2823e-04\n",
            "Epoch 41/200\n",
            "26/26 [==============================] - 0s 18ms/step - loss: 4.6539e-04 - val_loss: 0.0011\n",
            "Epoch 42/200\n",
            "26/26 [==============================] - 0s 18ms/step - loss: 3.9525e-04 - val_loss: 7.0565e-04\n",
            "Epoch 43/200\n",
            "26/26 [==============================] - 0s 18ms/step - loss: 5.5876e-04 - val_loss: 6.7607e-04\n",
            "Epoch 44/200\n",
            "26/26 [==============================] - 0s 18ms/step - loss: 3.9538e-04 - val_loss: 6.2972e-04\n",
            "Epoch 45/200\n",
            "26/26 [==============================] - 0s 19ms/step - loss: 5.1868e-04 - val_loss: 6.3588e-04\n",
            "Epoch 46/200\n",
            "26/26 [==============================] - 0s 18ms/step - loss: 4.5777e-04 - val_loss: 6.4853e-04\n",
            "Epoch 47/200\n",
            "26/26 [==============================] - 0s 18ms/step - loss: 4.3011e-04 - val_loss: 7.3870e-04\n",
            "Epoch 48/200\n",
            "26/26 [==============================] - 0s 17ms/step - loss: 3.9673e-04 - val_loss: 6.9311e-04\n",
            "Epoch 49/200\n",
            "26/26 [==============================] - 0s 19ms/step - loss: 4.6864e-04 - val_loss: 7.9494e-04\n",
            "Epoch 50/200\n",
            "26/26 [==============================] - 0s 18ms/step - loss: 4.0664e-04 - val_loss: 6.2744e-04\n",
            "Epoch 51/200\n",
            "26/26 [==============================] - 0s 18ms/step - loss: 4.1764e-04 - val_loss: 6.1301e-04\n",
            "Epoch 52/200\n",
            "26/26 [==============================] - 0s 18ms/step - loss: 3.3390e-04 - val_loss: 6.3879e-04\n",
            "Epoch 53/200\n",
            "26/26 [==============================] - 0s 18ms/step - loss: 4.1760e-04 - val_loss: 6.1796e-04\n",
            "Epoch 54/200\n",
            "26/26 [==============================] - 0s 18ms/step - loss: 3.6862e-04 - val_loss: 7.0574e-04\n",
            "Epoch 55/200\n",
            "26/26 [==============================] - 0s 18ms/step - loss: 3.8728e-04 - val_loss: 7.4492e-04\n",
            "Epoch 56/200\n",
            "26/26 [==============================] - 0s 18ms/step - loss: 4.2202e-04 - val_loss: 6.6741e-04\n",
            "Epoch 57/200\n",
            "26/26 [==============================] - 0s 18ms/step - loss: 4.9290e-04 - val_loss: 6.6786e-04\n",
            "Epoch 58/200\n",
            "26/26 [==============================] - 0s 19ms/step - loss: 4.9571e-04 - val_loss: 6.0779e-04\n",
            "Epoch 59/200\n",
            "26/26 [==============================] - 0s 18ms/step - loss: 3.5778e-04 - val_loss: 6.0219e-04\n",
            "Epoch 60/200\n",
            "26/26 [==============================] - 0s 18ms/step - loss: 4.0435e-04 - val_loss: 6.4916e-04\n",
            "Epoch 61/200\n",
            "26/26 [==============================] - 0s 18ms/step - loss: 4.8844e-04 - val_loss: 6.0371e-04\n",
            "Epoch 62/200\n",
            "26/26 [==============================] - 0s 17ms/step - loss: 4.4983e-04 - val_loss: 6.3898e-04\n",
            "Epoch 63/200\n",
            "26/26 [==============================] - 0s 19ms/step - loss: 4.0343e-04 - val_loss: 8.1791e-04\n",
            "Epoch 64/200\n",
            "26/26 [==============================] - 0s 17ms/step - loss: 3.9922e-04 - val_loss: 6.0551e-04\n",
            "Epoch 65/200\n",
            "26/26 [==============================] - 0s 18ms/step - loss: 3.2716e-04 - val_loss: 0.0013\n",
            "Epoch 66/200\n",
            "26/26 [==============================] - 0s 18ms/step - loss: 3.7980e-04 - val_loss: 8.8671e-04\n",
            "Epoch 67/200\n",
            "26/26 [==============================] - 0s 18ms/step - loss: 3.2492e-04 - val_loss: 5.8944e-04\n",
            "Epoch 68/200\n",
            "26/26 [==============================] - 0s 18ms/step - loss: 3.7389e-04 - val_loss: 6.6818e-04\n",
            "Epoch 69/200\n",
            "26/26 [==============================] - 0s 18ms/step - loss: 3.3329e-04 - val_loss: 6.0199e-04\n",
            "Epoch 70/200\n",
            "26/26 [==============================] - 0s 18ms/step - loss: 3.6463e-04 - val_loss: 5.7940e-04\n",
            "Epoch 71/200\n",
            "26/26 [==============================] - 0s 18ms/step - loss: 3.4306e-04 - val_loss: 7.7444e-04\n",
            "Epoch 72/200\n",
            "26/26 [==============================] - 0s 18ms/step - loss: 3.7049e-04 - val_loss: 6.5491e-04\n",
            "Epoch 73/200\n",
            "26/26 [==============================] - 0s 18ms/step - loss: 3.7456e-04 - val_loss: 6.2813e-04\n",
            "Epoch 74/200\n",
            "26/26 [==============================] - 0s 18ms/step - loss: 3.3269e-04 - val_loss: 0.0013\n",
            "Epoch 75/200\n",
            "26/26 [==============================] - 0s 18ms/step - loss: 4.4436e-04 - val_loss: 7.8844e-04\n",
            "Epoch 76/200\n",
            "26/26 [==============================] - 0s 18ms/step - loss: 3.7514e-04 - val_loss: 7.9619e-04\n",
            "Epoch 77/200\n",
            "26/26 [==============================] - 0s 18ms/step - loss: 4.3587e-04 - val_loss: 5.8295e-04\n",
            "Epoch 78/200\n",
            "26/26 [==============================] - 0s 19ms/step - loss: 4.8848e-04 - val_loss: 6.2514e-04\n",
            "Epoch 79/200\n",
            "26/26 [==============================] - 0s 18ms/step - loss: 2.8112e-04 - val_loss: 5.7123e-04\n",
            "Epoch 80/200\n",
            "26/26 [==============================] - 1s 19ms/step - loss: 3.1875e-04 - val_loss: 6.4608e-04\n",
            "Epoch 81/200\n",
            "26/26 [==============================] - 0s 18ms/step - loss: 3.4066e-04 - val_loss: 7.6398e-04\n",
            "Epoch 82/200\n",
            "26/26 [==============================] - 0s 19ms/step - loss: 3.7828e-04 - val_loss: 6.4020e-04\n",
            "Epoch 83/200\n",
            "26/26 [==============================] - 0s 17ms/step - loss: 3.2512e-04 - val_loss: 5.6424e-04\n",
            "Epoch 84/200\n",
            "26/26 [==============================] - 0s 18ms/step - loss: 3.3157e-04 - val_loss: 6.2991e-04\n",
            "Epoch 85/200\n",
            "26/26 [==============================] - 0s 18ms/step - loss: 4.0565e-04 - val_loss: 8.6429e-04\n",
            "Epoch 86/200\n",
            "26/26 [==============================] - 0s 17ms/step - loss: 3.8553e-04 - val_loss: 6.0081e-04\n",
            "Epoch 87/200\n",
            "26/26 [==============================] - 0s 18ms/step - loss: 4.4888e-04 - val_loss: 5.6034e-04\n",
            "Epoch 88/200\n",
            "26/26 [==============================] - 0s 18ms/step - loss: 3.1192e-04 - val_loss: 5.8811e-04\n",
            "Epoch 89/200\n",
            "26/26 [==============================] - 0s 18ms/step - loss: 3.4743e-04 - val_loss: 7.3181e-04\n",
            "Epoch 90/200\n",
            "26/26 [==============================] - 0s 17ms/step - loss: 3.4488e-04 - val_loss: 6.0854e-04\n",
            "Epoch 91/200\n",
            "26/26 [==============================] - 0s 19ms/step - loss: 3.5441e-04 - val_loss: 5.5368e-04\n",
            "Epoch 92/200\n",
            "26/26 [==============================] - 0s 18ms/step - loss: 2.8463e-04 - val_loss: 5.7899e-04\n",
            "Epoch 93/200\n",
            "26/26 [==============================] - 0s 18ms/step - loss: 2.4252e-04 - val_loss: 5.5768e-04\n",
            "Epoch 94/200\n",
            "26/26 [==============================] - 0s 18ms/step - loss: 2.8548e-04 - val_loss: 5.5220e-04\n",
            "Epoch 95/200\n",
            "26/26 [==============================] - 0s 18ms/step - loss: 3.2091e-04 - val_loss: 5.7067e-04\n",
            "Epoch 96/200\n",
            "26/26 [==============================] - 0s 18ms/step - loss: 3.4692e-04 - val_loss: 5.6832e-04\n",
            "Epoch 97/200\n",
            "26/26 [==============================] - 0s 18ms/step - loss: 3.0290e-04 - val_loss: 6.2674e-04\n",
            "Epoch 98/200\n",
            "26/26 [==============================] - 0s 18ms/step - loss: 3.3222e-04 - val_loss: 5.9745e-04\n",
            "Epoch 99/200\n",
            "26/26 [==============================] - 0s 18ms/step - loss: 2.5391e-04 - val_loss: 5.5391e-04\n",
            "Epoch 100/200\n",
            "26/26 [==============================] - 0s 18ms/step - loss: 3.9616e-04 - val_loss: 6.8739e-04\n",
            "Epoch 101/200\n",
            "26/26 [==============================] - 0s 19ms/step - loss: 4.0773e-04 - val_loss: 5.4802e-04\n",
            "Epoch 102/200\n",
            "26/26 [==============================] - 0s 19ms/step - loss: 3.0967e-04 - val_loss: 6.4582e-04\n",
            "Epoch 103/200\n",
            "26/26 [==============================] - 0s 19ms/step - loss: 3.8716e-04 - val_loss: 6.5186e-04\n",
            "Epoch 104/200\n",
            "26/26 [==============================] - 0s 18ms/step - loss: 3.1906e-04 - val_loss: 5.4348e-04\n",
            "Epoch 105/200\n",
            "26/26 [==============================] - 0s 18ms/step - loss: 3.6775e-04 - val_loss: 5.5450e-04\n",
            "Epoch 106/200\n",
            "26/26 [==============================] - 0s 18ms/step - loss: 3.2015e-04 - val_loss: 5.4266e-04\n",
            "Epoch 107/200\n",
            "26/26 [==============================] - 0s 18ms/step - loss: 2.9956e-04 - val_loss: 5.6417e-04\n",
            "Epoch 108/200\n",
            "26/26 [==============================] - 0s 18ms/step - loss: 4.3767e-04 - val_loss: 5.4893e-04\n",
            "Epoch 109/200\n",
            "26/26 [==============================] - 0s 17ms/step - loss: 4.0436e-04 - val_loss: 6.4622e-04\n",
            "Epoch 110/200\n",
            "26/26 [==============================] - 0s 18ms/step - loss: 3.6487e-04 - val_loss: 5.5964e-04\n",
            "Epoch 111/200\n",
            "26/26 [==============================] - 0s 18ms/step - loss: 4.3436e-04 - val_loss: 8.3685e-04\n",
            "Epoch 112/200\n",
            "26/26 [==============================] - 0s 19ms/step - loss: 4.2350e-04 - val_loss: 7.3005e-04\n",
            "Epoch 113/200\n",
            "26/26 [==============================] - 0s 18ms/step - loss: 2.9065e-04 - val_loss: 5.3904e-04\n",
            "Epoch 114/200\n",
            "26/26 [==============================] - 0s 18ms/step - loss: 2.9549e-04 - val_loss: 7.3618e-04\n",
            "Epoch 115/200\n",
            "26/26 [==============================] - 0s 18ms/step - loss: 3.2379e-04 - val_loss: 6.5478e-04\n",
            "Epoch 116/200\n",
            "26/26 [==============================] - 0s 18ms/step - loss: 3.2597e-04 - val_loss: 5.3745e-04\n",
            "Epoch 117/200\n",
            "26/26 [==============================] - 0s 17ms/step - loss: 2.8263e-04 - val_loss: 5.3967e-04\n",
            "Epoch 118/200\n",
            "26/26 [==============================] - 0s 18ms/step - loss: 3.9990e-04 - val_loss: 6.3368e-04\n",
            "Epoch 119/200\n",
            "26/26 [==============================] - 0s 17ms/step - loss: 3.2651e-04 - val_loss: 5.6520e-04\n",
            "Epoch 120/200\n",
            "26/26 [==============================] - 0s 18ms/step - loss: 3.6203e-04 - val_loss: 0.0012\n",
            "Epoch 121/200\n",
            "26/26 [==============================] - 0s 18ms/step - loss: 4.1204e-04 - val_loss: 7.6600e-04\n",
            "Epoch 122/200\n",
            "26/26 [==============================] - 0s 18ms/step - loss: 4.1445e-04 - val_loss: 5.3758e-04\n",
            "Epoch 123/200\n",
            "26/26 [==============================] - 0s 18ms/step - loss: 3.2966e-04 - val_loss: 5.4419e-04\n",
            "Epoch 124/200\n",
            "26/26 [==============================] - 0s 18ms/step - loss: 3.6216e-04 - val_loss: 6.1169e-04\n",
            "Epoch 125/200\n",
            "26/26 [==============================] - 0s 17ms/step - loss: 2.6777e-04 - val_loss: 5.3625e-04\n",
            "Epoch 126/200\n",
            "26/26 [==============================] - 0s 17ms/step - loss: 3.2417e-04 - val_loss: 5.4628e-04\n",
            "Epoch 127/200\n",
            "26/26 [==============================] - 0s 19ms/step - loss: 3.6095e-04 - val_loss: 5.4577e-04\n",
            "Epoch 128/200\n",
            "26/26 [==============================] - 0s 18ms/step - loss: 3.1348e-04 - val_loss: 5.4445e-04\n",
            "Epoch 129/200\n",
            "26/26 [==============================] - 0s 19ms/step - loss: 4.4366e-04 - val_loss: 6.4071e-04\n",
            "Epoch 130/200\n",
            "26/26 [==============================] - 0s 17ms/step - loss: 3.3918e-04 - val_loss: 5.5480e-04\n",
            "Epoch 131/200\n",
            "26/26 [==============================] - 0s 19ms/step - loss: 3.4242e-04 - val_loss: 5.3363e-04\n",
            "Epoch 132/200\n",
            "26/26 [==============================] - 0s 19ms/step - loss: 4.2332e-04 - val_loss: 0.0010\n",
            "Epoch 133/200\n",
            "26/26 [==============================] - 0s 18ms/step - loss: 3.5903e-04 - val_loss: 5.3403e-04\n",
            "Epoch 134/200\n",
            "26/26 [==============================] - 0s 19ms/step - loss: 3.0262e-04 - val_loss: 5.5660e-04\n",
            "Epoch 135/200\n",
            "26/26 [==============================] - 0s 19ms/step - loss: 3.3639e-04 - val_loss: 6.1049e-04\n",
            "Epoch 136/200\n",
            "26/26 [==============================] - 1s 20ms/step - loss: 3.3332e-04 - val_loss: 0.0010\n",
            "Epoch 137/200\n",
            "26/26 [==============================] - 0s 18ms/step - loss: 3.6023e-04 - val_loss: 7.0913e-04\n",
            "Epoch 138/200\n",
            "26/26 [==============================] - 0s 18ms/step - loss: 3.5086e-04 - val_loss: 5.2805e-04\n",
            "Epoch 139/200\n",
            "26/26 [==============================] - 0s 18ms/step - loss: 2.6686e-04 - val_loss: 7.1596e-04\n",
            "Epoch 140/200\n",
            "26/26 [==============================] - 0s 19ms/step - loss: 2.7010e-04 - val_loss: 6.2114e-04\n",
            "Epoch 141/200\n",
            "26/26 [==============================] - 0s 18ms/step - loss: 3.0877e-04 - val_loss: 5.4097e-04\n",
            "Epoch 142/200\n",
            "26/26 [==============================] - 0s 18ms/step - loss: 3.1275e-04 - val_loss: 5.3028e-04\n",
            "Epoch 143/200\n",
            "26/26 [==============================] - 0s 18ms/step - loss: 3.3819e-04 - val_loss: 0.0011\n",
            "Epoch 144/200\n",
            "26/26 [==============================] - 0s 19ms/step - loss: 3.7862e-04 - val_loss: 5.3304e-04\n",
            "Epoch 145/200\n",
            "26/26 [==============================] - 1s 19ms/step - loss: 3.5665e-04 - val_loss: 5.3216e-04\n",
            "Epoch 146/200\n",
            "26/26 [==============================] - 0s 18ms/step - loss: 3.3814e-04 - val_loss: 5.2959e-04\n",
            "Epoch 147/200\n",
            "26/26 [==============================] - 0s 18ms/step - loss: 3.8426e-04 - val_loss: 5.3730e-04\n",
            "Epoch 148/200\n",
            "26/26 [==============================] - 0s 19ms/step - loss: 3.4889e-04 - val_loss: 8.3853e-04\n",
            "Epoch 149/200\n",
            "26/26 [==============================] - 0s 18ms/step - loss: 3.3582e-04 - val_loss: 5.3091e-04\n",
            "Epoch 150/200\n",
            "26/26 [==============================] - 0s 18ms/step - loss: 2.9599e-04 - val_loss: 5.7449e-04\n",
            "Epoch 151/200\n",
            "26/26 [==============================] - 0s 18ms/step - loss: 3.5319e-04 - val_loss: 6.4051e-04\n",
            "Epoch 152/200\n",
            "26/26 [==============================] - 0s 18ms/step - loss: 3.2724e-04 - val_loss: 6.3444e-04\n",
            "Epoch 153/200\n",
            "26/26 [==============================] - 0s 19ms/step - loss: 3.3486e-04 - val_loss: 6.5310e-04\n",
            "Epoch 154/200\n",
            "26/26 [==============================] - 0s 18ms/step - loss: 3.9281e-04 - val_loss: 5.2972e-04\n",
            "Epoch 155/200\n",
            "26/26 [==============================] - 0s 18ms/step - loss: 3.1782e-04 - val_loss: 5.9078e-04\n",
            "Epoch 156/200\n",
            "26/26 [==============================] - 0s 19ms/step - loss: 3.7884e-04 - val_loss: 7.6599e-04\n",
            "Epoch 157/200\n",
            "26/26 [==============================] - 0s 19ms/step - loss: 3.6206e-04 - val_loss: 5.5654e-04\n",
            "Epoch 158/200\n",
            "26/26 [==============================] - 0s 18ms/step - loss: 3.3233e-04 - val_loss: 5.3341e-04\n",
            "Epoch 159/200\n",
            "26/26 [==============================] - 1s 19ms/step - loss: 2.6246e-04 - val_loss: 5.4167e-04\n",
            "Epoch 160/200\n",
            "26/26 [==============================] - 0s 19ms/step - loss: 3.0397e-04 - val_loss: 5.4899e-04\n",
            "Epoch 161/200\n",
            "26/26 [==============================] - 0s 19ms/step - loss: 3.6955e-04 - val_loss: 5.2648e-04\n",
            "Epoch 162/200\n",
            "26/26 [==============================] - 0s 19ms/step - loss: 3.2477e-04 - val_loss: 6.5622e-04\n",
            "Epoch 163/200\n",
            "26/26 [==============================] - 0s 19ms/step - loss: 2.8241e-04 - val_loss: 5.8391e-04\n",
            "Epoch 164/200\n",
            "26/26 [==============================] - 0s 18ms/step - loss: 3.8253e-04 - val_loss: 5.5617e-04\n",
            "Epoch 165/200\n",
            "26/26 [==============================] - 0s 18ms/step - loss: 3.5337e-04 - val_loss: 6.3974e-04\n",
            "Epoch 166/200\n",
            "26/26 [==============================] - 0s 19ms/step - loss: 3.4544e-04 - val_loss: 5.4883e-04\n",
            "Epoch 167/200\n",
            "26/26 [==============================] - 0s 19ms/step - loss: 2.9230e-04 - val_loss: 0.0010\n",
            "Epoch 168/200\n",
            "26/26 [==============================] - 0s 18ms/step - loss: 3.8954e-04 - val_loss: 8.5907e-04\n",
            "Epoch 169/200\n",
            "26/26 [==============================] - 0s 19ms/step - loss: 4.0624e-04 - val_loss: 6.9977e-04\n",
            "Epoch 170/200\n",
            "26/26 [==============================] - 0s 18ms/step - loss: 2.8434e-04 - val_loss: 5.7363e-04\n",
            "Epoch 171/200\n",
            "26/26 [==============================] - 0s 19ms/step - loss: 3.3088e-04 - val_loss: 5.3032e-04\n",
            "Epoch 172/200\n",
            "26/26 [==============================] - 0s 18ms/step - loss: 2.8989e-04 - val_loss: 7.2439e-04\n",
            "Epoch 173/200\n",
            "26/26 [==============================] - 0s 19ms/step - loss: 3.4196e-04 - val_loss: 5.2701e-04\n",
            "Epoch 174/200\n",
            "26/26 [==============================] - 0s 18ms/step - loss: 2.7773e-04 - val_loss: 5.3899e-04\n",
            "Epoch 175/200\n",
            "26/26 [==============================] - 0s 18ms/step - loss: 3.0018e-04 - val_loss: 5.3249e-04\n",
            "Epoch 176/200\n",
            "26/26 [==============================] - 0s 18ms/step - loss: 2.9554e-04 - val_loss: 5.4173e-04\n",
            "Epoch 177/200\n",
            "26/26 [==============================] - 0s 19ms/step - loss: 2.7524e-04 - val_loss: 5.6449e-04\n",
            "Epoch 178/200\n",
            "26/26 [==============================] - 0s 18ms/step - loss: 3.2068e-04 - val_loss: 5.5106e-04\n",
            "Epoch 179/200\n",
            "26/26 [==============================] - 0s 17ms/step - loss: 3.0460e-04 - val_loss: 5.6418e-04\n",
            "Epoch 180/200\n",
            "26/26 [==============================] - 0s 18ms/step - loss: 3.8476e-04 - val_loss: 5.4743e-04\n",
            "Epoch 181/200\n",
            "26/26 [==============================] - 0s 18ms/step - loss: 2.9497e-04 - val_loss: 0.0011\n",
            "Epoch 182/200\n",
            "26/26 [==============================] - 0s 19ms/step - loss: 3.8366e-04 - val_loss: 6.0461e-04\n",
            "Epoch 183/200\n",
            "26/26 [==============================] - 0s 18ms/step - loss: 3.3506e-04 - val_loss: 5.3809e-04\n",
            "Epoch 184/200\n",
            "26/26 [==============================] - 0s 17ms/step - loss: 3.2596e-04 - val_loss: 5.3542e-04\n",
            "Epoch 185/200\n",
            "26/26 [==============================] - 0s 18ms/step - loss: 2.9089e-04 - val_loss: 5.9003e-04\n",
            "Epoch 186/200\n",
            "26/26 [==============================] - 0s 18ms/step - loss: 3.5927e-04 - val_loss: 8.9947e-04\n",
            "Epoch 187/200\n",
            "26/26 [==============================] - 0s 18ms/step - loss: 3.5289e-04 - val_loss: 5.4286e-04\n",
            "Epoch 188/200\n",
            "26/26 [==============================] - 0s 18ms/step - loss: 2.7284e-04 - val_loss: 7.8901e-04\n",
            "Epoch 189/200\n",
            "26/26 [==============================] - 1s 19ms/step - loss: 3.3576e-04 - val_loss: 6.0029e-04\n",
            "Epoch 190/200\n",
            "26/26 [==============================] - 1s 21ms/step - loss: 3.2200e-04 - val_loss: 6.4944e-04\n",
            "Epoch 191/200\n",
            "26/26 [==============================] - 1s 27ms/step - loss: 3.2391e-04 - val_loss: 5.4107e-04\n",
            "Epoch 192/200\n",
            "26/26 [==============================] - 1s 27ms/step - loss: 3.2281e-04 - val_loss: 8.4789e-04\n",
            "Epoch 193/200\n",
            "26/26 [==============================] - 1s 29ms/step - loss: 3.1826e-04 - val_loss: 5.4836e-04\n",
            "Epoch 194/200\n",
            "26/26 [==============================] - 1s 28ms/step - loss: 3.8617e-04 - val_loss: 7.6892e-04\n",
            "Epoch 195/200\n",
            "26/26 [==============================] - 0s 19ms/step - loss: 2.6420e-04 - val_loss: 5.9766e-04\n",
            "Epoch 196/200\n",
            "26/26 [==============================] - 0s 18ms/step - loss: 3.1880e-04 - val_loss: 5.3953e-04\n",
            "Epoch 197/200\n",
            "26/26 [==============================] - 0s 18ms/step - loss: 2.6101e-04 - val_loss: 6.7044e-04\n",
            "Epoch 198/200\n",
            "26/26 [==============================] - 0s 18ms/step - loss: 2.9632e-04 - val_loss: 5.5709e-04\n",
            "Epoch 199/200\n",
            "26/26 [==============================] - 0s 18ms/step - loss: 2.8201e-04 - val_loss: 5.5676e-04\n",
            "Epoch 200/200\n",
            "26/26 [==============================] - 0s 19ms/step - loss: 2.8321e-04 - val_loss: 6.8521e-04\n"
          ]
        }
      ],
      "source": [
        "model = build_gru_model(\n",
        "    X_train, output_size=1, neurons=gru_neurons, dropout=dropout, loss=loss,\n",
        "    optimizer=optimizer)\n",
        "history = model.fit(\n",
        "    X_train, y_train, validation_data=(X_test, y_test), epochs=epochs, batch_size=batch_size, verbose=1, shuffle=True)"
      ]
    },
    {
      "cell_type": "markdown",
      "metadata": {
        "id": "nz-V1BUbPMSE"
      },
      "source": [
        "Plotting Loss vs Validation loss"
      ]
    },
    {
      "cell_type": "code",
      "execution_count": null,
      "metadata": {
        "colab": {
          "base_uri": "https://localhost:8080/",
          "height": 298
        },
        "id": "6zq6OmBoPMSE",
        "outputId": "413611a3-dba0-4441-f707-eba599548f89"
      },
      "outputs": [
        {
          "output_type": "display_data",
          "data": {
            "text/plain": [
              "<Figure size 432x288 with 1 Axes>"
            ],
            "image/png": "[encoded data removed]"
          },
          "metadata": {
            "needs_background": "light"
          }
        },
        {
          "output_type": "display_data",
          "data": {
            "text/plain": [
              "<Figure size 432x288 with 0 Axes>"
            ]
          },
          "metadata": {}
        }
      ],
      "source": [
        "loss = history.history['loss']\n",
        "val_loss = history.history['val_loss']\n",
        "\n",
        "epochs = range(len(loss))\n",
        "\n",
        "plt.plot(epochs, loss, 'r', label='Training loss')\n",
        "plt.plot(epochs, val_loss, 'b', label='Validation loss')\n",
        "plt.title('Training and validation loss')\n",
        "plt.legend(loc=0)\n",
        "plt.figure()\n",
        "\n",
        "\n",
        "plt.show()"
      ]
    },
    {
      "cell_type": "code",
      "execution_count": null,
      "metadata": {
        "colab": {
          "base_uri": "https://localhost:8080/"
        },
        "id": "ZbO12QwKPMSE",
        "outputId": "c66a5765-dbf5-4bc6-8208-cebd5c503520"
      },
      "outputs": [
        {
          "output_type": "stream",
          "name": "stdout",
          "text": [
            "26/26 [==============================] - 1s 6ms/step\n",
            "17/17 [==============================] - 0s 5ms/step\n"
          ]
        },
        {
          "output_type": "execute_result",
          "data": {
            "text/plain": [
              "((822, 1), (544, 1))"
            ]
          },
          "metadata": {},
          "execution_count": 241
        }
      ],
      "source": [
        "### Lets Do the prediction and check performance metrics\n",
        "train_predict=model.predict(X_train)\n",
        "test_predict=model.predict(X_test)\n",
        "train_predict.shape, test_predict.shape"
      ]
    },
    {
      "cell_type": "markdown",
      "metadata": {
        "id": "smfw6CIZPMSF"
      },
      "source": [
        "Model Evaluation"
      ]
    },
    {
      "cell_type": "code",
      "execution_count": null,
      "metadata": {
        "id": "8fo9L0cSPMSF"
      },
      "outputs": [],
      "source": [
        "# Transform back to original form\n",
        "\n",
        "train_predict = scaler.inverse_transform(train_predict)\n",
        "test_predict = scaler.inverse_transform(test_predict)\n",
        "original_ytrain = scaler.inverse_transform(y_train.reshape(-1,1)) \n",
        "original_ytest = scaler.inverse_transform(y_test.reshape(-1,1)) "
      ]
    },
    {
      "cell_type": "markdown",
      "metadata": {
        "id": "krsUvJsWPMSF"
      },
      "source": [
        "Evaluation Metrics"
      ]
    },
    {
      "cell_type": "code",
      "execution_count": null,
      "metadata": {
        "colab": {
          "base_uri": "https://localhost:8080/"
        },
        "id": "YNX802K8PMSF",
        "outputId": "48683b59-fca7-4e1d-9926-f07eacdb7944"
      },
      "outputs": [
        {
          "output_type": "stream",
          "name": "stdout",
          "text": [
            "Train data RMSE:  827.8565069799681\n",
            "Train data MSE:  685346.396149074\n",
            "Train data MAE:  462.1841461741179\n",
            "-------------------------------------------------------------------------------------\n",
            "Test data RMSE:  1679.6812880134987\n",
            "Test data MSE:  2821329.2293026857\n",
            "Test data MAE:  1215.0431733504138\n"
          ]
        }
      ],
      "source": [
        "# Evaluation metrices RMSE and MAE\n",
        "print(\"Train data RMSE: \", math.sqrt(mean_squared_error(original_ytrain,train_predict)))\n",
        "print(\"Train data MSE: \", mean_squared_error(original_ytrain,train_predict))\n",
        "print(\"Train data MAE: \", mean_absolute_error(original_ytrain,train_predict))\n",
        "print(\"-------------------------------------------------------------------------------------\")\n",
        "print(\"Test data RMSE: \", math.sqrt(mean_squared_error(original_ytest,test_predict)))\n",
        "print(\"Test data MSE: \", mean_squared_error(original_ytest,test_predict))\n",
        "print(\"Test data MAE: \", mean_absolute_error(original_ytest,test_predict))"
      ]
    },
    {
      "cell_type": "markdown",
      "metadata": {
        "id": "u4ynYmXsPMSF"
      },
      "source": [
        "Variance Regression Score"
      ]
    },
    {
      "cell_type": "code",
      "execution_count": null,
      "metadata": {
        "colab": {
          "base_uri": "https://localhost:8080/"
        },
        "id": "Wr-Eq1VHPMSF",
        "outputId": "b3e989ec-f5a9-4cc5-c50a-9e84b1638a9a"
      },
      "outputs": [
        {
          "output_type": "stream",
          "name": "stdout",
          "text": [
            "Train data explained variance regression score: 0.9964635298572572\n",
            "Test data explained variance regression score: 0.985964125384681\n"
          ]
        }
      ],
      "source": [
        "print(\"Train data explained variance regression score:\", \n",
        "      explained_variance_score(original_ytrain, train_predict))\n",
        "print(\"Test data explained variance regression score:\", \n",
        "      explained_variance_score(original_ytest, test_predict))"
      ]
    },
    {
      "cell_type": "markdown",
      "metadata": {
        "id": "WYNvU1r3PMSF"
      },
      "source": [
        "R squared score for Regression"
      ]
    },
    {
      "cell_type": "code",
      "execution_count": null,
      "metadata": {
        "colab": {
          "base_uri": "https://localhost:8080/"
        },
        "id": "JrpZM9K_PMSF",
        "outputId": "d0e17dde-fdb7-44b5-c8ad-9af2b0c95db7"
      },
      "outputs": [
        {
          "output_type": "stream",
          "name": "stdout",
          "text": [
            "Train data R2 score: 0.9964505105620943\n",
            "Test data R2 score: 0.9825121506511318\n"
          ]
        }
      ],
      "source": [
        "print(\"Train data R2 score:\", r2_score(original_ytrain, train_predict))\n",
        "print(\"Test data R2 score:\", r2_score(original_ytest, test_predict))"
      ]
    },
    {
      "cell_type": "markdown",
      "metadata": {
        "id": "UwXNPfyuPMSG"
      },
      "source": [
        "Regression Loss Mean Gamma deviance regression loss (MGD) and Mean Poisson deviance regression loss (MPD)"
      ]
    },
    {
      "cell_type": "code",
      "execution_count": null,
      "metadata": {
        "colab": {
          "base_uri": "https://localhost:8080/"
        },
        "id": "k3R-Rt3KPMSG",
        "outputId": "0f40fe4b-1b13-4e42-f35b-1e02f4c2f56f"
      },
      "outputs": [
        {
          "output_type": "stream",
          "name": "stdout",
          "text": [
            "Train data MGD:  0.0027013350487449846\n",
            "Test data MGD:  0.0017330166616129367\n",
            "----------------------------------------------------------------------\n",
            "Train data MPD:  28.36399712877321\n",
            "Test data MPD:  67.10123465507539\n"
          ]
        }
      ],
      "source": [
        "print(\"Train data MGD: \", mean_gamma_deviance(original_ytrain, train_predict))\n",
        "print(\"Test data MGD: \", mean_gamma_deviance(original_ytest, test_predict))\n",
        "print(\"----------------------------------------------------------------------\")\n",
        "print(\"Train data MPD: \", mean_poisson_deviance(original_ytrain, train_predict))\n",
        "print(\"Test data MPD: \", mean_poisson_deviance(original_ytest, test_predict))"
      ]
    },
    {
      "cell_type": "markdown",
      "metadata": {
        "id": "YhEooLuXPgQT"
      },
      "source": [
        "**LSTM-GRU**"
      ]
    },
    {
      "cell_type": "code",
      "execution_count": null,
      "metadata": {
        "id": "aXW3vGX60HSa"
      },
      "outputs": [],
      "source": [
        "def build_lstm_gru_hybrid_model(input_data, output_size, neurons=100, activ_func='linear',\n",
        "                     dropout=0.2, loss='mse', optimizer=tf.keras.optimizers.Adam(learning_rate=0.001)):\n",
        "    model = Sequential()\n",
        "    model.add(LSTM(100,return_sequences=True, input_shape=(input_data.shape[1], input_data.shape[2])))\n",
        "    model.add(Dropout(dropout))\n",
        "    model.add(tf.keras.layers.GRU(200,input_shape=(input_data.shape[1], input_data.shape[2])))\n",
        "    model.add(Dropout(dropout))\n",
        "    model.add(Dense(units=output_size))\n",
        "    model.add(Activation(activ_func))\n",
        "    model.compile(loss=loss, optimizer = tf.keras.optimizers.Adam(learning_rate=0.001))\n",
        "    return model"
      ]
    },
    {
      "cell_type": "code",
      "execution_count": null,
      "metadata": {
        "id": "IwGLPXjEzr67"
      },
      "outputs": [],
      "source": [
        "np.random.seed(42)\n",
        "window_len = 5\n",
        "test_size = 0.2\n",
        "zero_base = True\n",
        "lstm_neurons = 100\n",
        "gru_neurons = 50\n",
        "epochs = 200\n",
        "batch_size = 32\n",
        "loss = 'mse'\n",
        "dropout = 0.2\n",
        "optimizer = tf.keras.optimizers.Adam(learning_rate=0.001)"
      ]
    },
    {
      "cell_type": "code",
      "execution_count": null,
      "metadata": {
        "colab": {
          "base_uri": "https://localhost:8080/"
        },
        "id": "w6fwRC2Ty1eZ",
        "outputId": "d3fc3cdd-3268-4ecd-9fbe-de147a9d272c"
      },
      "outputs": [
        {
          "output_type": "stream",
          "name": "stdout",
          "text": [
            "Epoch 1/200\n",
            "26/26 [==============================] - 8s 116ms/step - loss: 0.0168 - val_loss: 0.0019\n",
            "Epoch 2/200\n",
            "26/26 [==============================] - 2s 74ms/step - loss: 0.0012 - val_loss: 0.0037\n",
            "Epoch 3/200\n",
            "26/26 [==============================] - 2s 74ms/step - loss: 9.6131e-04 - val_loss: 0.0017\n",
            "Epoch 4/200\n",
            "26/26 [==============================] - 2s 74ms/step - loss: 0.0011 - val_loss: 0.0019\n",
            "Epoch 5/200\n",
            "26/26 [==============================] - 2s 74ms/step - loss: 7.5202e-04 - val_loss: 0.0024\n",
            "Epoch 6/200\n",
            "26/26 [==============================] - 2s 74ms/step - loss: 7.9050e-04 - val_loss: 0.0031\n",
            "Epoch 7/200\n",
            "26/26 [==============================] - 2s 73ms/step - loss: 8.8315e-04 - val_loss: 0.0018\n",
            "Epoch 8/200\n",
            "26/26 [==============================] - 2s 73ms/step - loss: 7.3388e-04 - val_loss: 0.0022\n",
            "Epoch 9/200\n",
            "26/26 [==============================] - 2s 73ms/step - loss: 7.3419e-04 - val_loss: 0.0014\n",
            "Epoch 10/200\n",
            "26/26 [==============================] - 2s 73ms/step - loss: 6.8518e-04 - val_loss: 0.0020\n",
            "Epoch 11/200\n",
            "26/26 [==============================] - 2s 73ms/step - loss: 6.9663e-04 - val_loss: 0.0016\n",
            "Epoch 12/200\n",
            "26/26 [==============================] - 2s 73ms/step - loss: 8.1731e-04 - val_loss: 0.0013\n",
            "Epoch 13/200\n",
            "26/26 [==============================] - 2s 73ms/step - loss: 6.9001e-04 - val_loss: 0.0013\n",
            "Epoch 14/200\n",
            "26/26 [==============================] - 2s 72ms/step - loss: 6.2958e-04 - val_loss: 0.0015\n",
            "Epoch 15/200\n",
            "26/26 [==============================] - 2s 74ms/step - loss: 6.3662e-04 - val_loss: 0.0012\n",
            "Epoch 16/200\n",
            "26/26 [==============================] - 2s 72ms/step - loss: 6.2163e-04 - val_loss: 0.0011\n",
            "Epoch 17/200\n",
            "26/26 [==============================] - 2s 72ms/step - loss: 8.3795e-04 - val_loss: 0.0042\n",
            "Epoch 18/200\n",
            "26/26 [==============================] - 2s 76ms/step - loss: 8.5017e-04 - val_loss: 0.0041\n",
            "Epoch 19/200\n",
            "26/26 [==============================] - 2s 74ms/step - loss: 6.0471e-04 - val_loss: 0.0014\n",
            "Epoch 20/200\n",
            "26/26 [==============================] - 2s 72ms/step - loss: 7.0490e-04 - val_loss: 0.0012\n",
            "Epoch 21/200\n",
            "26/26 [==============================] - 2s 74ms/step - loss: 5.9017e-04 - val_loss: 0.0011\n",
            "Epoch 22/200\n",
            "26/26 [==============================] - 2s 73ms/step - loss: 6.1917e-04 - val_loss: 0.0022\n",
            "Epoch 23/200\n",
            "26/26 [==============================] - 2s 73ms/step - loss: 6.0490e-04 - val_loss: 0.0013\n",
            "Epoch 24/200\n",
            "26/26 [==============================] - 2s 73ms/step - loss: 0.0010 - val_loss: 0.0022\n",
            "Epoch 25/200\n",
            "26/26 [==============================] - 2s 72ms/step - loss: 5.5815e-04 - val_loss: 0.0010\n",
            "Epoch 26/200\n",
            "26/26 [==============================] - 2s 74ms/step - loss: 6.1111e-04 - val_loss: 0.0016\n",
            "Epoch 27/200\n",
            "26/26 [==============================] - 2s 74ms/step - loss: 4.8738e-04 - val_loss: 0.0011\n",
            "Epoch 28/200\n",
            "26/26 [==============================] - 2s 73ms/step - loss: 7.0202e-04 - val_loss: 0.0019\n",
            "Epoch 29/200\n",
            "26/26 [==============================] - 2s 72ms/step - loss: 6.4118e-04 - val_loss: 0.0024\n",
            "Epoch 30/200\n",
            "26/26 [==============================] - 2s 75ms/step - loss: 5.2870e-04 - val_loss: 0.0023\n",
            "Epoch 31/200\n",
            "26/26 [==============================] - 2s 73ms/step - loss: 5.6967e-04 - val_loss: 0.0020\n",
            "Epoch 32/200\n",
            "26/26 [==============================] - 2s 75ms/step - loss: 0.0012 - val_loss: 0.0011\n",
            "Epoch 33/200\n",
            "26/26 [==============================] - 2s 75ms/step - loss: 8.3657e-04 - val_loss: 9.5274e-04\n",
            "Epoch 34/200\n",
            "26/26 [==============================] - 2s 74ms/step - loss: 5.5875e-04 - val_loss: 0.0012\n",
            "Epoch 35/200\n",
            "26/26 [==============================] - 2s 74ms/step - loss: 7.0063e-04 - val_loss: 0.0017\n",
            "Epoch 36/200\n",
            "26/26 [==============================] - 2s 73ms/step - loss: 6.3354e-04 - val_loss: 0.0036\n",
            "Epoch 37/200\n",
            "26/26 [==============================] - 2s 74ms/step - loss: 0.0010 - val_loss: 0.0025\n",
            "Epoch 38/200\n",
            "26/26 [==============================] - 2s 73ms/step - loss: 8.4544e-04 - val_loss: 0.0011\n",
            "Epoch 39/200\n",
            "26/26 [==============================] - 2s 73ms/step - loss: 5.9526e-04 - val_loss: 0.0011\n",
            "Epoch 40/200\n",
            "26/26 [==============================] - 2s 73ms/step - loss: 6.9425e-04 - val_loss: 0.0016\n",
            "Epoch 41/200\n",
            "26/26 [==============================] - 2s 73ms/step - loss: 7.8495e-04 - val_loss: 8.5978e-04\n",
            "Epoch 42/200\n",
            "26/26 [==============================] - 2s 72ms/step - loss: 5.5856e-04 - val_loss: 0.0012\n",
            "Epoch 43/200\n",
            "26/26 [==============================] - 2s 74ms/step - loss: 5.8238e-04 - val_loss: 8.5827e-04\n",
            "Epoch 44/200\n",
            "26/26 [==============================] - 2s 73ms/step - loss: 5.3903e-04 - val_loss: 8.6136e-04\n",
            "Epoch 45/200\n",
            "26/26 [==============================] - 2s 92ms/step - loss: 6.2462e-04 - val_loss: 8.6923e-04\n",
            "Epoch 46/200\n",
            "26/26 [==============================] - 3s 111ms/step - loss: 4.2181e-04 - val_loss: 8.9011e-04\n",
            "Epoch 47/200\n",
            "26/26 [==============================] - 2s 74ms/step - loss: 5.2565e-04 - val_loss: 0.0016\n",
            "Epoch 48/200\n",
            "26/26 [==============================] - 2s 74ms/step - loss: 6.2631e-04 - val_loss: 9.9794e-04\n",
            "Epoch 49/200\n",
            "26/26 [==============================] - 2s 75ms/step - loss: 6.6551e-04 - val_loss: 0.0027\n",
            "Epoch 50/200\n",
            "26/26 [==============================] - 2s 74ms/step - loss: 6.8407e-04 - val_loss: 0.0010\n",
            "Epoch 51/200\n",
            "26/26 [==============================] - 2s 73ms/step - loss: 4.2739e-04 - val_loss: 9.1328e-04\n",
            "Epoch 52/200\n",
            "26/26 [==============================] - 2s 72ms/step - loss: 5.9772e-04 - val_loss: 8.3302e-04\n",
            "Epoch 53/200\n",
            "26/26 [==============================] - 2s 75ms/step - loss: 4.8859e-04 - val_loss: 8.4981e-04\n",
            "Epoch 54/200\n",
            "26/26 [==============================] - 2s 74ms/step - loss: 5.3184e-04 - val_loss: 7.7347e-04\n",
            "Epoch 55/200\n",
            "26/26 [==============================] - 2s 73ms/step - loss: 5.4619e-04 - val_loss: 8.9167e-04\n",
            "Epoch 56/200\n",
            "26/26 [==============================] - 2s 74ms/step - loss: 5.8535e-04 - val_loss: 0.0013\n",
            "Epoch 57/200\n",
            "26/26 [==============================] - 2s 75ms/step - loss: 5.8644e-04 - val_loss: 9.4046e-04\n",
            "Epoch 58/200\n",
            "26/26 [==============================] - 2s 74ms/step - loss: 5.5028e-04 - val_loss: 0.0015\n",
            "Epoch 59/200\n",
            "26/26 [==============================] - 2s 74ms/step - loss: 6.2374e-04 - val_loss: 0.0011\n",
            "Epoch 60/200\n",
            "26/26 [==============================] - 2s 72ms/step - loss: 4.8393e-04 - val_loss: 7.3568e-04\n",
            "Epoch 61/200\n",
            "26/26 [==============================] - 2s 75ms/step - loss: 5.2122e-04 - val_loss: 7.0693e-04\n",
            "Epoch 62/200\n",
            "26/26 [==============================] - 2s 75ms/step - loss: 6.3692e-04 - val_loss: 7.2518e-04\n",
            "Epoch 63/200\n",
            "26/26 [==============================] - 2s 73ms/step - loss: 4.5868e-04 - val_loss: 8.1089e-04\n",
            "Epoch 64/200\n",
            "26/26 [==============================] - 2s 76ms/step - loss: 4.5711e-04 - val_loss: 0.0014\n",
            "Epoch 65/200\n",
            "26/26 [==============================] - 2s 76ms/step - loss: 4.6839e-04 - val_loss: 6.8172e-04\n",
            "Epoch 66/200\n",
            "26/26 [==============================] - 2s 75ms/step - loss: 4.4331e-04 - val_loss: 7.5466e-04\n",
            "Epoch 67/200\n",
            "26/26 [==============================] - 2s 75ms/step - loss: 3.9768e-04 - val_loss: 0.0024\n",
            "Epoch 68/200\n",
            "26/26 [==============================] - 2s 75ms/step - loss: 6.0103e-04 - val_loss: 6.9163e-04\n",
            "Epoch 69/200\n",
            "26/26 [==============================] - 2s 75ms/step - loss: 7.0515e-04 - val_loss: 8.1049e-04\n",
            "Epoch 70/200\n",
            "26/26 [==============================] - 2s 74ms/step - loss: 5.0479e-04 - val_loss: 8.3145e-04\n",
            "Epoch 71/200\n",
            "26/26 [==============================] - 2s 74ms/step - loss: 6.1301e-04 - val_loss: 0.0010\n",
            "Epoch 72/200\n",
            "26/26 [==============================] - 2s 75ms/step - loss: 5.5191e-04 - val_loss: 6.6765e-04\n",
            "Epoch 73/200\n",
            "26/26 [==============================] - 2s 72ms/step - loss: 4.9537e-04 - val_loss: 7.7558e-04\n",
            "Epoch 74/200\n",
            "26/26 [==============================] - 2s 72ms/step - loss: 5.3010e-04 - val_loss: 6.6234e-04\n",
            "Epoch 75/200\n",
            "26/26 [==============================] - 2s 75ms/step - loss: 5.9912e-04 - val_loss: 8.0687e-04\n",
            "Epoch 76/200\n",
            "26/26 [==============================] - 2s 76ms/step - loss: 6.7702e-04 - val_loss: 0.0015\n",
            "Epoch 77/200\n",
            "26/26 [==============================] - 2s 73ms/step - loss: 4.3406e-04 - val_loss: 8.9819e-04\n",
            "Epoch 78/200\n",
            "26/26 [==============================] - 2s 74ms/step - loss: 5.4350e-04 - val_loss: 6.5148e-04\n",
            "Epoch 79/200\n",
            "26/26 [==============================] - 2s 74ms/step - loss: 4.1670e-04 - val_loss: 9.2218e-04\n",
            "Epoch 80/200\n",
            "26/26 [==============================] - 2s 75ms/step - loss: 4.6120e-04 - val_loss: 0.0015\n",
            "Epoch 81/200\n",
            "26/26 [==============================] - 2s 73ms/step - loss: 5.0860e-04 - val_loss: 7.8591e-04\n",
            "Epoch 82/200\n",
            "26/26 [==============================] - 2s 74ms/step - loss: 4.7639e-04 - val_loss: 6.7641e-04\n",
            "Epoch 83/200\n",
            "26/26 [==============================] - 2s 74ms/step - loss: 4.1646e-04 - val_loss: 0.0011\n",
            "Epoch 84/200\n",
            "26/26 [==============================] - 2s 73ms/step - loss: 5.0225e-04 - val_loss: 6.9009e-04\n",
            "Epoch 85/200\n",
            "26/26 [==============================] - 2s 74ms/step - loss: 6.9557e-04 - val_loss: 7.6482e-04\n",
            "Epoch 86/200\n",
            "26/26 [==============================] - 2s 76ms/step - loss: 4.6542e-04 - val_loss: 8.1923e-04\n",
            "Epoch 87/200\n",
            "26/26 [==============================] - 2s 74ms/step - loss: 4.5006e-04 - val_loss: 7.0768e-04\n",
            "Epoch 88/200\n",
            "26/26 [==============================] - 2s 74ms/step - loss: 3.9565e-04 - val_loss: 6.7948e-04\n",
            "Epoch 89/200\n",
            "26/26 [==============================] - 2s 74ms/step - loss: 3.9908e-04 - val_loss: 0.0010\n",
            "Epoch 90/200\n",
            "26/26 [==============================] - 2s 74ms/step - loss: 4.6425e-04 - val_loss: 6.5587e-04\n",
            "Epoch 91/200\n",
            "26/26 [==============================] - 2s 76ms/step - loss: 5.0696e-04 - val_loss: 8.0230e-04\n",
            "Epoch 92/200\n",
            "26/26 [==============================] - 2s 75ms/step - loss: 4.5766e-04 - val_loss: 0.0013\n",
            "Epoch 93/200\n",
            "26/26 [==============================] - 2s 77ms/step - loss: 6.3423e-04 - val_loss: 0.0012\n",
            "Epoch 94/200\n",
            "26/26 [==============================] - 2s 75ms/step - loss: 7.0961e-04 - val_loss: 8.2315e-04\n",
            "Epoch 95/200\n",
            "26/26 [==============================] - 2s 75ms/step - loss: 4.4274e-04 - val_loss: 6.4124e-04\n",
            "Epoch 96/200\n",
            "26/26 [==============================] - 2s 76ms/step - loss: 4.8305e-04 - val_loss: 0.0010\n",
            "Epoch 97/200\n",
            "26/26 [==============================] - 2s 76ms/step - loss: 4.0893e-04 - val_loss: 7.5164e-04\n",
            "Epoch 98/200\n",
            "26/26 [==============================] - 2s 73ms/step - loss: 4.4301e-04 - val_loss: 0.0014\n",
            "Epoch 99/200\n",
            "26/26 [==============================] - 2s 73ms/step - loss: 5.4690e-04 - val_loss: 9.5478e-04\n",
            "Epoch 100/200\n",
            "26/26 [==============================] - 2s 74ms/step - loss: 4.4911e-04 - val_loss: 9.0646e-04\n",
            "Epoch 101/200\n",
            "26/26 [==============================] - 2s 72ms/step - loss: 3.9415e-04 - val_loss: 7.9544e-04\n",
            "Epoch 102/200\n",
            "26/26 [==============================] - 2s 75ms/step - loss: 3.8103e-04 - val_loss: 6.9955e-04\n",
            "Epoch 103/200\n",
            "26/26 [==============================] - 2s 74ms/step - loss: 4.7424e-04 - val_loss: 6.7870e-04\n",
            "Epoch 104/200\n",
            "26/26 [==============================] - 2s 75ms/step - loss: 4.3263e-04 - val_loss: 6.9572e-04\n",
            "Epoch 105/200\n",
            "26/26 [==============================] - 2s 74ms/step - loss: 5.0802e-04 - val_loss: 0.0011\n",
            "Epoch 106/200\n",
            "26/26 [==============================] - 2s 74ms/step - loss: 4.6419e-04 - val_loss: 0.0011\n",
            "Epoch 107/200\n",
            "26/26 [==============================] - 2s 74ms/step - loss: 5.1416e-04 - val_loss: 6.2213e-04\n",
            "Epoch 108/200\n",
            "26/26 [==============================] - 2s 74ms/step - loss: 4.3414e-04 - val_loss: 6.8140e-04\n",
            "Epoch 109/200\n",
            "26/26 [==============================] - 2s 74ms/step - loss: 3.8485e-04 - val_loss: 6.1476e-04\n",
            "Epoch 110/200\n",
            "26/26 [==============================] - 2s 74ms/step - loss: 3.8533e-04 - val_loss: 0.0030\n",
            "Epoch 111/200\n",
            "26/26 [==============================] - 2s 76ms/step - loss: 5.4324e-04 - val_loss: 9.0443e-04\n",
            "Epoch 112/200\n",
            "26/26 [==============================] - 2s 75ms/step - loss: 4.3666e-04 - val_loss: 7.4831e-04\n",
            "Epoch 113/200\n",
            "26/26 [==============================] - 2s 76ms/step - loss: 4.7744e-04 - val_loss: 8.8856e-04\n",
            "Epoch 114/200\n",
            "26/26 [==============================] - 3s 106ms/step - loss: 3.8762e-04 - val_loss: 0.0016\n",
            "Epoch 115/200\n",
            "26/26 [==============================] - 2s 91ms/step - loss: 4.6281e-04 - val_loss: 6.4087e-04\n",
            "Epoch 116/200\n",
            "26/26 [==============================] - 2s 88ms/step - loss: 5.2002e-04 - val_loss: 6.2373e-04\n",
            "Epoch 117/200\n",
            "26/26 [==============================] - 3s 110ms/step - loss: 4.2860e-04 - val_loss: 8.0262e-04\n",
            "Epoch 118/200\n",
            "26/26 [==============================] - 2s 83ms/step - loss: 3.7667e-04 - val_loss: 6.8068e-04\n",
            "Epoch 119/200\n",
            "26/26 [==============================] - 2s 76ms/step - loss: 5.1161e-04 - val_loss: 6.8651e-04\n",
            "Epoch 120/200\n",
            "26/26 [==============================] - 2s 75ms/step - loss: 5.3212e-04 - val_loss: 6.8051e-04\n",
            "Epoch 121/200\n",
            "26/26 [==============================] - 2s 72ms/step - loss: 4.3654e-04 - val_loss: 6.5152e-04\n",
            "Epoch 122/200\n",
            "26/26 [==============================] - 2s 78ms/step - loss: 3.9528e-04 - val_loss: 6.2228e-04\n",
            "Epoch 123/200\n",
            "26/26 [==============================] - 2s 76ms/step - loss: 3.4380e-04 - val_loss: 9.9460e-04\n",
            "Epoch 124/200\n",
            "26/26 [==============================] - 2s 76ms/step - loss: 5.0444e-04 - val_loss: 6.6835e-04\n",
            "Epoch 125/200\n",
            "26/26 [==============================] - 2s 76ms/step - loss: 5.0480e-04 - val_loss: 5.9929e-04\n",
            "Epoch 126/200\n",
            "26/26 [==============================] - 3s 122ms/step - loss: 4.0100e-04 - val_loss: 7.7675e-04\n",
            "Epoch 127/200\n",
            "26/26 [==============================] - 2s 90ms/step - loss: 4.1668e-04 - val_loss: 8.0239e-04\n",
            "Epoch 128/200\n",
            "26/26 [==============================] - 2s 74ms/step - loss: 3.6617e-04 - val_loss: 6.2387e-04\n",
            "Epoch 129/200\n",
            "26/26 [==============================] - 2s 75ms/step - loss: 4.5773e-04 - val_loss: 0.0012\n",
            "Epoch 130/200\n",
            "26/26 [==============================] - 2s 74ms/step - loss: 4.8635e-04 - val_loss: 9.0957e-04\n",
            "Epoch 131/200\n",
            "26/26 [==============================] - 2s 74ms/step - loss: 3.7767e-04 - val_loss: 6.1209e-04\n",
            "Epoch 132/200\n",
            "26/26 [==============================] - 2s 78ms/step - loss: 5.1192e-04 - val_loss: 0.0010\n",
            "Epoch 133/200\n",
            "26/26 [==============================] - 2s 76ms/step - loss: 5.2597e-04 - val_loss: 8.6344e-04\n",
            "Epoch 134/200\n",
            "26/26 [==============================] - 2s 74ms/step - loss: 4.7031e-04 - val_loss: 0.0012\n",
            "Epoch 135/200\n",
            "26/26 [==============================] - 2s 75ms/step - loss: 3.7838e-04 - val_loss: 6.3446e-04\n",
            "Epoch 136/200\n",
            "26/26 [==============================] - 2s 74ms/step - loss: 3.5398e-04 - val_loss: 7.2605e-04\n",
            "Epoch 137/200\n",
            "26/26 [==============================] - 2s 77ms/step - loss: 4.5136e-04 - val_loss: 6.1744e-04\n",
            "Epoch 138/200\n",
            "26/26 [==============================] - 2s 77ms/step - loss: 4.7255e-04 - val_loss: 0.0014\n",
            "Epoch 139/200\n",
            "26/26 [==============================] - 2s 77ms/step - loss: 4.9921e-04 - val_loss: 6.7802e-04\n",
            "Epoch 140/200\n",
            "26/26 [==============================] - 2s 81ms/step - loss: 4.3007e-04 - val_loss: 8.0267e-04\n",
            "Epoch 141/200\n",
            "26/26 [==============================] - 2s 78ms/step - loss: 4.3580e-04 - val_loss: 0.0011\n",
            "Epoch 142/200\n",
            "26/26 [==============================] - 2s 78ms/step - loss: 4.3213e-04 - val_loss: 7.1150e-04\n",
            "Epoch 143/200\n",
            "26/26 [==============================] - 2s 76ms/step - loss: 4.1343e-04 - val_loss: 6.3274e-04\n",
            "Epoch 144/200\n",
            "26/26 [==============================] - 2s 76ms/step - loss: 4.5823e-04 - val_loss: 6.0729e-04\n",
            "Epoch 145/200\n",
            "26/26 [==============================] - 2s 75ms/step - loss: 5.5336e-04 - val_loss: 6.0509e-04\n",
            "Epoch 146/200\n",
            "26/26 [==============================] - 2s 76ms/step - loss: 5.5219e-04 - val_loss: 7.0942e-04\n",
            "Epoch 147/200\n",
            "26/26 [==============================] - 2s 77ms/step - loss: 3.4500e-04 - val_loss: 0.0014\n",
            "Epoch 148/200\n",
            "26/26 [==============================] - 2s 76ms/step - loss: 4.7028e-04 - val_loss: 6.2287e-04\n",
            "Epoch 149/200\n",
            "26/26 [==============================] - 2s 75ms/step - loss: 4.1215e-04 - val_loss: 6.8755e-04\n",
            "Epoch 150/200\n",
            "26/26 [==============================] - 2s 75ms/step - loss: 4.4539e-04 - val_loss: 0.0016\n",
            "Epoch 151/200\n",
            "26/26 [==============================] - 2s 74ms/step - loss: 3.9568e-04 - val_loss: 7.2209e-04\n",
            "Epoch 152/200\n",
            "26/26 [==============================] - 2s 76ms/step - loss: 3.8382e-04 - val_loss: 6.3327e-04\n",
            "Epoch 153/200\n",
            "26/26 [==============================] - 2s 76ms/step - loss: 3.7864e-04 - val_loss: 6.1479e-04\n",
            "Epoch 154/200\n",
            "26/26 [==============================] - 2s 76ms/step - loss: 4.5519e-04 - val_loss: 0.0032\n",
            "Epoch 155/200\n",
            "26/26 [==============================] - 2s 78ms/step - loss: 5.2771e-04 - val_loss: 7.0545e-04\n",
            "Epoch 156/200\n",
            "26/26 [==============================] - 2s 75ms/step - loss: 3.5981e-04 - val_loss: 0.0011\n",
            "Epoch 157/200\n",
            "26/26 [==============================] - 2s 74ms/step - loss: 3.5989e-04 - val_loss: 5.9362e-04\n",
            "Epoch 158/200\n",
            "26/26 [==============================] - 2s 76ms/step - loss: 3.3739e-04 - val_loss: 8.9260e-04\n",
            "Epoch 159/200\n",
            "26/26 [==============================] - 2s 75ms/step - loss: 3.6002e-04 - val_loss: 0.0015\n",
            "Epoch 160/200\n",
            "26/26 [==============================] - 2s 75ms/step - loss: 3.9564e-04 - val_loss: 6.4790e-04\n",
            "Epoch 161/200\n",
            "26/26 [==============================] - 2s 75ms/step - loss: 4.1838e-04 - val_loss: 6.1315e-04\n",
            "Epoch 162/200\n",
            "26/26 [==============================] - 2s 74ms/step - loss: 3.7345e-04 - val_loss: 6.4280e-04\n",
            "Epoch 163/200\n",
            "26/26 [==============================] - 2s 75ms/step - loss: 3.8530e-04 - val_loss: 9.3462e-04\n",
            "Epoch 164/200\n",
            "26/26 [==============================] - 2s 75ms/step - loss: 3.4507e-04 - val_loss: 7.2292e-04\n",
            "Epoch 165/200\n",
            "26/26 [==============================] - 2s 76ms/step - loss: 4.5163e-04 - val_loss: 8.4474e-04\n",
            "Epoch 166/200\n",
            "26/26 [==============================] - 2s 76ms/step - loss: 4.5978e-04 - val_loss: 6.0962e-04\n",
            "Epoch 167/200\n",
            "26/26 [==============================] - 2s 74ms/step - loss: 3.6333e-04 - val_loss: 7.5228e-04\n",
            "Epoch 168/200\n",
            "26/26 [==============================] - 2s 75ms/step - loss: 4.3461e-04 - val_loss: 6.2365e-04\n",
            "Epoch 169/200\n",
            "26/26 [==============================] - 2s 75ms/step - loss: 4.4390e-04 - val_loss: 7.0466e-04\n",
            "Epoch 170/200\n",
            "26/26 [==============================] - 2s 75ms/step - loss: 5.0773e-04 - val_loss: 0.0013\n",
            "Epoch 171/200\n",
            "26/26 [==============================] - 2s 75ms/step - loss: 4.3288e-04 - val_loss: 7.6952e-04\n",
            "Epoch 172/200\n",
            "26/26 [==============================] - 2s 76ms/step - loss: 3.4555e-04 - val_loss: 6.1371e-04\n",
            "Epoch 173/200\n",
            "26/26 [==============================] - 2s 74ms/step - loss: 4.5261e-04 - val_loss: 8.5630e-04\n",
            "Epoch 174/200\n",
            "26/26 [==============================] - 2s 75ms/step - loss: 4.4759e-04 - val_loss: 6.7509e-04\n",
            "Epoch 175/200\n",
            "26/26 [==============================] - 2s 75ms/step - loss: 4.1628e-04 - val_loss: 6.3476e-04\n",
            "Epoch 176/200\n",
            "26/26 [==============================] - 2s 77ms/step - loss: 4.1907e-04 - val_loss: 6.1565e-04\n",
            "Epoch 177/200\n",
            "26/26 [==============================] - 2s 75ms/step - loss: 3.6970e-04 - val_loss: 0.0011\n",
            "Epoch 178/200\n",
            "26/26 [==============================] - 2s 75ms/step - loss: 4.5215e-04 - val_loss: 0.0018\n",
            "Epoch 179/200\n",
            "26/26 [==============================] - 2s 75ms/step - loss: 3.4457e-04 - val_loss: 6.4829e-04\n",
            "Epoch 180/200\n",
            "26/26 [==============================] - 2s 76ms/step - loss: 3.6364e-04 - val_loss: 0.0012\n",
            "Epoch 181/200\n",
            "26/26 [==============================] - 2s 75ms/step - loss: 4.4889e-04 - val_loss: 6.8375e-04\n",
            "Epoch 182/200\n",
            "26/26 [==============================] - 2s 74ms/step - loss: 4.0267e-04 - val_loss: 0.0011\n",
            "Epoch 183/200\n",
            "26/26 [==============================] - 2s 76ms/step - loss: 3.2254e-04 - val_loss: 6.0840e-04\n",
            "Epoch 184/200\n",
            "26/26 [==============================] - 2s 76ms/step - loss: 3.4554e-04 - val_loss: 0.0028\n",
            "Epoch 185/200\n",
            "26/26 [==============================] - 2s 76ms/step - loss: 4.3778e-04 - val_loss: 6.6054e-04\n",
            "Epoch 186/200\n",
            "26/26 [==============================] - 2s 75ms/step - loss: 4.1602e-04 - val_loss: 0.0018\n",
            "Epoch 187/200\n",
            "26/26 [==============================] - 2s 77ms/step - loss: 5.0288e-04 - val_loss: 8.7485e-04\n",
            "Epoch 188/200\n",
            "26/26 [==============================] - 2s 74ms/step - loss: 3.9259e-04 - val_loss: 7.3016e-04\n",
            "Epoch 189/200\n",
            "26/26 [==============================] - 2s 75ms/step - loss: 3.6406e-04 - val_loss: 6.4141e-04\n",
            "Epoch 190/200\n",
            "26/26 [==============================] - 2s 74ms/step - loss: 3.3255e-04 - val_loss: 7.1171e-04\n",
            "Epoch 191/200\n",
            "26/26 [==============================] - 2s 73ms/step - loss: 3.4739e-04 - val_loss: 5.9392e-04\n",
            "Epoch 192/200\n",
            "26/26 [==============================] - 2s 74ms/step - loss: 3.6178e-04 - val_loss: 6.6849e-04\n",
            "Epoch 193/200\n",
            "26/26 [==============================] - 2s 76ms/step - loss: 3.7762e-04 - val_loss: 6.5906e-04\n",
            "Epoch 194/200\n",
            "26/26 [==============================] - 2s 75ms/step - loss: 4.3692e-04 - val_loss: 0.0021\n",
            "Epoch 195/200\n",
            "26/26 [==============================] - 2s 74ms/step - loss: 3.6382e-04 - val_loss: 6.7935e-04\n",
            "Epoch 196/200\n",
            "26/26 [==============================] - 2s 76ms/step - loss: 4.9390e-04 - val_loss: 8.1947e-04\n",
            "Epoch 197/200\n",
            "26/26 [==============================] - 2s 75ms/step - loss: 4.0730e-04 - val_loss: 0.0018\n",
            "Epoch 198/200\n",
            "26/26 [==============================] - 2s 74ms/step - loss: 4.1485e-04 - val_loss: 9.3044e-04\n",
            "Epoch 199/200\n",
            "26/26 [==============================] - 2s 74ms/step - loss: 3.9676e-04 - val_loss: 0.0018\n",
            "Epoch 200/200\n",
            "26/26 [==============================] - 2s 74ms/step - loss: 4.0350e-04 - val_loss: 6.3086e-04\n"
          ]
        }
      ],
      "source": [
        "model = build_lstm_gru_hybrid_model(\n",
        "    X_train, output_size=1, neurons=gru_neurons, dropout=dropout, loss=loss,\n",
        "    optimizer=tf.keras.optimizers.Adam(learning_rate=0.001))\n",
        "history = model.fit(\n",
        "    X_train, y_train, validation_data=(X_test, y_test), epochs=epochs, batch_size=batch_size, verbose=1, shuffle=True)"
      ]
    },
    {
      "cell_type": "code",
      "execution_count": null,
      "metadata": {
        "id": "erqxtThDP4hr"
      },
      "outputs": [],
      "source": []
    },
    {
      "cell_type": "markdown",
      "metadata": {
        "id": "bp95Qy3pP47D"
      },
      "source": [
        "Plotting Loss vs Validation loss"
      ]
    },
    {
      "cell_type": "code",
      "execution_count": null,
      "metadata": {
        "colab": {
          "base_uri": "https://localhost:8080/",
          "height": 298
        },
        "id": "yYpuLSV1P47E",
        "outputId": "3b25083e-d5bb-4928-cee7-c5bdd544a8c5"
      },
      "outputs": [
        {
          "output_type": "display_data",
          "data": {
            "text/plain": [
              "<Figure size 432x288 with 1 Axes>"
            ],
            "image/png": "[encoded data removed]"
          },
          "metadata": {
            "needs_background": "light"
          }
        },
        {
          "output_type": "display_data",
          "data": {
            "text/plain": [
              "<Figure size 432x288 with 0 Axes>"
            ]
          },
          "metadata": {}
        }
      ],
      "source": [
        "loss = history.history['loss']\n",
        "val_loss = history.history['val_loss']\n",
        "\n",
        "epochs = range(len(loss))\n",
        "\n",
        "plt.plot(epochs, loss, 'r', label='Training loss')\n",
        "plt.plot(epochs, val_loss, 'b', label='Validation loss')\n",
        "plt.title('Training and validation loss')\n",
        "plt.legend(loc=0)\n",
        "plt.figure()\n",
        "\n",
        "\n",
        "plt.show()"
      ]
    },
    {
      "cell_type": "code",
      "execution_count": null,
      "metadata": {
        "colab": {
          "base_uri": "https://localhost:8080/"
        },
        "id": "j6wqOGu1P47E",
        "outputId": "0242ea9b-29c2-4621-b35e-1a8447e2792f"
      },
      "outputs": [
        {
          "output_type": "stream",
          "name": "stdout",
          "text": [
            "26/26 [==============================] - 1s 19ms/step\n",
            "17/17 [==============================] - 0s 20ms/step\n"
          ]
        },
        {
          "output_type": "execute_result",
          "data": {
            "text/plain": [
              "((822, 1), (544, 1))"
            ]
          },
          "metadata": {},
          "execution_count": 251
        }
      ],
      "source": [
        "### Lets Do the prediction and check performance metrics\n",
        "train_predict=model.predict(X_train)\n",
        "test_predict=model.predict(X_test)\n",
        "train_predict.shape, test_predict.shape"
      ]
    },
    {
      "cell_type": "markdown",
      "metadata": {
        "id": "c6J3t7PDP47E"
      },
      "source": [
        "Model Evaluation"
      ]
    },
    {
      "cell_type": "code",
      "execution_count": null,
      "metadata": {
        "id": "EXZiB1UiP47E"
      },
      "outputs": [],
      "source": [
        "# Transform back to original form\n",
        "\n",
        "train_predict = scaler.inverse_transform(train_predict)\n",
        "test_predict = scaler.inverse_transform(test_predict)\n",
        "original_ytrain = scaler.inverse_transform(y_train.reshape(-1,1)) \n",
        "original_ytest = scaler.inverse_transform(y_test.reshape(-1,1)) "
      ]
    },
    {
      "cell_type": "markdown",
      "metadata": {
        "id": "oapRwfzSP47E"
      },
      "source": [
        "Evaluation Metrics"
      ]
    },
    {
      "cell_type": "code",
      "execution_count": null,
      "metadata": {
        "colab": {
          "base_uri": "https://localhost:8080/"
        },
        "id": "3gnf72BAP47E",
        "outputId": "0932cdf2-9768-447a-f7e7-a087e1ad8a4f"
      },
      "outputs": [
        {
          "output_type": "stream",
          "name": "stdout",
          "text": [
            "Train data RMSE:  960.3734375387866\n",
            "Train data MSE:  922317.1395300656\n",
            "Train data MAE:  610.0204567345271\n",
            "-------------------------------------------------------------------------------------\n",
            "Test data RMSE:  1611.6865778598128\n",
            "Test data MSE:  2597533.625253475\n",
            "Test data MAE:  1154.7456629181984\n"
          ]
        }
      ],
      "source": [
        "# Evaluation metrices RMSE and MAE\n",
        "print(\"Train data RMSE: \", math.sqrt(mean_squared_error(original_ytrain,train_predict)))\n",
        "print(\"Train data MSE: \", mean_squared_error(original_ytrain,train_predict))\n",
        "print(\"Train data MAE: \", mean_absolute_error(original_ytrain,train_predict))\n",
        "print(\"-------------------------------------------------------------------------------------\")\n",
        "print(\"Test data RMSE: \", math.sqrt(mean_squared_error(original_ytest,test_predict)))\n",
        "print(\"Test data MSE: \", mean_squared_error(original_ytest,test_predict))\n",
        "print(\"Test data MAE: \", mean_absolute_error(original_ytest,test_predict))"
      ]
    },
    {
      "cell_type": "markdown",
      "metadata": {
        "id": "DTrNVgh0P47E"
      },
      "source": [
        "Variance Regression Score"
      ]
    },
    {
      "cell_type": "code",
      "execution_count": null,
      "metadata": {
        "colab": {
          "base_uri": "https://localhost:8080/"
        },
        "id": "e8RmkAE2P47F",
        "outputId": "ac57205c-df4f-4974-abd8-737d20a1a85c"
      },
      "outputs": [
        {
          "output_type": "stream",
          "name": "stdout",
          "text": [
            "Train data explained variance regression score: 0.9953322686801975\n",
            "Test data explained variance regression score: 0.9839194550801127\n"
          ]
        }
      ],
      "source": [
        "print(\"Train data explained variance regression score:\", \n",
        "      explained_variance_score(original_ytrain, train_predict))\n",
        "print(\"Test data explained variance regression score:\", \n",
        "      explained_variance_score(original_ytest, test_predict))"
      ]
    },
    {
      "cell_type": "markdown",
      "metadata": {
        "id": "e1z2PErIP47F"
      },
      "source": [
        "R squared score for Regression"
      ]
    },
    {
      "cell_type": "code",
      "execution_count": null,
      "metadata": {
        "colab": {
          "base_uri": "https://localhost:8080/"
        },
        "id": "YdXR5edaP47F",
        "outputId": "c95c189a-182b-45e5-d44c-a2c6a6e7411c"
      },
      "outputs": [
        {
          "output_type": "stream",
          "name": "stdout",
          "text": [
            "Train data R2 score: 0.9952232112643236\n",
            "Test data R2 score: 0.9838993350207912\n"
          ]
        }
      ],
      "source": [
        "print(\"Train data R2 score:\", r2_score(original_ytrain, train_predict))\n",
        "print(\"Test data R2 score:\", r2_score(original_ytest, test_predict))"
      ]
    },
    {
      "cell_type": "markdown",
      "metadata": {
        "id": "rnyf6oVzP47F"
      },
      "source": [
        "Regression Loss Mean Gamma deviance regression loss (MGD) and Mean Poisson deviance regression loss (MPD)"
      ]
    },
    {
      "cell_type": "code",
      "execution_count": null,
      "metadata": {
        "colab": {
          "base_uri": "https://localhost:8080/"
        },
        "id": "vWpsnZzHP47F",
        "outputId": "f962a250-2ab7-40e1-9198-40b78b62d47f"
      },
      "outputs": [
        {
          "name": "stdout",
          "output_type": "stream",
          "text": [
            "Train data MGD:  0.002719953346879127\n",
            "Test data MGD:  0.0018041720383485866\n",
            "----------------------------------------------------------------------\n",
            "Train data MPD:  33.804953977424276\n",
            "Test data MPD:  66.23973444501085\n"
          ]
        }
      ],
      "source": [
        "print(\"Train data MGD: \", mean_gamma_deviance(original_ytrain, train_predict))\n",
        "print(\"Test data MGD: \", mean_gamma_deviance(original_ytest, test_predict))\n",
        "print(\"----------------------------------------------------------------------\")\n",
        "print(\"Train data MPD: \", mean_poisson_deviance(original_ytrain, train_predict))\n",
        "print(\"Test data MPD: \", mean_poisson_deviance(original_ytest, test_predict))"
      ]
    }
  ],
  "metadata": {
    "colab": {
      "provenance": []
    },
    "kernelspec": {
      "display_name": "Python 3",
      "name": "python3"
    },
    "language_info": {
      "name": "python"
    }
  },
  "nbformat": 4,
  "nbformat_minor": 0
}